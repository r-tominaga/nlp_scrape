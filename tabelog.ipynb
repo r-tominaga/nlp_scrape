{
 "cells": [
  {
   "cell_type": "code",
   "execution_count": 1,
   "metadata": {
    "ExecuteTime": {
     "end_time": "2019-04-01T01:05:58.209773Z",
     "start_time": "2019-04-01T01:05:57.033456Z"
    }
   },
   "outputs": [],
   "source": [
    "# import records\n",
    "# import sqlite3\n",
    "# from urllib.parse import urljoin, urldefrag\n",
    "import requests\n",
    "from bs4 import BeautifulSoup\n",
    "import re\n",
    "from joblib import Parallel, delayed\n",
    "import pickle\n",
    "import csv\n",
    "import MeCab as mc\n",
    "import numpy as np\n",
    "\n",
    "# from sklearn.feature_extraction.text import CountVectorizer\n",
    "# from sklearn.linear_model import LinearRegression\n",
    "# from sklearn.tree import DecisionTreeClassifier\n",
    "# from sklearn import tree as tr\n",
    "\n",
    "# import matplotlib.pyplot as plt\n",
    "import random\n",
    "from gensim.models import word2vec, LdaModel\n",
    "from gensim import corpora\n",
    "import gensim\n"
   ]
  },
  {
   "cell_type": "code",
   "execution_count": null,
   "metadata": {},
   "outputs": [],
   "source": [
    "restaurant_list = []\n",
    "for page in range(1,51):\n",
    "    url = f'https://tabelog.com/rstLst/steak/{page}/?Srt=D&SrtT=rt&sort_mode=1&sk=%E3%82%B9%E3%83%86%E3%83%BC%E3%82%AD&svt=1900&svps=2&select_sort_flg=1'\n",
    "    html_soup = BeautifulSoup(requests.get(url).text, 'html.parser')\n",
    "    for item in html_soup.find_all():\n",
    "        \n",
    "    restaurant_list.append(BeautifulSoup(requests.get(url).text, 'html.parser').find_all('a', class_='list-rst__rst-name-target cpy-rst-name'))"
   ]
  },
  {
   "cell_type": "code",
   "execution_count": 5,
   "metadata": {
    "ExecuteTime": {
     "end_time": "2019-03-28T10:06:30.531992Z",
     "start_time": "2019-03-28T10:06:30.527137Z"
    }
   },
   "outputs": [],
   "source": [
    "links = []\n",
    "for restaurants in restaurant_list:\n",
    "    for restaurant in restaurants:\n",
    "        links.append(restaurant.get('href'))"
   ]
  },
  {
   "cell_type": "code",
   "execution_count": 8,
   "metadata": {
    "ExecuteTime": {
     "end_time": "2019-03-28T11:32:10.796850Z",
     "start_time": "2019-03-28T10:09:40.843248Z"
    },
    "scrolled": true
   },
   "outputs": [
    {
     "name": "stdout",
     "output_type": "stream",
     "text": [
      "700\n"
     ]
    },
    {
     "name": "stderr",
     "output_type": "stream",
     "text": [
      "[Parallel(n_jobs=4)]: Using backend LokyBackend with 4 concurrent workers.\n",
      "[Parallel(n_jobs=4)]: Done   5 tasks      | elapsed:    2.9s\n",
      "[Parallel(n_jobs=4)]: Done  10 tasks      | elapsed:    4.2s\n",
      "[Parallel(n_jobs=4)]: Done  17 tasks      | elapsed:    5.9s\n",
      "[Parallel(n_jobs=4)]: Done  24 tasks      | elapsed:    7.7s\n",
      "[Parallel(n_jobs=4)]: Done  33 tasks      | elapsed:    9.9s\n",
      "[Parallel(n_jobs=4)]: Done  42 tasks      | elapsed:   11.6s\n",
      "[Parallel(n_jobs=4)]: Done  53 tasks      | elapsed:   14.3s\n",
      "[Parallel(n_jobs=4)]: Done  63 out of  63 | elapsed:   16.3s remaining:    0.0s\n",
      "[Parallel(n_jobs=4)]: Done  63 out of  63 | elapsed:   16.3s finished\n"
     ]
    },
    {
     "name": "stdout",
     "output_type": "stream",
     "text": [
      "701\n"
     ]
    },
    {
     "name": "stderr",
     "output_type": "stream",
     "text": [
      "[Parallel(n_jobs=4)]: Using backend LokyBackend with 4 concurrent workers.\n",
      "[Parallel(n_jobs=4)]: Done   5 tasks      | elapsed:    2.5s\n",
      "[Parallel(n_jobs=4)]: Done  10 tasks      | elapsed:    3.7s\n",
      "[Parallel(n_jobs=4)]: Done  17 tasks      | elapsed:    5.8s\n",
      "[Parallel(n_jobs=4)]: Done  24 tasks      | elapsed:    8.7s\n",
      "[Parallel(n_jobs=4)]: Done  33 tasks      | elapsed:   11.3s\n",
      "[Parallel(n_jobs=4)]: Done  42 tasks      | elapsed:   13.9s\n",
      "[Parallel(n_jobs=4)]: Done  53 tasks      | elapsed:   16.8s\n",
      "[Parallel(n_jobs=4)]: Done  60 out of  60 | elapsed:   18.1s remaining:    0.0s\n",
      "[Parallel(n_jobs=4)]: Done  60 out of  60 | elapsed:   18.1s finished\n"
     ]
    },
    {
     "name": "stdout",
     "output_type": "stream",
     "text": [
      "702\n"
     ]
    },
    {
     "name": "stderr",
     "output_type": "stream",
     "text": [
      "[Parallel(n_jobs=4)]: Using backend LokyBackend with 4 concurrent workers.\n",
      "[Parallel(n_jobs=4)]: Done   5 tasks      | elapsed:    1.9s\n",
      "[Parallel(n_jobs=4)]: Done  10 tasks      | elapsed:    3.1s\n",
      "[Parallel(n_jobs=4)]: Done  17 tasks      | elapsed:    5.2s\n",
      "[Parallel(n_jobs=4)]: Done  24 tasks      | elapsed:    6.9s\n",
      "[Parallel(n_jobs=4)]: Done  33 tasks      | elapsed:    9.0s\n",
      "[Parallel(n_jobs=4)]: Done  42 tasks      | elapsed:   11.2s\n",
      "[Parallel(n_jobs=4)]: Done  58 out of  58 | elapsed:   14.6s finished\n"
     ]
    },
    {
     "name": "stdout",
     "output_type": "stream",
     "text": [
      "703\n"
     ]
    },
    {
     "name": "stderr",
     "output_type": "stream",
     "text": [
      "[Parallel(n_jobs=4)]: Using backend LokyBackend with 4 concurrent workers.\n",
      "[Parallel(n_jobs=4)]: Done   5 tasks      | elapsed:    2.1s\n",
      "[Parallel(n_jobs=4)]: Done  10 tasks      | elapsed:    3.9s\n",
      "[Parallel(n_jobs=4)]: Done  17 tasks      | elapsed:    5.7s\n",
      "[Parallel(n_jobs=4)]: Done  24 tasks      | elapsed:    7.6s\n",
      "[Parallel(n_jobs=4)]: Done  33 tasks      | elapsed:   10.1s\n",
      "[Parallel(n_jobs=4)]: Done  42 tasks      | elapsed:   12.3s\n",
      "[Parallel(n_jobs=4)]: Done  59 out of  59 | elapsed:   16.0s finished\n"
     ]
    },
    {
     "name": "stdout",
     "output_type": "stream",
     "text": [
      "704\n"
     ]
    },
    {
     "name": "stderr",
     "output_type": "stream",
     "text": [
      "[Parallel(n_jobs=4)]: Using backend LokyBackend with 4 concurrent workers.\n",
      "[Parallel(n_jobs=4)]: Done   5 tasks      | elapsed:    2.0s\n",
      "[Parallel(n_jobs=4)]: Done  10 tasks      | elapsed:    3.2s\n",
      "[Parallel(n_jobs=4)]: Done  17 tasks      | elapsed:    5.3s\n",
      "[Parallel(n_jobs=4)]: Done  24 tasks      | elapsed:    6.9s\n",
      "[Parallel(n_jobs=4)]: Done  33 tasks      | elapsed:    9.8s\n",
      "[Parallel(n_jobs=4)]: Done  42 tasks      | elapsed:   11.7s\n",
      "[Parallel(n_jobs=4)]: Done  53 tasks      | elapsed:   14.4s\n",
      "[Parallel(n_jobs=4)]: Done  62 out of  62 | elapsed:   17.1s remaining:    0.0s\n",
      "[Parallel(n_jobs=4)]: Done  62 out of  62 | elapsed:   17.1s finished\n"
     ]
    },
    {
     "name": "stdout",
     "output_type": "stream",
     "text": [
      "705\n"
     ]
    },
    {
     "name": "stderr",
     "output_type": "stream",
     "text": [
      "[Parallel(n_jobs=4)]: Using backend LokyBackend with 4 concurrent workers.\n",
      "[Parallel(n_jobs=4)]: Done   5 tasks      | elapsed:    2.2s\n",
      "[Parallel(n_jobs=4)]: Done  10 tasks      | elapsed:    3.3s\n",
      "[Parallel(n_jobs=4)]: Done  17 tasks      | elapsed:    5.7s\n",
      "[Parallel(n_jobs=4)]: Done  24 tasks      | elapsed:    7.9s\n",
      "[Parallel(n_jobs=4)]: Done  33 tasks      | elapsed:   10.2s\n",
      "[Parallel(n_jobs=4)]: Done  42 tasks      | elapsed:   12.9s\n",
      "[Parallel(n_jobs=4)]: Done  57 out of  57 | elapsed:   16.7s finished\n"
     ]
    },
    {
     "name": "stdout",
     "output_type": "stream",
     "text": [
      "706\n"
     ]
    },
    {
     "name": "stderr",
     "output_type": "stream",
     "text": [
      "[Parallel(n_jobs=4)]: Using backend LokyBackend with 4 concurrent workers.\n",
      "[Parallel(n_jobs=4)]: Done   5 tasks      | elapsed:    1.8s\n",
      "[Parallel(n_jobs=4)]: Done  10 tasks      | elapsed:    3.4s\n",
      "[Parallel(n_jobs=4)]: Done  17 tasks      | elapsed:    5.3s\n",
      "[Parallel(n_jobs=4)]: Done  24 tasks      | elapsed:    7.1s\n",
      "[Parallel(n_jobs=4)]: Done  33 tasks      | elapsed:   10.4s\n",
      "[Parallel(n_jobs=4)]: Done  42 tasks      | elapsed:   12.8s\n",
      "[Parallel(n_jobs=4)]: Done  53 tasks      | elapsed:   15.5s\n",
      "[Parallel(n_jobs=4)]: Done  63 out of  63 | elapsed:   17.4s remaining:    0.0s\n",
      "[Parallel(n_jobs=4)]: Done  63 out of  63 | elapsed:   17.4s finished\n"
     ]
    },
    {
     "name": "stdout",
     "output_type": "stream",
     "text": [
      "707\n"
     ]
    },
    {
     "name": "stderr",
     "output_type": "stream",
     "text": [
      "[Parallel(n_jobs=4)]: Using backend LokyBackend with 4 concurrent workers.\n",
      "[Parallel(n_jobs=4)]: Done   5 tasks      | elapsed:    2.1s\n",
      "[Parallel(n_jobs=4)]: Done  10 tasks      | elapsed:    3.2s\n",
      "[Parallel(n_jobs=4)]: Done  17 tasks      | elapsed:    5.0s\n",
      "[Parallel(n_jobs=4)]: Done  24 tasks      | elapsed:    7.2s\n",
      "[Parallel(n_jobs=4)]: Done  33 tasks      | elapsed:    9.5s\n",
      "[Parallel(n_jobs=4)]: Done  42 tasks      | elapsed:   11.6s\n",
      "[Parallel(n_jobs=4)]: Done  53 tasks      | elapsed:   14.5s\n",
      "[Parallel(n_jobs=4)]: Done  62 out of  62 | elapsed:   16.2s remaining:    0.0s\n",
      "[Parallel(n_jobs=4)]: Done  62 out of  62 | elapsed:   16.2s finished\n"
     ]
    },
    {
     "name": "stdout",
     "output_type": "stream",
     "text": [
      "708\n"
     ]
    },
    {
     "name": "stderr",
     "output_type": "stream",
     "text": [
      "[Parallel(n_jobs=4)]: Using backend LokyBackend with 4 concurrent workers.\n",
      "[Parallel(n_jobs=4)]: Done   5 tasks      | elapsed:    2.1s\n",
      "[Parallel(n_jobs=4)]: Done  10 tasks      | elapsed:    3.1s\n",
      "[Parallel(n_jobs=4)]: Done  17 tasks      | elapsed:    5.2s\n",
      "[Parallel(n_jobs=4)]: Done  24 tasks      | elapsed:    6.5s\n",
      "[Parallel(n_jobs=4)]: Done  33 tasks      | elapsed:    8.9s\n",
      "[Parallel(n_jobs=4)]: Done  42 tasks      | elapsed:   10.6s\n",
      "[Parallel(n_jobs=4)]: Done  53 tasks      | elapsed:   13.2s\n",
      "[Parallel(n_jobs=4)]: Done  63 out of  63 | elapsed:   15.6s remaining:    0.0s\n",
      "[Parallel(n_jobs=4)]: Done  63 out of  63 | elapsed:   15.6s finished\n"
     ]
    },
    {
     "name": "stdout",
     "output_type": "stream",
     "text": [
      "709\n"
     ]
    },
    {
     "name": "stderr",
     "output_type": "stream",
     "text": [
      "[Parallel(n_jobs=4)]: Using backend LokyBackend with 4 concurrent workers.\n",
      "[Parallel(n_jobs=4)]: Done   5 tasks      | elapsed:    2.2s\n",
      "[Parallel(n_jobs=4)]: Done  10 tasks      | elapsed:    3.1s\n",
      "[Parallel(n_jobs=4)]: Done  17 tasks      | elapsed:    4.8s\n",
      "[Parallel(n_jobs=4)]: Done  24 tasks      | elapsed:    6.7s\n",
      "[Parallel(n_jobs=4)]: Done  33 tasks      | elapsed:    8.7s\n",
      "[Parallel(n_jobs=4)]: Done  42 tasks      | elapsed:   11.5s\n",
      "[Parallel(n_jobs=4)]: Done  53 tasks      | elapsed:   13.9s\n",
      "[Parallel(n_jobs=4)]: Done  62 out of  62 | elapsed:   15.9s remaining:    0.0s\n",
      "[Parallel(n_jobs=4)]: Done  62 out of  62 | elapsed:   15.9s finished\n"
     ]
    },
    {
     "name": "stdout",
     "output_type": "stream",
     "text": [
      "710\n"
     ]
    },
    {
     "name": "stderr",
     "output_type": "stream",
     "text": [
      "[Parallel(n_jobs=4)]: Using backend LokyBackend with 4 concurrent workers.\n",
      "[Parallel(n_jobs=4)]: Done   5 tasks      | elapsed:    2.0s\n",
      "[Parallel(n_jobs=4)]: Done  10 tasks      | elapsed:    3.4s\n",
      "[Parallel(n_jobs=4)]: Done  17 tasks      | elapsed:    5.2s\n",
      "[Parallel(n_jobs=4)]: Done  24 tasks      | elapsed:    7.2s\n",
      "[Parallel(n_jobs=4)]: Done  33 tasks      | elapsed:    9.3s\n",
      "[Parallel(n_jobs=4)]: Done  42 tasks      | elapsed:   11.2s\n",
      "[Parallel(n_jobs=4)]: Done  58 out of  58 | elapsed:   14.9s finished\n"
     ]
    },
    {
     "name": "stdout",
     "output_type": "stream",
     "text": [
      "711\n"
     ]
    },
    {
     "name": "stderr",
     "output_type": "stream",
     "text": [
      "[Parallel(n_jobs=4)]: Using backend LokyBackend with 4 concurrent workers.\n",
      "[Parallel(n_jobs=4)]: Done   5 tasks      | elapsed:    2.4s\n",
      "[Parallel(n_jobs=4)]: Done  10 tasks      | elapsed:    3.7s\n",
      "[Parallel(n_jobs=4)]: Done  17 tasks      | elapsed:    5.4s\n",
      "[Parallel(n_jobs=4)]: Done  24 tasks      | elapsed:    7.3s\n",
      "[Parallel(n_jobs=4)]: Done  33 tasks      | elapsed:    9.6s\n",
      "[Parallel(n_jobs=4)]: Done  42 tasks      | elapsed:   12.4s\n",
      "[Parallel(n_jobs=4)]: Done  53 tasks      | elapsed:   14.7s\n",
      "[Parallel(n_jobs=4)]: Done  62 out of  62 | elapsed:   16.5s remaining:    0.0s\n",
      "[Parallel(n_jobs=4)]: Done  62 out of  62 | elapsed:   16.5s finished\n"
     ]
    },
    {
     "name": "stdout",
     "output_type": "stream",
     "text": [
      "712\n"
     ]
    },
    {
     "name": "stderr",
     "output_type": "stream",
     "text": [
      "[Parallel(n_jobs=4)]: Using backend LokyBackend with 4 concurrent workers.\n",
      "[Parallel(n_jobs=4)]: Done   5 tasks      | elapsed:    2.2s\n",
      "[Parallel(n_jobs=4)]: Done  10 tasks      | elapsed:    3.6s\n",
      "[Parallel(n_jobs=4)]: Done  17 tasks      | elapsed:    6.2s\n",
      "[Parallel(n_jobs=4)]: Done  24 tasks      | elapsed:    7.9s\n",
      "[Parallel(n_jobs=4)]: Done  33 tasks      | elapsed:   10.4s\n",
      "[Parallel(n_jobs=4)]: Done  42 tasks      | elapsed:   12.9s\n",
      "[Parallel(n_jobs=4)]: Done  53 tasks      | elapsed:   15.5s\n",
      "[Parallel(n_jobs=4)]: Done  63 out of  63 | elapsed:   17.8s remaining:    0.0s\n",
      "[Parallel(n_jobs=4)]: Done  63 out of  63 | elapsed:   17.8s finished\n"
     ]
    },
    {
     "name": "stdout",
     "output_type": "stream",
     "text": [
      "713\n"
     ]
    },
    {
     "name": "stderr",
     "output_type": "stream",
     "text": [
      "[Parallel(n_jobs=4)]: Using backend LokyBackend with 4 concurrent workers.\n",
      "[Parallel(n_jobs=4)]: Done   5 tasks      | elapsed:    2.1s\n",
      "[Parallel(n_jobs=4)]: Done  10 tasks      | elapsed:    3.3s\n",
      "[Parallel(n_jobs=4)]: Done  17 tasks      | elapsed:    5.3s\n",
      "[Parallel(n_jobs=4)]: Done  24 tasks      | elapsed:    7.1s\n",
      "[Parallel(n_jobs=4)]: Done  33 tasks      | elapsed:    9.1s\n",
      "[Parallel(n_jobs=4)]: Done  42 tasks      | elapsed:   11.9s\n",
      "[Parallel(n_jobs=4)]: Done  59 out of  59 | elapsed:   15.7s finished\n"
     ]
    },
    {
     "name": "stdout",
     "output_type": "stream",
     "text": [
      "714\n"
     ]
    },
    {
     "name": "stderr",
     "output_type": "stream",
     "text": [
      "[Parallel(n_jobs=4)]: Using backend LokyBackend with 4 concurrent workers.\n",
      "[Parallel(n_jobs=4)]: Done   5 tasks      | elapsed:    2.4s\n",
      "[Parallel(n_jobs=4)]: Done  10 tasks      | elapsed:    3.8s\n",
      "[Parallel(n_jobs=4)]: Done  17 tasks      | elapsed:    5.6s\n",
      "[Parallel(n_jobs=4)]: Done  24 tasks      | elapsed:    7.4s\n",
      "[Parallel(n_jobs=4)]: Done  33 tasks      | elapsed:    9.2s\n",
      "[Parallel(n_jobs=4)]: Done  42 tasks      | elapsed:   11.1s\n",
      "[Parallel(n_jobs=4)]: Done  53 tasks      | elapsed:   13.5s\n",
      "[Parallel(n_jobs=4)]: Done  62 out of  62 | elapsed:   15.4s remaining:    0.0s\n",
      "[Parallel(n_jobs=4)]: Done  62 out of  62 | elapsed:   15.4s finished\n"
     ]
    },
    {
     "name": "stdout",
     "output_type": "stream",
     "text": [
      "715\n"
     ]
    },
    {
     "name": "stderr",
     "output_type": "stream",
     "text": [
      "[Parallel(n_jobs=4)]: Using backend LokyBackend with 4 concurrent workers.\n",
      "[Parallel(n_jobs=4)]: Done   5 tasks      | elapsed:    2.4s\n",
      "[Parallel(n_jobs=4)]: Done  10 tasks      | elapsed:    3.5s\n",
      "[Parallel(n_jobs=4)]: Done  17 tasks      | elapsed:    6.4s\n",
      "[Parallel(n_jobs=4)]: Done  24 tasks      | elapsed:    8.2s\n",
      "[Parallel(n_jobs=4)]: Done  33 tasks      | elapsed:   10.2s\n",
      "[Parallel(n_jobs=4)]: Done  42 tasks      | elapsed:   12.7s\n",
      "[Parallel(n_jobs=4)]: Done  47 out of  49 | elapsed:   13.6s remaining:    0.6s\n",
      "[Parallel(n_jobs=4)]: Done  49 out of  49 | elapsed:   14.1s finished\n"
     ]
    },
    {
     "name": "stdout",
     "output_type": "stream",
     "text": [
      "716\n"
     ]
    },
    {
     "name": "stderr",
     "output_type": "stream",
     "text": [
      "[Parallel(n_jobs=4)]: Using backend LokyBackend with 4 concurrent workers.\n",
      "[Parallel(n_jobs=4)]: Done   5 tasks      | elapsed:    2.3s\n",
      "[Parallel(n_jobs=4)]: Done  10 tasks      | elapsed:    3.6s\n",
      "[Parallel(n_jobs=4)]: Done  17 tasks      | elapsed:    5.8s\n",
      "[Parallel(n_jobs=4)]: Done  24 tasks      | elapsed:    7.6s\n",
      "[Parallel(n_jobs=4)]: Done  33 tasks      | elapsed:   10.2s\n",
      "[Parallel(n_jobs=4)]: Done  42 tasks      | elapsed:   13.1s\n",
      "[Parallel(n_jobs=4)]: Done  58 out of  58 | elapsed:   17.0s finished\n"
     ]
    },
    {
     "name": "stdout",
     "output_type": "stream",
     "text": [
      "717\n"
     ]
    },
    {
     "name": "stderr",
     "output_type": "stream",
     "text": [
      "[Parallel(n_jobs=4)]: Using backend LokyBackend with 4 concurrent workers.\n",
      "[Parallel(n_jobs=4)]: Done   5 tasks      | elapsed:    1.9s\n",
      "[Parallel(n_jobs=4)]: Done  10 tasks      | elapsed:    3.2s\n",
      "[Parallel(n_jobs=4)]: Done  17 tasks      | elapsed:    5.1s\n",
      "[Parallel(n_jobs=4)]: Done  24 tasks      | elapsed:    6.9s\n",
      "[Parallel(n_jobs=4)]: Done  33 tasks      | elapsed:    9.1s\n",
      "[Parallel(n_jobs=4)]: Done  42 tasks      | elapsed:   11.4s\n",
      "[Parallel(n_jobs=4)]: Done  53 tasks      | elapsed:   14.4s\n",
      "[Parallel(n_jobs=4)]: Done  60 out of  60 | elapsed:   15.8s remaining:    0.0s\n",
      "[Parallel(n_jobs=4)]: Done  60 out of  60 | elapsed:   15.8s finished\n"
     ]
    },
    {
     "name": "stdout",
     "output_type": "stream",
     "text": [
      "718\n"
     ]
    },
    {
     "name": "stderr",
     "output_type": "stream",
     "text": [
      "[Parallel(n_jobs=4)]: Using backend LokyBackend with 4 concurrent workers.\n",
      "[Parallel(n_jobs=4)]: Done   5 tasks      | elapsed:    2.2s\n",
      "[Parallel(n_jobs=4)]: Done  10 tasks      | elapsed:    3.4s\n",
      "[Parallel(n_jobs=4)]: Done  17 tasks      | elapsed:    5.5s\n",
      "[Parallel(n_jobs=4)]: Done  24 tasks      | elapsed:    6.9s\n",
      "[Parallel(n_jobs=4)]: Done  33 tasks      | elapsed:    9.0s\n",
      "[Parallel(n_jobs=4)]: Done  42 tasks      | elapsed:   11.3s\n",
      "[Parallel(n_jobs=4)]: Done  53 tasks      | elapsed:   13.1s\n",
      "[Parallel(n_jobs=4)]: Done  60 out of  60 | elapsed:   14.8s remaining:    0.0s\n",
      "[Parallel(n_jobs=4)]: Done  60 out of  60 | elapsed:   14.8s finished\n"
     ]
    },
    {
     "name": "stdout",
     "output_type": "stream",
     "text": [
      "719\n"
     ]
    },
    {
     "name": "stderr",
     "output_type": "stream",
     "text": [
      "[Parallel(n_jobs=4)]: Using backend LokyBackend with 4 concurrent workers.\n",
      "[Parallel(n_jobs=4)]: Done   5 tasks      | elapsed:    2.3s\n",
      "[Parallel(n_jobs=4)]: Done  10 tasks      | elapsed:    3.9s\n",
      "[Parallel(n_jobs=4)]: Done  17 tasks      | elapsed:    5.4s\n",
      "[Parallel(n_jobs=4)]: Done  24 tasks      | elapsed:    7.4s\n",
      "[Parallel(n_jobs=4)]: Done  33 tasks      | elapsed:    9.9s\n",
      "[Parallel(n_jobs=4)]: Done  42 tasks      | elapsed:   12.0s\n",
      "[Parallel(n_jobs=4)]: Done  59 out of  59 | elapsed:   16.0s finished\n"
     ]
    },
    {
     "name": "stdout",
     "output_type": "stream",
     "text": [
      "720\n"
     ]
    },
    {
     "name": "stderr",
     "output_type": "stream",
     "text": [
      "[Parallel(n_jobs=4)]: Using backend LokyBackend with 4 concurrent workers.\n",
      "[Parallel(n_jobs=4)]: Done   5 tasks      | elapsed:    2.0s\n",
      "[Parallel(n_jobs=4)]: Done  10 tasks      | elapsed:    3.1s\n",
      "[Parallel(n_jobs=4)]: Done  17 tasks      | elapsed:    4.8s\n",
      "[Parallel(n_jobs=4)]: Done  24 tasks      | elapsed:    6.9s\n",
      "[Parallel(n_jobs=4)]: Done  33 tasks      | elapsed:    8.7s\n",
      "[Parallel(n_jobs=4)]: Done  42 tasks      | elapsed:   10.9s\n",
      "[Parallel(n_jobs=4)]: Done  53 tasks      | elapsed:   13.4s\n",
      "[Parallel(n_jobs=4)]: Done  60 out of  60 | elapsed:   14.6s remaining:    0.0s\n",
      "[Parallel(n_jobs=4)]: Done  60 out of  60 | elapsed:   14.6s finished\n"
     ]
    },
    {
     "name": "stdout",
     "output_type": "stream",
     "text": [
      "721\n"
     ]
    },
    {
     "name": "stderr",
     "output_type": "stream",
     "text": [
      "[Parallel(n_jobs=4)]: Using backend LokyBackend with 4 concurrent workers.\n",
      "[Parallel(n_jobs=4)]: Done   5 tasks      | elapsed:    2.3s\n",
      "[Parallel(n_jobs=4)]: Done  10 tasks      | elapsed:    3.3s\n",
      "[Parallel(n_jobs=4)]: Done  17 tasks      | elapsed:    5.0s\n",
      "[Parallel(n_jobs=4)]: Done  24 tasks      | elapsed:    6.2s\n",
      "[Parallel(n_jobs=4)]: Done  33 tasks      | elapsed:    8.5s\n",
      "[Parallel(n_jobs=4)]: Done  42 tasks      | elapsed:   10.2s\n",
      "[Parallel(n_jobs=4)]: Done  53 tasks      | elapsed:   12.6s\n",
      "[Parallel(n_jobs=4)]: Done  62 out of  62 | elapsed:   14.4s remaining:    0.0s\n",
      "[Parallel(n_jobs=4)]: Done  62 out of  62 | elapsed:   14.4s finished\n"
     ]
    },
    {
     "name": "stdout",
     "output_type": "stream",
     "text": [
      "722\n"
     ]
    },
    {
     "name": "stderr",
     "output_type": "stream",
     "text": [
      "[Parallel(n_jobs=4)]: Using backend LokyBackend with 4 concurrent workers.\n",
      "[Parallel(n_jobs=4)]: Done   5 tasks      | elapsed:    2.0s\n",
      "[Parallel(n_jobs=4)]: Done  10 tasks      | elapsed:    2.9s\n",
      "[Parallel(n_jobs=4)]: Done  17 tasks      | elapsed:    4.5s\n",
      "[Parallel(n_jobs=4)]: Done  24 tasks      | elapsed:    6.4s\n",
      "[Parallel(n_jobs=4)]: Done  33 tasks      | elapsed:    8.0s\n",
      "[Parallel(n_jobs=4)]: Done  42 tasks      | elapsed:    9.8s\n",
      "[Parallel(n_jobs=4)]: Done  53 tasks      | elapsed:   12.0s\n",
      "[Parallel(n_jobs=4)]: Done  61 out of  61 | elapsed:   13.6s remaining:    0.0s\n",
      "[Parallel(n_jobs=4)]: Done  61 out of  61 | elapsed:   13.6s finished\n"
     ]
    },
    {
     "name": "stdout",
     "output_type": "stream",
     "text": [
      "723\n"
     ]
    },
    {
     "name": "stderr",
     "output_type": "stream",
     "text": [
      "[Parallel(n_jobs=4)]: Using backend LokyBackend with 4 concurrent workers.\n",
      "[Parallel(n_jobs=4)]: Done   5 tasks      | elapsed:    2.2s\n",
      "[Parallel(n_jobs=4)]: Done  10 tasks      | elapsed:    3.3s\n",
      "[Parallel(n_jobs=4)]: Done  17 tasks      | elapsed:    5.1s\n",
      "[Parallel(n_jobs=4)]: Done  24 tasks      | elapsed:    6.4s\n",
      "[Parallel(n_jobs=4)]: Done  33 tasks      | elapsed:    9.1s\n",
      "[Parallel(n_jobs=4)]: Done  42 tasks      | elapsed:   11.3s\n",
      "[Parallel(n_jobs=4)]: Done  59 out of  59 | elapsed:   14.8s finished\n"
     ]
    },
    {
     "name": "stdout",
     "output_type": "stream",
     "text": [
      "724\n"
     ]
    },
    {
     "name": "stderr",
     "output_type": "stream",
     "text": [
      "[Parallel(n_jobs=4)]: Using backend LokyBackend with 4 concurrent workers.\n",
      "[Parallel(n_jobs=4)]: Done   5 tasks      | elapsed:    2.0s\n",
      "[Parallel(n_jobs=4)]: Done  10 tasks      | elapsed:    3.5s\n",
      "[Parallel(n_jobs=4)]: Done  17 tasks      | elapsed:    5.4s\n",
      "[Parallel(n_jobs=4)]: Done  24 tasks      | elapsed:    7.3s\n",
      "[Parallel(n_jobs=4)]: Done  33 tasks      | elapsed:    9.4s\n",
      "[Parallel(n_jobs=4)]: Done  42 tasks      | elapsed:   11.8s\n",
      "[Parallel(n_jobs=4)]: Done  59 out of  59 | elapsed:   15.5s finished\n"
     ]
    },
    {
     "name": "stdout",
     "output_type": "stream",
     "text": [
      "725\n"
     ]
    },
    {
     "name": "stderr",
     "output_type": "stream",
     "text": [
      "[Parallel(n_jobs=4)]: Using backend LokyBackend with 4 concurrent workers.\n",
      "[Parallel(n_jobs=4)]: Done   5 tasks      | elapsed:    1.8s\n",
      "[Parallel(n_jobs=4)]: Done  10 tasks      | elapsed:    2.9s\n",
      "[Parallel(n_jobs=4)]: Done  17 tasks      | elapsed:    4.6s\n",
      "[Parallel(n_jobs=4)]: Done  24 tasks      | elapsed:    6.2s\n",
      "[Parallel(n_jobs=4)]: Done  33 tasks      | elapsed:    8.4s\n",
      "[Parallel(n_jobs=4)]: Done  42 tasks      | elapsed:   10.7s\n",
      "[Parallel(n_jobs=4)]: Done  53 tasks      | elapsed:   13.0s\n",
      "[Parallel(n_jobs=4)]: Done  61 out of  61 | elapsed:   15.1s remaining:    0.0s\n",
      "[Parallel(n_jobs=4)]: Done  61 out of  61 | elapsed:   15.1s finished\n"
     ]
    },
    {
     "name": "stdout",
     "output_type": "stream",
     "text": [
      "726\n"
     ]
    },
    {
     "name": "stderr",
     "output_type": "stream",
     "text": [
      "[Parallel(n_jobs=4)]: Using backend LokyBackend with 4 concurrent workers.\n",
      "[Parallel(n_jobs=4)]: Done   5 tasks      | elapsed:    2.0s\n",
      "[Parallel(n_jobs=4)]: Done  10 tasks      | elapsed:    3.0s\n",
      "[Parallel(n_jobs=4)]: Done  17 tasks      | elapsed:    5.1s\n",
      "[Parallel(n_jobs=4)]: Done  24 tasks      | elapsed:    6.5s\n",
      "[Parallel(n_jobs=4)]: Done  33 tasks      | elapsed:    8.9s\n",
      "[Parallel(n_jobs=4)]: Done  42 tasks      | elapsed:   10.8s\n",
      "[Parallel(n_jobs=4)]: Done  53 tasks      | elapsed:   13.7s\n",
      "[Parallel(n_jobs=4)]: Done  61 out of  61 | elapsed:   15.5s remaining:    0.0s\n",
      "[Parallel(n_jobs=4)]: Done  61 out of  61 | elapsed:   15.5s finished\n"
     ]
    },
    {
     "name": "stdout",
     "output_type": "stream",
     "text": [
      "727\n"
     ]
    },
    {
     "name": "stderr",
     "output_type": "stream",
     "text": [
      "[Parallel(n_jobs=4)]: Using backend LokyBackend with 4 concurrent workers.\n",
      "[Parallel(n_jobs=4)]: Done   5 tasks      | elapsed:    2.0s\n",
      "[Parallel(n_jobs=4)]: Done  10 tasks      | elapsed:    3.6s\n",
      "[Parallel(n_jobs=4)]: Done  17 tasks      | elapsed:    5.5s\n",
      "[Parallel(n_jobs=4)]: Done  24 tasks      | elapsed:    6.8s\n",
      "[Parallel(n_jobs=4)]: Done  33 tasks      | elapsed:    9.3s\n",
      "[Parallel(n_jobs=4)]: Done  42 tasks      | elapsed:   11.3s\n",
      "[Parallel(n_jobs=4)]: Done  53 tasks      | elapsed:   13.6s\n",
      "[Parallel(n_jobs=4)]: Done  60 out of  60 | elapsed:   15.2s remaining:    0.0s\n",
      "[Parallel(n_jobs=4)]: Done  60 out of  60 | elapsed:   15.2s finished\n"
     ]
    },
    {
     "name": "stdout",
     "output_type": "stream",
     "text": [
      "728\n"
     ]
    },
    {
     "name": "stderr",
     "output_type": "stream",
     "text": [
      "[Parallel(n_jobs=4)]: Using backend LokyBackend with 4 concurrent workers.\n",
      "[Parallel(n_jobs=4)]: Done   5 tasks      | elapsed:    2.2s\n",
      "[Parallel(n_jobs=4)]: Done  10 tasks      | elapsed:    3.7s\n",
      "[Parallel(n_jobs=4)]: Done  17 tasks      | elapsed:    5.4s\n",
      "[Parallel(n_jobs=4)]: Done  24 tasks      | elapsed:    7.8s\n",
      "[Parallel(n_jobs=4)]: Done  33 tasks      | elapsed:   10.1s\n",
      "[Parallel(n_jobs=4)]: Done  42 tasks      | elapsed:   12.3s\n",
      "[Parallel(n_jobs=4)]: Done  53 tasks      | elapsed:   14.6s\n",
      "[Parallel(n_jobs=4)]: Done  60 out of  60 | elapsed:   16.3s remaining:    0.0s\n",
      "[Parallel(n_jobs=4)]: Done  60 out of  60 | elapsed:   16.3s finished\n"
     ]
    },
    {
     "name": "stdout",
     "output_type": "stream",
     "text": [
      "729\n"
     ]
    },
    {
     "name": "stderr",
     "output_type": "stream",
     "text": [
      "[Parallel(n_jobs=4)]: Using backend LokyBackend with 4 concurrent workers.\n",
      "[Parallel(n_jobs=4)]: Done   5 tasks      | elapsed:    1.9s\n",
      "[Parallel(n_jobs=4)]: Done  10 tasks      | elapsed:    3.4s\n",
      "[Parallel(n_jobs=4)]: Done  17 tasks      | elapsed:    5.7s\n",
      "[Parallel(n_jobs=4)]: Done  24 tasks      | elapsed:    7.9s\n",
      "[Parallel(n_jobs=4)]: Done  33 tasks      | elapsed:   10.0s\n",
      "[Parallel(n_jobs=4)]: Done  42 tasks      | elapsed:   12.9s\n",
      "[Parallel(n_jobs=4)]: Done  59 out of  59 | elapsed:   16.6s finished\n"
     ]
    },
    {
     "name": "stdout",
     "output_type": "stream",
     "text": [
      "730\n"
     ]
    },
    {
     "name": "stderr",
     "output_type": "stream",
     "text": [
      "[Parallel(n_jobs=4)]: Using backend LokyBackend with 4 concurrent workers.\n",
      "[Parallel(n_jobs=4)]: Done   5 tasks      | elapsed:    2.0s\n",
      "[Parallel(n_jobs=4)]: Done  10 tasks      | elapsed:    3.9s\n",
      "[Parallel(n_jobs=4)]: Done  17 tasks      | elapsed:    5.6s\n",
      "[Parallel(n_jobs=4)]: Done  24 tasks      | elapsed:    7.4s\n",
      "[Parallel(n_jobs=4)]: Done  33 tasks      | elapsed:    9.8s\n",
      "[Parallel(n_jobs=4)]: Done  42 tasks      | elapsed:   11.7s\n",
      "[Parallel(n_jobs=4)]: Done  53 tasks      | elapsed:   14.3s\n",
      "[Parallel(n_jobs=4)]: Done  61 out of  61 | elapsed:   16.1s remaining:    0.0s\n",
      "[Parallel(n_jobs=4)]: Done  61 out of  61 | elapsed:   16.1s finished\n"
     ]
    },
    {
     "name": "stdout",
     "output_type": "stream",
     "text": [
      "731\n"
     ]
    },
    {
     "name": "stderr",
     "output_type": "stream",
     "text": [
      "[Parallel(n_jobs=4)]: Using backend LokyBackend with 4 concurrent workers.\n",
      "[Parallel(n_jobs=4)]: Done   5 tasks      | elapsed:    1.8s\n",
      "[Parallel(n_jobs=4)]: Done  10 tasks      | elapsed:    2.9s\n",
      "[Parallel(n_jobs=4)]: Done  17 tasks      | elapsed:    4.8s\n",
      "[Parallel(n_jobs=4)]: Done  24 tasks      | elapsed:    7.2s\n",
      "[Parallel(n_jobs=4)]: Done  33 tasks      | elapsed:    9.6s\n",
      "[Parallel(n_jobs=4)]: Done  42 tasks      | elapsed:   12.1s\n",
      "[Parallel(n_jobs=4)]: Done  55 out of  55 | elapsed:   15.3s finished\n"
     ]
    },
    {
     "name": "stdout",
     "output_type": "stream",
     "text": [
      "732\n"
     ]
    },
    {
     "name": "stderr",
     "output_type": "stream",
     "text": [
      "[Parallel(n_jobs=4)]: Using backend LokyBackend with 4 concurrent workers.\n",
      "[Parallel(n_jobs=4)]: Done   5 tasks      | elapsed:    1.9s\n",
      "[Parallel(n_jobs=4)]: Done  10 tasks      | elapsed:    3.4s\n",
      "[Parallel(n_jobs=4)]: Done  17 tasks      | elapsed:    5.3s\n",
      "[Parallel(n_jobs=4)]: Done  24 tasks      | elapsed:    7.1s\n",
      "[Parallel(n_jobs=4)]: Done  33 tasks      | elapsed:    9.1s\n",
      "[Parallel(n_jobs=4)]: Done  42 tasks      | elapsed:   11.2s\n",
      "[Parallel(n_jobs=4)]: Done  53 tasks      | elapsed:   14.1s\n",
      "[Parallel(n_jobs=4)]: Done  61 out of  61 | elapsed:   15.9s remaining:    0.0s\n",
      "[Parallel(n_jobs=4)]: Done  61 out of  61 | elapsed:   15.9s finished\n"
     ]
    },
    {
     "name": "stdout",
     "output_type": "stream",
     "text": [
      "733\n"
     ]
    },
    {
     "name": "stderr",
     "output_type": "stream",
     "text": [
      "[Parallel(n_jobs=4)]: Using backend LokyBackend with 4 concurrent workers.\n",
      "[Parallel(n_jobs=4)]: Done   5 tasks      | elapsed:    2.0s\n",
      "[Parallel(n_jobs=4)]: Done  10 tasks      | elapsed:    3.1s\n",
      "[Parallel(n_jobs=4)]: Done  17 tasks      | elapsed:    5.2s\n",
      "[Parallel(n_jobs=4)]: Done  24 tasks      | elapsed:    7.1s\n",
      "[Parallel(n_jobs=4)]: Done  33 tasks      | elapsed:    9.3s\n",
      "[Parallel(n_jobs=4)]: Done  42 tasks      | elapsed:   12.2s\n",
      "[Parallel(n_jobs=4)]: Done  57 out of  57 | elapsed:   15.4s finished\n"
     ]
    },
    {
     "name": "stdout",
     "output_type": "stream",
     "text": [
      "734\n"
     ]
    },
    {
     "name": "stderr",
     "output_type": "stream",
     "text": [
      "[Parallel(n_jobs=4)]: Using backend LokyBackend with 4 concurrent workers.\n",
      "[Parallel(n_jobs=4)]: Done   5 tasks      | elapsed:    2.1s\n",
      "[Parallel(n_jobs=4)]: Done  10 tasks      | elapsed:    3.3s\n",
      "[Parallel(n_jobs=4)]: Done  17 tasks      | elapsed:    5.7s\n",
      "[Parallel(n_jobs=4)]: Done  24 tasks      | elapsed:    7.4s\n",
      "[Parallel(n_jobs=4)]: Done  33 tasks      | elapsed:   10.1s\n",
      "[Parallel(n_jobs=4)]: Done  42 tasks      | elapsed:   12.0s\n",
      "[Parallel(n_jobs=4)]: Done  54 out of  54 | elapsed:   14.8s finished\n"
     ]
    },
    {
     "name": "stdout",
     "output_type": "stream",
     "text": [
      "735\n"
     ]
    },
    {
     "name": "stderr",
     "output_type": "stream",
     "text": [
      "[Parallel(n_jobs=4)]: Using backend LokyBackend with 4 concurrent workers.\n",
      "[Parallel(n_jobs=4)]: Done   5 tasks      | elapsed:    2.0s\n",
      "[Parallel(n_jobs=4)]: Done  10 tasks      | elapsed:    3.6s\n",
      "[Parallel(n_jobs=4)]: Done  17 tasks      | elapsed:    5.5s\n",
      "[Parallel(n_jobs=4)]: Done  24 tasks      | elapsed:    7.0s\n",
      "[Parallel(n_jobs=4)]: Done  33 tasks      | elapsed:    9.4s\n",
      "[Parallel(n_jobs=4)]: Done  42 tasks      | elapsed:   11.7s\n",
      "[Parallel(n_jobs=4)]: Done  53 tasks      | elapsed:   14.5s\n",
      "[Parallel(n_jobs=4)]: Done  61 out of  61 | elapsed:   16.2s remaining:    0.0s\n",
      "[Parallel(n_jobs=4)]: Done  61 out of  61 | elapsed:   16.2s finished\n"
     ]
    },
    {
     "name": "stdout",
     "output_type": "stream",
     "text": [
      "736\n"
     ]
    },
    {
     "name": "stderr",
     "output_type": "stream",
     "text": [
      "[Parallel(n_jobs=4)]: Using backend LokyBackend with 4 concurrent workers.\n",
      "[Parallel(n_jobs=4)]: Done   5 tasks      | elapsed:    2.1s\n",
      "[Parallel(n_jobs=4)]: Done  10 tasks      | elapsed:    3.3s\n",
      "[Parallel(n_jobs=4)]: Done  17 tasks      | elapsed:    5.9s\n",
      "[Parallel(n_jobs=4)]: Done  24 tasks      | elapsed:    7.7s\n",
      "[Parallel(n_jobs=4)]: Done  33 tasks      | elapsed:   10.1s\n",
      "[Parallel(n_jobs=4)]: Done  46 out of  48 | elapsed:   13.8s remaining:    0.6s\n",
      "[Parallel(n_jobs=4)]: Done  48 out of  48 | elapsed:   14.2s finished\n"
     ]
    },
    {
     "name": "stdout",
     "output_type": "stream",
     "text": [
      "737\n"
     ]
    },
    {
     "name": "stderr",
     "output_type": "stream",
     "text": [
      "[Parallel(n_jobs=4)]: Using backend LokyBackend with 4 concurrent workers.\n",
      "[Parallel(n_jobs=4)]: Done   5 tasks      | elapsed:    2.3s\n",
      "[Parallel(n_jobs=4)]: Done  10 tasks      | elapsed:    3.4s\n",
      "[Parallel(n_jobs=4)]: Done  17 tasks      | elapsed:    5.3s\n",
      "[Parallel(n_jobs=4)]: Done  24 tasks      | elapsed:    7.2s\n",
      "[Parallel(n_jobs=4)]: Done  33 tasks      | elapsed:    9.5s\n",
      "[Parallel(n_jobs=4)]: Done  42 tasks      | elapsed:   11.4s\n",
      "[Parallel(n_jobs=4)]: Done  58 out of  58 | elapsed:   15.4s finished\n"
     ]
    },
    {
     "name": "stdout",
     "output_type": "stream",
     "text": [
      "738\n"
     ]
    },
    {
     "name": "stderr",
     "output_type": "stream",
     "text": [
      "[Parallel(n_jobs=4)]: Using backend LokyBackend with 4 concurrent workers.\n",
      "[Parallel(n_jobs=4)]: Done   5 tasks      | elapsed:    2.2s\n",
      "[Parallel(n_jobs=4)]: Done  10 tasks      | elapsed:    3.2s\n",
      "[Parallel(n_jobs=4)]: Done  17 tasks      | elapsed:    5.0s\n",
      "[Parallel(n_jobs=4)]: Done  24 tasks      | elapsed:    6.6s\n",
      "[Parallel(n_jobs=4)]: Done  33 tasks      | elapsed:    8.8s\n",
      "[Parallel(n_jobs=4)]: Done  42 tasks      | elapsed:   11.1s\n",
      "[Parallel(n_jobs=4)]: Done  55 out of  55 | elapsed:   13.5s finished\n"
     ]
    },
    {
     "name": "stdout",
     "output_type": "stream",
     "text": [
      "739\n"
     ]
    },
    {
     "name": "stderr",
     "output_type": "stream",
     "text": [
      "[Parallel(n_jobs=4)]: Using backend LokyBackend with 4 concurrent workers.\n",
      "[Parallel(n_jobs=4)]: Done   5 tasks      | elapsed:    2.0s\n",
      "[Parallel(n_jobs=4)]: Done  10 tasks      | elapsed:    3.2s\n",
      "[Parallel(n_jobs=4)]: Done  17 tasks      | elapsed:    5.0s\n",
      "[Parallel(n_jobs=4)]: Done  24 tasks      | elapsed:    7.0s\n",
      "[Parallel(n_jobs=4)]: Done  33 tasks      | elapsed:    9.6s\n",
      "[Parallel(n_jobs=4)]: Done  42 tasks      | elapsed:   11.7s\n",
      "[Parallel(n_jobs=4)]: Done  57 out of  57 | elapsed:   15.4s finished\n"
     ]
    },
    {
     "name": "stdout",
     "output_type": "stream",
     "text": [
      "740\n"
     ]
    },
    {
     "name": "stderr",
     "output_type": "stream",
     "text": [
      "[Parallel(n_jobs=4)]: Using backend LokyBackend with 4 concurrent workers.\n",
      "[Parallel(n_jobs=4)]: Done   5 tasks      | elapsed:    2.0s\n",
      "[Parallel(n_jobs=4)]: Done  10 tasks      | elapsed:    4.0s\n",
      "[Parallel(n_jobs=4)]: Done  17 tasks      | elapsed:    5.2s\n",
      "[Parallel(n_jobs=4)]: Done  24 tasks      | elapsed:    7.3s\n",
      "[Parallel(n_jobs=4)]: Done  33 tasks      | elapsed:    9.3s\n",
      "[Parallel(n_jobs=4)]: Done  42 tasks      | elapsed:   11.8s\n",
      "[Parallel(n_jobs=4)]: Done  58 out of  58 | elapsed:   14.6s finished\n"
     ]
    },
    {
     "name": "stdout",
     "output_type": "stream",
     "text": [
      "741\n"
     ]
    },
    {
     "name": "stderr",
     "output_type": "stream",
     "text": [
      "[Parallel(n_jobs=4)]: Using backend LokyBackend with 4 concurrent workers.\n",
      "[Parallel(n_jobs=4)]: Done   5 tasks      | elapsed:    2.1s\n",
      "[Parallel(n_jobs=4)]: Done  10 tasks      | elapsed:    3.1s\n",
      "[Parallel(n_jobs=4)]: Done  17 tasks      | elapsed:    4.8s\n",
      "[Parallel(n_jobs=4)]: Done  24 tasks      | elapsed:    6.7s\n",
      "[Parallel(n_jobs=4)]: Done  33 tasks      | elapsed:    9.1s\n",
      "[Parallel(n_jobs=4)]: Done  42 tasks      | elapsed:   11.4s\n",
      "[Parallel(n_jobs=4)]: Done  58 out of  58 | elapsed:   14.6s finished\n"
     ]
    },
    {
     "name": "stdout",
     "output_type": "stream",
     "text": [
      "742\n"
     ]
    },
    {
     "name": "stderr",
     "output_type": "stream",
     "text": [
      "[Parallel(n_jobs=4)]: Using backend LokyBackend with 4 concurrent workers.\n",
      "[Parallel(n_jobs=4)]: Done   5 tasks      | elapsed:    2.0s\n",
      "[Parallel(n_jobs=4)]: Done  10 tasks      | elapsed:    3.0s\n",
      "[Parallel(n_jobs=4)]: Done  17 tasks      | elapsed:    5.2s\n",
      "[Parallel(n_jobs=4)]: Done  24 tasks      | elapsed:    6.7s\n",
      "[Parallel(n_jobs=4)]: Done  33 tasks      | elapsed:    9.2s\n",
      "[Parallel(n_jobs=4)]: Done  42 tasks      | elapsed:   11.1s\n",
      "[Parallel(n_jobs=4)]: Done  59 out of  59 | elapsed:   15.6s finished\n"
     ]
    },
    {
     "name": "stdout",
     "output_type": "stream",
     "text": [
      "743\n"
     ]
    },
    {
     "name": "stderr",
     "output_type": "stream",
     "text": [
      "[Parallel(n_jobs=4)]: Using backend LokyBackend with 4 concurrent workers.\n",
      "[Parallel(n_jobs=4)]: Done   5 tasks      | elapsed:    2.0s\n",
      "[Parallel(n_jobs=4)]: Done  10 tasks      | elapsed:    3.2s\n",
      "[Parallel(n_jobs=4)]: Done  17 tasks      | elapsed:    5.1s\n",
      "[Parallel(n_jobs=4)]: Done  24 tasks      | elapsed:    6.6s\n",
      "[Parallel(n_jobs=4)]: Done  33 tasks      | elapsed:    9.0s\n",
      "[Parallel(n_jobs=4)]: Done  42 tasks      | elapsed:   11.1s\n",
      "[Parallel(n_jobs=4)]: Done  53 tasks      | elapsed:   12.9s\n",
      "[Parallel(n_jobs=4)]: Done  61 out of  61 | elapsed:   14.5s remaining:    0.0s\n",
      "[Parallel(n_jobs=4)]: Done  61 out of  61 | elapsed:   14.5s finished\n"
     ]
    },
    {
     "name": "stdout",
     "output_type": "stream",
     "text": [
      "744\n"
     ]
    },
    {
     "name": "stderr",
     "output_type": "stream",
     "text": [
      "[Parallel(n_jobs=4)]: Using backend LokyBackend with 4 concurrent workers.\n",
      "[Parallel(n_jobs=4)]: Done   5 tasks      | elapsed:    2.1s\n",
      "[Parallel(n_jobs=4)]: Done  10 tasks      | elapsed:    3.2s\n",
      "[Parallel(n_jobs=4)]: Done  17 tasks      | elapsed:    5.0s\n",
      "[Parallel(n_jobs=4)]: Done  24 tasks      | elapsed:    6.1s\n",
      "[Parallel(n_jobs=4)]: Done  33 tasks      | elapsed:    8.4s\n",
      "[Parallel(n_jobs=4)]: Done  42 tasks      | elapsed:   10.2s\n",
      "[Parallel(n_jobs=4)]: Done  54 out of  54 | elapsed:   12.9s finished\n"
     ]
    },
    {
     "name": "stdout",
     "output_type": "stream",
     "text": [
      "745\n"
     ]
    },
    {
     "name": "stderr",
     "output_type": "stream",
     "text": [
      "[Parallel(n_jobs=4)]: Using backend LokyBackend with 4 concurrent workers.\n",
      "[Parallel(n_jobs=4)]: Done   5 tasks      | elapsed:    1.8s\n",
      "[Parallel(n_jobs=4)]: Done  10 tasks      | elapsed:    3.1s\n",
      "[Parallel(n_jobs=4)]: Done  17 tasks      | elapsed:    5.0s\n",
      "[Parallel(n_jobs=4)]: Done  24 tasks      | elapsed:    6.3s\n",
      "[Parallel(n_jobs=4)]: Done  33 tasks      | elapsed:    9.0s\n",
      "[Parallel(n_jobs=4)]: Done  42 tasks      | elapsed:   11.2s\n",
      "[Parallel(n_jobs=4)]: Done  55 out of  55 | elapsed:   14.1s finished\n"
     ]
    },
    {
     "name": "stdout",
     "output_type": "stream",
     "text": [
      "746\n"
     ]
    },
    {
     "name": "stderr",
     "output_type": "stream",
     "text": [
      "[Parallel(n_jobs=4)]: Using backend LokyBackend with 4 concurrent workers.\n",
      "[Parallel(n_jobs=4)]: Done   5 tasks      | elapsed:    2.1s\n",
      "[Parallel(n_jobs=4)]: Done  10 tasks      | elapsed:    3.5s\n",
      "[Parallel(n_jobs=4)]: Done  17 tasks      | elapsed:    4.8s\n",
      "[Parallel(n_jobs=4)]: Done  24 tasks      | elapsed:    7.6s\n",
      "[Parallel(n_jobs=4)]: Done  33 tasks      | elapsed:    9.6s\n",
      "[Parallel(n_jobs=4)]: Done  42 tasks      | elapsed:   12.1s\n",
      "[Parallel(n_jobs=4)]: Done  53 tasks      | elapsed:   14.2s\n",
      "[Parallel(n_jobs=4)]: Done  61 out of  61 | elapsed:   15.8s remaining:    0.0s\n",
      "[Parallel(n_jobs=4)]: Done  61 out of  61 | elapsed:   15.8s finished\n"
     ]
    },
    {
     "name": "stdout",
     "output_type": "stream",
     "text": [
      "747\n"
     ]
    },
    {
     "name": "stderr",
     "output_type": "stream",
     "text": [
      "[Parallel(n_jobs=4)]: Using backend LokyBackend with 4 concurrent workers.\n",
      "[Parallel(n_jobs=4)]: Done   5 tasks      | elapsed:    2.1s\n",
      "[Parallel(n_jobs=4)]: Done  10 tasks      | elapsed:    3.4s\n",
      "[Parallel(n_jobs=4)]: Done  17 tasks      | elapsed:    5.4s\n",
      "[Parallel(n_jobs=4)]: Done  24 tasks      | elapsed:    7.6s\n",
      "[Parallel(n_jobs=4)]: Done  33 tasks      | elapsed:    9.8s\n",
      "[Parallel(n_jobs=4)]: Done  42 tasks      | elapsed:   11.7s\n",
      "[Parallel(n_jobs=4)]: Done  58 out of  58 | elapsed:   15.2s finished\n"
     ]
    },
    {
     "name": "stdout",
     "output_type": "stream",
     "text": [
      "748\n"
     ]
    },
    {
     "name": "stderr",
     "output_type": "stream",
     "text": [
      "[Parallel(n_jobs=4)]: Using backend LokyBackend with 4 concurrent workers.\n",
      "[Parallel(n_jobs=4)]: Done   5 tasks      | elapsed:    2.0s\n",
      "[Parallel(n_jobs=4)]: Done  10 tasks      | elapsed:    3.0s\n",
      "[Parallel(n_jobs=4)]: Done  17 tasks      | elapsed:    4.8s\n",
      "[Parallel(n_jobs=4)]: Done  24 tasks      | elapsed:    6.5s\n",
      "[Parallel(n_jobs=4)]: Done  33 tasks      | elapsed:    8.5s\n",
      "[Parallel(n_jobs=4)]: Done  42 tasks      | elapsed:   10.7s\n",
      "[Parallel(n_jobs=4)]: Done  55 out of  55 | elapsed:   13.7s finished\n"
     ]
    },
    {
     "name": "stdout",
     "output_type": "stream",
     "text": [
      "749\n"
     ]
    },
    {
     "name": "stderr",
     "output_type": "stream",
     "text": [
      "[Parallel(n_jobs=4)]: Using backend LokyBackend with 4 concurrent workers.\n",
      "[Parallel(n_jobs=4)]: Done   5 tasks      | elapsed:    2.5s\n",
      "[Parallel(n_jobs=4)]: Done  10 tasks      | elapsed:    3.8s\n",
      "[Parallel(n_jobs=4)]: Done  17 tasks      | elapsed:    5.6s\n",
      "[Parallel(n_jobs=4)]: Done  24 tasks      | elapsed:    7.1s\n",
      "[Parallel(n_jobs=4)]: Done  33 tasks      | elapsed:    9.8s\n",
      "[Parallel(n_jobs=4)]: Done  42 tasks      | elapsed:   12.0s\n",
      "[Parallel(n_jobs=4)]: Done  58 out of  58 | elapsed:   16.2s finished\n"
     ]
    },
    {
     "name": "stdout",
     "output_type": "stream",
     "text": [
      "750\n"
     ]
    },
    {
     "name": "stderr",
     "output_type": "stream",
     "text": [
      "[Parallel(n_jobs=4)]: Using backend LokyBackend with 4 concurrent workers.\n",
      "[Parallel(n_jobs=4)]: Done   5 tasks      | elapsed:    2.5s\n",
      "[Parallel(n_jobs=4)]: Done  10 tasks      | elapsed:    3.5s\n",
      "[Parallel(n_jobs=4)]: Done  17 tasks      | elapsed:    5.4s\n",
      "[Parallel(n_jobs=4)]: Done  24 tasks      | elapsed:    7.3s\n",
      "[Parallel(n_jobs=4)]: Done  33 tasks      | elapsed:    9.3s\n",
      "[Parallel(n_jobs=4)]: Done  42 tasks      | elapsed:   11.8s\n",
      "[Parallel(n_jobs=4)]: Done  58 out of  58 | elapsed:   15.3s finished\n"
     ]
    },
    {
     "name": "stdout",
     "output_type": "stream",
     "text": [
      "751\n"
     ]
    },
    {
     "name": "stderr",
     "output_type": "stream",
     "text": [
      "[Parallel(n_jobs=4)]: Using backend LokyBackend with 4 concurrent workers.\n",
      "[Parallel(n_jobs=4)]: Done   5 tasks      | elapsed:    2.3s\n",
      "[Parallel(n_jobs=4)]: Done  10 tasks      | elapsed:    3.7s\n",
      "[Parallel(n_jobs=4)]: Done  17 tasks      | elapsed:    5.9s\n",
      "[Parallel(n_jobs=4)]: Done  24 tasks      | elapsed:    7.7s\n",
      "[Parallel(n_jobs=4)]: Done  33 tasks      | elapsed:   10.4s\n",
      "[Parallel(n_jobs=4)]: Done  42 tasks      | elapsed:   12.6s\n",
      "[Parallel(n_jobs=4)]: Done  59 out of  59 | elapsed:   17.2s finished\n"
     ]
    },
    {
     "name": "stdout",
     "output_type": "stream",
     "text": [
      "752\n"
     ]
    },
    {
     "name": "stderr",
     "output_type": "stream",
     "text": [
      "[Parallel(n_jobs=4)]: Using backend LokyBackend with 4 concurrent workers.\n",
      "[Parallel(n_jobs=4)]: Done   5 tasks      | elapsed:    1.9s\n",
      "[Parallel(n_jobs=4)]: Done  10 tasks      | elapsed:    3.0s\n",
      "[Parallel(n_jobs=4)]: Done  17 tasks      | elapsed:    4.8s\n",
      "[Parallel(n_jobs=4)]: Done  24 tasks      | elapsed:    6.2s\n",
      "[Parallel(n_jobs=4)]: Done  33 tasks      | elapsed:    8.4s\n",
      "[Parallel(n_jobs=4)]: Done  42 tasks      | elapsed:   10.0s\n",
      "[Parallel(n_jobs=4)]: Done  53 tasks      | elapsed:   12.4s\n",
      "[Parallel(n_jobs=4)]: Done  60 out of  60 | elapsed:   14.0s remaining:    0.0s\n",
      "[Parallel(n_jobs=4)]: Done  60 out of  60 | elapsed:   14.0s finished\n"
     ]
    },
    {
     "name": "stdout",
     "output_type": "stream",
     "text": [
      "753\n"
     ]
    },
    {
     "name": "stderr",
     "output_type": "stream",
     "text": [
      "[Parallel(n_jobs=4)]: Using backend LokyBackend with 4 concurrent workers.\n",
      "[Parallel(n_jobs=4)]: Done   5 tasks      | elapsed:    1.7s\n",
      "[Parallel(n_jobs=4)]: Done  10 tasks      | elapsed:    3.0s\n",
      "[Parallel(n_jobs=4)]: Done  17 tasks      | elapsed:    4.8s\n",
      "[Parallel(n_jobs=4)]: Done  24 tasks      | elapsed:    7.0s\n",
      "[Parallel(n_jobs=4)]: Done  33 tasks      | elapsed:    9.3s\n",
      "[Parallel(n_jobs=4)]: Done  42 tasks      | elapsed:   11.5s\n",
      "[Parallel(n_jobs=4)]: Done  56 out of  56 | elapsed:   15.7s finished\n"
     ]
    },
    {
     "name": "stdout",
     "output_type": "stream",
     "text": [
      "754\n"
     ]
    },
    {
     "name": "stderr",
     "output_type": "stream",
     "text": [
      "[Parallel(n_jobs=4)]: Using backend LokyBackend with 4 concurrent workers.\n",
      "[Parallel(n_jobs=4)]: Done   5 tasks      | elapsed:    2.0s\n",
      "[Parallel(n_jobs=4)]: Done  10 tasks      | elapsed:    3.5s\n",
      "[Parallel(n_jobs=4)]: Done  17 tasks      | elapsed:    5.5s\n",
      "[Parallel(n_jobs=4)]: Done  24 tasks      | elapsed:    8.2s\n",
      "[Parallel(n_jobs=4)]: Done  33 tasks      | elapsed:   10.6s\n",
      "[Parallel(n_jobs=4)]: Done  42 tasks      | elapsed:   12.7s\n",
      "[Parallel(n_jobs=4)]: Done  58 out of  58 | elapsed:   16.7s finished\n"
     ]
    },
    {
     "name": "stdout",
     "output_type": "stream",
     "text": [
      "755\n"
     ]
    },
    {
     "name": "stderr",
     "output_type": "stream",
     "text": [
      "[Parallel(n_jobs=4)]: Using backend LokyBackend with 4 concurrent workers.\n",
      "[Parallel(n_jobs=4)]: Done   5 tasks      | elapsed:    1.8s\n",
      "[Parallel(n_jobs=4)]: Done  10 tasks      | elapsed:    2.8s\n",
      "[Parallel(n_jobs=4)]: Done  17 tasks      | elapsed:    4.5s\n",
      "[Parallel(n_jobs=4)]: Done  24 tasks      | elapsed:    5.7s\n",
      "[Parallel(n_jobs=4)]: Done  33 tasks      | elapsed:    8.2s\n",
      "[Parallel(n_jobs=4)]: Done  42 tasks      | elapsed:    9.8s\n",
      "[Parallel(n_jobs=4)]: Done  56 out of  56 | elapsed:   12.9s finished\n"
     ]
    },
    {
     "name": "stdout",
     "output_type": "stream",
     "text": [
      "756\n"
     ]
    },
    {
     "name": "stderr",
     "output_type": "stream",
     "text": [
      "[Parallel(n_jobs=4)]: Using backend LokyBackend with 4 concurrent workers.\n",
      "[Parallel(n_jobs=4)]: Done   5 tasks      | elapsed:    1.7s\n",
      "[Parallel(n_jobs=4)]: Done  10 tasks      | elapsed:    2.8s\n",
      "[Parallel(n_jobs=4)]: Done  17 tasks      | elapsed:    4.6s\n",
      "[Parallel(n_jobs=4)]: Done  24 tasks      | elapsed:    6.4s\n",
      "[Parallel(n_jobs=4)]: Done  33 tasks      | elapsed:    8.2s\n",
      "[Parallel(n_jobs=4)]: Done  42 tasks      | elapsed:   10.3s\n",
      "[Parallel(n_jobs=4)]: Done  56 out of  56 | elapsed:   13.5s finished\n"
     ]
    },
    {
     "name": "stdout",
     "output_type": "stream",
     "text": [
      "757\n"
     ]
    },
    {
     "name": "stderr",
     "output_type": "stream",
     "text": [
      "[Parallel(n_jobs=4)]: Using backend LokyBackend with 4 concurrent workers.\n",
      "[Parallel(n_jobs=4)]: Done   5 tasks      | elapsed:    2.2s\n",
      "[Parallel(n_jobs=4)]: Done  10 tasks      | elapsed:    3.7s\n",
      "[Parallel(n_jobs=4)]: Done  17 tasks      | elapsed:    5.5s\n",
      "[Parallel(n_jobs=4)]: Done  24 tasks      | elapsed:    7.2s\n",
      "[Parallel(n_jobs=4)]: Done  33 tasks      | elapsed:    9.7s\n",
      "[Parallel(n_jobs=4)]: Done  42 tasks      | elapsed:   12.0s\n",
      "[Parallel(n_jobs=4)]: Done  53 tasks      | elapsed:   14.7s\n",
      "[Parallel(n_jobs=4)]: Done  60 out of  60 | elapsed:   16.1s remaining:    0.0s\n",
      "[Parallel(n_jobs=4)]: Done  60 out of  60 | elapsed:   16.1s finished\n"
     ]
    },
    {
     "name": "stdout",
     "output_type": "stream",
     "text": [
      "758\n"
     ]
    },
    {
     "name": "stderr",
     "output_type": "stream",
     "text": [
      "[Parallel(n_jobs=4)]: Using backend LokyBackend with 4 concurrent workers.\n",
      "[Parallel(n_jobs=4)]: Done   5 tasks      | elapsed:    2.4s\n",
      "[Parallel(n_jobs=4)]: Done  10 tasks      | elapsed:    3.9s\n",
      "[Parallel(n_jobs=4)]: Done  17 tasks      | elapsed:    5.9s\n",
      "[Parallel(n_jobs=4)]: Done  24 tasks      | elapsed:    7.9s\n",
      "[Parallel(n_jobs=4)]: Done  33 tasks      | elapsed:   10.2s\n",
      "[Parallel(n_jobs=4)]: Done  42 tasks      | elapsed:   12.6s\n",
      "[Parallel(n_jobs=4)]: Done  57 out of  57 | elapsed:   16.7s finished\n"
     ]
    },
    {
     "name": "stdout",
     "output_type": "stream",
     "text": [
      "759\n"
     ]
    },
    {
     "name": "stderr",
     "output_type": "stream",
     "text": [
      "[Parallel(n_jobs=4)]: Using backend LokyBackend with 4 concurrent workers.\n",
      "[Parallel(n_jobs=4)]: Done   5 tasks      | elapsed:    2.2s\n",
      "[Parallel(n_jobs=4)]: Done  10 tasks      | elapsed:    3.2s\n",
      "[Parallel(n_jobs=4)]: Done  17 tasks      | elapsed:    5.5s\n",
      "[Parallel(n_jobs=4)]: Done  24 tasks      | elapsed:    7.3s\n",
      "[Parallel(n_jobs=4)]: Done  33 tasks      | elapsed:    9.6s\n",
      "[Parallel(n_jobs=4)]: Done  42 tasks      | elapsed:   11.9s\n",
      "[Parallel(n_jobs=4)]: Done  57 out of  57 | elapsed:   15.5s finished\n"
     ]
    },
    {
     "name": "stdout",
     "output_type": "stream",
     "text": [
      "760\n"
     ]
    },
    {
     "name": "stderr",
     "output_type": "stream",
     "text": [
      "[Parallel(n_jobs=4)]: Using backend LokyBackend with 4 concurrent workers.\n",
      "[Parallel(n_jobs=4)]: Done   5 tasks      | elapsed:    1.9s\n",
      "[Parallel(n_jobs=4)]: Done  10 tasks      | elapsed:    3.5s\n",
      "[Parallel(n_jobs=4)]: Done  17 tasks      | elapsed:    5.0s\n",
      "[Parallel(n_jobs=4)]: Done  24 tasks      | elapsed:    6.7s\n",
      "[Parallel(n_jobs=4)]: Done  33 tasks      | elapsed:    8.9s\n",
      "[Parallel(n_jobs=4)]: Done  42 tasks      | elapsed:   11.0s\n",
      "[Parallel(n_jobs=4)]: Done  57 out of  57 | elapsed:   14.2s finished\n"
     ]
    },
    {
     "name": "stdout",
     "output_type": "stream",
     "text": [
      "761\n"
     ]
    },
    {
     "name": "stderr",
     "output_type": "stream",
     "text": [
      "[Parallel(n_jobs=4)]: Using backend LokyBackend with 4 concurrent workers.\n",
      "[Parallel(n_jobs=4)]: Done   5 tasks      | elapsed:    2.2s\n",
      "[Parallel(n_jobs=4)]: Done  10 tasks      | elapsed:    3.5s\n",
      "[Parallel(n_jobs=4)]: Done  17 tasks      | elapsed:    5.6s\n",
      "[Parallel(n_jobs=4)]: Done  24 tasks      | elapsed:    6.9s\n",
      "[Parallel(n_jobs=4)]: Done  33 tasks      | elapsed:    9.9s\n",
      "[Parallel(n_jobs=4)]: Done  42 tasks      | elapsed:   11.8s\n",
      "[Parallel(n_jobs=4)]: Done  57 out of  57 | elapsed:   15.6s finished\n"
     ]
    },
    {
     "name": "stdout",
     "output_type": "stream",
     "text": [
      "762\n"
     ]
    },
    {
     "name": "stderr",
     "output_type": "stream",
     "text": [
      "[Parallel(n_jobs=4)]: Using backend LokyBackend with 4 concurrent workers.\n",
      "[Parallel(n_jobs=4)]: Done   5 tasks      | elapsed:    2.1s\n",
      "[Parallel(n_jobs=4)]: Done  10 tasks      | elapsed:    3.1s\n",
      "[Parallel(n_jobs=4)]: Done  17 tasks      | elapsed:    4.9s\n",
      "[Parallel(n_jobs=4)]: Done  24 tasks      | elapsed:    6.4s\n",
      "[Parallel(n_jobs=4)]: Done  33 tasks      | elapsed:    8.3s\n",
      "[Parallel(n_jobs=4)]: Done  42 tasks      | elapsed:   10.2s\n",
      "[Parallel(n_jobs=4)]: Done  53 out of  53 | elapsed:   13.1s finished\n"
     ]
    },
    {
     "name": "stdout",
     "output_type": "stream",
     "text": [
      "763\n"
     ]
    },
    {
     "name": "stderr",
     "output_type": "stream",
     "text": [
      "[Parallel(n_jobs=4)]: Using backend LokyBackend with 4 concurrent workers.\n",
      "[Parallel(n_jobs=4)]: Done   5 tasks      | elapsed:    2.2s\n",
      "[Parallel(n_jobs=4)]: Done  10 tasks      | elapsed:    3.6s\n",
      "[Parallel(n_jobs=4)]: Done  17 tasks      | elapsed:    5.6s\n",
      "[Parallel(n_jobs=4)]: Done  24 tasks      | elapsed:    7.5s\n",
      "[Parallel(n_jobs=4)]: Done  33 tasks      | elapsed:   10.2s\n",
      "[Parallel(n_jobs=4)]: Done  42 tasks      | elapsed:   12.3s\n",
      "[Parallel(n_jobs=4)]: Done  59 out of  59 | elapsed:   16.0s finished\n"
     ]
    },
    {
     "name": "stdout",
     "output_type": "stream",
     "text": [
      "764\n"
     ]
    },
    {
     "name": "stderr",
     "output_type": "stream",
     "text": [
      "[Parallel(n_jobs=4)]: Using backend LokyBackend with 4 concurrent workers.\n",
      "[Parallel(n_jobs=4)]: Done   5 tasks      | elapsed:    2.2s\n",
      "[Parallel(n_jobs=4)]: Done  10 tasks      | elapsed:    3.2s\n",
      "[Parallel(n_jobs=4)]: Done  17 tasks      | elapsed:    5.1s\n",
      "[Parallel(n_jobs=4)]: Done  24 tasks      | elapsed:    6.9s\n",
      "[Parallel(n_jobs=4)]: Done  33 tasks      | elapsed:    9.1s\n",
      "[Parallel(n_jobs=4)]: Done  42 tasks      | elapsed:   11.4s\n",
      "[Parallel(n_jobs=4)]: Done  59 out of  59 | elapsed:   16.6s finished\n"
     ]
    },
    {
     "name": "stdout",
     "output_type": "stream",
     "text": [
      "765\n"
     ]
    },
    {
     "name": "stderr",
     "output_type": "stream",
     "text": [
      "[Parallel(n_jobs=4)]: Using backend LokyBackend with 4 concurrent workers.\n",
      "[Parallel(n_jobs=4)]: Done   5 tasks      | elapsed:    1.8s\n",
      "[Parallel(n_jobs=4)]: Done  10 tasks      | elapsed:    3.6s\n",
      "[Parallel(n_jobs=4)]: Done  17 tasks      | elapsed:    5.3s\n",
      "[Parallel(n_jobs=4)]: Done  24 tasks      | elapsed:    6.7s\n",
      "[Parallel(n_jobs=4)]: Done  33 tasks      | elapsed:    8.4s\n",
      "[Parallel(n_jobs=4)]: Done  42 tasks      | elapsed:   10.5s\n",
      "[Parallel(n_jobs=4)]: Done  56 out of  56 | elapsed:   13.3s finished\n"
     ]
    },
    {
     "name": "stdout",
     "output_type": "stream",
     "text": [
      "766\n"
     ]
    },
    {
     "name": "stderr",
     "output_type": "stream",
     "text": [
      "[Parallel(n_jobs=4)]: Using backend LokyBackend with 4 concurrent workers.\n",
      "[Parallel(n_jobs=4)]: Done   5 tasks      | elapsed:    2.3s\n",
      "[Parallel(n_jobs=4)]: Done  10 tasks      | elapsed:    3.2s\n",
      "[Parallel(n_jobs=4)]: Done  17 tasks      | elapsed:    5.0s\n",
      "[Parallel(n_jobs=4)]: Done  24 tasks      | elapsed:    6.6s\n",
      "[Parallel(n_jobs=4)]: Done  33 tasks      | elapsed:    9.1s\n",
      "[Parallel(n_jobs=4)]: Done  42 tasks      | elapsed:   11.0s\n",
      "[Parallel(n_jobs=4)]: Done  57 out of  57 | elapsed:   14.3s finished\n"
     ]
    },
    {
     "name": "stdout",
     "output_type": "stream",
     "text": [
      "767\n"
     ]
    },
    {
     "name": "stderr",
     "output_type": "stream",
     "text": [
      "[Parallel(n_jobs=4)]: Using backend LokyBackend with 4 concurrent workers.\n",
      "[Parallel(n_jobs=4)]: Done   5 tasks      | elapsed:    2.3s\n",
      "[Parallel(n_jobs=4)]: Done  10 tasks      | elapsed:    3.5s\n",
      "[Parallel(n_jobs=4)]: Done  17 tasks      | elapsed:    5.6s\n",
      "[Parallel(n_jobs=4)]: Done  24 tasks      | elapsed:    7.3s\n",
      "[Parallel(n_jobs=4)]: Done  33 tasks      | elapsed:    9.7s\n",
      "[Parallel(n_jobs=4)]: Done  42 tasks      | elapsed:   11.8s\n",
      "[Parallel(n_jobs=4)]: Done  57 out of  57 | elapsed:   15.4s finished\n"
     ]
    },
    {
     "name": "stdout",
     "output_type": "stream",
     "text": [
      "768\n"
     ]
    },
    {
     "name": "stderr",
     "output_type": "stream",
     "text": [
      "[Parallel(n_jobs=4)]: Using backend LokyBackend with 4 concurrent workers.\n",
      "[Parallel(n_jobs=4)]: Done   5 tasks      | elapsed:    1.9s\n",
      "[Parallel(n_jobs=4)]: Done  10 tasks      | elapsed:    3.0s\n",
      "[Parallel(n_jobs=4)]: Done  17 tasks      | elapsed:    4.9s\n",
      "[Parallel(n_jobs=4)]: Done  24 tasks      | elapsed:    6.4s\n",
      "[Parallel(n_jobs=4)]: Done  33 tasks      | elapsed:    8.4s\n",
      "[Parallel(n_jobs=4)]: Done  42 tasks      | elapsed:   10.4s\n",
      "[Parallel(n_jobs=4)]: Done  57 out of  57 | elapsed:   13.6s finished\n"
     ]
    },
    {
     "name": "stdout",
     "output_type": "stream",
     "text": [
      "769\n"
     ]
    },
    {
     "name": "stderr",
     "output_type": "stream",
     "text": [
      "[Parallel(n_jobs=4)]: Using backend LokyBackend with 4 concurrent workers.\n",
      "[Parallel(n_jobs=4)]: Done   5 tasks      | elapsed:    2.3s\n",
      "[Parallel(n_jobs=4)]: Done  10 tasks      | elapsed:    3.6s\n",
      "[Parallel(n_jobs=4)]: Done  17 tasks      | elapsed:    4.9s\n",
      "[Parallel(n_jobs=4)]: Done  24 tasks      | elapsed:    6.8s\n",
      "[Parallel(n_jobs=4)]: Done  33 tasks      | elapsed:    9.3s\n",
      "[Parallel(n_jobs=4)]: Done  42 tasks      | elapsed:   11.3s\n",
      "[Parallel(n_jobs=4)]: Done  57 out of  57 | elapsed:   14.2s finished\n"
     ]
    },
    {
     "name": "stdout",
     "output_type": "stream",
     "text": [
      "770\n"
     ]
    },
    {
     "name": "stderr",
     "output_type": "stream",
     "text": [
      "[Parallel(n_jobs=4)]: Using backend LokyBackend with 4 concurrent workers.\n",
      "[Parallel(n_jobs=4)]: Done   5 tasks      | elapsed:    1.9s\n",
      "[Parallel(n_jobs=4)]: Done  10 tasks      | elapsed:    3.9s\n",
      "[Parallel(n_jobs=4)]: Done  17 tasks      | elapsed:    5.8s\n",
      "[Parallel(n_jobs=4)]: Done  24 tasks      | elapsed:    7.5s\n",
      "[Parallel(n_jobs=4)]: Done  33 tasks      | elapsed:    9.3s\n",
      "[Parallel(n_jobs=4)]: Done  42 tasks      | elapsed:   11.2s\n",
      "[Parallel(n_jobs=4)]: Done  58 out of  58 | elapsed:   14.9s finished\n"
     ]
    },
    {
     "name": "stdout",
     "output_type": "stream",
     "text": [
      "771\n"
     ]
    },
    {
     "name": "stderr",
     "output_type": "stream",
     "text": [
      "[Parallel(n_jobs=4)]: Using backend LokyBackend with 4 concurrent workers.\n",
      "[Parallel(n_jobs=4)]: Done   5 tasks      | elapsed:    2.4s\n",
      "[Parallel(n_jobs=4)]: Done  10 tasks      | elapsed:    3.7s\n",
      "[Parallel(n_jobs=4)]: Done  17 tasks      | elapsed:    5.4s\n",
      "[Parallel(n_jobs=4)]: Done  24 tasks      | elapsed:    7.6s\n",
      "[Parallel(n_jobs=4)]: Done  33 tasks      | elapsed:   10.3s\n",
      "[Parallel(n_jobs=4)]: Done  42 tasks      | elapsed:   12.2s\n",
      "[Parallel(n_jobs=4)]: Done  57 out of  57 | elapsed:   16.3s finished\n"
     ]
    },
    {
     "name": "stdout",
     "output_type": "stream",
     "text": [
      "772\n"
     ]
    },
    {
     "name": "stderr",
     "output_type": "stream",
     "text": [
      "[Parallel(n_jobs=4)]: Using backend LokyBackend with 4 concurrent workers.\n",
      "[Parallel(n_jobs=4)]: Done   5 tasks      | elapsed:    2.2s\n",
      "[Parallel(n_jobs=4)]: Done  10 tasks      | elapsed:    3.5s\n",
      "[Parallel(n_jobs=4)]: Done  17 tasks      | elapsed:    5.1s\n",
      "[Parallel(n_jobs=4)]: Done  24 tasks      | elapsed:    7.5s\n",
      "[Parallel(n_jobs=4)]: Done  33 tasks      | elapsed:   10.3s\n",
      "[Parallel(n_jobs=4)]: Done  42 tasks      | elapsed:   12.5s\n",
      "[Parallel(n_jobs=4)]: Done  56 out of  56 | elapsed:   16.4s finished\n"
     ]
    },
    {
     "name": "stdout",
     "output_type": "stream",
     "text": [
      "773\n"
     ]
    },
    {
     "name": "stderr",
     "output_type": "stream",
     "text": [
      "[Parallel(n_jobs=4)]: Using backend LokyBackend with 4 concurrent workers.\n",
      "[Parallel(n_jobs=4)]: Done   5 tasks      | elapsed:    1.8s\n",
      "[Parallel(n_jobs=4)]: Done  10 tasks      | elapsed:    3.4s\n",
      "[Parallel(n_jobs=4)]: Done  17 tasks      | elapsed:    5.0s\n",
      "[Parallel(n_jobs=4)]: Done  24 tasks      | elapsed:    6.1s\n",
      "[Parallel(n_jobs=4)]: Done  33 tasks      | elapsed:    8.7s\n",
      "[Parallel(n_jobs=4)]: Done  42 tasks      | elapsed:   10.5s\n",
      "[Parallel(n_jobs=4)]: Done  54 out of  54 | elapsed:   13.0s finished\n"
     ]
    },
    {
     "name": "stdout",
     "output_type": "stream",
     "text": [
      "774\n"
     ]
    },
    {
     "name": "stderr",
     "output_type": "stream",
     "text": [
      "[Parallel(n_jobs=4)]: Using backend LokyBackend with 4 concurrent workers.\n",
      "[Parallel(n_jobs=4)]: Done   5 tasks      | elapsed:    2.2s\n",
      "[Parallel(n_jobs=4)]: Done  10 tasks      | elapsed:    3.4s\n",
      "[Parallel(n_jobs=4)]: Done  17 tasks      | elapsed:    5.3s\n",
      "[Parallel(n_jobs=4)]: Done  24 tasks      | elapsed:    7.5s\n",
      "[Parallel(n_jobs=4)]: Done  33 tasks      | elapsed:   10.2s\n",
      "[Parallel(n_jobs=4)]: Done  42 tasks      | elapsed:   12.7s\n",
      "[Parallel(n_jobs=4)]: Done  54 out of  54 | elapsed:   16.4s finished\n"
     ]
    },
    {
     "name": "stdout",
     "output_type": "stream",
     "text": [
      "775\n"
     ]
    },
    {
     "name": "stderr",
     "output_type": "stream",
     "text": [
      "[Parallel(n_jobs=4)]: Using backend LokyBackend with 4 concurrent workers.\n",
      "[Parallel(n_jobs=4)]: Done   5 tasks      | elapsed:    2.0s\n",
      "[Parallel(n_jobs=4)]: Done  10 tasks      | elapsed:    3.2s\n",
      "[Parallel(n_jobs=4)]: Done  17 tasks      | elapsed:    5.1s\n",
      "[Parallel(n_jobs=4)]: Done  24 tasks      | elapsed:    7.1s\n",
      "[Parallel(n_jobs=4)]: Done  33 tasks      | elapsed:    9.4s\n",
      "[Parallel(n_jobs=4)]: Done  42 tasks      | elapsed:   11.5s\n",
      "[Parallel(n_jobs=4)]: Done  55 out of  55 | elapsed:   14.6s finished\n"
     ]
    },
    {
     "name": "stdout",
     "output_type": "stream",
     "text": [
      "776\n"
     ]
    },
    {
     "name": "stderr",
     "output_type": "stream",
     "text": [
      "[Parallel(n_jobs=4)]: Using backend LokyBackend with 4 concurrent workers.\n",
      "[Parallel(n_jobs=4)]: Done   5 tasks      | elapsed:    2.2s\n",
      "[Parallel(n_jobs=4)]: Done  10 tasks      | elapsed:    3.2s\n",
      "[Parallel(n_jobs=4)]: Done  17 tasks      | elapsed:    5.5s\n",
      "[Parallel(n_jobs=4)]: Done  24 tasks      | elapsed:    7.0s\n",
      "[Parallel(n_jobs=4)]: Done  33 tasks      | elapsed:    8.8s\n",
      "[Parallel(n_jobs=4)]: Done  42 tasks      | elapsed:   11.1s\n",
      "[Parallel(n_jobs=4)]: Done  58 out of  58 | elapsed:   14.4s finished\n"
     ]
    },
    {
     "name": "stdout",
     "output_type": "stream",
     "text": [
      "777\n"
     ]
    },
    {
     "name": "stderr",
     "output_type": "stream",
     "text": [
      "[Parallel(n_jobs=4)]: Using backend LokyBackend with 4 concurrent workers.\n",
      "[Parallel(n_jobs=4)]: Done   5 tasks      | elapsed:    1.9s\n",
      "[Parallel(n_jobs=4)]: Done  10 tasks      | elapsed:    3.2s\n",
      "[Parallel(n_jobs=4)]: Done  17 tasks      | elapsed:    5.4s\n",
      "[Parallel(n_jobs=4)]: Done  24 tasks      | elapsed:    7.7s\n",
      "[Parallel(n_jobs=4)]: Done  33 tasks      | elapsed:   10.4s\n",
      "[Parallel(n_jobs=4)]: Done  42 tasks      | elapsed:   12.7s\n",
      "[Parallel(n_jobs=4)]: Done  47 out of  49 | elapsed:   14.3s remaining:    0.6s\n",
      "[Parallel(n_jobs=4)]: Done  49 out of  49 | elapsed:   15.0s finished\n"
     ]
    },
    {
     "name": "stdout",
     "output_type": "stream",
     "text": [
      "778\n"
     ]
    },
    {
     "name": "stderr",
     "output_type": "stream",
     "text": [
      "[Parallel(n_jobs=4)]: Using backend LokyBackend with 4 concurrent workers.\n",
      "[Parallel(n_jobs=4)]: Done   5 tasks      | elapsed:    1.9s\n",
      "[Parallel(n_jobs=4)]: Done  10 tasks      | elapsed:    3.0s\n",
      "[Parallel(n_jobs=4)]: Done  17 tasks      | elapsed:    4.9s\n",
      "[Parallel(n_jobs=4)]: Done  24 tasks      | elapsed:    7.0s\n",
      "[Parallel(n_jobs=4)]: Done  33 tasks      | elapsed:    8.9s\n",
      "[Parallel(n_jobs=4)]: Done  42 tasks      | elapsed:   11.1s\n",
      "[Parallel(n_jobs=4)]: Done  57 out of  57 | elapsed:   14.5s finished\n"
     ]
    },
    {
     "name": "stdout",
     "output_type": "stream",
     "text": [
      "779\n"
     ]
    },
    {
     "name": "stderr",
     "output_type": "stream",
     "text": [
      "[Parallel(n_jobs=4)]: Using backend LokyBackend with 4 concurrent workers.\n",
      "[Parallel(n_jobs=4)]: Done   5 tasks      | elapsed:    2.0s\n",
      "[Parallel(n_jobs=4)]: Done  10 tasks      | elapsed:    3.0s\n",
      "[Parallel(n_jobs=4)]: Done  17 tasks      | elapsed:    4.8s\n",
      "[Parallel(n_jobs=4)]: Done  24 tasks      | elapsed:    6.7s\n",
      "[Parallel(n_jobs=4)]: Done  33 tasks      | elapsed:    8.6s\n",
      "[Parallel(n_jobs=4)]: Done  42 tasks      | elapsed:   10.9s\n",
      "[Parallel(n_jobs=4)]: Done  58 out of  58 | elapsed:   14.7s finished\n"
     ]
    },
    {
     "name": "stdout",
     "output_type": "stream",
     "text": [
      "780\n"
     ]
    },
    {
     "name": "stderr",
     "output_type": "stream",
     "text": [
      "[Parallel(n_jobs=4)]: Using backend LokyBackend with 4 concurrent workers.\n",
      "[Parallel(n_jobs=4)]: Done   5 tasks      | elapsed:    2.5s\n",
      "[Parallel(n_jobs=4)]: Done  10 tasks      | elapsed:    3.6s\n",
      "[Parallel(n_jobs=4)]: Done  17 tasks      | elapsed:    5.7s\n",
      "[Parallel(n_jobs=4)]: Done  24 tasks      | elapsed:    7.9s\n",
      "[Parallel(n_jobs=4)]: Done  33 tasks      | elapsed:   10.0s\n",
      "[Parallel(n_jobs=4)]: Done  42 tasks      | elapsed:   12.8s\n",
      "[Parallel(n_jobs=4)]: Done  53 out of  53 | elapsed:   15.2s finished\n"
     ]
    },
    {
     "name": "stdout",
     "output_type": "stream",
     "text": [
      "781\n"
     ]
    },
    {
     "name": "stderr",
     "output_type": "stream",
     "text": [
      "[Parallel(n_jobs=4)]: Using backend LokyBackend with 4 concurrent workers.\n",
      "[Parallel(n_jobs=4)]: Done   5 tasks      | elapsed:    1.9s\n",
      "[Parallel(n_jobs=4)]: Done  10 tasks      | elapsed:    3.3s\n",
      "[Parallel(n_jobs=4)]: Done  17 tasks      | elapsed:    5.0s\n",
      "[Parallel(n_jobs=4)]: Done  24 tasks      | elapsed:    7.1s\n",
      "[Parallel(n_jobs=4)]: Done  33 tasks      | elapsed:    9.5s\n",
      "[Parallel(n_jobs=4)]: Done  42 tasks      | elapsed:   11.7s\n",
      "[Parallel(n_jobs=4)]: Done  52 out of  52 | elapsed:   14.1s finished\n"
     ]
    },
    {
     "name": "stdout",
     "output_type": "stream",
     "text": [
      "782\n"
     ]
    },
    {
     "name": "stderr",
     "output_type": "stream",
     "text": [
      "[Parallel(n_jobs=4)]: Using backend LokyBackend with 4 concurrent workers.\n",
      "[Parallel(n_jobs=4)]: Done   5 tasks      | elapsed:    1.9s\n",
      "[Parallel(n_jobs=4)]: Done  10 tasks      | elapsed:    2.9s\n",
      "[Parallel(n_jobs=4)]: Done  17 tasks      | elapsed:    4.8s\n",
      "[Parallel(n_jobs=4)]: Done  24 tasks      | elapsed:    6.5s\n",
      "[Parallel(n_jobs=4)]: Done  33 tasks      | elapsed:    8.3s\n",
      "[Parallel(n_jobs=4)]: Done  42 tasks      | elapsed:   10.6s\n",
      "[Parallel(n_jobs=4)]: Done  58 out of  58 | elapsed:   13.5s finished\n"
     ]
    },
    {
     "name": "stdout",
     "output_type": "stream",
     "text": [
      "783\n"
     ]
    },
    {
     "name": "stderr",
     "output_type": "stream",
     "text": [
      "[Parallel(n_jobs=4)]: Using backend LokyBackend with 4 concurrent workers.\n",
      "[Parallel(n_jobs=4)]: Done   5 tasks      | elapsed:    2.1s\n",
      "[Parallel(n_jobs=4)]: Done  10 tasks      | elapsed:    3.7s\n",
      "[Parallel(n_jobs=4)]: Done  17 tasks      | elapsed:    5.6s\n",
      "[Parallel(n_jobs=4)]: Done  24 tasks      | elapsed:    6.9s\n",
      "[Parallel(n_jobs=4)]: Done  33 tasks      | elapsed:    9.5s\n",
      "[Parallel(n_jobs=4)]: Done  42 tasks      | elapsed:   11.3s\n",
      "[Parallel(n_jobs=4)]: Done  57 out of  57 | elapsed:   15.0s finished\n"
     ]
    },
    {
     "name": "stdout",
     "output_type": "stream",
     "text": [
      "784\n"
     ]
    },
    {
     "name": "stderr",
     "output_type": "stream",
     "text": [
      "[Parallel(n_jobs=4)]: Using backend LokyBackend with 4 concurrent workers.\n",
      "[Parallel(n_jobs=4)]: Done   5 tasks      | elapsed:    2.1s\n",
      "[Parallel(n_jobs=4)]: Done  10 tasks      | elapsed:    3.0s\n",
      "[Parallel(n_jobs=4)]: Done  17 tasks      | elapsed:    4.6s\n",
      "[Parallel(n_jobs=4)]: Done  24 tasks      | elapsed:    6.5s\n",
      "[Parallel(n_jobs=4)]: Done  33 tasks      | elapsed:    8.3s\n",
      "[Parallel(n_jobs=4)]: Done  42 tasks      | elapsed:   10.7s\n",
      "[Parallel(n_jobs=4)]: Done  56 out of  56 | elapsed:   13.9s finished\n"
     ]
    },
    {
     "name": "stdout",
     "output_type": "stream",
     "text": [
      "785\n"
     ]
    },
    {
     "name": "stderr",
     "output_type": "stream",
     "text": [
      "[Parallel(n_jobs=4)]: Using backend LokyBackend with 4 concurrent workers.\n",
      "[Parallel(n_jobs=4)]: Done   5 tasks      | elapsed:    2.3s\n",
      "[Parallel(n_jobs=4)]: Done  10 tasks      | elapsed:    3.8s\n",
      "[Parallel(n_jobs=4)]: Done  17 tasks      | elapsed:    5.9s\n",
      "[Parallel(n_jobs=4)]: Done  24 tasks      | elapsed:    7.8s\n",
      "[Parallel(n_jobs=4)]: Done  33 tasks      | elapsed:   10.0s\n",
      "[Parallel(n_jobs=4)]: Done  42 tasks      | elapsed:   12.2s\n",
      "[Parallel(n_jobs=4)]: Done  57 out of  57 | elapsed:   15.9s finished\n"
     ]
    },
    {
     "name": "stdout",
     "output_type": "stream",
     "text": [
      "786\n"
     ]
    },
    {
     "name": "stderr",
     "output_type": "stream",
     "text": [
      "[Parallel(n_jobs=4)]: Using backend LokyBackend with 4 concurrent workers.\n",
      "[Parallel(n_jobs=4)]: Done   5 tasks      | elapsed:    1.9s\n",
      "[Parallel(n_jobs=4)]: Done  10 tasks      | elapsed:    3.4s\n",
      "[Parallel(n_jobs=4)]: Done  17 tasks      | elapsed:    5.5s\n",
      "[Parallel(n_jobs=4)]: Done  24 tasks      | elapsed:    7.1s\n",
      "[Parallel(n_jobs=4)]: Done  33 tasks      | elapsed:   10.0s\n",
      "[Parallel(n_jobs=4)]: Done  42 tasks      | elapsed:   12.0s\n",
      "[Parallel(n_jobs=4)]: Done  56 out of  56 | elapsed:   15.3s finished\n"
     ]
    },
    {
     "name": "stdout",
     "output_type": "stream",
     "text": [
      "787\n"
     ]
    },
    {
     "name": "stderr",
     "output_type": "stream",
     "text": [
      "[Parallel(n_jobs=4)]: Using backend LokyBackend with 4 concurrent workers.\n",
      "[Parallel(n_jobs=4)]: Done   5 tasks      | elapsed:    1.8s\n",
      "[Parallel(n_jobs=4)]: Done  10 tasks      | elapsed:    3.1s\n",
      "[Parallel(n_jobs=4)]: Done  17 tasks      | elapsed:    5.4s\n",
      "[Parallel(n_jobs=4)]: Done  24 tasks      | elapsed:    7.2s\n",
      "[Parallel(n_jobs=4)]: Done  33 tasks      | elapsed:    9.2s\n",
      "[Parallel(n_jobs=4)]: Done  42 tasks      | elapsed:   11.0s\n",
      "[Parallel(n_jobs=4)]: Done  56 out of  56 | elapsed:   13.9s finished\n"
     ]
    },
    {
     "name": "stdout",
     "output_type": "stream",
     "text": [
      "788\n"
     ]
    },
    {
     "name": "stderr",
     "output_type": "stream",
     "text": [
      "[Parallel(n_jobs=4)]: Using backend LokyBackend with 4 concurrent workers.\n",
      "[Parallel(n_jobs=4)]: Done   5 tasks      | elapsed:    1.8s\n",
      "[Parallel(n_jobs=4)]: Done  10 tasks      | elapsed:    3.3s\n",
      "[Parallel(n_jobs=4)]: Done  17 tasks      | elapsed:    4.7s\n",
      "[Parallel(n_jobs=4)]: Done  24 tasks      | elapsed:    6.7s\n",
      "[Parallel(n_jobs=4)]: Done  33 tasks      | elapsed:    9.1s\n",
      "[Parallel(n_jobs=4)]: Done  42 tasks      | elapsed:   10.9s\n",
      "[Parallel(n_jobs=4)]: Done  56 out of  56 | elapsed:   14.5s finished\n"
     ]
    },
    {
     "name": "stdout",
     "output_type": "stream",
     "text": [
      "789\n"
     ]
    },
    {
     "name": "stderr",
     "output_type": "stream",
     "text": [
      "[Parallel(n_jobs=4)]: Using backend LokyBackend with 4 concurrent workers.\n",
      "[Parallel(n_jobs=4)]: Done   5 tasks      | elapsed:    2.0s\n",
      "[Parallel(n_jobs=4)]: Done  10 tasks      | elapsed:    3.4s\n",
      "[Parallel(n_jobs=4)]: Done  17 tasks      | elapsed:    5.3s\n",
      "[Parallel(n_jobs=4)]: Done  24 tasks      | elapsed:    7.0s\n",
      "[Parallel(n_jobs=4)]: Done  33 tasks      | elapsed:    8.9s\n",
      "[Parallel(n_jobs=4)]: Done  42 tasks      | elapsed:   11.5s\n",
      "[Parallel(n_jobs=4)]: Done  56 out of  56 | elapsed:   14.4s finished\n"
     ]
    },
    {
     "name": "stdout",
     "output_type": "stream",
     "text": [
      "790\n"
     ]
    },
    {
     "name": "stderr",
     "output_type": "stream",
     "text": [
      "[Parallel(n_jobs=4)]: Using backend LokyBackend with 4 concurrent workers.\n",
      "[Parallel(n_jobs=4)]: Done   5 tasks      | elapsed:    2.2s\n",
      "[Parallel(n_jobs=4)]: Done  10 tasks      | elapsed:    3.5s\n",
      "[Parallel(n_jobs=4)]: Done  17 tasks      | elapsed:    6.5s\n",
      "[Parallel(n_jobs=4)]: Done  24 tasks      | elapsed:    8.4s\n",
      "[Parallel(n_jobs=4)]: Done  33 tasks      | elapsed:   10.8s\n",
      "[Parallel(n_jobs=4)]: Done  42 tasks      | elapsed:   12.6s\n",
      "[Parallel(n_jobs=4)]: Done  56 out of  56 | elapsed:   15.5s finished\n"
     ]
    },
    {
     "name": "stdout",
     "output_type": "stream",
     "text": [
      "791\n"
     ]
    },
    {
     "name": "stderr",
     "output_type": "stream",
     "text": [
      "[Parallel(n_jobs=4)]: Using backend LokyBackend with 4 concurrent workers.\n",
      "[Parallel(n_jobs=4)]: Done   5 tasks      | elapsed:    2.5s\n",
      "[Parallel(n_jobs=4)]: Done  10 tasks      | elapsed:    3.5s\n",
      "[Parallel(n_jobs=4)]: Done  17 tasks      | elapsed:    5.3s\n",
      "[Parallel(n_jobs=4)]: Done  24 tasks      | elapsed:    7.3s\n",
      "[Parallel(n_jobs=4)]: Done  33 tasks      | elapsed:    9.4s\n",
      "[Parallel(n_jobs=4)]: Done  42 tasks      | elapsed:   11.5s\n",
      "[Parallel(n_jobs=4)]: Done  56 out of  56 | elapsed:   14.7s finished\n"
     ]
    },
    {
     "name": "stdout",
     "output_type": "stream",
     "text": [
      "792\n"
     ]
    },
    {
     "name": "stderr",
     "output_type": "stream",
     "text": [
      "[Parallel(n_jobs=4)]: Using backend LokyBackend with 4 concurrent workers.\n",
      "[Parallel(n_jobs=4)]: Done   5 tasks      | elapsed:    2.0s\n",
      "[Parallel(n_jobs=4)]: Done  10 tasks      | elapsed:    3.7s\n",
      "[Parallel(n_jobs=4)]: Done  17 tasks      | elapsed:    5.9s\n",
      "[Parallel(n_jobs=4)]: Done  24 tasks      | elapsed:    7.3s\n",
      "[Parallel(n_jobs=4)]: Done  33 tasks      | elapsed:    9.2s\n",
      "[Parallel(n_jobs=4)]: Done  42 tasks      | elapsed:   11.4s\n",
      "[Parallel(n_jobs=4)]: Done  55 out of  55 | elapsed:   14.2s finished\n"
     ]
    },
    {
     "name": "stdout",
     "output_type": "stream",
     "text": [
      "793\n"
     ]
    },
    {
     "name": "stderr",
     "output_type": "stream",
     "text": [
      "[Parallel(n_jobs=4)]: Using backend LokyBackend with 4 concurrent workers.\n",
      "[Parallel(n_jobs=4)]: Done   5 tasks      | elapsed:    1.7s\n",
      "[Parallel(n_jobs=4)]: Done  10 tasks      | elapsed:    2.9s\n",
      "[Parallel(n_jobs=4)]: Done  17 tasks      | elapsed:    4.2s\n",
      "[Parallel(n_jobs=4)]: Done  24 tasks      | elapsed:    5.9s\n",
      "[Parallel(n_jobs=4)]: Done  33 tasks      | elapsed:    8.2s\n",
      "[Parallel(n_jobs=4)]: Done  42 tasks      | elapsed:   10.2s\n",
      "[Parallel(n_jobs=4)]: Done  55 out of  55 | elapsed:   13.6s finished\n"
     ]
    },
    {
     "name": "stdout",
     "output_type": "stream",
     "text": [
      "794\n"
     ]
    },
    {
     "name": "stderr",
     "output_type": "stream",
     "text": [
      "[Parallel(n_jobs=4)]: Using backend LokyBackend with 4 concurrent workers.\n",
      "[Parallel(n_jobs=4)]: Done   5 tasks      | elapsed:    2.1s\n",
      "[Parallel(n_jobs=4)]: Done  10 tasks      | elapsed:    3.2s\n",
      "[Parallel(n_jobs=4)]: Done  17 tasks      | elapsed:    4.8s\n",
      "[Parallel(n_jobs=4)]: Done  24 tasks      | elapsed:    6.4s\n",
      "[Parallel(n_jobs=4)]: Done  33 tasks      | elapsed:    8.3s\n",
      "[Parallel(n_jobs=4)]: Done  42 tasks      | elapsed:   10.1s\n",
      "[Parallel(n_jobs=4)]: Done  56 out of  56 | elapsed:   13.1s finished\n"
     ]
    },
    {
     "name": "stdout",
     "output_type": "stream",
     "text": [
      "795\n"
     ]
    },
    {
     "name": "stderr",
     "output_type": "stream",
     "text": [
      "[Parallel(n_jobs=4)]: Using backend LokyBackend with 4 concurrent workers.\n",
      "[Parallel(n_jobs=4)]: Done   5 tasks      | elapsed:    1.9s\n",
      "[Parallel(n_jobs=4)]: Done  10 tasks      | elapsed:    4.0s\n",
      "[Parallel(n_jobs=4)]: Done  17 tasks      | elapsed:    5.7s\n",
      "[Parallel(n_jobs=4)]: Done  24 tasks      | elapsed:    7.6s\n",
      "[Parallel(n_jobs=4)]: Done  33 tasks      | elapsed:   10.9s\n",
      "[Parallel(n_jobs=4)]: Done  42 tasks      | elapsed:   13.2s\n",
      "[Parallel(n_jobs=4)]: Done  52 out of  52 | elapsed:   15.7s finished\n"
     ]
    },
    {
     "name": "stdout",
     "output_type": "stream",
     "text": [
      "796\n"
     ]
    },
    {
     "name": "stderr",
     "output_type": "stream",
     "text": [
      "[Parallel(n_jobs=4)]: Using backend LokyBackend with 4 concurrent workers.\n",
      "[Parallel(n_jobs=4)]: Done   5 tasks      | elapsed:    2.0s\n",
      "[Parallel(n_jobs=4)]: Done  10 tasks      | elapsed:    3.2s\n",
      "[Parallel(n_jobs=4)]: Done  17 tasks      | elapsed:    5.3s\n",
      "[Parallel(n_jobs=4)]: Done  24 tasks      | elapsed:    6.8s\n",
      "[Parallel(n_jobs=4)]: Done  33 tasks      | elapsed:    9.2s\n",
      "[Parallel(n_jobs=4)]: Done  42 tasks      | elapsed:   10.9s\n",
      "[Parallel(n_jobs=4)]: Done  57 out of  57 | elapsed:   14.3s finished\n"
     ]
    },
    {
     "name": "stdout",
     "output_type": "stream",
     "text": [
      "797\n"
     ]
    },
    {
     "name": "stderr",
     "output_type": "stream",
     "text": [
      "[Parallel(n_jobs=4)]: Using backend LokyBackend with 4 concurrent workers.\n",
      "[Parallel(n_jobs=4)]: Done   5 tasks      | elapsed:    2.0s\n",
      "[Parallel(n_jobs=4)]: Done  10 tasks      | elapsed:    3.1s\n",
      "[Parallel(n_jobs=4)]: Done  17 tasks      | elapsed:    4.8s\n",
      "[Parallel(n_jobs=4)]: Done  24 tasks      | elapsed:    6.3s\n",
      "[Parallel(n_jobs=4)]: Done  33 tasks      | elapsed:    9.1s\n",
      "[Parallel(n_jobs=4)]: Done  42 tasks      | elapsed:   11.0s\n",
      "[Parallel(n_jobs=4)]: Done  57 out of  57 | elapsed:   14.3s finished\n"
     ]
    },
    {
     "name": "stdout",
     "output_type": "stream",
     "text": [
      "798\n"
     ]
    },
    {
     "name": "stderr",
     "output_type": "stream",
     "text": [
      "[Parallel(n_jobs=4)]: Using backend LokyBackend with 4 concurrent workers.\n",
      "[Parallel(n_jobs=4)]: Done   5 tasks      | elapsed:    2.2s\n",
      "[Parallel(n_jobs=4)]: Done  10 tasks      | elapsed:    3.4s\n",
      "[Parallel(n_jobs=4)]: Done  17 tasks      | elapsed:    5.3s\n",
      "[Parallel(n_jobs=4)]: Done  24 tasks      | elapsed:    7.7s\n",
      "[Parallel(n_jobs=4)]: Done  33 tasks      | elapsed:    9.6s\n",
      "[Parallel(n_jobs=4)]: Done  42 tasks      | elapsed:   12.1s\n",
      "[Parallel(n_jobs=4)]: Done  54 out of  54 | elapsed:   15.4s finished\n"
     ]
    },
    {
     "name": "stdout",
     "output_type": "stream",
     "text": [
      "799\n"
     ]
    },
    {
     "name": "stderr",
     "output_type": "stream",
     "text": [
      "[Parallel(n_jobs=4)]: Using backend LokyBackend with 4 concurrent workers.\n",
      "[Parallel(n_jobs=4)]: Done   5 tasks      | elapsed:    2.3s\n",
      "[Parallel(n_jobs=4)]: Done  10 tasks      | elapsed:    3.3s\n",
      "[Parallel(n_jobs=4)]: Done  17 tasks      | elapsed:    5.6s\n",
      "[Parallel(n_jobs=4)]: Done  24 tasks      | elapsed:    7.8s\n",
      "[Parallel(n_jobs=4)]: Done  33 tasks      | elapsed:   10.4s\n",
      "[Parallel(n_jobs=4)]: Done  42 tasks      | elapsed:   12.3s\n",
      "[Parallel(n_jobs=4)]: Done  54 out of  54 | elapsed:   15.7s finished\n"
     ]
    },
    {
     "name": "stdout",
     "output_type": "stream",
     "text": [
      "800\n"
     ]
    },
    {
     "name": "stderr",
     "output_type": "stream",
     "text": [
      "[Parallel(n_jobs=4)]: Using backend LokyBackend with 4 concurrent workers.\n",
      "[Parallel(n_jobs=4)]: Done   5 tasks      | elapsed:    2.8s\n",
      "[Parallel(n_jobs=4)]: Done  10 tasks      | elapsed:    3.9s\n",
      "[Parallel(n_jobs=4)]: Done  17 tasks      | elapsed:    5.9s\n",
      "[Parallel(n_jobs=4)]: Done  24 tasks      | elapsed:    7.6s\n",
      "[Parallel(n_jobs=4)]: Done  33 tasks      | elapsed:    9.8s\n",
      "[Parallel(n_jobs=4)]: Done  42 tasks      | elapsed:   12.7s\n",
      "[Parallel(n_jobs=4)]: Done  56 out of  56 | elapsed:   16.1s finished\n"
     ]
    },
    {
     "name": "stdout",
     "output_type": "stream",
     "text": [
      "801\n"
     ]
    },
    {
     "name": "stderr",
     "output_type": "stream",
     "text": [
      "[Parallel(n_jobs=4)]: Using backend LokyBackend with 4 concurrent workers.\n",
      "[Parallel(n_jobs=4)]: Done   5 tasks      | elapsed:    2.4s\n",
      "[Parallel(n_jobs=4)]: Done  10 tasks      | elapsed:    3.5s\n",
      "[Parallel(n_jobs=4)]: Done  17 tasks      | elapsed:    5.4s\n",
      "[Parallel(n_jobs=4)]: Done  24 tasks      | elapsed:    7.5s\n",
      "[Parallel(n_jobs=4)]: Done  33 tasks      | elapsed:   10.3s\n",
      "[Parallel(n_jobs=4)]: Done  42 tasks      | elapsed:   12.6s\n",
      "[Parallel(n_jobs=4)]: Done  58 out of  58 | elapsed:   16.7s finished\n"
     ]
    },
    {
     "name": "stdout",
     "output_type": "stream",
     "text": [
      "802\n"
     ]
    },
    {
     "name": "stderr",
     "output_type": "stream",
     "text": [
      "[Parallel(n_jobs=4)]: Using backend LokyBackend with 4 concurrent workers.\n",
      "[Parallel(n_jobs=4)]: Done   5 tasks      | elapsed:    2.0s\n",
      "[Parallel(n_jobs=4)]: Done  10 tasks      | elapsed:    3.3s\n",
      "[Parallel(n_jobs=4)]: Done  17 tasks      | elapsed:    5.2s\n",
      "[Parallel(n_jobs=4)]: Done  24 tasks      | elapsed:    6.9s\n",
      "[Parallel(n_jobs=4)]: Done  33 tasks      | elapsed:    9.3s\n",
      "[Parallel(n_jobs=4)]: Done  42 tasks      | elapsed:   11.1s\n",
      "[Parallel(n_jobs=4)]: Done  56 out of  56 | elapsed:   14.3s finished\n"
     ]
    },
    {
     "name": "stdout",
     "output_type": "stream",
     "text": [
      "803\n"
     ]
    },
    {
     "name": "stderr",
     "output_type": "stream",
     "text": [
      "[Parallel(n_jobs=4)]: Using backend LokyBackend with 4 concurrent workers.\n",
      "[Parallel(n_jobs=4)]: Done   5 tasks      | elapsed:    2.3s\n",
      "[Parallel(n_jobs=4)]: Done  10 tasks      | elapsed:    3.4s\n",
      "[Parallel(n_jobs=4)]: Done  17 tasks      | elapsed:    5.5s\n",
      "[Parallel(n_jobs=4)]: Done  24 tasks      | elapsed:    8.0s\n",
      "[Parallel(n_jobs=4)]: Done  33 tasks      | elapsed:   10.9s\n",
      "[Parallel(n_jobs=4)]: Done  42 tasks      | elapsed:   13.3s\n",
      "[Parallel(n_jobs=4)]: Done  55 out of  55 | elapsed:   17.9s finished\n"
     ]
    },
    {
     "name": "stdout",
     "output_type": "stream",
     "text": [
      "804\n"
     ]
    },
    {
     "name": "stderr",
     "output_type": "stream",
     "text": [
      "[Parallel(n_jobs=4)]: Using backend LokyBackend with 4 concurrent workers.\n",
      "[Parallel(n_jobs=4)]: Done   5 tasks      | elapsed:    2.1s\n",
      "[Parallel(n_jobs=4)]: Done  10 tasks      | elapsed:    3.0s\n",
      "[Parallel(n_jobs=4)]: Done  17 tasks      | elapsed:    4.7s\n",
      "[Parallel(n_jobs=4)]: Done  24 tasks      | elapsed:    6.3s\n",
      "[Parallel(n_jobs=4)]: Done  33 tasks      | elapsed:    8.7s\n",
      "[Parallel(n_jobs=4)]: Done  42 tasks      | elapsed:   11.3s\n",
      "[Parallel(n_jobs=4)]: Done  56 out of  56 | elapsed:   14.3s finished\n"
     ]
    },
    {
     "name": "stdout",
     "output_type": "stream",
     "text": [
      "805\n"
     ]
    },
    {
     "name": "stderr",
     "output_type": "stream",
     "text": [
      "[Parallel(n_jobs=4)]: Using backend LokyBackend with 4 concurrent workers.\n",
      "[Parallel(n_jobs=4)]: Done   5 tasks      | elapsed:    1.9s\n",
      "[Parallel(n_jobs=4)]: Done  10 tasks      | elapsed:    3.1s\n",
      "[Parallel(n_jobs=4)]: Done  17 tasks      | elapsed:    5.2s\n",
      "[Parallel(n_jobs=4)]: Done  24 tasks      | elapsed:    7.0s\n",
      "[Parallel(n_jobs=4)]: Done  33 tasks      | elapsed:    9.1s\n",
      "[Parallel(n_jobs=4)]: Done  42 tasks      | elapsed:   11.3s\n",
      "[Parallel(n_jobs=4)]: Done  55 out of  55 | elapsed:   14.0s finished\n"
     ]
    },
    {
     "name": "stdout",
     "output_type": "stream",
     "text": [
      "806\n"
     ]
    },
    {
     "name": "stderr",
     "output_type": "stream",
     "text": [
      "[Parallel(n_jobs=4)]: Using backend LokyBackend with 4 concurrent workers.\n",
      "[Parallel(n_jobs=4)]: Done   5 tasks      | elapsed:    2.1s\n",
      "[Parallel(n_jobs=4)]: Done  10 tasks      | elapsed:    3.1s\n",
      "[Parallel(n_jobs=4)]: Done  17 tasks      | elapsed:    5.1s\n",
      "[Parallel(n_jobs=4)]: Done  24 tasks      | elapsed:    7.0s\n",
      "[Parallel(n_jobs=4)]: Done  33 tasks      | elapsed:    9.4s\n",
      "[Parallel(n_jobs=4)]: Done  42 tasks      | elapsed:   12.0s\n",
      "[Parallel(n_jobs=4)]: Done  56 out of  56 | elapsed:   15.5s finished\n"
     ]
    },
    {
     "name": "stdout",
     "output_type": "stream",
     "text": [
      "807\n"
     ]
    },
    {
     "name": "stderr",
     "output_type": "stream",
     "text": [
      "[Parallel(n_jobs=4)]: Using backend LokyBackend with 4 concurrent workers.\n",
      "[Parallel(n_jobs=4)]: Done   5 tasks      | elapsed:    2.5s\n",
      "[Parallel(n_jobs=4)]: Done  10 tasks      | elapsed:    3.8s\n",
      "[Parallel(n_jobs=4)]: Done  17 tasks      | elapsed:    5.4s\n",
      "[Parallel(n_jobs=4)]: Done  24 tasks      | elapsed:    7.6s\n",
      "[Parallel(n_jobs=4)]: Done  33 tasks      | elapsed:    9.6s\n",
      "[Parallel(n_jobs=4)]: Done  42 tasks      | elapsed:   12.4s\n",
      "[Parallel(n_jobs=4)]: Done  56 out of  56 | elapsed:   15.5s finished\n"
     ]
    },
    {
     "name": "stdout",
     "output_type": "stream",
     "text": [
      "808\n"
     ]
    },
    {
     "name": "stderr",
     "output_type": "stream",
     "text": [
      "[Parallel(n_jobs=4)]: Using backend LokyBackend with 4 concurrent workers.\n",
      "[Parallel(n_jobs=4)]: Done   5 tasks      | elapsed:    2.1s\n",
      "[Parallel(n_jobs=4)]: Done  10 tasks      | elapsed:    3.4s\n",
      "[Parallel(n_jobs=4)]: Done  17 tasks      | elapsed:    5.1s\n",
      "[Parallel(n_jobs=4)]: Done  24 tasks      | elapsed:    7.2s\n",
      "[Parallel(n_jobs=4)]: Done  33 tasks      | elapsed:    9.3s\n",
      "[Parallel(n_jobs=4)]: Done  42 tasks      | elapsed:   12.5s\n",
      "[Parallel(n_jobs=4)]: Done  52 out of  52 | elapsed:   14.4s finished\n"
     ]
    },
    {
     "name": "stdout",
     "output_type": "stream",
     "text": [
      "809\n"
     ]
    },
    {
     "name": "stderr",
     "output_type": "stream",
     "text": [
      "[Parallel(n_jobs=4)]: Using backend LokyBackend with 4 concurrent workers.\n",
      "[Parallel(n_jobs=4)]: Done   5 tasks      | elapsed:    2.3s\n",
      "[Parallel(n_jobs=4)]: Done  10 tasks      | elapsed:    3.6s\n",
      "[Parallel(n_jobs=4)]: Done  17 tasks      | elapsed:    5.8s\n",
      "[Parallel(n_jobs=4)]: Done  24 tasks      | elapsed:    7.1s\n",
      "[Parallel(n_jobs=4)]: Done  33 tasks      | elapsed:    9.7s\n",
      "[Parallel(n_jobs=4)]: Done  44 out of  46 | elapsed:   12.1s remaining:    0.6s\n",
      "[Parallel(n_jobs=4)]: Done  46 out of  46 | elapsed:   12.9s finished\n"
     ]
    },
    {
     "name": "stdout",
     "output_type": "stream",
     "text": [
      "810\n"
     ]
    },
    {
     "name": "stderr",
     "output_type": "stream",
     "text": [
      "[Parallel(n_jobs=4)]: Using backend LokyBackend with 4 concurrent workers.\n",
      "[Parallel(n_jobs=4)]: Done   5 tasks      | elapsed:    1.9s\n",
      "[Parallel(n_jobs=4)]: Done  10 tasks      | elapsed:    3.5s\n",
      "[Parallel(n_jobs=4)]: Done  17 tasks      | elapsed:    5.4s\n",
      "[Parallel(n_jobs=4)]: Done  24 tasks      | elapsed:    7.7s\n",
      "[Parallel(n_jobs=4)]: Done  33 tasks      | elapsed:   10.1s\n",
      "[Parallel(n_jobs=4)]: Done  42 tasks      | elapsed:   12.1s\n",
      "[Parallel(n_jobs=4)]: Done  56 out of  56 | elapsed:   15.3s finished\n"
     ]
    },
    {
     "name": "stdout",
     "output_type": "stream",
     "text": [
      "811\n"
     ]
    },
    {
     "name": "stderr",
     "output_type": "stream",
     "text": [
      "[Parallel(n_jobs=4)]: Using backend LokyBackend with 4 concurrent workers.\n",
      "[Parallel(n_jobs=4)]: Done   5 tasks      | elapsed:    2.4s\n",
      "[Parallel(n_jobs=4)]: Done  10 tasks      | elapsed:    4.0s\n",
      "[Parallel(n_jobs=4)]: Done  17 tasks      | elapsed:    6.2s\n",
      "[Parallel(n_jobs=4)]: Done  24 tasks      | elapsed:    8.3s\n",
      "[Parallel(n_jobs=4)]: Done  33 tasks      | elapsed:   11.6s\n",
      "[Parallel(n_jobs=4)]: Done  42 tasks      | elapsed:   16.6s\n",
      "[Parallel(n_jobs=4)]: Done  57 out of  57 | elapsed:   23.1s finished\n"
     ]
    },
    {
     "name": "stdout",
     "output_type": "stream",
     "text": [
      "812\n"
     ]
    },
    {
     "name": "stderr",
     "output_type": "stream",
     "text": [
      "[Parallel(n_jobs=4)]: Using backend LokyBackend with 4 concurrent workers.\n",
      "[Parallel(n_jobs=4)]: Done   5 tasks      | elapsed:    3.2s\n",
      "[Parallel(n_jobs=4)]: Done  10 tasks      | elapsed:    5.0s\n",
      "[Parallel(n_jobs=4)]: Done  17 tasks      | elapsed:    8.2s\n",
      "[Parallel(n_jobs=4)]: Done  24 tasks      | elapsed:   11.5s\n",
      "[Parallel(n_jobs=4)]: Done  33 tasks      | elapsed:   15.3s\n",
      "[Parallel(n_jobs=4)]: Done  42 tasks      | elapsed:   18.5s\n",
      "[Parallel(n_jobs=4)]: Done  51 out of  51 | elapsed:   21.4s finished\n"
     ]
    },
    {
     "name": "stdout",
     "output_type": "stream",
     "text": [
      "813\n"
     ]
    },
    {
     "name": "stderr",
     "output_type": "stream",
     "text": [
      "[Parallel(n_jobs=4)]: Using backend LokyBackend with 4 concurrent workers.\n",
      "[Parallel(n_jobs=4)]: Done   5 tasks      | elapsed:    3.1s\n",
      "[Parallel(n_jobs=4)]: Done  10 tasks      | elapsed:    4.6s\n",
      "[Parallel(n_jobs=4)]: Done  17 tasks      | elapsed:    7.1s\n",
      "[Parallel(n_jobs=4)]: Done  24 tasks      | elapsed:   10.0s\n",
      "[Parallel(n_jobs=4)]: Done  33 tasks      | elapsed:   13.0s\n",
      "[Parallel(n_jobs=4)]: Done  42 tasks      | elapsed:   16.1s\n",
      "[Parallel(n_jobs=4)]: Done  56 out of  56 | elapsed:   19.9s finished\n"
     ]
    },
    {
     "name": "stdout",
     "output_type": "stream",
     "text": [
      "814\n"
     ]
    },
    {
     "name": "stderr",
     "output_type": "stream",
     "text": [
      "[Parallel(n_jobs=4)]: Using backend LokyBackend with 4 concurrent workers.\n",
      "[Parallel(n_jobs=4)]: Done   5 tasks      | elapsed:    3.3s\n",
      "[Parallel(n_jobs=4)]: Done  10 tasks      | elapsed:    4.6s\n",
      "[Parallel(n_jobs=4)]: Done  17 tasks      | elapsed:    7.8s\n",
      "[Parallel(n_jobs=4)]: Done  24 tasks      | elapsed:   10.0s\n",
      "[Parallel(n_jobs=4)]: Done  33 tasks      | elapsed:   13.9s\n",
      "[Parallel(n_jobs=4)]: Done  42 tasks      | elapsed:   16.4s\n",
      "[Parallel(n_jobs=4)]: Done  54 out of  54 | elapsed:   20.3s finished\n"
     ]
    },
    {
     "name": "stdout",
     "output_type": "stream",
     "text": [
      "815\n"
     ]
    },
    {
     "name": "stderr",
     "output_type": "stream",
     "text": [
      "[Parallel(n_jobs=4)]: Using backend LokyBackend with 4 concurrent workers.\n",
      "[Parallel(n_jobs=4)]: Done   5 tasks      | elapsed:    2.8s\n",
      "[Parallel(n_jobs=4)]: Done  10 tasks      | elapsed:    4.7s\n",
      "[Parallel(n_jobs=4)]: Done  17 tasks      | elapsed:    6.7s\n",
      "[Parallel(n_jobs=4)]: Done  24 tasks      | elapsed:    8.7s\n",
      "[Parallel(n_jobs=4)]: Done  33 tasks      | elapsed:   11.0s\n",
      "[Parallel(n_jobs=4)]: Done  42 tasks      | elapsed:   13.8s\n",
      "[Parallel(n_jobs=4)]: Done  55 out of  55 | elapsed:   17.3s finished\n"
     ]
    },
    {
     "name": "stdout",
     "output_type": "stream",
     "text": [
      "816\n"
     ]
    },
    {
     "name": "stderr",
     "output_type": "stream",
     "text": [
      "[Parallel(n_jobs=4)]: Using backend LokyBackend with 4 concurrent workers.\n",
      "[Parallel(n_jobs=4)]: Done   5 tasks      | elapsed:    2.8s\n",
      "[Parallel(n_jobs=4)]: Done  10 tasks      | elapsed:    3.9s\n",
      "[Parallel(n_jobs=4)]: Done  17 tasks      | elapsed:    6.1s\n",
      "[Parallel(n_jobs=4)]: Done  24 tasks      | elapsed:    8.8s\n",
      "[Parallel(n_jobs=4)]: Done  33 tasks      | elapsed:   12.1s\n",
      "[Parallel(n_jobs=4)]: Done  42 tasks      | elapsed:   14.8s\n",
      "[Parallel(n_jobs=4)]: Done  55 out of  55 | elapsed:   18.0s finished\n"
     ]
    },
    {
     "name": "stdout",
     "output_type": "stream",
     "text": [
      "817\n"
     ]
    },
    {
     "name": "stderr",
     "output_type": "stream",
     "text": [
      "[Parallel(n_jobs=4)]: Using backend LokyBackend with 4 concurrent workers.\n",
      "[Parallel(n_jobs=4)]: Done   5 tasks      | elapsed:    2.5s\n",
      "[Parallel(n_jobs=4)]: Done  10 tasks      | elapsed:    3.9s\n",
      "[Parallel(n_jobs=4)]: Done  17 tasks      | elapsed:    5.7s\n",
      "[Parallel(n_jobs=4)]: Done  24 tasks      | elapsed:    8.3s\n",
      "[Parallel(n_jobs=4)]: Done  33 tasks      | elapsed:   10.9s\n",
      "[Parallel(n_jobs=4)]: Done  42 tasks      | elapsed:   13.3s\n",
      "[Parallel(n_jobs=4)]: Done  51 out of  51 | elapsed:   16.3s finished\n"
     ]
    },
    {
     "name": "stdout",
     "output_type": "stream",
     "text": [
      "818\n"
     ]
    },
    {
     "name": "stderr",
     "output_type": "stream",
     "text": [
      "[Parallel(n_jobs=4)]: Using backend LokyBackend with 4 concurrent workers.\n",
      "[Parallel(n_jobs=4)]: Done   5 tasks      | elapsed:    2.6s\n",
      "[Parallel(n_jobs=4)]: Done  10 tasks      | elapsed:    3.9s\n",
      "[Parallel(n_jobs=4)]: Done  17 tasks      | elapsed:    6.5s\n",
      "[Parallel(n_jobs=4)]: Done  24 tasks      | elapsed:    8.8s\n",
      "[Parallel(n_jobs=4)]: Done  33 tasks      | elapsed:   11.1s\n",
      "[Parallel(n_jobs=4)]: Done  42 tasks      | elapsed:   13.9s\n",
      "[Parallel(n_jobs=4)]: Done  55 out of  55 | elapsed:   17.1s finished\n"
     ]
    },
    {
     "name": "stdout",
     "output_type": "stream",
     "text": [
      "819\n"
     ]
    },
    {
     "name": "stderr",
     "output_type": "stream",
     "text": [
      "[Parallel(n_jobs=4)]: Using backend LokyBackend with 4 concurrent workers.\n",
      "[Parallel(n_jobs=4)]: Done   5 tasks      | elapsed:    2.6s\n",
      "[Parallel(n_jobs=4)]: Done  10 tasks      | elapsed:    4.5s\n",
      "[Parallel(n_jobs=4)]: Done  17 tasks      | elapsed:    6.7s\n",
      "[Parallel(n_jobs=4)]: Done  24 tasks      | elapsed:    8.8s\n",
      "[Parallel(n_jobs=4)]: Done  33 tasks      | elapsed:   12.1s\n",
      "[Parallel(n_jobs=4)]: Done  42 tasks      | elapsed:   14.9s\n",
      "[Parallel(n_jobs=4)]: Done  57 out of  57 | elapsed:   18.9s finished\n"
     ]
    },
    {
     "name": "stdout",
     "output_type": "stream",
     "text": [
      "820\n"
     ]
    },
    {
     "name": "stderr",
     "output_type": "stream",
     "text": [
      "[Parallel(n_jobs=4)]: Using backend LokyBackend with 4 concurrent workers.\n",
      "[Parallel(n_jobs=4)]: Done   5 tasks      | elapsed:    2.3s\n",
      "[Parallel(n_jobs=4)]: Done  10 tasks      | elapsed:    3.7s\n",
      "[Parallel(n_jobs=4)]: Done  17 tasks      | elapsed:    6.8s\n",
      "[Parallel(n_jobs=4)]: Done  24 tasks      | elapsed:    9.1s\n",
      "[Parallel(n_jobs=4)]: Done  33 tasks      | elapsed:   12.6s\n",
      "[Parallel(n_jobs=4)]: Done  42 tasks      | elapsed:   14.8s\n",
      "[Parallel(n_jobs=4)]: Done  53 out of  53 | elapsed:   18.0s finished\n"
     ]
    },
    {
     "name": "stdout",
     "output_type": "stream",
     "text": [
      "821\n"
     ]
    },
    {
     "name": "stderr",
     "output_type": "stream",
     "text": [
      "[Parallel(n_jobs=4)]: Using backend LokyBackend with 4 concurrent workers.\n",
      "[Parallel(n_jobs=4)]: Done   5 tasks      | elapsed:    1.8s\n",
      "[Parallel(n_jobs=4)]: Done  10 tasks      | elapsed:    4.1s\n",
      "[Parallel(n_jobs=4)]: Done  17 tasks      | elapsed:    6.2s\n",
      "[Parallel(n_jobs=4)]: Done  24 tasks      | elapsed:    8.6s\n",
      "[Parallel(n_jobs=4)]: Done  33 tasks      | elapsed:   11.5s\n",
      "[Parallel(n_jobs=4)]: Done  42 tasks      | elapsed:   14.8s\n",
      "[Parallel(n_jobs=4)]: Done  56 out of  56 | elapsed:   18.0s finished\n"
     ]
    },
    {
     "name": "stdout",
     "output_type": "stream",
     "text": [
      "822\n"
     ]
    },
    {
     "name": "stderr",
     "output_type": "stream",
     "text": [
      "[Parallel(n_jobs=4)]: Using backend LokyBackend with 4 concurrent workers.\n",
      "[Parallel(n_jobs=4)]: Done   5 tasks      | elapsed:    2.3s\n",
      "[Parallel(n_jobs=4)]: Done  10 tasks      | elapsed:    3.7s\n",
      "[Parallel(n_jobs=4)]: Done  17 tasks      | elapsed:    6.1s\n",
      "[Parallel(n_jobs=4)]: Done  24 tasks      | elapsed:    7.9s\n",
      "[Parallel(n_jobs=4)]: Done  33 tasks      | elapsed:   11.3s\n",
      "[Parallel(n_jobs=4)]: Done  42 tasks      | elapsed:   13.8s\n",
      "[Parallel(n_jobs=4)]: Done  52 out of  52 | elapsed:   16.9s finished\n"
     ]
    },
    {
     "name": "stdout",
     "output_type": "stream",
     "text": [
      "823\n"
     ]
    },
    {
     "name": "stderr",
     "output_type": "stream",
     "text": [
      "[Parallel(n_jobs=4)]: Using backend LokyBackend with 4 concurrent workers.\n",
      "[Parallel(n_jobs=4)]: Done   5 tasks      | elapsed:    2.5s\n",
      "[Parallel(n_jobs=4)]: Done  10 tasks      | elapsed:    3.9s\n",
      "[Parallel(n_jobs=4)]: Done  17 tasks      | elapsed:    6.4s\n",
      "[Parallel(n_jobs=4)]: Done  24 tasks      | elapsed:    8.3s\n",
      "[Parallel(n_jobs=4)]: Done  33 tasks      | elapsed:   11.0s\n",
      "[Parallel(n_jobs=4)]: Done  42 tasks      | elapsed:   13.3s\n",
      "[Parallel(n_jobs=4)]: Done  57 out of  57 | elapsed:   17.4s finished\n"
     ]
    },
    {
     "name": "stdout",
     "output_type": "stream",
     "text": [
      "824\n"
     ]
    },
    {
     "name": "stderr",
     "output_type": "stream",
     "text": [
      "[Parallel(n_jobs=4)]: Using backend LokyBackend with 4 concurrent workers.\n",
      "[Parallel(n_jobs=4)]: Done   5 tasks      | elapsed:    2.4s\n",
      "[Parallel(n_jobs=4)]: Done  10 tasks      | elapsed:    3.9s\n",
      "[Parallel(n_jobs=4)]: Done  17 tasks      | elapsed:    6.4s\n",
      "[Parallel(n_jobs=4)]: Done  24 tasks      | elapsed:    8.1s\n",
      "[Parallel(n_jobs=4)]: Done  33 tasks      | elapsed:   10.9s\n",
      "[Parallel(n_jobs=4)]: Done  42 tasks      | elapsed:   13.5s\n",
      "[Parallel(n_jobs=4)]: Done  56 out of  56 | elapsed:   17.0s finished\n"
     ]
    },
    {
     "name": "stdout",
     "output_type": "stream",
     "text": [
      "825\n"
     ]
    },
    {
     "name": "stderr",
     "output_type": "stream",
     "text": [
      "[Parallel(n_jobs=4)]: Using backend LokyBackend with 4 concurrent workers.\n",
      "[Parallel(n_jobs=4)]: Done   5 tasks      | elapsed:    2.7s\n",
      "[Parallel(n_jobs=4)]: Done  10 tasks      | elapsed:    3.8s\n",
      "[Parallel(n_jobs=4)]: Done  17 tasks      | elapsed:    5.9s\n",
      "[Parallel(n_jobs=4)]: Done  24 tasks      | elapsed:    7.2s\n",
      "[Parallel(n_jobs=4)]: Done  33 tasks      | elapsed:    9.9s\n",
      "[Parallel(n_jobs=4)]: Done  42 tasks      | elapsed:   12.1s\n",
      "[Parallel(n_jobs=4)]: Done  55 out of  55 | elapsed:   15.1s finished\n"
     ]
    },
    {
     "name": "stdout",
     "output_type": "stream",
     "text": [
      "826\n"
     ]
    },
    {
     "name": "stderr",
     "output_type": "stream",
     "text": [
      "[Parallel(n_jobs=4)]: Using backend LokyBackend with 4 concurrent workers.\n",
      "[Parallel(n_jobs=4)]: Done   5 tasks      | elapsed:    2.1s\n",
      "[Parallel(n_jobs=4)]: Done  10 tasks      | elapsed:    3.3s\n",
      "[Parallel(n_jobs=4)]: Done  17 tasks      | elapsed:    5.1s\n",
      "[Parallel(n_jobs=4)]: Done  24 tasks      | elapsed:    7.5s\n",
      "[Parallel(n_jobs=4)]: Done  33 tasks      | elapsed:    9.5s\n",
      "[Parallel(n_jobs=4)]: Done  42 tasks      | elapsed:   11.7s\n",
      "[Parallel(n_jobs=4)]: Done  55 out of  55 | elapsed:   14.9s finished\n"
     ]
    },
    {
     "name": "stdout",
     "output_type": "stream",
     "text": [
      "827\n"
     ]
    },
    {
     "name": "stderr",
     "output_type": "stream",
     "text": [
      "[Parallel(n_jobs=4)]: Using backend LokyBackend with 4 concurrent workers.\n",
      "[Parallel(n_jobs=4)]: Done   5 tasks      | elapsed:    2.5s\n",
      "[Parallel(n_jobs=4)]: Done  10 tasks      | elapsed:    3.7s\n",
      "[Parallel(n_jobs=4)]: Done  17 tasks      | elapsed:    5.9s\n",
      "[Parallel(n_jobs=4)]: Done  24 tasks      | elapsed:    8.0s\n",
      "[Parallel(n_jobs=4)]: Done  33 tasks      | elapsed:   10.3s\n",
      "[Parallel(n_jobs=4)]: Done  42 tasks      | elapsed:   12.4s\n",
      "[Parallel(n_jobs=4)]: Done  53 out of  53 | elapsed:   15.0s finished\n"
     ]
    },
    {
     "name": "stdout",
     "output_type": "stream",
     "text": [
      "828\n"
     ]
    },
    {
     "name": "stderr",
     "output_type": "stream",
     "text": [
      "[Parallel(n_jobs=4)]: Using backend LokyBackend with 4 concurrent workers.\n",
      "[Parallel(n_jobs=4)]: Done   5 tasks      | elapsed:    2.0s\n",
      "[Parallel(n_jobs=4)]: Done  10 tasks      | elapsed:    3.2s\n",
      "[Parallel(n_jobs=4)]: Done  17 tasks      | elapsed:    5.1s\n",
      "[Parallel(n_jobs=4)]: Done  24 tasks      | elapsed:    6.8s\n",
      "[Parallel(n_jobs=4)]: Done  33 tasks      | elapsed:    8.7s\n",
      "[Parallel(n_jobs=4)]: Done  42 tasks      | elapsed:   10.8s\n",
      "[Parallel(n_jobs=4)]: Done  55 out of  55 | elapsed:   13.5s finished\n"
     ]
    },
    {
     "name": "stdout",
     "output_type": "stream",
     "text": [
      "829\n"
     ]
    },
    {
     "name": "stderr",
     "output_type": "stream",
     "text": [
      "[Parallel(n_jobs=4)]: Using backend LokyBackend with 4 concurrent workers.\n",
      "[Parallel(n_jobs=4)]: Done   5 tasks      | elapsed:    2.0s\n",
      "[Parallel(n_jobs=4)]: Done  10 tasks      | elapsed:    3.1s\n",
      "[Parallel(n_jobs=4)]: Done  17 tasks      | elapsed:    4.8s\n",
      "[Parallel(n_jobs=4)]: Done  24 tasks      | elapsed:    6.8s\n",
      "[Parallel(n_jobs=4)]: Done  33 tasks      | elapsed:    9.2s\n",
      "[Parallel(n_jobs=4)]: Done  42 tasks      | elapsed:   11.0s\n",
      "[Parallel(n_jobs=4)]: Done  56 out of  56 | elapsed:   14.1s finished\n"
     ]
    },
    {
     "name": "stdout",
     "output_type": "stream",
     "text": [
      "830\n"
     ]
    },
    {
     "name": "stderr",
     "output_type": "stream",
     "text": [
      "[Parallel(n_jobs=4)]: Using backend LokyBackend with 4 concurrent workers.\n",
      "[Parallel(n_jobs=4)]: Done   5 tasks      | elapsed:    2.2s\n",
      "[Parallel(n_jobs=4)]: Done  10 tasks      | elapsed:    3.2s\n",
      "[Parallel(n_jobs=4)]: Done  17 tasks      | elapsed:    5.2s\n",
      "[Parallel(n_jobs=4)]: Done  24 tasks      | elapsed:    6.8s\n",
      "[Parallel(n_jobs=4)]: Done  33 tasks      | elapsed:    9.4s\n",
      "[Parallel(n_jobs=4)]: Done  42 tasks      | elapsed:   11.5s\n",
      "[Parallel(n_jobs=4)]: Done  55 out of  55 | elapsed:   14.1s finished\n"
     ]
    },
    {
     "name": "stdout",
     "output_type": "stream",
     "text": [
      "831\n"
     ]
    },
    {
     "name": "stderr",
     "output_type": "stream",
     "text": [
      "[Parallel(n_jobs=4)]: Using backend LokyBackend with 4 concurrent workers.\n",
      "[Parallel(n_jobs=4)]: Done   5 tasks      | elapsed:    2.2s\n",
      "[Parallel(n_jobs=4)]: Done  10 tasks      | elapsed:    3.3s\n",
      "[Parallel(n_jobs=4)]: Done  17 tasks      | elapsed:    5.3s\n",
      "[Parallel(n_jobs=4)]: Done  24 tasks      | elapsed:    6.4s\n",
      "[Parallel(n_jobs=4)]: Done  33 tasks      | elapsed:    8.8s\n",
      "[Parallel(n_jobs=4)]: Done  42 tasks      | elapsed:   10.6s\n",
      "[Parallel(n_jobs=4)]: Done  55 out of  55 | elapsed:   13.2s finished\n"
     ]
    },
    {
     "name": "stdout",
     "output_type": "stream",
     "text": [
      "832\n"
     ]
    },
    {
     "name": "stderr",
     "output_type": "stream",
     "text": [
      "[Parallel(n_jobs=4)]: Using backend LokyBackend with 4 concurrent workers.\n",
      "[Parallel(n_jobs=4)]: Done   5 tasks      | elapsed:    2.3s\n",
      "[Parallel(n_jobs=4)]: Done  10 tasks      | elapsed:    3.7s\n",
      "[Parallel(n_jobs=4)]: Done  17 tasks      | elapsed:    5.6s\n",
      "[Parallel(n_jobs=4)]: Done  24 tasks      | elapsed:    8.0s\n",
      "[Parallel(n_jobs=4)]: Done  33 tasks      | elapsed:   10.3s\n",
      "[Parallel(n_jobs=4)]: Done  42 tasks      | elapsed:   12.6s\n",
      "[Parallel(n_jobs=4)]: Done  55 out of  55 | elapsed:   16.4s finished\n"
     ]
    },
    {
     "name": "stdout",
     "output_type": "stream",
     "text": [
      "833\n"
     ]
    },
    {
     "name": "stderr",
     "output_type": "stream",
     "text": [
      "[Parallel(n_jobs=4)]: Using backend LokyBackend with 4 concurrent workers.\n",
      "[Parallel(n_jobs=4)]: Done   5 tasks      | elapsed:    2.3s\n",
      "[Parallel(n_jobs=4)]: Done  10 tasks      | elapsed:    3.6s\n",
      "[Parallel(n_jobs=4)]: Done  17 tasks      | elapsed:    5.6s\n",
      "[Parallel(n_jobs=4)]: Done  24 tasks      | elapsed:    8.1s\n",
      "[Parallel(n_jobs=4)]: Done  33 tasks      | elapsed:   10.1s\n",
      "[Parallel(n_jobs=4)]: Done  42 tasks      | elapsed:   12.1s\n",
      "[Parallel(n_jobs=4)]: Done  56 out of  56 | elapsed:   15.3s finished\n"
     ]
    },
    {
     "name": "stdout",
     "output_type": "stream",
     "text": [
      "834\n"
     ]
    },
    {
     "name": "stderr",
     "output_type": "stream",
     "text": [
      "[Parallel(n_jobs=4)]: Using backend LokyBackend with 4 concurrent workers.\n",
      "[Parallel(n_jobs=4)]: Done   5 tasks      | elapsed:    2.0s\n",
      "[Parallel(n_jobs=4)]: Done  10 tasks      | elapsed:    3.1s\n",
      "[Parallel(n_jobs=4)]: Done  17 tasks      | elapsed:    5.2s\n",
      "[Parallel(n_jobs=4)]: Done  24 tasks      | elapsed:    7.2s\n",
      "[Parallel(n_jobs=4)]: Done  33 tasks      | elapsed:    9.3s\n",
      "[Parallel(n_jobs=4)]: Done  42 tasks      | elapsed:   11.6s\n",
      "[Parallel(n_jobs=4)]: Done  54 out of  54 | elapsed:   14.1s finished\n"
     ]
    },
    {
     "name": "stdout",
     "output_type": "stream",
     "text": [
      "835\n"
     ]
    },
    {
     "name": "stderr",
     "output_type": "stream",
     "text": [
      "[Parallel(n_jobs=4)]: Using backend LokyBackend with 4 concurrent workers.\n",
      "[Parallel(n_jobs=4)]: Done   5 tasks      | elapsed:    2.6s\n",
      "[Parallel(n_jobs=4)]: Done  10 tasks      | elapsed:    4.3s\n",
      "[Parallel(n_jobs=4)]: Done  17 tasks      | elapsed:    6.4s\n",
      "[Parallel(n_jobs=4)]: Done  24 tasks      | elapsed:    8.8s\n",
      "[Parallel(n_jobs=4)]: Done  33 tasks      | elapsed:   12.1s\n",
      "[Parallel(n_jobs=4)]: Done  42 tasks      | elapsed:   14.6s\n",
      "[Parallel(n_jobs=4)]: Done  54 out of  54 | elapsed:   17.9s finished\n"
     ]
    },
    {
     "name": "stdout",
     "output_type": "stream",
     "text": [
      "836\n"
     ]
    },
    {
     "name": "stderr",
     "output_type": "stream",
     "text": [
      "[Parallel(n_jobs=4)]: Using backend LokyBackend with 4 concurrent workers.\n",
      "[Parallel(n_jobs=4)]: Done   5 tasks      | elapsed:    2.0s\n",
      "[Parallel(n_jobs=4)]: Done  10 tasks      | elapsed:    3.7s\n",
      "[Parallel(n_jobs=4)]: Done  17 tasks      | elapsed:    5.9s\n",
      "[Parallel(n_jobs=4)]: Done  24 tasks      | elapsed:    7.6s\n",
      "[Parallel(n_jobs=4)]: Done  33 tasks      | elapsed:    9.6s\n",
      "[Parallel(n_jobs=4)]: Done  42 tasks      | elapsed:   11.4s\n",
      "[Parallel(n_jobs=4)]: Done  50 out of  50 | elapsed:   13.0s finished\n"
     ]
    },
    {
     "name": "stdout",
     "output_type": "stream",
     "text": [
      "837\n"
     ]
    },
    {
     "name": "stderr",
     "output_type": "stream",
     "text": [
      "[Parallel(n_jobs=4)]: Using backend LokyBackend with 4 concurrent workers.\n",
      "[Parallel(n_jobs=4)]: Done   5 tasks      | elapsed:    2.2s\n",
      "[Parallel(n_jobs=4)]: Done  10 tasks      | elapsed:    3.4s\n",
      "[Parallel(n_jobs=4)]: Done  17 tasks      | elapsed:    5.1s\n",
      "[Parallel(n_jobs=4)]: Done  24 tasks      | elapsed:    6.9s\n",
      "[Parallel(n_jobs=4)]: Done  33 tasks      | elapsed:    9.6s\n",
      "[Parallel(n_jobs=4)]: Done  42 tasks      | elapsed:   11.7s\n",
      "[Parallel(n_jobs=4)]: Done  55 out of  55 | elapsed:   14.9s finished\n"
     ]
    },
    {
     "name": "stdout",
     "output_type": "stream",
     "text": [
      "838\n"
     ]
    },
    {
     "name": "stderr",
     "output_type": "stream",
     "text": [
      "[Parallel(n_jobs=4)]: Using backend LokyBackend with 4 concurrent workers.\n",
      "[Parallel(n_jobs=4)]: Done   5 tasks      | elapsed:    2.1s\n",
      "[Parallel(n_jobs=4)]: Done  10 tasks      | elapsed:    4.1s\n",
      "[Parallel(n_jobs=4)]: Done  17 tasks      | elapsed:    6.3s\n",
      "[Parallel(n_jobs=4)]: Done  24 tasks      | elapsed:    7.9s\n",
      "[Parallel(n_jobs=4)]: Done  33 tasks      | elapsed:   10.5s\n",
      "[Parallel(n_jobs=4)]: Done  42 tasks      | elapsed:   12.4s\n",
      "[Parallel(n_jobs=4)]: Done  53 out of  53 | elapsed:   15.2s finished\n"
     ]
    },
    {
     "name": "stdout",
     "output_type": "stream",
     "text": [
      "839\n"
     ]
    },
    {
     "name": "stderr",
     "output_type": "stream",
     "text": [
      "[Parallel(n_jobs=4)]: Using backend LokyBackend with 4 concurrent workers.\n",
      "[Parallel(n_jobs=4)]: Done   5 tasks      | elapsed:    2.1s\n",
      "[Parallel(n_jobs=4)]: Done  10 tasks      | elapsed:    3.5s\n",
      "[Parallel(n_jobs=4)]: Done  17 tasks      | elapsed:    5.2s\n",
      "[Parallel(n_jobs=4)]: Done  24 tasks      | elapsed:    6.7s\n",
      "[Parallel(n_jobs=4)]: Done  33 tasks      | elapsed:    9.3s\n",
      "[Parallel(n_jobs=4)]: Done  42 tasks      | elapsed:   11.1s\n",
      "[Parallel(n_jobs=4)]: Done  54 out of  54 | elapsed:   14.0s finished\n"
     ]
    },
    {
     "name": "stdout",
     "output_type": "stream",
     "text": [
      "840\n"
     ]
    },
    {
     "name": "stderr",
     "output_type": "stream",
     "text": [
      "[Parallel(n_jobs=4)]: Using backend LokyBackend with 4 concurrent workers.\n",
      "[Parallel(n_jobs=4)]: Done   5 tasks      | elapsed:    2.1s\n",
      "[Parallel(n_jobs=4)]: Done  10 tasks      | elapsed:    3.5s\n",
      "[Parallel(n_jobs=4)]: Done  17 tasks      | elapsed:    5.2s\n",
      "[Parallel(n_jobs=4)]: Done  24 tasks      | elapsed:    7.1s\n",
      "[Parallel(n_jobs=4)]: Done  33 tasks      | elapsed:    9.5s\n",
      "[Parallel(n_jobs=4)]: Done  42 tasks      | elapsed:   11.8s\n",
      "[Parallel(n_jobs=4)]: Done  54 out of  54 | elapsed:   15.4s finished\n"
     ]
    },
    {
     "name": "stdout",
     "output_type": "stream",
     "text": [
      "841\n"
     ]
    },
    {
     "name": "stderr",
     "output_type": "stream",
     "text": [
      "[Parallel(n_jobs=4)]: Using backend LokyBackend with 4 concurrent workers.\n",
      "[Parallel(n_jobs=4)]: Done   5 tasks      | elapsed:    2.3s\n",
      "[Parallel(n_jobs=4)]: Done  10 tasks      | elapsed:    3.6s\n",
      "[Parallel(n_jobs=4)]: Done  17 tasks      | elapsed:    5.5s\n",
      "[Parallel(n_jobs=4)]: Done  24 tasks      | elapsed:    7.3s\n",
      "[Parallel(n_jobs=4)]: Done  33 tasks      | elapsed:    9.8s\n",
      "[Parallel(n_jobs=4)]: Done  42 tasks      | elapsed:   12.3s\n",
      "[Parallel(n_jobs=4)]: Done  56 out of  56 | elapsed:   16.2s finished\n"
     ]
    },
    {
     "name": "stdout",
     "output_type": "stream",
     "text": [
      "842\n"
     ]
    },
    {
     "name": "stderr",
     "output_type": "stream",
     "text": [
      "[Parallel(n_jobs=4)]: Using backend LokyBackend with 4 concurrent workers.\n",
      "[Parallel(n_jobs=4)]: Done   5 tasks      | elapsed:    2.7s\n",
      "[Parallel(n_jobs=4)]: Done  10 tasks      | elapsed:    3.8s\n",
      "[Parallel(n_jobs=4)]: Done  17 tasks      | elapsed:    6.0s\n",
      "[Parallel(n_jobs=4)]: Done  24 tasks      | elapsed:    8.2s\n",
      "[Parallel(n_jobs=4)]: Done  33 tasks      | elapsed:   10.7s\n",
      "[Parallel(n_jobs=4)]: Done  42 tasks      | elapsed:   13.1s\n",
      "[Parallel(n_jobs=4)]: Done  54 out of  54 | elapsed:   16.6s finished\n"
     ]
    },
    {
     "name": "stdout",
     "output_type": "stream",
     "text": [
      "843\n"
     ]
    },
    {
     "name": "stderr",
     "output_type": "stream",
     "text": [
      "[Parallel(n_jobs=4)]: Using backend LokyBackend with 4 concurrent workers.\n",
      "[Parallel(n_jobs=4)]: Done   5 tasks      | elapsed:    2.3s\n",
      "[Parallel(n_jobs=4)]: Done  10 tasks      | elapsed:    3.6s\n",
      "[Parallel(n_jobs=4)]: Done  17 tasks      | elapsed:    5.4s\n",
      "[Parallel(n_jobs=4)]: Done  24 tasks      | elapsed:    7.9s\n",
      "[Parallel(n_jobs=4)]: Done  33 tasks      | elapsed:   10.1s\n",
      "[Parallel(n_jobs=4)]: Done  42 tasks      | elapsed:   12.9s\n",
      "[Parallel(n_jobs=4)]: Done  54 out of  54 | elapsed:   15.8s finished\n"
     ]
    },
    {
     "name": "stdout",
     "output_type": "stream",
     "text": [
      "844\n"
     ]
    },
    {
     "name": "stderr",
     "output_type": "stream",
     "text": [
      "[Parallel(n_jobs=4)]: Using backend LokyBackend with 4 concurrent workers.\n",
      "[Parallel(n_jobs=4)]: Done   5 tasks      | elapsed:    2.8s\n",
      "[Parallel(n_jobs=4)]: Done  10 tasks      | elapsed:    3.9s\n",
      "[Parallel(n_jobs=4)]: Done  17 tasks      | elapsed:    6.0s\n",
      "[Parallel(n_jobs=4)]: Done  24 tasks      | elapsed:    8.5s\n",
      "[Parallel(n_jobs=4)]: Done  33 tasks      | elapsed:   10.9s\n",
      "[Parallel(n_jobs=4)]: Done  42 tasks      | elapsed:   13.8s\n",
      "[Parallel(n_jobs=4)]: Done  54 out of  54 | elapsed:   16.6s finished\n"
     ]
    },
    {
     "name": "stdout",
     "output_type": "stream",
     "text": [
      "845\n"
     ]
    },
    {
     "name": "stderr",
     "output_type": "stream",
     "text": [
      "[Parallel(n_jobs=4)]: Using backend LokyBackend with 4 concurrent workers.\n",
      "[Parallel(n_jobs=4)]: Done   5 tasks      | elapsed:    2.5s\n",
      "[Parallel(n_jobs=4)]: Done  10 tasks      | elapsed:    3.6s\n",
      "[Parallel(n_jobs=4)]: Done  17 tasks      | elapsed:    5.8s\n",
      "[Parallel(n_jobs=4)]: Done  24 tasks      | elapsed:    7.5s\n",
      "[Parallel(n_jobs=4)]: Done  33 tasks      | elapsed:   10.0s\n",
      "[Parallel(n_jobs=4)]: Done  42 tasks      | elapsed:   12.3s\n",
      "[Parallel(n_jobs=4)]: Done  55 out of  55 | elapsed:   15.2s finished\n"
     ]
    },
    {
     "name": "stdout",
     "output_type": "stream",
     "text": [
      "846\n"
     ]
    },
    {
     "name": "stderr",
     "output_type": "stream",
     "text": [
      "[Parallel(n_jobs=4)]: Using backend LokyBackend with 4 concurrent workers.\n",
      "[Parallel(n_jobs=4)]: Done   5 tasks      | elapsed:    2.0s\n",
      "[Parallel(n_jobs=4)]: Done  10 tasks      | elapsed:    3.3s\n",
      "[Parallel(n_jobs=4)]: Done  17 tasks      | elapsed:    5.8s\n",
      "[Parallel(n_jobs=4)]: Done  24 tasks      | elapsed:    7.9s\n",
      "[Parallel(n_jobs=4)]: Done  33 tasks      | elapsed:   10.4s\n",
      "[Parallel(n_jobs=4)]: Done  42 tasks      | elapsed:   12.6s\n",
      "[Parallel(n_jobs=4)]: Done  47 out of  49 | elapsed:   13.6s remaining:    0.6s\n",
      "[Parallel(n_jobs=4)]: Done  49 out of  49 | elapsed:   14.5s finished\n"
     ]
    },
    {
     "name": "stdout",
     "output_type": "stream",
     "text": [
      "847\n"
     ]
    },
    {
     "name": "stderr",
     "output_type": "stream",
     "text": [
      "[Parallel(n_jobs=4)]: Using backend LokyBackend with 4 concurrent workers.\n",
      "[Parallel(n_jobs=4)]: Done   5 tasks      | elapsed:    2.1s\n",
      "[Parallel(n_jobs=4)]: Done  10 tasks      | elapsed:    3.5s\n",
      "[Parallel(n_jobs=4)]: Done  17 tasks      | elapsed:    5.2s\n",
      "[Parallel(n_jobs=4)]: Done  24 tasks      | elapsed:    6.9s\n",
      "[Parallel(n_jobs=4)]: Done  33 tasks      | elapsed:    9.3s\n",
      "[Parallel(n_jobs=4)]: Done  42 tasks      | elapsed:   11.2s\n",
      "[Parallel(n_jobs=4)]: Done  52 out of  52 | elapsed:   13.8s finished\n"
     ]
    },
    {
     "name": "stdout",
     "output_type": "stream",
     "text": [
      "848\n"
     ]
    },
    {
     "name": "stderr",
     "output_type": "stream",
     "text": [
      "[Parallel(n_jobs=4)]: Using backend LokyBackend with 4 concurrent workers.\n",
      "[Parallel(n_jobs=4)]: Done   5 tasks      | elapsed:    2.0s\n",
      "[Parallel(n_jobs=4)]: Done  10 tasks      | elapsed:    3.7s\n",
      "[Parallel(n_jobs=4)]: Done  17 tasks      | elapsed:    5.9s\n",
      "[Parallel(n_jobs=4)]: Done  24 tasks      | elapsed:    8.4s\n",
      "[Parallel(n_jobs=4)]: Done  33 tasks      | elapsed:   10.4s\n",
      "[Parallel(n_jobs=4)]: Done  42 tasks      | elapsed:   12.5s\n",
      "[Parallel(n_jobs=4)]: Done  53 out of  53 | elapsed:   15.1s finished\n"
     ]
    },
    {
     "name": "stdout",
     "output_type": "stream",
     "text": [
      "849\n"
     ]
    },
    {
     "name": "stderr",
     "output_type": "stream",
     "text": [
      "[Parallel(n_jobs=4)]: Using backend LokyBackend with 4 concurrent workers.\n",
      "[Parallel(n_jobs=4)]: Done   5 tasks      | elapsed:    2.0s\n",
      "[Parallel(n_jobs=4)]: Done  10 tasks      | elapsed:    2.9s\n",
      "[Parallel(n_jobs=4)]: Done  17 tasks      | elapsed:    5.2s\n",
      "[Parallel(n_jobs=4)]: Done  24 tasks      | elapsed:    7.0s\n",
      "[Parallel(n_jobs=4)]: Done  33 tasks      | elapsed:    9.0s\n",
      "[Parallel(n_jobs=4)]: Done  46 out of  48 | elapsed:   12.3s remaining:    0.5s\n",
      "[Parallel(n_jobs=4)]: Done  48 out of  48 | elapsed:   12.5s finished\n"
     ]
    },
    {
     "name": "stdout",
     "output_type": "stream",
     "text": [
      "850\n"
     ]
    },
    {
     "name": "stderr",
     "output_type": "stream",
     "text": [
      "[Parallel(n_jobs=4)]: Using backend LokyBackend with 4 concurrent workers.\n",
      "[Parallel(n_jobs=4)]: Done   5 tasks      | elapsed:    1.7s\n",
      "[Parallel(n_jobs=4)]: Done  10 tasks      | elapsed:    2.9s\n",
      "[Parallel(n_jobs=4)]: Done  17 tasks      | elapsed:    4.4s\n",
      "[Parallel(n_jobs=4)]: Done  24 tasks      | elapsed:    6.6s\n",
      "[Parallel(n_jobs=4)]: Done  33 tasks      | elapsed:    8.5s\n",
      "[Parallel(n_jobs=4)]: Done  42 tasks      | elapsed:   10.3s\n",
      "[Parallel(n_jobs=4)]: Done  54 out of  54 | elapsed:   13.1s finished\n"
     ]
    },
    {
     "name": "stdout",
     "output_type": "stream",
     "text": [
      "851\n"
     ]
    },
    {
     "name": "stderr",
     "output_type": "stream",
     "text": [
      "[Parallel(n_jobs=4)]: Using backend LokyBackend with 4 concurrent workers.\n",
      "[Parallel(n_jobs=4)]: Done   5 tasks      | elapsed:    2.5s\n",
      "[Parallel(n_jobs=4)]: Done  10 tasks      | elapsed:    3.7s\n",
      "[Parallel(n_jobs=4)]: Done  17 tasks      | elapsed:    5.4s\n",
      "[Parallel(n_jobs=4)]: Done  24 tasks      | elapsed:    7.5s\n",
      "[Parallel(n_jobs=4)]: Done  33 tasks      | elapsed:    9.4s\n",
      "[Parallel(n_jobs=4)]: Done  41 out of  43 | elapsed:   11.4s remaining:    0.6s\n",
      "[Parallel(n_jobs=4)]: Done  43 out of  43 | elapsed:   11.9s finished\n"
     ]
    },
    {
     "name": "stdout",
     "output_type": "stream",
     "text": [
      "852\n"
     ]
    },
    {
     "name": "stderr",
     "output_type": "stream",
     "text": [
      "[Parallel(n_jobs=4)]: Using backend LokyBackend with 4 concurrent workers.\n",
      "[Parallel(n_jobs=4)]: Done   5 tasks      | elapsed:    2.1s\n",
      "[Parallel(n_jobs=4)]: Done  10 tasks      | elapsed:    3.2s\n",
      "[Parallel(n_jobs=4)]: Done  17 tasks      | elapsed:    4.9s\n",
      "[Parallel(n_jobs=4)]: Done  24 tasks      | elapsed:    6.5s\n",
      "[Parallel(n_jobs=4)]: Done  33 tasks      | elapsed:    8.4s\n",
      "[Parallel(n_jobs=4)]: Done  42 tasks      | elapsed:   10.5s\n",
      "[Parallel(n_jobs=4)]: Done  56 out of  56 | elapsed:   13.2s finished\n"
     ]
    },
    {
     "name": "stdout",
     "output_type": "stream",
     "text": [
      "853\n"
     ]
    },
    {
     "name": "stderr",
     "output_type": "stream",
     "text": [
      "[Parallel(n_jobs=4)]: Using backend LokyBackend with 4 concurrent workers.\n",
      "[Parallel(n_jobs=4)]: Done   5 tasks      | elapsed:    1.9s\n",
      "[Parallel(n_jobs=4)]: Done  10 tasks      | elapsed:    2.8s\n",
      "[Parallel(n_jobs=4)]: Done  17 tasks      | elapsed:    4.7s\n",
      "[Parallel(n_jobs=4)]: Done  24 tasks      | elapsed:    6.3s\n",
      "[Parallel(n_jobs=4)]: Done  33 tasks      | elapsed:    8.0s\n",
      "[Parallel(n_jobs=4)]: Done  42 tasks      | elapsed:    9.7s\n",
      "[Parallel(n_jobs=4)]: Done  54 out of  54 | elapsed:   12.6s finished\n"
     ]
    },
    {
     "name": "stdout",
     "output_type": "stream",
     "text": [
      "854\n"
     ]
    },
    {
     "name": "stderr",
     "output_type": "stream",
     "text": [
      "[Parallel(n_jobs=4)]: Using backend LokyBackend with 4 concurrent workers.\n",
      "[Parallel(n_jobs=4)]: Done   5 tasks      | elapsed:    2.0s\n",
      "[Parallel(n_jobs=4)]: Done  10 tasks      | elapsed:    3.7s\n",
      "[Parallel(n_jobs=4)]: Done  17 tasks      | elapsed:    5.2s\n",
      "[Parallel(n_jobs=4)]: Done  24 tasks      | elapsed:    7.7s\n",
      "[Parallel(n_jobs=4)]: Done  33 tasks      | elapsed:   10.2s\n",
      "[Parallel(n_jobs=4)]: Done  42 tasks      | elapsed:   12.3s\n",
      "[Parallel(n_jobs=4)]: Done  54 out of  54 | elapsed:   15.0s finished\n"
     ]
    },
    {
     "name": "stdout",
     "output_type": "stream",
     "text": [
      "855\n"
     ]
    },
    {
     "name": "stderr",
     "output_type": "stream",
     "text": [
      "[Parallel(n_jobs=4)]: Using backend LokyBackend with 4 concurrent workers.\n",
      "[Parallel(n_jobs=4)]: Done   5 tasks      | elapsed:    2.1s\n",
      "[Parallel(n_jobs=4)]: Done  10 tasks      | elapsed:    3.4s\n",
      "[Parallel(n_jobs=4)]: Done  17 tasks      | elapsed:    5.4s\n",
      "[Parallel(n_jobs=4)]: Done  24 tasks      | elapsed:    7.5s\n",
      "[Parallel(n_jobs=4)]: Done  33 tasks      | elapsed:    9.7s\n",
      "[Parallel(n_jobs=4)]: Done  42 tasks      | elapsed:   12.3s\n",
      "[Parallel(n_jobs=4)]: Done  55 out of  55 | elapsed:   15.0s finished\n"
     ]
    },
    {
     "name": "stdout",
     "output_type": "stream",
     "text": [
      "856\n"
     ]
    },
    {
     "name": "stderr",
     "output_type": "stream",
     "text": [
      "[Parallel(n_jobs=4)]: Using backend LokyBackend with 4 concurrent workers.\n",
      "[Parallel(n_jobs=4)]: Done   5 tasks      | elapsed:    2.1s\n",
      "[Parallel(n_jobs=4)]: Done  10 tasks      | elapsed:    3.2s\n",
      "[Parallel(n_jobs=4)]: Done  17 tasks      | elapsed:    5.0s\n",
      "[Parallel(n_jobs=4)]: Done  24 tasks      | elapsed:    6.9s\n",
      "[Parallel(n_jobs=4)]: Done  33 tasks      | elapsed:    9.0s\n",
      "[Parallel(n_jobs=4)]: Done  42 tasks      | elapsed:   10.8s\n",
      "[Parallel(n_jobs=4)]: Done  55 out of  55 | elapsed:   13.9s finished\n"
     ]
    },
    {
     "name": "stdout",
     "output_type": "stream",
     "text": [
      "857\n"
     ]
    },
    {
     "name": "stderr",
     "output_type": "stream",
     "text": [
      "[Parallel(n_jobs=4)]: Using backend LokyBackend with 4 concurrent workers.\n",
      "[Parallel(n_jobs=4)]: Done   5 tasks      | elapsed:    1.9s\n",
      "[Parallel(n_jobs=4)]: Done  10 tasks      | elapsed:    2.9s\n",
      "[Parallel(n_jobs=4)]: Done  17 tasks      | elapsed:    4.6s\n",
      "[Parallel(n_jobs=4)]: Done  24 tasks      | elapsed:    6.7s\n",
      "[Parallel(n_jobs=4)]: Done  33 tasks      | elapsed:    9.0s\n",
      "[Parallel(n_jobs=4)]: Done  42 tasks      | elapsed:   10.6s\n",
      "[Parallel(n_jobs=4)]: Done  53 out of  53 | elapsed:   13.2s finished\n"
     ]
    },
    {
     "name": "stdout",
     "output_type": "stream",
     "text": [
      "858\n"
     ]
    },
    {
     "name": "stderr",
     "output_type": "stream",
     "text": [
      "[Parallel(n_jobs=4)]: Using backend LokyBackend with 4 concurrent workers.\n",
      "[Parallel(n_jobs=4)]: Done   5 tasks      | elapsed:    2.2s\n",
      "[Parallel(n_jobs=4)]: Done  10 tasks      | elapsed:    3.3s\n",
      "[Parallel(n_jobs=4)]: Done  17 tasks      | elapsed:    5.2s\n",
      "[Parallel(n_jobs=4)]: Done  24 tasks      | elapsed:    7.1s\n",
      "[Parallel(n_jobs=4)]: Done  33 tasks      | elapsed:    9.1s\n",
      "[Parallel(n_jobs=4)]: Done  42 tasks      | elapsed:   11.3s\n",
      "[Parallel(n_jobs=4)]: Done  50 out of  50 | elapsed:   12.9s finished\n"
     ]
    },
    {
     "name": "stdout",
     "output_type": "stream",
     "text": [
      "859\n"
     ]
    },
    {
     "name": "stderr",
     "output_type": "stream",
     "text": [
      "[Parallel(n_jobs=4)]: Using backend LokyBackend with 4 concurrent workers.\n",
      "[Parallel(n_jobs=4)]: Done   5 tasks      | elapsed:    2.1s\n",
      "[Parallel(n_jobs=4)]: Done  10 tasks      | elapsed:    3.0s\n",
      "[Parallel(n_jobs=4)]: Done  17 tasks      | elapsed:    4.7s\n",
      "[Parallel(n_jobs=4)]: Done  24 tasks      | elapsed:    6.5s\n",
      "[Parallel(n_jobs=4)]: Done  33 tasks      | elapsed:    8.5s\n",
      "[Parallel(n_jobs=4)]: Done  42 tasks      | elapsed:   10.3s\n",
      "[Parallel(n_jobs=4)]: Done  54 out of  54 | elapsed:   13.3s finished\n"
     ]
    },
    {
     "name": "stdout",
     "output_type": "stream",
     "text": [
      "860\n"
     ]
    },
    {
     "name": "stderr",
     "output_type": "stream",
     "text": [
      "[Parallel(n_jobs=4)]: Using backend LokyBackend with 4 concurrent workers.\n",
      "[Parallel(n_jobs=4)]: Done   5 tasks      | elapsed:    2.2s\n",
      "[Parallel(n_jobs=4)]: Done  10 tasks      | elapsed:    3.2s\n",
      "[Parallel(n_jobs=4)]: Done  17 tasks      | elapsed:    5.6s\n",
      "[Parallel(n_jobs=4)]: Done  24 tasks      | elapsed:    6.8s\n",
      "[Parallel(n_jobs=4)]: Done  33 tasks      | elapsed:    8.8s\n",
      "[Parallel(n_jobs=4)]: Done  42 tasks      | elapsed:   11.4s\n",
      "[Parallel(n_jobs=4)]: Done  53 out of  53 | elapsed:   13.3s finished\n"
     ]
    },
    {
     "name": "stdout",
     "output_type": "stream",
     "text": [
      "861\n"
     ]
    },
    {
     "name": "stderr",
     "output_type": "stream",
     "text": [
      "[Parallel(n_jobs=4)]: Using backend LokyBackend with 4 concurrent workers.\n",
      "[Parallel(n_jobs=4)]: Done   5 tasks      | elapsed:    1.9s\n",
      "[Parallel(n_jobs=4)]: Done  10 tasks      | elapsed:    3.5s\n",
      "[Parallel(n_jobs=4)]: Done  17 tasks      | elapsed:    5.3s\n",
      "[Parallel(n_jobs=4)]: Done  24 tasks      | elapsed:    6.9s\n",
      "[Parallel(n_jobs=4)]: Done  33 tasks      | elapsed:    8.9s\n",
      "[Parallel(n_jobs=4)]: Done  42 tasks      | elapsed:   10.8s\n",
      "[Parallel(n_jobs=4)]: Done  56 out of  56 | elapsed:   13.6s finished\n"
     ]
    },
    {
     "name": "stdout",
     "output_type": "stream",
     "text": [
      "862\n"
     ]
    },
    {
     "name": "stderr",
     "output_type": "stream",
     "text": [
      "[Parallel(n_jobs=4)]: Using backend LokyBackend with 4 concurrent workers.\n",
      "[Parallel(n_jobs=4)]: Done   5 tasks      | elapsed:    2.1s\n",
      "[Parallel(n_jobs=4)]: Done  10 tasks      | elapsed:    3.1s\n",
      "[Parallel(n_jobs=4)]: Done  17 tasks      | elapsed:    5.2s\n",
      "[Parallel(n_jobs=4)]: Done  24 tasks      | elapsed:    7.1s\n",
      "[Parallel(n_jobs=4)]: Done  33 tasks      | elapsed:    9.5s\n",
      "[Parallel(n_jobs=4)]: Done  42 tasks      | elapsed:   11.5s\n",
      "[Parallel(n_jobs=4)]: Done  47 out of  49 | elapsed:   12.9s remaining:    0.5s\n",
      "[Parallel(n_jobs=4)]: Done  49 out of  49 | elapsed:   13.2s finished\n"
     ]
    },
    {
     "name": "stdout",
     "output_type": "stream",
     "text": [
      "863\n"
     ]
    },
    {
     "name": "stderr",
     "output_type": "stream",
     "text": [
      "[Parallel(n_jobs=4)]: Using backend LokyBackend with 4 concurrent workers.\n",
      "[Parallel(n_jobs=4)]: Done   5 tasks      | elapsed:    1.8s\n",
      "[Parallel(n_jobs=4)]: Done  10 tasks      | elapsed:    3.5s\n",
      "[Parallel(n_jobs=4)]: Done  17 tasks      | elapsed:    5.8s\n",
      "[Parallel(n_jobs=4)]: Done  24 tasks      | elapsed:    7.0s\n",
      "[Parallel(n_jobs=4)]: Done  33 tasks      | elapsed:    9.3s\n",
      "[Parallel(n_jobs=4)]: Done  42 tasks      | elapsed:   11.1s\n",
      "[Parallel(n_jobs=4)]: Done  53 out of  53 | elapsed:   13.6s finished\n"
     ]
    },
    {
     "name": "stdout",
     "output_type": "stream",
     "text": [
      "864\n"
     ]
    },
    {
     "name": "stderr",
     "output_type": "stream",
     "text": [
      "[Parallel(n_jobs=4)]: Using backend LokyBackend with 4 concurrent workers.\n",
      "[Parallel(n_jobs=4)]: Done   5 tasks      | elapsed:    1.9s\n",
      "[Parallel(n_jobs=4)]: Done  10 tasks      | elapsed:    2.8s\n",
      "[Parallel(n_jobs=4)]: Done  17 tasks      | elapsed:    4.7s\n",
      "[Parallel(n_jobs=4)]: Done  24 tasks      | elapsed:    6.6s\n",
      "[Parallel(n_jobs=4)]: Done  33 tasks      | elapsed:    8.5s\n",
      "[Parallel(n_jobs=4)]: Done  42 tasks      | elapsed:   10.3s\n",
      "[Parallel(n_jobs=4)]: Done  55 out of  55 | elapsed:   13.3s finished\n"
     ]
    },
    {
     "name": "stdout",
     "output_type": "stream",
     "text": [
      "865\n"
     ]
    },
    {
     "name": "stderr",
     "output_type": "stream",
     "text": [
      "[Parallel(n_jobs=4)]: Using backend LokyBackend with 4 concurrent workers.\n",
      "[Parallel(n_jobs=4)]: Done   5 tasks      | elapsed:    2.2s\n",
      "[Parallel(n_jobs=4)]: Done  10 tasks      | elapsed:    3.5s\n",
      "[Parallel(n_jobs=4)]: Done  17 tasks      | elapsed:    5.3s\n",
      "[Parallel(n_jobs=4)]: Done  24 tasks      | elapsed:    7.6s\n",
      "[Parallel(n_jobs=4)]: Done  33 tasks      | elapsed:    9.8s\n",
      "[Parallel(n_jobs=4)]: Done  42 tasks      | elapsed:   11.9s\n",
      "[Parallel(n_jobs=4)]: Done  52 out of  52 | elapsed:   14.4s finished\n"
     ]
    },
    {
     "name": "stdout",
     "output_type": "stream",
     "text": [
      "866\n"
     ]
    },
    {
     "name": "stderr",
     "output_type": "stream",
     "text": [
      "[Parallel(n_jobs=4)]: Using backend LokyBackend with 4 concurrent workers.\n",
      "[Parallel(n_jobs=4)]: Done   5 tasks      | elapsed:    2.3s\n",
      "[Parallel(n_jobs=4)]: Done  10 tasks      | elapsed:    3.6s\n",
      "[Parallel(n_jobs=4)]: Done  17 tasks      | elapsed:    5.9s\n",
      "[Parallel(n_jobs=4)]: Done  24 tasks      | elapsed:    7.9s\n",
      "[Parallel(n_jobs=4)]: Done  33 tasks      | elapsed:    9.9s\n",
      "[Parallel(n_jobs=4)]: Done  42 tasks      | elapsed:   11.7s\n",
      "[Parallel(n_jobs=4)]: Done  55 out of  55 | elapsed:   14.8s finished\n"
     ]
    },
    {
     "name": "stdout",
     "output_type": "stream",
     "text": [
      "867\n"
     ]
    },
    {
     "name": "stderr",
     "output_type": "stream",
     "text": [
      "[Parallel(n_jobs=4)]: Using backend LokyBackend with 4 concurrent workers.\n",
      "[Parallel(n_jobs=4)]: Done   5 tasks      | elapsed:    2.0s\n",
      "[Parallel(n_jobs=4)]: Done  10 tasks      | elapsed:    3.0s\n",
      "[Parallel(n_jobs=4)]: Done  17 tasks      | elapsed:    4.8s\n",
      "[Parallel(n_jobs=4)]: Done  24 tasks      | elapsed:    7.1s\n",
      "[Parallel(n_jobs=4)]: Done  33 tasks      | elapsed:    8.9s\n",
      "[Parallel(n_jobs=4)]: Done  42 tasks      | elapsed:   11.3s\n",
      "[Parallel(n_jobs=4)]: Done  53 out of  53 | elapsed:   13.3s finished\n"
     ]
    },
    {
     "name": "stdout",
     "output_type": "stream",
     "text": [
      "868\n"
     ]
    },
    {
     "name": "stderr",
     "output_type": "stream",
     "text": [
      "[Parallel(n_jobs=4)]: Using backend LokyBackend with 4 concurrent workers.\n",
      "[Parallel(n_jobs=4)]: Done   5 tasks      | elapsed:    2.3s\n",
      "[Parallel(n_jobs=4)]: Done  10 tasks      | elapsed:    3.3s\n",
      "[Parallel(n_jobs=4)]: Done  17 tasks      | elapsed:    5.9s\n",
      "[Parallel(n_jobs=4)]: Done  24 tasks      | elapsed:    7.4s\n",
      "[Parallel(n_jobs=4)]: Done  33 tasks      | elapsed:    9.6s\n",
      "[Parallel(n_jobs=4)]: Done  45 out of  47 | elapsed:   12.2s remaining:    0.5s\n",
      "[Parallel(n_jobs=4)]: Done  47 out of  47 | elapsed:   12.7s finished\n"
     ]
    },
    {
     "name": "stdout",
     "output_type": "stream",
     "text": [
      "869\n"
     ]
    },
    {
     "name": "stderr",
     "output_type": "stream",
     "text": [
      "[Parallel(n_jobs=4)]: Using backend LokyBackend with 4 concurrent workers.\n",
      "[Parallel(n_jobs=4)]: Done   5 tasks      | elapsed:    2.0s\n",
      "[Parallel(n_jobs=4)]: Done  10 tasks      | elapsed:    3.4s\n",
      "[Parallel(n_jobs=4)]: Done  17 tasks      | elapsed:    5.7s\n",
      "[Parallel(n_jobs=4)]: Done  24 tasks      | elapsed:    7.6s\n",
      "[Parallel(n_jobs=4)]: Done  33 tasks      | elapsed:    9.8s\n",
      "[Parallel(n_jobs=4)]: Done  42 tasks      | elapsed:   11.9s\n",
      "[Parallel(n_jobs=4)]: Done  52 out of  52 | elapsed:   14.4s finished\n"
     ]
    },
    {
     "name": "stdout",
     "output_type": "stream",
     "text": [
      "870\n"
     ]
    },
    {
     "name": "stderr",
     "output_type": "stream",
     "text": [
      "[Parallel(n_jobs=4)]: Using backend LokyBackend with 4 concurrent workers.\n",
      "[Parallel(n_jobs=4)]: Done   5 tasks      | elapsed:    1.9s\n",
      "[Parallel(n_jobs=4)]: Done  10 tasks      | elapsed:    2.9s\n",
      "[Parallel(n_jobs=4)]: Done  17 tasks      | elapsed:    4.7s\n",
      "[Parallel(n_jobs=4)]: Done  24 tasks      | elapsed:    6.3s\n",
      "[Parallel(n_jobs=4)]: Done  33 tasks      | elapsed:    8.4s\n",
      "[Parallel(n_jobs=4)]: Done  42 tasks      | elapsed:   10.4s\n",
      "[Parallel(n_jobs=4)]: Done  55 out of  55 | elapsed:   13.5s finished\n"
     ]
    },
    {
     "name": "stdout",
     "output_type": "stream",
     "text": [
      "871\n"
     ]
    },
    {
     "name": "stderr",
     "output_type": "stream",
     "text": [
      "[Parallel(n_jobs=4)]: Using backend LokyBackend with 4 concurrent workers.\n",
      "[Parallel(n_jobs=4)]: Done   5 tasks      | elapsed:    2.1s\n",
      "[Parallel(n_jobs=4)]: Done  10 tasks      | elapsed:    3.3s\n",
      "[Parallel(n_jobs=4)]: Done  17 tasks      | elapsed:    5.2s\n",
      "[Parallel(n_jobs=4)]: Done  24 tasks      | elapsed:    7.3s\n",
      "[Parallel(n_jobs=4)]: Done  33 tasks      | elapsed:    9.6s\n",
      "[Parallel(n_jobs=4)]: Done  42 tasks      | elapsed:   11.5s\n",
      "[Parallel(n_jobs=4)]: Done  50 out of  50 | elapsed:   13.2s finished\n"
     ]
    },
    {
     "name": "stdout",
     "output_type": "stream",
     "text": [
      "872\n"
     ]
    },
    {
     "name": "stderr",
     "output_type": "stream",
     "text": [
      "[Parallel(n_jobs=4)]: Using backend LokyBackend with 4 concurrent workers.\n",
      "[Parallel(n_jobs=4)]: Done   5 tasks      | elapsed:    2.0s\n",
      "[Parallel(n_jobs=4)]: Done  10 tasks      | elapsed:    3.4s\n",
      "[Parallel(n_jobs=4)]: Done  17 tasks      | elapsed:    5.8s\n",
      "[Parallel(n_jobs=4)]: Done  24 tasks      | elapsed:    7.8s\n",
      "[Parallel(n_jobs=4)]: Done  33 tasks      | elapsed:    9.9s\n",
      "[Parallel(n_jobs=4)]: Done  42 tasks      | elapsed:   12.4s\n",
      "[Parallel(n_jobs=4)]: Done  47 out of  49 | elapsed:   13.5s remaining:    0.6s\n",
      "[Parallel(n_jobs=4)]: Done  49 out of  49 | elapsed:   14.1s finished\n"
     ]
    },
    {
     "name": "stdout",
     "output_type": "stream",
     "text": [
      "873\n"
     ]
    },
    {
     "name": "stderr",
     "output_type": "stream",
     "text": [
      "[Parallel(n_jobs=4)]: Using backend LokyBackend with 4 concurrent workers.\n",
      "[Parallel(n_jobs=4)]: Done   5 tasks      | elapsed:    2.0s\n",
      "[Parallel(n_jobs=4)]: Done  10 tasks      | elapsed:    3.3s\n",
      "[Parallel(n_jobs=4)]: Done  17 tasks      | elapsed:    5.0s\n",
      "[Parallel(n_jobs=4)]: Done  24 tasks      | elapsed:    6.8s\n",
      "[Parallel(n_jobs=4)]: Done  33 tasks      | elapsed:    8.7s\n",
      "[Parallel(n_jobs=4)]: Done  42 tasks      | elapsed:   10.3s\n",
      "[Parallel(n_jobs=4)]: Done  55 out of  55 | elapsed:   13.1s finished\n"
     ]
    },
    {
     "name": "stdout",
     "output_type": "stream",
     "text": [
      "874\n"
     ]
    },
    {
     "name": "stderr",
     "output_type": "stream",
     "text": [
      "[Parallel(n_jobs=4)]: Using backend LokyBackend with 4 concurrent workers.\n",
      "[Parallel(n_jobs=4)]: Done   5 tasks      | elapsed:    2.3s\n",
      "[Parallel(n_jobs=4)]: Done  10 tasks      | elapsed:    3.7s\n",
      "[Parallel(n_jobs=4)]: Done  17 tasks      | elapsed:    5.3s\n",
      "[Parallel(n_jobs=4)]: Done  24 tasks      | elapsed:    7.0s\n",
      "[Parallel(n_jobs=4)]: Done  33 tasks      | elapsed:    9.6s\n",
      "[Parallel(n_jobs=4)]: Done  42 tasks      | elapsed:   11.4s\n",
      "[Parallel(n_jobs=4)]: Done  51 out of  51 | elapsed:   13.4s finished\n"
     ]
    },
    {
     "name": "stdout",
     "output_type": "stream",
     "text": [
      "875\n"
     ]
    },
    {
     "name": "stderr",
     "output_type": "stream",
     "text": [
      "[Parallel(n_jobs=4)]: Using backend LokyBackend with 4 concurrent workers.\n",
      "[Parallel(n_jobs=4)]: Done   5 tasks      | elapsed:    1.9s\n",
      "[Parallel(n_jobs=4)]: Done  10 tasks      | elapsed:    3.5s\n",
      "[Parallel(n_jobs=4)]: Done  17 tasks      | elapsed:    5.4s\n",
      "[Parallel(n_jobs=4)]: Done  24 tasks      | elapsed:    6.9s\n",
      "[Parallel(n_jobs=4)]: Done  33 tasks      | elapsed:    9.3s\n",
      "[Parallel(n_jobs=4)]: Done  42 tasks      | elapsed:   11.3s\n",
      "[Parallel(n_jobs=4)]: Done  54 out of  54 | elapsed:   14.2s finished\n"
     ]
    },
    {
     "name": "stdout",
     "output_type": "stream",
     "text": [
      "876\n"
     ]
    },
    {
     "name": "stderr",
     "output_type": "stream",
     "text": [
      "[Parallel(n_jobs=4)]: Using backend LokyBackend with 4 concurrent workers.\n",
      "[Parallel(n_jobs=4)]: Done   5 tasks      | elapsed:    2.2s\n",
      "[Parallel(n_jobs=4)]: Done  10 tasks      | elapsed:    3.2s\n",
      "[Parallel(n_jobs=4)]: Done  17 tasks      | elapsed:    5.6s\n",
      "[Parallel(n_jobs=4)]: Done  24 tasks      | elapsed:    7.0s\n",
      "[Parallel(n_jobs=4)]: Done  33 tasks      | elapsed:    9.1s\n",
      "[Parallel(n_jobs=4)]: Done  42 tasks      | elapsed:   10.9s\n",
      "[Parallel(n_jobs=4)]: Done  51 out of  51 | elapsed:   12.9s finished\n"
     ]
    },
    {
     "name": "stdout",
     "output_type": "stream",
     "text": [
      "877\n"
     ]
    },
    {
     "name": "stderr",
     "output_type": "stream",
     "text": [
      "[Parallel(n_jobs=4)]: Using backend LokyBackend with 4 concurrent workers.\n",
      "[Parallel(n_jobs=4)]: Done   5 tasks      | elapsed:    2.3s\n",
      "[Parallel(n_jobs=4)]: Done  10 tasks      | elapsed:    3.3s\n",
      "[Parallel(n_jobs=4)]: Done  17 tasks      | elapsed:    5.3s\n",
      "[Parallel(n_jobs=4)]: Done  24 tasks      | elapsed:    7.6s\n",
      "[Parallel(n_jobs=4)]: Done  33 tasks      | elapsed:    9.5s\n",
      "[Parallel(n_jobs=4)]: Done  42 tasks      | elapsed:   11.8s\n",
      "[Parallel(n_jobs=4)]: Done  54 out of  54 | elapsed:   14.6s finished\n"
     ]
    },
    {
     "name": "stdout",
     "output_type": "stream",
     "text": [
      "878\n"
     ]
    },
    {
     "name": "stderr",
     "output_type": "stream",
     "text": [
      "[Parallel(n_jobs=4)]: Using backend LokyBackend with 4 concurrent workers.\n",
      "[Parallel(n_jobs=4)]: Done   5 tasks      | elapsed:    2.0s\n",
      "[Parallel(n_jobs=4)]: Done  10 tasks      | elapsed:    3.0s\n",
      "[Parallel(n_jobs=4)]: Done  17 tasks      | elapsed:    5.4s\n",
      "[Parallel(n_jobs=4)]: Done  24 tasks      | elapsed:    7.0s\n",
      "[Parallel(n_jobs=4)]: Done  33 tasks      | elapsed:    9.0s\n",
      "[Parallel(n_jobs=4)]: Done  42 tasks      | elapsed:   11.1s\n",
      "[Parallel(n_jobs=4)]: Done  53 out of  53 | elapsed:   13.5s finished\n"
     ]
    },
    {
     "name": "stdout",
     "output_type": "stream",
     "text": [
      "879\n"
     ]
    },
    {
     "name": "stderr",
     "output_type": "stream",
     "text": [
      "[Parallel(n_jobs=4)]: Using backend LokyBackend with 4 concurrent workers.\n",
      "[Parallel(n_jobs=4)]: Done   5 tasks      | elapsed:    1.9s\n",
      "[Parallel(n_jobs=4)]: Done  10 tasks      | elapsed:    3.3s\n",
      "[Parallel(n_jobs=4)]: Done  17 tasks      | elapsed:    4.6s\n",
      "[Parallel(n_jobs=4)]: Done  24 tasks      | elapsed:    6.1s\n",
      "[Parallel(n_jobs=4)]: Done  33 tasks      | elapsed:    7.9s\n",
      "[Parallel(n_jobs=4)]: Done  42 tasks      | elapsed:   10.1s\n",
      "[Parallel(n_jobs=4)]: Done  54 out of  54 | elapsed:   12.6s finished\n"
     ]
    },
    {
     "name": "stdout",
     "output_type": "stream",
     "text": [
      "880\n"
     ]
    },
    {
     "name": "stderr",
     "output_type": "stream",
     "text": [
      "[Parallel(n_jobs=4)]: Using backend LokyBackend with 4 concurrent workers.\n",
      "[Parallel(n_jobs=4)]: Done   5 tasks      | elapsed:    2.3s\n",
      "[Parallel(n_jobs=4)]: Done  10 tasks      | elapsed:    3.4s\n",
      "[Parallel(n_jobs=4)]: Done  17 tasks      | elapsed:    6.0s\n",
      "[Parallel(n_jobs=4)]: Done  24 tasks      | elapsed:    7.5s\n",
      "[Parallel(n_jobs=4)]: Done  33 tasks      | elapsed:   10.1s\n",
      "[Parallel(n_jobs=4)]: Done  42 tasks      | elapsed:   12.1s\n",
      "[Parallel(n_jobs=4)]: Done  54 out of  54 | elapsed:   15.1s finished\n"
     ]
    },
    {
     "name": "stdout",
     "output_type": "stream",
     "text": [
      "881\n"
     ]
    },
    {
     "name": "stderr",
     "output_type": "stream",
     "text": [
      "[Parallel(n_jobs=4)]: Using backend LokyBackend with 4 concurrent workers.\n",
      "[Parallel(n_jobs=4)]: Done   5 tasks      | elapsed:    1.9s\n",
      "[Parallel(n_jobs=4)]: Done  10 tasks      | elapsed:    3.1s\n",
      "[Parallel(n_jobs=4)]: Done  17 tasks      | elapsed:    4.7s\n",
      "[Parallel(n_jobs=4)]: Done  24 tasks      | elapsed:    6.1s\n",
      "[Parallel(n_jobs=4)]: Done  33 tasks      | elapsed:    8.1s\n",
      "[Parallel(n_jobs=4)]: Done  42 tasks      | elapsed:   10.3s\n",
      "[Parallel(n_jobs=4)]: Done  55 out of  55 | elapsed:   13.1s finished\n"
     ]
    },
    {
     "name": "stdout",
     "output_type": "stream",
     "text": [
      "882\n"
     ]
    },
    {
     "name": "stderr",
     "output_type": "stream",
     "text": [
      "[Parallel(n_jobs=4)]: Using backend LokyBackend with 4 concurrent workers.\n",
      "[Parallel(n_jobs=4)]: Done   5 tasks      | elapsed:    2.4s\n",
      "[Parallel(n_jobs=4)]: Done  10 tasks      | elapsed:    3.4s\n",
      "[Parallel(n_jobs=4)]: Done  17 tasks      | elapsed:    5.6s\n",
      "[Parallel(n_jobs=4)]: Done  24 tasks      | elapsed:    7.8s\n",
      "[Parallel(n_jobs=4)]: Done  33 tasks      | elapsed:   10.2s\n",
      "[Parallel(n_jobs=4)]: Done  42 tasks      | elapsed:   12.6s\n",
      "[Parallel(n_jobs=4)]: Done  53 out of  53 | elapsed:   15.5s finished\n"
     ]
    },
    {
     "name": "stdout",
     "output_type": "stream",
     "text": [
      "883\n"
     ]
    },
    {
     "name": "stderr",
     "output_type": "stream",
     "text": [
      "[Parallel(n_jobs=4)]: Using backend LokyBackend with 4 concurrent workers.\n",
      "[Parallel(n_jobs=4)]: Done   5 tasks      | elapsed:    2.1s\n",
      "[Parallel(n_jobs=4)]: Done  10 tasks      | elapsed:    3.0s\n",
      "[Parallel(n_jobs=4)]: Done  17 tasks      | elapsed:    5.0s\n",
      "[Parallel(n_jobs=4)]: Done  24 tasks      | elapsed:    6.6s\n",
      "[Parallel(n_jobs=4)]: Done  33 tasks      | elapsed:    8.9s\n",
      "[Parallel(n_jobs=4)]: Done  42 tasks      | elapsed:   10.9s\n",
      "[Parallel(n_jobs=4)]: Done  54 out of  54 | elapsed:   13.5s finished\n"
     ]
    },
    {
     "name": "stdout",
     "output_type": "stream",
     "text": [
      "884\n"
     ]
    },
    {
     "name": "stderr",
     "output_type": "stream",
     "text": [
      "[Parallel(n_jobs=4)]: Using backend LokyBackend with 4 concurrent workers.\n",
      "[Parallel(n_jobs=4)]: Done   5 tasks      | elapsed:    2.0s\n",
      "[Parallel(n_jobs=4)]: Done  10 tasks      | elapsed:    3.0s\n",
      "[Parallel(n_jobs=4)]: Done  17 tasks      | elapsed:    5.0s\n",
      "[Parallel(n_jobs=4)]: Done  24 tasks      | elapsed:    6.8s\n",
      "[Parallel(n_jobs=4)]: Done  33 tasks      | elapsed:    9.1s\n",
      "[Parallel(n_jobs=4)]: Done  42 tasks      | elapsed:   11.3s\n",
      "[Parallel(n_jobs=4)]: Done  53 out of  53 | elapsed:   13.3s finished\n"
     ]
    },
    {
     "name": "stdout",
     "output_type": "stream",
     "text": [
      "885\n"
     ]
    },
    {
     "name": "stderr",
     "output_type": "stream",
     "text": [
      "[Parallel(n_jobs=4)]: Using backend LokyBackend with 4 concurrent workers.\n",
      "[Parallel(n_jobs=4)]: Done   5 tasks      | elapsed:    2.4s\n",
      "[Parallel(n_jobs=4)]: Done  10 tasks      | elapsed:    3.8s\n",
      "[Parallel(n_jobs=4)]: Done  17 tasks      | elapsed:    5.6s\n",
      "[Parallel(n_jobs=4)]: Done  24 tasks      | elapsed:    7.9s\n",
      "[Parallel(n_jobs=4)]: Done  33 tasks      | elapsed:    9.8s\n",
      "[Parallel(n_jobs=4)]: Done  42 out of  44 | elapsed:   11.7s remaining:    0.6s\n",
      "[Parallel(n_jobs=4)]: Done  44 out of  44 | elapsed:   12.3s finished\n"
     ]
    },
    {
     "name": "stdout",
     "output_type": "stream",
     "text": [
      "886\n"
     ]
    },
    {
     "name": "stderr",
     "output_type": "stream",
     "text": [
      "[Parallel(n_jobs=4)]: Using backend LokyBackend with 4 concurrent workers.\n",
      "[Parallel(n_jobs=4)]: Done   5 tasks      | elapsed:    2.1s\n",
      "[Parallel(n_jobs=4)]: Done  10 tasks      | elapsed:    3.5s\n",
      "[Parallel(n_jobs=4)]: Done  17 tasks      | elapsed:    5.8s\n",
      "[Parallel(n_jobs=4)]: Done  24 tasks      | elapsed:    7.7s\n",
      "[Parallel(n_jobs=4)]: Done  33 tasks      | elapsed:    9.8s\n",
      "[Parallel(n_jobs=4)]: Done  42 tasks      | elapsed:   12.0s\n",
      "[Parallel(n_jobs=4)]: Done  47 out of  49 | elapsed:   12.9s remaining:    0.6s\n",
      "[Parallel(n_jobs=4)]: Done  49 out of  49 | elapsed:   13.7s finished\n"
     ]
    },
    {
     "name": "stdout",
     "output_type": "stream",
     "text": [
      "887\n"
     ]
    },
    {
     "name": "stderr",
     "output_type": "stream",
     "text": [
      "[Parallel(n_jobs=4)]: Using backend LokyBackend with 4 concurrent workers.\n",
      "[Parallel(n_jobs=4)]: Done   5 tasks      | elapsed:    1.9s\n",
      "[Parallel(n_jobs=4)]: Done  10 tasks      | elapsed:    3.4s\n",
      "[Parallel(n_jobs=4)]: Done  17 tasks      | elapsed:    5.3s\n",
      "[Parallel(n_jobs=4)]: Done  24 tasks      | elapsed:    6.9s\n",
      "[Parallel(n_jobs=4)]: Done  33 tasks      | elapsed:    8.9s\n",
      "[Parallel(n_jobs=4)]: Done  42 tasks      | elapsed:   10.8s\n",
      "[Parallel(n_jobs=4)]: Done  52 out of  52 | elapsed:   13.3s finished\n"
     ]
    },
    {
     "name": "stdout",
     "output_type": "stream",
     "text": [
      "888\n"
     ]
    },
    {
     "name": "stderr",
     "output_type": "stream",
     "text": [
      "[Parallel(n_jobs=4)]: Using backend LokyBackend with 4 concurrent workers.\n",
      "[Parallel(n_jobs=4)]: Done   5 tasks      | elapsed:    2.5s\n",
      "[Parallel(n_jobs=4)]: Done  10 tasks      | elapsed:    3.6s\n",
      "[Parallel(n_jobs=4)]: Done  17 tasks      | elapsed:    5.5s\n",
      "[Parallel(n_jobs=4)]: Done  24 tasks      | elapsed:    7.5s\n",
      "[Parallel(n_jobs=4)]: Done  33 tasks      | elapsed:   10.1s\n",
      "[Parallel(n_jobs=4)]: Done  42 tasks      | elapsed:   12.3s\n",
      "[Parallel(n_jobs=4)]: Done  53 out of  53 | elapsed:   14.5s finished\n"
     ]
    },
    {
     "name": "stdout",
     "output_type": "stream",
     "text": [
      "889\n"
     ]
    },
    {
     "name": "stderr",
     "output_type": "stream",
     "text": [
      "[Parallel(n_jobs=4)]: Using backend LokyBackend with 4 concurrent workers.\n",
      "[Parallel(n_jobs=4)]: Done   5 tasks      | elapsed:    2.2s\n",
      "[Parallel(n_jobs=4)]: Done  10 tasks      | elapsed:    3.4s\n",
      "[Parallel(n_jobs=4)]: Done  17 tasks      | elapsed:    5.2s\n",
      "[Parallel(n_jobs=4)]: Done  24 tasks      | elapsed:    6.6s\n",
      "[Parallel(n_jobs=4)]: Done  33 tasks      | elapsed:    9.1s\n",
      "[Parallel(n_jobs=4)]: Done  42 tasks      | elapsed:   10.7s\n",
      "[Parallel(n_jobs=4)]: Done  53 out of  53 | elapsed:   13.0s finished\n"
     ]
    },
    {
     "name": "stdout",
     "output_type": "stream",
     "text": [
      "890\n"
     ]
    },
    {
     "name": "stderr",
     "output_type": "stream",
     "text": [
      "[Parallel(n_jobs=4)]: Using backend LokyBackend with 4 concurrent workers.\n",
      "[Parallel(n_jobs=4)]: Done   5 tasks      | elapsed:    2.3s\n",
      "[Parallel(n_jobs=4)]: Done  10 tasks      | elapsed:    3.9s\n",
      "[Parallel(n_jobs=4)]: Done  17 tasks      | elapsed:    6.0s\n",
      "[Parallel(n_jobs=4)]: Done  24 tasks      | elapsed:    8.0s\n",
      "[Parallel(n_jobs=4)]: Done  33 tasks      | elapsed:   10.4s\n",
      "[Parallel(n_jobs=4)]: Done  42 tasks      | elapsed:   13.0s\n",
      "[Parallel(n_jobs=4)]: Done  47 out of  49 | elapsed:   14.0s remaining:    0.6s\n",
      "[Parallel(n_jobs=4)]: Done  49 out of  49 | elapsed:   14.6s finished\n"
     ]
    },
    {
     "name": "stdout",
     "output_type": "stream",
     "text": [
      "891\n"
     ]
    },
    {
     "name": "stderr",
     "output_type": "stream",
     "text": [
      "[Parallel(n_jobs=4)]: Using backend LokyBackend with 4 concurrent workers.\n",
      "[Parallel(n_jobs=4)]: Done   5 tasks      | elapsed:    2.3s\n",
      "[Parallel(n_jobs=4)]: Done  10 tasks      | elapsed:    3.3s\n",
      "[Parallel(n_jobs=4)]: Done  17 tasks      | elapsed:    5.3s\n",
      "[Parallel(n_jobs=4)]: Done  24 tasks      | elapsed:    7.2s\n",
      "[Parallel(n_jobs=4)]: Done  33 tasks      | elapsed:    9.6s\n",
      "[Parallel(n_jobs=4)]: Done  42 tasks      | elapsed:   12.1s\n",
      "[Parallel(n_jobs=4)]: Done  50 out of  50 | elapsed:   13.8s finished\n"
     ]
    },
    {
     "name": "stdout",
     "output_type": "stream",
     "text": [
      "892\n"
     ]
    },
    {
     "name": "stderr",
     "output_type": "stream",
     "text": [
      "[Parallel(n_jobs=4)]: Using backend LokyBackend with 4 concurrent workers.\n",
      "[Parallel(n_jobs=4)]: Done   5 tasks      | elapsed:    2.0s\n",
      "[Parallel(n_jobs=4)]: Done  10 tasks      | elapsed:    3.4s\n",
      "[Parallel(n_jobs=4)]: Done  17 tasks      | elapsed:    5.5s\n",
      "[Parallel(n_jobs=4)]: Done  24 tasks      | elapsed:    7.7s\n",
      "[Parallel(n_jobs=4)]: Done  33 tasks      | elapsed:   10.1s\n",
      "[Parallel(n_jobs=4)]: Done  46 out of  48 | elapsed:   14.0s remaining:    0.6s\n",
      "[Parallel(n_jobs=4)]: Done  48 out of  48 | elapsed:   14.6s finished\n"
     ]
    },
    {
     "name": "stdout",
     "output_type": "stream",
     "text": [
      "893\n"
     ]
    },
    {
     "name": "stderr",
     "output_type": "stream",
     "text": [
      "[Parallel(n_jobs=4)]: Using backend LokyBackend with 4 concurrent workers.\n",
      "[Parallel(n_jobs=4)]: Done   5 tasks      | elapsed:    2.0s\n",
      "[Parallel(n_jobs=4)]: Done  10 tasks      | elapsed:    3.1s\n",
      "[Parallel(n_jobs=4)]: Done  17 tasks      | elapsed:    5.2s\n",
      "[Parallel(n_jobs=4)]: Done  24 tasks      | elapsed:    6.9s\n",
      "[Parallel(n_jobs=4)]: Done  33 tasks      | elapsed:    9.0s\n",
      "[Parallel(n_jobs=4)]: Done  42 tasks      | elapsed:   11.0s\n",
      "[Parallel(n_jobs=4)]: Done  52 out of  52 | elapsed:   13.6s finished\n"
     ]
    },
    {
     "name": "stdout",
     "output_type": "stream",
     "text": [
      "894\n"
     ]
    },
    {
     "name": "stderr",
     "output_type": "stream",
     "text": [
      "[Parallel(n_jobs=4)]: Using backend LokyBackend with 4 concurrent workers.\n",
      "[Parallel(n_jobs=4)]: Done   5 tasks      | elapsed:    2.1s\n",
      "[Parallel(n_jobs=4)]: Done  10 tasks      | elapsed:    3.3s\n",
      "[Parallel(n_jobs=4)]: Done  17 tasks      | elapsed:    4.9s\n",
      "[Parallel(n_jobs=4)]: Done  24 tasks      | elapsed:    6.5s\n",
      "[Parallel(n_jobs=4)]: Done  33 tasks      | elapsed:    8.9s\n",
      "[Parallel(n_jobs=4)]: Done  42 tasks      | elapsed:   10.7s\n",
      "[Parallel(n_jobs=4)]: Done  52 out of  52 | elapsed:   12.5s finished\n"
     ]
    },
    {
     "name": "stdout",
     "output_type": "stream",
     "text": [
      "895\n"
     ]
    },
    {
     "name": "stderr",
     "output_type": "stream",
     "text": [
      "[Parallel(n_jobs=4)]: Using backend LokyBackend with 4 concurrent workers.\n",
      "[Parallel(n_jobs=4)]: Done   5 tasks      | elapsed:    2.3s\n",
      "[Parallel(n_jobs=4)]: Done  10 tasks      | elapsed:    3.7s\n",
      "[Parallel(n_jobs=4)]: Done  17 tasks      | elapsed:    5.8s\n",
      "[Parallel(n_jobs=4)]: Done  24 tasks      | elapsed:    8.1s\n",
      "[Parallel(n_jobs=4)]: Done  33 tasks      | elapsed:   10.6s\n",
      "[Parallel(n_jobs=4)]: Done  42 tasks      | elapsed:   13.3s\n",
      "[Parallel(n_jobs=4)]: Done  53 out of  53 | elapsed:   16.1s finished\n"
     ]
    },
    {
     "name": "stdout",
     "output_type": "stream",
     "text": [
      "896\n"
     ]
    },
    {
     "name": "stderr",
     "output_type": "stream",
     "text": [
      "[Parallel(n_jobs=4)]: Using backend LokyBackend with 4 concurrent workers.\n",
      "[Parallel(n_jobs=4)]: Done   5 tasks      | elapsed:    2.4s\n",
      "[Parallel(n_jobs=4)]: Done  10 tasks      | elapsed:    3.5s\n",
      "[Parallel(n_jobs=4)]: Done  17 tasks      | elapsed:    5.4s\n",
      "[Parallel(n_jobs=4)]: Done  24 tasks      | elapsed:    7.7s\n",
      "[Parallel(n_jobs=4)]: Done  33 tasks      | elapsed:   10.2s\n",
      "[Parallel(n_jobs=4)]: Done  42 tasks      | elapsed:   12.7s\n",
      "[Parallel(n_jobs=4)]: Done  51 out of  51 | elapsed:   14.4s finished\n"
     ]
    },
    {
     "name": "stdout",
     "output_type": "stream",
     "text": [
      "897\n"
     ]
    },
    {
     "name": "stderr",
     "output_type": "stream",
     "text": [
      "[Parallel(n_jobs=4)]: Using backend LokyBackend with 4 concurrent workers.\n",
      "[Parallel(n_jobs=4)]: Done   5 tasks      | elapsed:    2.2s\n",
      "[Parallel(n_jobs=4)]: Done  10 tasks      | elapsed:    3.2s\n",
      "[Parallel(n_jobs=4)]: Done  17 tasks      | elapsed:    5.3s\n",
      "[Parallel(n_jobs=4)]: Done  24 tasks      | elapsed:    6.9s\n",
      "[Parallel(n_jobs=4)]: Done  33 tasks      | elapsed:    8.7s\n",
      "[Parallel(n_jobs=4)]: Done  42 tasks      | elapsed:   10.8s\n",
      "[Parallel(n_jobs=4)]: Done  52 out of  52 | elapsed:   13.3s finished\n"
     ]
    },
    {
     "name": "stdout",
     "output_type": "stream",
     "text": [
      "898\n"
     ]
    },
    {
     "name": "stderr",
     "output_type": "stream",
     "text": [
      "[Parallel(n_jobs=4)]: Using backend LokyBackend with 4 concurrent workers.\n",
      "[Parallel(n_jobs=4)]: Done   5 tasks      | elapsed:    1.9s\n",
      "[Parallel(n_jobs=4)]: Done  10 tasks      | elapsed:    3.0s\n",
      "[Parallel(n_jobs=4)]: Done  17 tasks      | elapsed:    4.8s\n",
      "[Parallel(n_jobs=4)]: Done  24 tasks      | elapsed:    6.8s\n",
      "[Parallel(n_jobs=4)]: Done  33 tasks      | elapsed:    8.8s\n",
      "[Parallel(n_jobs=4)]: Done  42 tasks      | elapsed:   11.4s\n",
      "[Parallel(n_jobs=4)]: Done  52 out of  52 | elapsed:   13.4s finished\n"
     ]
    },
    {
     "name": "stdout",
     "output_type": "stream",
     "text": [
      "899\n"
     ]
    },
    {
     "name": "stderr",
     "output_type": "stream",
     "text": [
      "[Parallel(n_jobs=4)]: Using backend LokyBackend with 4 concurrent workers.\n",
      "[Parallel(n_jobs=4)]: Done   5 tasks      | elapsed:    2.5s\n",
      "[Parallel(n_jobs=4)]: Done  10 tasks      | elapsed:    3.6s\n",
      "[Parallel(n_jobs=4)]: Done  17 tasks      | elapsed:    5.5s\n",
      "[Parallel(n_jobs=4)]: Done  24 tasks      | elapsed:    7.4s\n",
      "[Parallel(n_jobs=4)]: Done  33 tasks      | elapsed:    9.4s\n",
      "[Parallel(n_jobs=4)]: Done  42 tasks      | elapsed:   11.3s\n",
      "[Parallel(n_jobs=4)]: Done  53 out of  53 | elapsed:   13.8s finished\n"
     ]
    },
    {
     "name": "stdout",
     "output_type": "stream",
     "text": [
      "900\n"
     ]
    },
    {
     "name": "stderr",
     "output_type": "stream",
     "text": [
      "[Parallel(n_jobs=4)]: Using backend LokyBackend with 4 concurrent workers.\n",
      "[Parallel(n_jobs=4)]: Done   5 tasks      | elapsed:    2.0s\n",
      "[Parallel(n_jobs=4)]: Done  10 tasks      | elapsed:    3.4s\n",
      "[Parallel(n_jobs=4)]: Done  17 tasks      | elapsed:    5.3s\n",
      "[Parallel(n_jobs=4)]: Done  24 tasks      | elapsed:    7.5s\n",
      "[Parallel(n_jobs=4)]: Done  33 tasks      | elapsed:   10.4s\n",
      "[Parallel(n_jobs=4)]: Done  46 out of  48 | elapsed:   13.7s remaining:    0.6s\n",
      "[Parallel(n_jobs=4)]: Done  48 out of  48 | elapsed:   14.2s finished\n"
     ]
    },
    {
     "name": "stdout",
     "output_type": "stream",
     "text": [
      "901\n"
     ]
    },
    {
     "name": "stderr",
     "output_type": "stream",
     "text": [
      "[Parallel(n_jobs=4)]: Using backend LokyBackend with 4 concurrent workers.\n",
      "[Parallel(n_jobs=4)]: Done   5 tasks      | elapsed:    2.4s\n",
      "[Parallel(n_jobs=4)]: Done  10 tasks      | elapsed:    3.6s\n",
      "[Parallel(n_jobs=4)]: Done  17 tasks      | elapsed:    5.7s\n",
      "[Parallel(n_jobs=4)]: Done  24 tasks      | elapsed:    7.6s\n",
      "[Parallel(n_jobs=4)]: Done  33 tasks      | elapsed:    9.7s\n",
      "[Parallel(n_jobs=4)]: Done  42 tasks      | elapsed:   11.7s\n",
      "[Parallel(n_jobs=4)]: Done  51 out of  51 | elapsed:   13.6s finished\n"
     ]
    },
    {
     "name": "stdout",
     "output_type": "stream",
     "text": [
      "902\n"
     ]
    },
    {
     "name": "stderr",
     "output_type": "stream",
     "text": [
      "[Parallel(n_jobs=4)]: Using backend LokyBackend with 4 concurrent workers.\n",
      "[Parallel(n_jobs=4)]: Done   5 tasks      | elapsed:    2.5s\n",
      "[Parallel(n_jobs=4)]: Done  10 tasks      | elapsed:    4.3s\n",
      "[Parallel(n_jobs=4)]: Done  17 tasks      | elapsed:    6.3s\n",
      "[Parallel(n_jobs=4)]: Done  24 tasks      | elapsed:    7.7s\n",
      "[Parallel(n_jobs=4)]: Done  33 tasks      | elapsed:   10.2s\n",
      "[Parallel(n_jobs=4)]: Done  42 tasks      | elapsed:   11.9s\n",
      "[Parallel(n_jobs=4)]: Done  53 out of  53 | elapsed:   14.3s finished\n"
     ]
    },
    {
     "name": "stdout",
     "output_type": "stream",
     "text": [
      "903\n"
     ]
    },
    {
     "name": "stderr",
     "output_type": "stream",
     "text": [
      "[Parallel(n_jobs=4)]: Using backend LokyBackend with 4 concurrent workers.\n",
      "[Parallel(n_jobs=4)]: Done   5 tasks      | elapsed:    2.9s\n",
      "[Parallel(n_jobs=4)]: Done  10 tasks      | elapsed:    4.0s\n",
      "[Parallel(n_jobs=4)]: Done  17 tasks      | elapsed:    5.9s\n",
      "[Parallel(n_jobs=4)]: Done  24 tasks      | elapsed:    7.9s\n",
      "[Parallel(n_jobs=4)]: Done  33 tasks      | elapsed:    9.8s\n",
      "[Parallel(n_jobs=4)]: Done  42 tasks      | elapsed:   12.2s\n",
      "[Parallel(n_jobs=4)]: Done  51 out of  51 | elapsed:   14.5s finished\n"
     ]
    },
    {
     "name": "stdout",
     "output_type": "stream",
     "text": [
      "904\n"
     ]
    },
    {
     "name": "stderr",
     "output_type": "stream",
     "text": [
      "[Parallel(n_jobs=4)]: Using backend LokyBackend with 4 concurrent workers.\n",
      "[Parallel(n_jobs=4)]: Done   5 tasks      | elapsed:    1.9s\n",
      "[Parallel(n_jobs=4)]: Done  10 tasks      | elapsed:    3.2s\n",
      "[Parallel(n_jobs=4)]: Done  17 tasks      | elapsed:    5.2s\n",
      "[Parallel(n_jobs=4)]: Done  24 tasks      | elapsed:    7.0s\n",
      "[Parallel(n_jobs=4)]: Done  33 tasks      | elapsed:    9.3s\n",
      "[Parallel(n_jobs=4)]: Done  42 tasks      | elapsed:   11.4s\n",
      "[Parallel(n_jobs=4)]: Done  47 out of  49 | elapsed:   12.5s remaining:    0.5s\n",
      "[Parallel(n_jobs=4)]: Done  49 out of  49 | elapsed:   13.3s finished\n"
     ]
    },
    {
     "name": "stdout",
     "output_type": "stream",
     "text": [
      "905\n"
     ]
    },
    {
     "name": "stderr",
     "output_type": "stream",
     "text": [
      "[Parallel(n_jobs=4)]: Using backend LokyBackend with 4 concurrent workers.\n",
      "[Parallel(n_jobs=4)]: Done   5 tasks      | elapsed:    2.1s\n",
      "[Parallel(n_jobs=4)]: Done  10 tasks      | elapsed:    3.5s\n",
      "[Parallel(n_jobs=4)]: Done  17 tasks      | elapsed:    5.5s\n",
      "[Parallel(n_jobs=4)]: Done  24 tasks      | elapsed:    7.5s\n",
      "[Parallel(n_jobs=4)]: Done  33 tasks      | elapsed:   10.0s\n",
      "[Parallel(n_jobs=4)]: Done  42 tasks      | elapsed:   12.7s\n",
      "[Parallel(n_jobs=4)]: Done  51 out of  51 | elapsed:   14.7s finished\n"
     ]
    },
    {
     "name": "stdout",
     "output_type": "stream",
     "text": [
      "906\n"
     ]
    },
    {
     "name": "stderr",
     "output_type": "stream",
     "text": [
      "[Parallel(n_jobs=4)]: Using backend LokyBackend with 4 concurrent workers.\n",
      "[Parallel(n_jobs=4)]: Done   5 tasks      | elapsed:    2.0s\n",
      "[Parallel(n_jobs=4)]: Done  10 tasks      | elapsed:    3.7s\n",
      "[Parallel(n_jobs=4)]: Done  17 tasks      | elapsed:    5.2s\n",
      "[Parallel(n_jobs=4)]: Done  24 tasks      | elapsed:    6.8s\n",
      "[Parallel(n_jobs=4)]: Done  33 tasks      | elapsed:    9.0s\n",
      "[Parallel(n_jobs=4)]: Done  42 tasks      | elapsed:   10.6s\n",
      "[Parallel(n_jobs=4)]: Done  51 out of  51 | elapsed:   12.6s finished\n"
     ]
    },
    {
     "name": "stdout",
     "output_type": "stream",
     "text": [
      "907\n"
     ]
    },
    {
     "name": "stderr",
     "output_type": "stream",
     "text": [
      "[Parallel(n_jobs=4)]: Using backend LokyBackend with 4 concurrent workers.\n",
      "[Parallel(n_jobs=4)]: Done   5 tasks      | elapsed:    1.8s\n",
      "[Parallel(n_jobs=4)]: Done  10 tasks      | elapsed:    3.2s\n",
      "[Parallel(n_jobs=4)]: Done  17 tasks      | elapsed:    4.7s\n",
      "[Parallel(n_jobs=4)]: Done  24 tasks      | elapsed:    6.7s\n",
      "[Parallel(n_jobs=4)]: Done  33 tasks      | elapsed:    8.8s\n",
      "[Parallel(n_jobs=4)]: Done  42 tasks      | elapsed:   10.9s\n",
      "[Parallel(n_jobs=4)]: Done  47 out of  49 | elapsed:   12.2s remaining:    0.5s\n",
      "[Parallel(n_jobs=4)]: Done  49 out of  49 | elapsed:   12.3s finished\n"
     ]
    },
    {
     "name": "stdout",
     "output_type": "stream",
     "text": [
      "908\n"
     ]
    },
    {
     "name": "stderr",
     "output_type": "stream",
     "text": [
      "[Parallel(n_jobs=4)]: Using backend LokyBackend with 4 concurrent workers.\n",
      "[Parallel(n_jobs=4)]: Done   5 tasks      | elapsed:    2.2s\n",
      "[Parallel(n_jobs=4)]: Done  10 tasks      | elapsed:    3.1s\n",
      "[Parallel(n_jobs=4)]: Done  17 tasks      | elapsed:    4.9s\n",
      "[Parallel(n_jobs=4)]: Done  24 tasks      | elapsed:    7.1s\n",
      "[Parallel(n_jobs=4)]: Done  33 tasks      | elapsed:    9.1s\n",
      "[Parallel(n_jobs=4)]: Done  42 tasks      | elapsed:   11.7s\n",
      "[Parallel(n_jobs=4)]: Done  50 out of  50 | elapsed:   13.3s finished\n"
     ]
    },
    {
     "name": "stdout",
     "output_type": "stream",
     "text": [
      "909\n"
     ]
    },
    {
     "name": "stderr",
     "output_type": "stream",
     "text": [
      "[Parallel(n_jobs=4)]: Using backend LokyBackend with 4 concurrent workers.\n",
      "[Parallel(n_jobs=4)]: Done   5 tasks      | elapsed:    2.0s\n",
      "[Parallel(n_jobs=4)]: Done  10 tasks      | elapsed:    3.5s\n",
      "[Parallel(n_jobs=4)]: Done  17 tasks      | elapsed:    5.0s\n",
      "[Parallel(n_jobs=4)]: Done  24 tasks      | elapsed:    6.8s\n",
      "[Parallel(n_jobs=4)]: Done  33 tasks      | elapsed:    9.0s\n",
      "[Parallel(n_jobs=4)]: Done  42 tasks      | elapsed:   10.9s\n",
      "[Parallel(n_jobs=4)]: Done  50 out of  50 | elapsed:   12.5s finished\n"
     ]
    },
    {
     "name": "stdout",
     "output_type": "stream",
     "text": [
      "910\n"
     ]
    },
    {
     "name": "stderr",
     "output_type": "stream",
     "text": [
      "[Parallel(n_jobs=4)]: Using backend LokyBackend with 4 concurrent workers.\n",
      "[Parallel(n_jobs=4)]: Done   5 tasks      | elapsed:    2.0s\n",
      "[Parallel(n_jobs=4)]: Done  10 tasks      | elapsed:    3.0s\n",
      "[Parallel(n_jobs=4)]: Done  17 tasks      | elapsed:    4.9s\n",
      "[Parallel(n_jobs=4)]: Done  24 tasks      | elapsed:    6.8s\n",
      "[Parallel(n_jobs=4)]: Done  33 tasks      | elapsed:    9.1s\n",
      "[Parallel(n_jobs=4)]: Done  46 out of  48 | elapsed:   12.3s remaining:    0.5s\n",
      "[Parallel(n_jobs=4)]: Done  48 out of  48 | elapsed:   12.7s finished\n"
     ]
    },
    {
     "name": "stdout",
     "output_type": "stream",
     "text": [
      "911\n"
     ]
    },
    {
     "name": "stderr",
     "output_type": "stream",
     "text": [
      "[Parallel(n_jobs=4)]: Using backend LokyBackend with 4 concurrent workers.\n",
      "[Parallel(n_jobs=4)]: Done   5 tasks      | elapsed:    1.8s\n",
      "[Parallel(n_jobs=4)]: Done  10 tasks      | elapsed:    2.8s\n",
      "[Parallel(n_jobs=4)]: Done  17 tasks      | elapsed:    5.0s\n",
      "[Parallel(n_jobs=4)]: Done  24 tasks      | elapsed:    6.6s\n",
      "[Parallel(n_jobs=4)]: Done  33 tasks      | elapsed:    9.5s\n",
      "[Parallel(n_jobs=4)]: Done  42 tasks      | elapsed:   11.7s\n",
      "[Parallel(n_jobs=4)]: Done  50 out of  50 | elapsed:   13.5s finished\n"
     ]
    },
    {
     "name": "stdout",
     "output_type": "stream",
     "text": [
      "912\n"
     ]
    },
    {
     "name": "stderr",
     "output_type": "stream",
     "text": [
      "[Parallel(n_jobs=4)]: Using backend LokyBackend with 4 concurrent workers.\n",
      "[Parallel(n_jobs=4)]: Done   5 tasks      | elapsed:    2.2s\n",
      "[Parallel(n_jobs=4)]: Done  10 tasks      | elapsed:    3.2s\n",
      "[Parallel(n_jobs=4)]: Done  17 tasks      | elapsed:    4.8s\n",
      "[Parallel(n_jobs=4)]: Done  24 tasks      | elapsed:    6.6s\n",
      "[Parallel(n_jobs=4)]: Done  33 tasks      | elapsed:    8.6s\n",
      "[Parallel(n_jobs=4)]: Done  42 tasks      | elapsed:   10.3s\n",
      "[Parallel(n_jobs=4)]: Done  53 out of  53 | elapsed:   13.1s finished\n"
     ]
    },
    {
     "name": "stdout",
     "output_type": "stream",
     "text": [
      "913\n"
     ]
    },
    {
     "name": "stderr",
     "output_type": "stream",
     "text": [
      "[Parallel(n_jobs=4)]: Using backend LokyBackend with 4 concurrent workers.\n",
      "[Parallel(n_jobs=4)]: Done   5 tasks      | elapsed:    2.0s\n",
      "[Parallel(n_jobs=4)]: Done  10 tasks      | elapsed:    2.9s\n",
      "[Parallel(n_jobs=4)]: Done  17 tasks      | elapsed:    5.1s\n",
      "[Parallel(n_jobs=4)]: Done  24 tasks      | elapsed:    6.9s\n",
      "[Parallel(n_jobs=4)]: Done  33 tasks      | elapsed:    9.4s\n",
      "[Parallel(n_jobs=4)]: Done  42 tasks      | elapsed:   11.5s\n",
      "[Parallel(n_jobs=4)]: Done  47 out of  49 | elapsed:   13.0s remaining:    0.6s\n",
      "[Parallel(n_jobs=4)]: Done  49 out of  49 | elapsed:   13.1s finished\n"
     ]
    },
    {
     "name": "stdout",
     "output_type": "stream",
     "text": [
      "914\n"
     ]
    },
    {
     "name": "stderr",
     "output_type": "stream",
     "text": [
      "[Parallel(n_jobs=4)]: Using backend LokyBackend with 4 concurrent workers.\n",
      "[Parallel(n_jobs=4)]: Done   5 tasks      | elapsed:    1.8s\n",
      "[Parallel(n_jobs=4)]: Done  10 tasks      | elapsed:    3.4s\n",
      "[Parallel(n_jobs=4)]: Done  17 tasks      | elapsed:    5.0s\n",
      "[Parallel(n_jobs=4)]: Done  24 tasks      | elapsed:    7.5s\n",
      "[Parallel(n_jobs=4)]: Done  33 tasks      | elapsed:    9.6s\n",
      "[Parallel(n_jobs=4)]: Done  42 tasks      | elapsed:   11.6s\n",
      "[Parallel(n_jobs=4)]: Done  51 out of  51 | elapsed:   13.6s finished\n"
     ]
    },
    {
     "name": "stdout",
     "output_type": "stream",
     "text": [
      "915\n"
     ]
    },
    {
     "name": "stderr",
     "output_type": "stream",
     "text": [
      "[Parallel(n_jobs=4)]: Using backend LokyBackend with 4 concurrent workers.\n",
      "[Parallel(n_jobs=4)]: Done   5 tasks      | elapsed:    2.1s\n",
      "[Parallel(n_jobs=4)]: Done  10 tasks      | elapsed:    3.3s\n",
      "[Parallel(n_jobs=4)]: Done  17 tasks      | elapsed:    4.8s\n",
      "[Parallel(n_jobs=4)]: Done  24 tasks      | elapsed:    6.8s\n",
      "[Parallel(n_jobs=4)]: Done  33 tasks      | elapsed:    9.3s\n",
      "[Parallel(n_jobs=4)]: Done  42 tasks      | elapsed:   11.4s\n",
      "[Parallel(n_jobs=4)]: Done  51 out of  51 | elapsed:   13.8s finished\n"
     ]
    },
    {
     "name": "stdout",
     "output_type": "stream",
     "text": [
      "916\n"
     ]
    },
    {
     "name": "stderr",
     "output_type": "stream",
     "text": [
      "[Parallel(n_jobs=4)]: Using backend LokyBackend with 4 concurrent workers.\n",
      "[Parallel(n_jobs=4)]: Done   5 tasks      | elapsed:    1.9s\n",
      "[Parallel(n_jobs=4)]: Done  10 tasks      | elapsed:    3.2s\n",
      "[Parallel(n_jobs=4)]: Done  17 tasks      | elapsed:    5.0s\n",
      "[Parallel(n_jobs=4)]: Done  24 tasks      | elapsed:    6.7s\n",
      "[Parallel(n_jobs=4)]: Done  33 tasks      | elapsed:    8.6s\n",
      "[Parallel(n_jobs=4)]: Done  42 tasks      | elapsed:   10.8s\n",
      "[Parallel(n_jobs=4)]: Done  53 out of  53 | elapsed:   13.0s finished\n"
     ]
    },
    {
     "name": "stdout",
     "output_type": "stream",
     "text": [
      "917\n"
     ]
    },
    {
     "name": "stderr",
     "output_type": "stream",
     "text": [
      "[Parallel(n_jobs=4)]: Using backend LokyBackend with 4 concurrent workers.\n",
      "[Parallel(n_jobs=4)]: Done   5 tasks      | elapsed:    2.4s\n",
      "[Parallel(n_jobs=4)]: Done  10 tasks      | elapsed:    3.6s\n",
      "[Parallel(n_jobs=4)]: Done  17 tasks      | elapsed:    5.4s\n",
      "[Parallel(n_jobs=4)]: Done  24 tasks      | elapsed:    7.1s\n",
      "[Parallel(n_jobs=4)]: Done  33 tasks      | elapsed:    9.7s\n",
      "[Parallel(n_jobs=4)]: Done  42 tasks      | elapsed:   11.7s\n",
      "[Parallel(n_jobs=4)]: Done  52 out of  52 | elapsed:   14.3s finished\n"
     ]
    },
    {
     "name": "stdout",
     "output_type": "stream",
     "text": [
      "918\n"
     ]
    },
    {
     "name": "stderr",
     "output_type": "stream",
     "text": [
      "[Parallel(n_jobs=4)]: Using backend LokyBackend with 4 concurrent workers.\n",
      "[Parallel(n_jobs=4)]: Done   5 tasks      | elapsed:    2.0s\n",
      "[Parallel(n_jobs=4)]: Done  10 tasks      | elapsed:    3.4s\n",
      "[Parallel(n_jobs=4)]: Done  17 tasks      | elapsed:    5.2s\n",
      "[Parallel(n_jobs=4)]: Done  24 tasks      | elapsed:    6.7s\n",
      "[Parallel(n_jobs=4)]: Done  33 tasks      | elapsed:    8.5s\n",
      "[Parallel(n_jobs=4)]: Done  42 tasks      | elapsed:   11.0s\n",
      "[Parallel(n_jobs=4)]: Done  53 out of  53 | elapsed:   13.6s finished\n"
     ]
    },
    {
     "name": "stdout",
     "output_type": "stream",
     "text": [
      "919\n"
     ]
    },
    {
     "name": "stderr",
     "output_type": "stream",
     "text": [
      "[Parallel(n_jobs=4)]: Using backend LokyBackend with 4 concurrent workers.\n",
      "[Parallel(n_jobs=4)]: Done   5 tasks      | elapsed:    2.1s\n",
      "[Parallel(n_jobs=4)]: Done  10 tasks      | elapsed:    3.3s\n",
      "[Parallel(n_jobs=4)]: Done  17 tasks      | elapsed:    5.1s\n",
      "[Parallel(n_jobs=4)]: Done  24 tasks      | elapsed:    7.5s\n",
      "[Parallel(n_jobs=4)]: Done  33 tasks      | elapsed:    9.5s\n",
      "[Parallel(n_jobs=4)]: Done  42 tasks      | elapsed:   11.6s\n",
      "[Parallel(n_jobs=4)]: Done  51 out of  51 | elapsed:   13.6s finished\n"
     ]
    },
    {
     "name": "stdout",
     "output_type": "stream",
     "text": [
      "920\n"
     ]
    },
    {
     "name": "stderr",
     "output_type": "stream",
     "text": [
      "[Parallel(n_jobs=4)]: Using backend LokyBackend with 4 concurrent workers.\n",
      "[Parallel(n_jobs=4)]: Done   5 tasks      | elapsed:    2.1s\n",
      "[Parallel(n_jobs=4)]: Done  10 tasks      | elapsed:    3.2s\n",
      "[Parallel(n_jobs=4)]: Done  17 tasks      | elapsed:    5.3s\n",
      "[Parallel(n_jobs=4)]: Done  24 tasks      | elapsed:    7.2s\n",
      "[Parallel(n_jobs=4)]: Done  33 tasks      | elapsed:    9.1s\n",
      "[Parallel(n_jobs=4)]: Done  42 tasks      | elapsed:   11.3s\n",
      "[Parallel(n_jobs=4)]: Done  53 out of  53 | elapsed:   13.7s finished\n"
     ]
    },
    {
     "name": "stdout",
     "output_type": "stream",
     "text": [
      "921\n"
     ]
    },
    {
     "name": "stderr",
     "output_type": "stream",
     "text": [
      "[Parallel(n_jobs=4)]: Using backend LokyBackend with 4 concurrent workers.\n",
      "[Parallel(n_jobs=4)]: Done   5 tasks      | elapsed:    1.9s\n",
      "[Parallel(n_jobs=4)]: Done  10 tasks      | elapsed:    3.9s\n",
      "[Parallel(n_jobs=4)]: Done  17 tasks      | elapsed:    5.8s\n",
      "[Parallel(n_jobs=4)]: Done  24 tasks      | elapsed:    7.2s\n",
      "[Parallel(n_jobs=4)]: Done  33 tasks      | elapsed:    9.7s\n",
      "[Parallel(n_jobs=4)]: Done  42 tasks      | elapsed:   11.7s\n",
      "[Parallel(n_jobs=4)]: Done  47 out of  49 | elapsed:   12.5s remaining:    0.5s\n",
      "[Parallel(n_jobs=4)]: Done  49 out of  49 | elapsed:   12.9s finished\n"
     ]
    },
    {
     "name": "stdout",
     "output_type": "stream",
     "text": [
      "922\n"
     ]
    },
    {
     "name": "stderr",
     "output_type": "stream",
     "text": [
      "[Parallel(n_jobs=4)]: Using backend LokyBackend with 4 concurrent workers.\n",
      "[Parallel(n_jobs=4)]: Done   5 tasks      | elapsed:    2.1s\n",
      "[Parallel(n_jobs=4)]: Done  10 tasks      | elapsed:    3.5s\n",
      "[Parallel(n_jobs=4)]: Done  17 tasks      | elapsed:    5.3s\n",
      "[Parallel(n_jobs=4)]: Done  24 tasks      | elapsed:    7.2s\n",
      "[Parallel(n_jobs=4)]: Done  33 tasks      | elapsed:    9.5s\n",
      "[Parallel(n_jobs=4)]: Done  42 tasks      | elapsed:   11.9s\n",
      "[Parallel(n_jobs=4)]: Done  53 out of  53 | elapsed:   14.9s finished\n"
     ]
    },
    {
     "name": "stdout",
     "output_type": "stream",
     "text": [
      "923\n"
     ]
    },
    {
     "name": "stderr",
     "output_type": "stream",
     "text": [
      "[Parallel(n_jobs=4)]: Using backend LokyBackend with 4 concurrent workers.\n",
      "[Parallel(n_jobs=4)]: Done   5 tasks      | elapsed:    2.2s\n",
      "[Parallel(n_jobs=4)]: Done  10 tasks      | elapsed:    3.8s\n",
      "[Parallel(n_jobs=4)]: Done  17 tasks      | elapsed:    5.6s\n",
      "[Parallel(n_jobs=4)]: Done  24 tasks      | elapsed:    7.8s\n",
      "[Parallel(n_jobs=4)]: Done  33 tasks      | elapsed:    9.5s\n",
      "[Parallel(n_jobs=4)]: Done  42 tasks      | elapsed:   11.8s\n",
      "[Parallel(n_jobs=4)]: Done  50 out of  50 | elapsed:   13.9s finished\n"
     ]
    },
    {
     "name": "stdout",
     "output_type": "stream",
     "text": [
      "924\n"
     ]
    },
    {
     "name": "stderr",
     "output_type": "stream",
     "text": [
      "[Parallel(n_jobs=4)]: Using backend LokyBackend with 4 concurrent workers.\n",
      "[Parallel(n_jobs=4)]: Done   5 tasks      | elapsed:    2.0s\n",
      "[Parallel(n_jobs=4)]: Done  10 tasks      | elapsed:    3.5s\n",
      "[Parallel(n_jobs=4)]: Done  17 tasks      | elapsed:    5.6s\n",
      "[Parallel(n_jobs=4)]: Done  24 tasks      | elapsed:    7.4s\n",
      "[Parallel(n_jobs=4)]: Done  33 tasks      | elapsed:    9.7s\n",
      "[Parallel(n_jobs=4)]: Done  42 tasks      | elapsed:   11.7s\n",
      "[Parallel(n_jobs=4)]: Done  51 out of  51 | elapsed:   13.7s finished\n"
     ]
    },
    {
     "name": "stdout",
     "output_type": "stream",
     "text": [
      "925\n"
     ]
    },
    {
     "name": "stderr",
     "output_type": "stream",
     "text": [
      "[Parallel(n_jobs=4)]: Using backend LokyBackend with 4 concurrent workers.\n",
      "[Parallel(n_jobs=4)]: Done   5 tasks      | elapsed:    2.0s\n",
      "[Parallel(n_jobs=4)]: Done  10 tasks      | elapsed:    3.4s\n",
      "[Parallel(n_jobs=4)]: Done  17 tasks      | elapsed:    5.3s\n",
      "[Parallel(n_jobs=4)]: Done  24 tasks      | elapsed:    7.0s\n",
      "[Parallel(n_jobs=4)]: Done  33 tasks      | elapsed:    9.3s\n",
      "[Parallel(n_jobs=4)]: Done  46 out of  48 | elapsed:   12.3s remaining:    0.5s\n",
      "[Parallel(n_jobs=4)]: Done  48 out of  48 | elapsed:   12.9s finished\n"
     ]
    },
    {
     "name": "stdout",
     "output_type": "stream",
     "text": [
      "926\n"
     ]
    },
    {
     "name": "stderr",
     "output_type": "stream",
     "text": [
      "[Parallel(n_jobs=4)]: Using backend LokyBackend with 4 concurrent workers.\n",
      "[Parallel(n_jobs=4)]: Done   5 tasks      | elapsed:    2.0s\n",
      "[Parallel(n_jobs=4)]: Done  10 tasks      | elapsed:    3.3s\n",
      "[Parallel(n_jobs=4)]: Done  17 tasks      | elapsed:    5.5s\n",
      "[Parallel(n_jobs=4)]: Done  24 tasks      | elapsed:    8.3s\n",
      "[Parallel(n_jobs=4)]: Done  33 tasks      | elapsed:   10.5s\n",
      "[Parallel(n_jobs=4)]: Done  41 out of  43 | elapsed:   12.5s remaining:    0.6s\n",
      "[Parallel(n_jobs=4)]: Done  43 out of  43 | elapsed:   13.4s finished\n"
     ]
    },
    {
     "name": "stdout",
     "output_type": "stream",
     "text": [
      "927\n"
     ]
    },
    {
     "name": "stderr",
     "output_type": "stream",
     "text": [
      "[Parallel(n_jobs=4)]: Using backend LokyBackend with 4 concurrent workers.\n",
      "[Parallel(n_jobs=4)]: Done   5 tasks      | elapsed:    2.0s\n",
      "[Parallel(n_jobs=4)]: Done  10 tasks      | elapsed:    3.0s\n",
      "[Parallel(n_jobs=4)]: Done  17 tasks      | elapsed:    5.3s\n",
      "[Parallel(n_jobs=4)]: Done  24 tasks      | elapsed:    7.7s\n",
      "[Parallel(n_jobs=4)]: Done  33 tasks      | elapsed:    9.6s\n",
      "[Parallel(n_jobs=4)]: Done  42 tasks      | elapsed:   11.4s\n",
      "[Parallel(n_jobs=4)]: Done  50 out of  50 | elapsed:   13.1s finished\n"
     ]
    },
    {
     "name": "stdout",
     "output_type": "stream",
     "text": [
      "928\n"
     ]
    },
    {
     "name": "stderr",
     "output_type": "stream",
     "text": [
      "[Parallel(n_jobs=4)]: Using backend LokyBackend with 4 concurrent workers.\n",
      "[Parallel(n_jobs=4)]: Done   5 tasks      | elapsed:    2.2s\n",
      "[Parallel(n_jobs=4)]: Done  10 tasks      | elapsed:    3.6s\n",
      "[Parallel(n_jobs=4)]: Done  17 tasks      | elapsed:    5.8s\n",
      "[Parallel(n_jobs=4)]: Done  24 tasks      | elapsed:    7.8s\n",
      "[Parallel(n_jobs=4)]: Done  33 tasks      | elapsed:    9.9s\n",
      "[Parallel(n_jobs=4)]: Done  42 tasks      | elapsed:   11.9s\n",
      "[Parallel(n_jobs=4)]: Done  50 out of  50 | elapsed:   13.7s finished\n"
     ]
    },
    {
     "name": "stdout",
     "output_type": "stream",
     "text": [
      "929\n"
     ]
    },
    {
     "name": "stderr",
     "output_type": "stream",
     "text": [
      "[Parallel(n_jobs=4)]: Using backend LokyBackend with 4 concurrent workers.\n",
      "[Parallel(n_jobs=4)]: Done   5 tasks      | elapsed:    2.5s\n",
      "[Parallel(n_jobs=4)]: Done  10 tasks      | elapsed:    3.7s\n",
      "[Parallel(n_jobs=4)]: Done  17 tasks      | elapsed:    6.0s\n",
      "[Parallel(n_jobs=4)]: Done  24 tasks      | elapsed:    7.7s\n",
      "[Parallel(n_jobs=4)]: Done  33 tasks      | elapsed:   10.2s\n",
      "[Parallel(n_jobs=4)]: Done  42 tasks      | elapsed:   12.7s\n",
      "[Parallel(n_jobs=4)]: Done  50 out of  50 | elapsed:   14.7s finished\n"
     ]
    },
    {
     "name": "stdout",
     "output_type": "stream",
     "text": [
      "930\n"
     ]
    },
    {
     "name": "stderr",
     "output_type": "stream",
     "text": [
      "[Parallel(n_jobs=4)]: Using backend LokyBackend with 4 concurrent workers.\n",
      "[Parallel(n_jobs=4)]: Done   5 tasks      | elapsed:    2.4s\n",
      "[Parallel(n_jobs=4)]: Done  10 tasks      | elapsed:    3.7s\n",
      "[Parallel(n_jobs=4)]: Done  17 tasks      | elapsed:    6.6s\n",
      "[Parallel(n_jobs=4)]: Done  24 tasks      | elapsed:    8.9s\n",
      "[Parallel(n_jobs=4)]: Done  33 tasks      | elapsed:   11.6s\n",
      "[Parallel(n_jobs=4)]: Done  44 out of  46 | elapsed:   14.2s remaining:    0.6s\n",
      "[Parallel(n_jobs=4)]: Done  46 out of  46 | elapsed:   15.3s finished\n"
     ]
    },
    {
     "name": "stdout",
     "output_type": "stream",
     "text": [
      "931\n"
     ]
    },
    {
     "name": "stderr",
     "output_type": "stream",
     "text": [
      "[Parallel(n_jobs=4)]: Using backend LokyBackend with 4 concurrent workers.\n",
      "[Parallel(n_jobs=4)]: Done   5 tasks      | elapsed:    1.9s\n",
      "[Parallel(n_jobs=4)]: Done  10 tasks      | elapsed:    3.2s\n",
      "[Parallel(n_jobs=4)]: Done  17 tasks      | elapsed:    5.0s\n",
      "[Parallel(n_jobs=4)]: Done  24 tasks      | elapsed:    6.7s\n",
      "[Parallel(n_jobs=4)]: Done  33 tasks      | elapsed:    8.7s\n",
      "[Parallel(n_jobs=4)]: Done  45 out of  47 | elapsed:   11.6s remaining:    0.5s\n",
      "[Parallel(n_jobs=4)]: Done  47 out of  47 | elapsed:   12.2s finished\n"
     ]
    },
    {
     "name": "stdout",
     "output_type": "stream",
     "text": [
      "932\n"
     ]
    },
    {
     "name": "stderr",
     "output_type": "stream",
     "text": [
      "[Parallel(n_jobs=4)]: Using backend LokyBackend with 4 concurrent workers.\n",
      "[Parallel(n_jobs=4)]: Done   5 tasks      | elapsed:    2.3s\n",
      "[Parallel(n_jobs=4)]: Done  10 tasks      | elapsed:    3.4s\n",
      "[Parallel(n_jobs=4)]: Done  17 tasks      | elapsed:    5.4s\n",
      "[Parallel(n_jobs=4)]: Done  24 tasks      | elapsed:    6.9s\n",
      "[Parallel(n_jobs=4)]: Done  33 tasks      | elapsed:    9.2s\n",
      "[Parallel(n_jobs=4)]: Done  42 tasks      | elapsed:   11.3s\n",
      "[Parallel(n_jobs=4)]: Done  51 out of  51 | elapsed:   13.9s finished\n"
     ]
    },
    {
     "name": "stdout",
     "output_type": "stream",
     "text": [
      "933\n"
     ]
    },
    {
     "name": "stderr",
     "output_type": "stream",
     "text": [
      "[Parallel(n_jobs=4)]: Using backend LokyBackend with 4 concurrent workers.\n",
      "[Parallel(n_jobs=4)]: Done   5 tasks      | elapsed:    1.8s\n",
      "[Parallel(n_jobs=4)]: Done  10 tasks      | elapsed:    3.3s\n",
      "[Parallel(n_jobs=4)]: Done  17 tasks      | elapsed:    5.6s\n",
      "[Parallel(n_jobs=4)]: Done  24 tasks      | elapsed:    7.2s\n",
      "[Parallel(n_jobs=4)]: Done  33 tasks      | elapsed:   10.3s\n",
      "[Parallel(n_jobs=4)]: Done  41 out of  43 | elapsed:   12.1s remaining:    0.6s\n",
      "[Parallel(n_jobs=4)]: Done  43 out of  43 | elapsed:   12.3s finished\n"
     ]
    },
    {
     "name": "stdout",
     "output_type": "stream",
     "text": [
      "934\n"
     ]
    },
    {
     "name": "stderr",
     "output_type": "stream",
     "text": [
      "[Parallel(n_jobs=4)]: Using backend LokyBackend with 4 concurrent workers.\n",
      "[Parallel(n_jobs=4)]: Done   5 tasks      | elapsed:    2.1s\n",
      "[Parallel(n_jobs=4)]: Done  10 tasks      | elapsed:    3.3s\n",
      "[Parallel(n_jobs=4)]: Done  17 tasks      | elapsed:    5.3s\n",
      "[Parallel(n_jobs=4)]: Done  24 tasks      | elapsed:    7.2s\n",
      "[Parallel(n_jobs=4)]: Done  33 tasks      | elapsed:    9.1s\n",
      "[Parallel(n_jobs=4)]: Done  42 tasks      | elapsed:   11.1s\n",
      "[Parallel(n_jobs=4)]: Done  50 out of  50 | elapsed:   13.0s finished\n"
     ]
    },
    {
     "name": "stdout",
     "output_type": "stream",
     "text": [
      "935\n"
     ]
    },
    {
     "name": "stderr",
     "output_type": "stream",
     "text": [
      "[Parallel(n_jobs=4)]: Using backend LokyBackend with 4 concurrent workers.\n",
      "[Parallel(n_jobs=4)]: Done   5 tasks      | elapsed:    2.3s\n",
      "[Parallel(n_jobs=4)]: Done  10 tasks      | elapsed:    3.4s\n",
      "[Parallel(n_jobs=4)]: Done  17 tasks      | elapsed:    5.5s\n",
      "[Parallel(n_jobs=4)]: Done  24 tasks      | elapsed:    6.6s\n",
      "[Parallel(n_jobs=4)]: Done  33 tasks      | elapsed:    9.3s\n",
      "[Parallel(n_jobs=4)]: Done  45 out of  47 | elapsed:   12.1s remaining:    0.5s\n",
      "[Parallel(n_jobs=4)]: Done  47 out of  47 | elapsed:   12.2s finished\n"
     ]
    },
    {
     "name": "stdout",
     "output_type": "stream",
     "text": [
      "936\n"
     ]
    },
    {
     "name": "stderr",
     "output_type": "stream",
     "text": [
      "[Parallel(n_jobs=4)]: Using backend LokyBackend with 4 concurrent workers.\n",
      "[Parallel(n_jobs=4)]: Done   5 tasks      | elapsed:    2.4s\n",
      "[Parallel(n_jobs=4)]: Done  10 tasks      | elapsed:    3.5s\n",
      "[Parallel(n_jobs=4)]: Done  17 tasks      | elapsed:    5.7s\n",
      "[Parallel(n_jobs=4)]: Done  24 tasks      | elapsed:    7.7s\n",
      "[Parallel(n_jobs=4)]: Done  33 tasks      | elapsed:    9.8s\n",
      "[Parallel(n_jobs=4)]: Done  42 tasks      | elapsed:   12.4s\n",
      "[Parallel(n_jobs=4)]: Done  52 out of  52 | elapsed:   14.4s finished\n"
     ]
    },
    {
     "name": "stdout",
     "output_type": "stream",
     "text": [
      "937\n"
     ]
    },
    {
     "name": "stderr",
     "output_type": "stream",
     "text": [
      "[Parallel(n_jobs=4)]: Using backend LokyBackend with 4 concurrent workers.\n",
      "[Parallel(n_jobs=4)]: Done   5 tasks      | elapsed:    2.6s\n",
      "[Parallel(n_jobs=4)]: Done  10 tasks      | elapsed:    3.5s\n",
      "[Parallel(n_jobs=4)]: Done  17 tasks      | elapsed:    5.4s\n",
      "[Parallel(n_jobs=4)]: Done  24 tasks      | elapsed:    7.1s\n",
      "[Parallel(n_jobs=4)]: Done  33 tasks      | elapsed:    9.2s\n",
      "[Parallel(n_jobs=4)]: Done  45 out of  47 | elapsed:   11.8s remaining:    0.5s\n",
      "[Parallel(n_jobs=4)]: Done  47 out of  47 | elapsed:   12.3s finished\n"
     ]
    },
    {
     "name": "stdout",
     "output_type": "stream",
     "text": [
      "938\n"
     ]
    },
    {
     "name": "stderr",
     "output_type": "stream",
     "text": [
      "[Parallel(n_jobs=4)]: Using backend LokyBackend with 4 concurrent workers.\n",
      "[Parallel(n_jobs=4)]: Done   5 tasks      | elapsed:    2.3s\n",
      "[Parallel(n_jobs=4)]: Done  10 tasks      | elapsed:    3.5s\n",
      "[Parallel(n_jobs=4)]: Done  17 tasks      | elapsed:    5.5s\n",
      "[Parallel(n_jobs=4)]: Done  24 tasks      | elapsed:    7.2s\n",
      "[Parallel(n_jobs=4)]: Done  33 tasks      | elapsed:    9.5s\n",
      "[Parallel(n_jobs=4)]: Done  42 tasks      | elapsed:   12.1s\n",
      "[Parallel(n_jobs=4)]: Done  47 out of  49 | elapsed:   13.3s remaining:    0.6s\n",
      "[Parallel(n_jobs=4)]: Done  49 out of  49 | elapsed:   13.6s finished\n"
     ]
    },
    {
     "name": "stdout",
     "output_type": "stream",
     "text": [
      "939\n"
     ]
    },
    {
     "name": "stderr",
     "output_type": "stream",
     "text": [
      "[Parallel(n_jobs=4)]: Using backend LokyBackend with 4 concurrent workers.\n",
      "[Parallel(n_jobs=4)]: Done   5 tasks      | elapsed:    1.8s\n",
      "[Parallel(n_jobs=4)]: Done  10 tasks      | elapsed:    3.4s\n",
      "[Parallel(n_jobs=4)]: Done  17 tasks      | elapsed:    6.0s\n",
      "[Parallel(n_jobs=4)]: Done  24 tasks      | elapsed:    7.4s\n",
      "[Parallel(n_jobs=4)]: Done  33 tasks      | elapsed:   10.4s\n",
      "[Parallel(n_jobs=4)]: Done  42 tasks      | elapsed:   12.5s\n",
      "[Parallel(n_jobs=4)]: Done  51 out of  51 | elapsed:   14.8s finished\n"
     ]
    },
    {
     "name": "stdout",
     "output_type": "stream",
     "text": [
      "940\n"
     ]
    },
    {
     "name": "stderr",
     "output_type": "stream",
     "text": [
      "[Parallel(n_jobs=4)]: Using backend LokyBackend with 4 concurrent workers.\n",
      "[Parallel(n_jobs=4)]: Done   5 tasks      | elapsed:    2.0s\n",
      "[Parallel(n_jobs=4)]: Done  10 tasks      | elapsed:    3.0s\n",
      "[Parallel(n_jobs=4)]: Done  17 tasks      | elapsed:    4.9s\n",
      "[Parallel(n_jobs=4)]: Done  24 tasks      | elapsed:    6.7s\n",
      "[Parallel(n_jobs=4)]: Done  33 tasks      | elapsed:    9.4s\n",
      "[Parallel(n_jobs=4)]: Done  42 tasks      | elapsed:   11.5s\n",
      "[Parallel(n_jobs=4)]: Done  52 out of  52 | elapsed:   13.4s finished\n"
     ]
    },
    {
     "name": "stdout",
     "output_type": "stream",
     "text": [
      "941\n"
     ]
    },
    {
     "name": "stderr",
     "output_type": "stream",
     "text": [
      "[Parallel(n_jobs=4)]: Using backend LokyBackend with 4 concurrent workers.\n",
      "[Parallel(n_jobs=4)]: Done   5 tasks      | elapsed:    2.1s\n",
      "[Parallel(n_jobs=4)]: Done  10 tasks      | elapsed:    3.5s\n",
      "[Parallel(n_jobs=4)]: Done  17 tasks      | elapsed:    5.9s\n",
      "[Parallel(n_jobs=4)]: Done  24 tasks      | elapsed:    8.0s\n",
      "[Parallel(n_jobs=4)]: Done  33 tasks      | elapsed:   10.5s\n",
      "[Parallel(n_jobs=4)]: Done  46 out of  48 | elapsed:   13.2s remaining:    0.6s\n",
      "[Parallel(n_jobs=4)]: Done  48 out of  48 | elapsed:   14.0s finished\n"
     ]
    },
    {
     "name": "stdout",
     "output_type": "stream",
     "text": [
      "942\n"
     ]
    },
    {
     "name": "stderr",
     "output_type": "stream",
     "text": [
      "[Parallel(n_jobs=4)]: Using backend LokyBackend with 4 concurrent workers.\n",
      "[Parallel(n_jobs=4)]: Done   5 tasks      | elapsed:    1.8s\n",
      "[Parallel(n_jobs=4)]: Done  10 tasks      | elapsed:    2.9s\n",
      "[Parallel(n_jobs=4)]: Done  17 tasks      | elapsed:    4.7s\n",
      "[Parallel(n_jobs=4)]: Done  24 tasks      | elapsed:    6.0s\n",
      "[Parallel(n_jobs=4)]: Done  33 tasks      | elapsed:    8.1s\n",
      "[Parallel(n_jobs=4)]: Done  42 tasks      | elapsed:   10.1s\n",
      "[Parallel(n_jobs=4)]: Done  52 out of  52 | elapsed:   12.2s finished\n"
     ]
    },
    {
     "name": "stdout",
     "output_type": "stream",
     "text": [
      "943\n"
     ]
    },
    {
     "name": "stderr",
     "output_type": "stream",
     "text": [
      "[Parallel(n_jobs=4)]: Using backend LokyBackend with 4 concurrent workers.\n",
      "[Parallel(n_jobs=4)]: Done   5 tasks      | elapsed:    2.1s\n",
      "[Parallel(n_jobs=4)]: Done  10 tasks      | elapsed:    3.1s\n",
      "[Parallel(n_jobs=4)]: Done  17 tasks      | elapsed:    5.1s\n",
      "[Parallel(n_jobs=4)]: Done  24 tasks      | elapsed:    7.0s\n",
      "[Parallel(n_jobs=4)]: Done  33 tasks      | elapsed:   10.0s\n",
      "[Parallel(n_jobs=4)]: Done  42 tasks      | elapsed:   11.8s\n",
      "[Parallel(n_jobs=4)]: Done  50 out of  50 | elapsed:   13.8s finished\n"
     ]
    },
    {
     "name": "stdout",
     "output_type": "stream",
     "text": [
      "944\n"
     ]
    },
    {
     "name": "stderr",
     "output_type": "stream",
     "text": [
      "[Parallel(n_jobs=4)]: Using backend LokyBackend with 4 concurrent workers.\n",
      "[Parallel(n_jobs=4)]: Done   5 tasks      | elapsed:    2.1s\n",
      "[Parallel(n_jobs=4)]: Done  10 tasks      | elapsed:    3.4s\n",
      "[Parallel(n_jobs=4)]: Done  17 tasks      | elapsed:    4.9s\n",
      "[Parallel(n_jobs=4)]: Done  24 tasks      | elapsed:    6.6s\n",
      "[Parallel(n_jobs=4)]: Done  33 tasks      | elapsed:    9.2s\n",
      "[Parallel(n_jobs=4)]: Done  42 tasks      | elapsed:   12.0s\n",
      "[Parallel(n_jobs=4)]: Done  52 out of  52 | elapsed:   13.8s finished\n"
     ]
    },
    {
     "name": "stdout",
     "output_type": "stream",
     "text": [
      "945\n"
     ]
    },
    {
     "name": "stderr",
     "output_type": "stream",
     "text": [
      "[Parallel(n_jobs=4)]: Using backend LokyBackend with 4 concurrent workers.\n",
      "[Parallel(n_jobs=4)]: Done   5 tasks      | elapsed:    1.9s\n",
      "[Parallel(n_jobs=4)]: Done  10 tasks      | elapsed:    3.1s\n",
      "[Parallel(n_jobs=4)]: Done  17 tasks      | elapsed:    4.7s\n",
      "[Parallel(n_jobs=4)]: Done  24 tasks      | elapsed:    6.4s\n",
      "[Parallel(n_jobs=4)]: Done  33 tasks      | elapsed:    8.2s\n",
      "[Parallel(n_jobs=4)]: Done  45 out of  47 | elapsed:   10.9s remaining:    0.5s\n",
      "[Parallel(n_jobs=4)]: Done  47 out of  47 | elapsed:   11.3s finished\n"
     ]
    },
    {
     "name": "stdout",
     "output_type": "stream",
     "text": [
      "946\n"
     ]
    },
    {
     "name": "stderr",
     "output_type": "stream",
     "text": [
      "[Parallel(n_jobs=4)]: Using backend LokyBackend with 4 concurrent workers.\n",
      "[Parallel(n_jobs=4)]: Done   5 tasks      | elapsed:    2.2s\n",
      "[Parallel(n_jobs=4)]: Done  10 tasks      | elapsed:    3.4s\n",
      "[Parallel(n_jobs=4)]: Done  17 tasks      | elapsed:    5.6s\n",
      "[Parallel(n_jobs=4)]: Done  24 tasks      | elapsed:    7.6s\n",
      "[Parallel(n_jobs=4)]: Done  33 tasks      | elapsed:   10.5s\n",
      "[Parallel(n_jobs=4)]: Done  42 tasks      | elapsed:   12.6s\n",
      "[Parallel(n_jobs=4)]: Done  50 out of  50 | elapsed:   14.8s finished\n"
     ]
    },
    {
     "name": "stdout",
     "output_type": "stream",
     "text": [
      "947\n"
     ]
    },
    {
     "name": "stderr",
     "output_type": "stream",
     "text": [
      "[Parallel(n_jobs=4)]: Using backend LokyBackend with 4 concurrent workers.\n",
      "[Parallel(n_jobs=4)]: Done   5 tasks      | elapsed:    2.3s\n",
      "[Parallel(n_jobs=4)]: Done  10 tasks      | elapsed:    3.4s\n",
      "[Parallel(n_jobs=4)]: Done  17 tasks      | elapsed:    5.6s\n",
      "[Parallel(n_jobs=4)]: Done  24 tasks      | elapsed:    7.7s\n",
      "[Parallel(n_jobs=4)]: Done  33 tasks      | elapsed:   10.5s\n",
      "[Parallel(n_jobs=4)]: Done  42 tasks      | elapsed:   12.6s\n",
      "[Parallel(n_jobs=4)]: Done  51 out of  51 | elapsed:   15.4s finished\n"
     ]
    },
    {
     "name": "stdout",
     "output_type": "stream",
     "text": [
      "948\n"
     ]
    },
    {
     "name": "stderr",
     "output_type": "stream",
     "text": [
      "[Parallel(n_jobs=4)]: Using backend LokyBackend with 4 concurrent workers.\n",
      "[Parallel(n_jobs=4)]: Done   5 tasks      | elapsed:    2.0s\n",
      "[Parallel(n_jobs=4)]: Done  10 tasks      | elapsed:    3.3s\n",
      "[Parallel(n_jobs=4)]: Done  17 tasks      | elapsed:    5.6s\n",
      "[Parallel(n_jobs=4)]: Done  24 tasks      | elapsed:    7.7s\n",
      "[Parallel(n_jobs=4)]: Done  33 tasks      | elapsed:    9.9s\n",
      "[Parallel(n_jobs=4)]: Done  42 tasks      | elapsed:   12.2s\n",
      "[Parallel(n_jobs=4)]: Done  50 out of  50 | elapsed:   14.0s finished\n"
     ]
    },
    {
     "name": "stdout",
     "output_type": "stream",
     "text": [
      "949\n"
     ]
    },
    {
     "name": "stderr",
     "output_type": "stream",
     "text": [
      "[Parallel(n_jobs=4)]: Using backend LokyBackend with 4 concurrent workers.\n",
      "[Parallel(n_jobs=4)]: Done   5 tasks      | elapsed:    2.2s\n",
      "[Parallel(n_jobs=4)]: Done  10 tasks      | elapsed:    3.2s\n",
      "[Parallel(n_jobs=4)]: Done  17 tasks      | elapsed:    5.4s\n",
      "[Parallel(n_jobs=4)]: Done  24 tasks      | elapsed:    6.9s\n",
      "[Parallel(n_jobs=4)]: Done  33 tasks      | elapsed:    9.4s\n",
      "[Parallel(n_jobs=4)]: Done  42 tasks      | elapsed:   11.3s\n",
      "[Parallel(n_jobs=4)]: Done  51 out of  51 | elapsed:   13.4s finished\n"
     ]
    },
    {
     "name": "stdout",
     "output_type": "stream",
     "text": [
      "950\n"
     ]
    },
    {
     "name": "stderr",
     "output_type": "stream",
     "text": [
      "[Parallel(n_jobs=4)]: Using backend LokyBackend with 4 concurrent workers.\n",
      "[Parallel(n_jobs=4)]: Done   5 tasks      | elapsed:    2.0s\n",
      "[Parallel(n_jobs=4)]: Done  10 tasks      | elapsed:    3.3s\n",
      "[Parallel(n_jobs=4)]: Done  17 tasks      | elapsed:    5.1s\n",
      "[Parallel(n_jobs=4)]: Done  24 tasks      | elapsed:    6.5s\n",
      "[Parallel(n_jobs=4)]: Done  33 tasks      | elapsed:    9.1s\n",
      "[Parallel(n_jobs=4)]: Done  42 tasks      | elapsed:   10.8s\n",
      "[Parallel(n_jobs=4)]: Done  51 out of  51 | elapsed:   12.8s finished\n"
     ]
    },
    {
     "name": "stdout",
     "output_type": "stream",
     "text": [
      "951\n"
     ]
    },
    {
     "name": "stderr",
     "output_type": "stream",
     "text": [
      "[Parallel(n_jobs=4)]: Using backend LokyBackend with 4 concurrent workers.\n",
      "[Parallel(n_jobs=4)]: Done   5 tasks      | elapsed:    1.9s\n",
      "[Parallel(n_jobs=4)]: Done  10 tasks      | elapsed:    2.9s\n",
      "[Parallel(n_jobs=4)]: Done  17 tasks      | elapsed:    4.7s\n",
      "[Parallel(n_jobs=4)]: Done  24 tasks      | elapsed:    5.9s\n",
      "[Parallel(n_jobs=4)]: Done  33 tasks      | elapsed:    8.7s\n",
      "[Parallel(n_jobs=4)]: Done  42 tasks      | elapsed:   11.2s\n",
      "[Parallel(n_jobs=4)]: Done  47 out of  49 | elapsed:   12.7s remaining:    0.5s\n",
      "[Parallel(n_jobs=4)]: Done  49 out of  49 | elapsed:   13.0s finished\n"
     ]
    },
    {
     "name": "stdout",
     "output_type": "stream",
     "text": [
      "952\n"
     ]
    },
    {
     "name": "stderr",
     "output_type": "stream",
     "text": [
      "[Parallel(n_jobs=4)]: Using backend LokyBackend with 4 concurrent workers.\n",
      "[Parallel(n_jobs=4)]: Done   5 tasks      | elapsed:    2.1s\n",
      "[Parallel(n_jobs=4)]: Done  10 tasks      | elapsed:    3.2s\n",
      "[Parallel(n_jobs=4)]: Done  17 tasks      | elapsed:    5.0s\n",
      "[Parallel(n_jobs=4)]: Done  24 tasks      | elapsed:    6.2s\n",
      "[Parallel(n_jobs=4)]: Done  33 tasks      | elapsed:    8.8s\n",
      "[Parallel(n_jobs=4)]: Done  42 tasks      | elapsed:   10.4s\n",
      "[Parallel(n_jobs=4)]: Done  51 out of  51 | elapsed:   12.4s finished\n"
     ]
    },
    {
     "name": "stdout",
     "output_type": "stream",
     "text": [
      "953\n"
     ]
    },
    {
     "name": "stderr",
     "output_type": "stream",
     "text": [
      "[Parallel(n_jobs=4)]: Using backend LokyBackend with 4 concurrent workers.\n",
      "[Parallel(n_jobs=4)]: Done   5 tasks      | elapsed:    2.1s\n",
      "[Parallel(n_jobs=4)]: Done  10 tasks      | elapsed:    3.3s\n",
      "[Parallel(n_jobs=4)]: Done  17 tasks      | elapsed:    5.5s\n",
      "[Parallel(n_jobs=4)]: Done  24 tasks      | elapsed:    7.5s\n",
      "[Parallel(n_jobs=4)]: Done  33 tasks      | elapsed:    9.6s\n",
      "[Parallel(n_jobs=4)]: Done  46 out of  48 | elapsed:   12.4s remaining:    0.5s\n",
      "[Parallel(n_jobs=4)]: Done  48 out of  48 | elapsed:   13.0s finished\n"
     ]
    },
    {
     "name": "stdout",
     "output_type": "stream",
     "text": [
      "954\n"
     ]
    },
    {
     "name": "stderr",
     "output_type": "stream",
     "text": [
      "[Parallel(n_jobs=4)]: Using backend LokyBackend with 4 concurrent workers.\n",
      "[Parallel(n_jobs=4)]: Done   5 tasks      | elapsed:    2.0s\n",
      "[Parallel(n_jobs=4)]: Done  10 tasks      | elapsed:    3.2s\n",
      "[Parallel(n_jobs=4)]: Done  17 tasks      | elapsed:    5.3s\n",
      "[Parallel(n_jobs=4)]: Done  24 tasks      | elapsed:    7.2s\n",
      "[Parallel(n_jobs=4)]: Done  33 tasks      | elapsed:    9.1s\n",
      "[Parallel(n_jobs=4)]: Done  44 out of  46 | elapsed:   11.7s remaining:    0.5s\n",
      "[Parallel(n_jobs=4)]: Done  46 out of  46 | elapsed:   12.2s finished\n"
     ]
    },
    {
     "name": "stdout",
     "output_type": "stream",
     "text": [
      "955\n"
     ]
    },
    {
     "name": "stderr",
     "output_type": "stream",
     "text": [
      "[Parallel(n_jobs=4)]: Using backend LokyBackend with 4 concurrent workers.\n",
      "[Parallel(n_jobs=4)]: Done   5 tasks      | elapsed:    2.3s\n",
      "[Parallel(n_jobs=4)]: Done  10 tasks      | elapsed:    4.3s\n",
      "[Parallel(n_jobs=4)]: Done  17 tasks      | elapsed:    6.3s\n",
      "[Parallel(n_jobs=4)]: Done  24 tasks      | elapsed:    7.9s\n",
      "[Parallel(n_jobs=4)]: Done  33 tasks      | elapsed:   10.2s\n",
      "[Parallel(n_jobs=4)]: Done  42 tasks      | elapsed:   11.9s\n",
      "[Parallel(n_jobs=4)]: Done  52 out of  52 | elapsed:   14.2s finished\n"
     ]
    },
    {
     "name": "stdout",
     "output_type": "stream",
     "text": [
      "956\n"
     ]
    },
    {
     "name": "stderr",
     "output_type": "stream",
     "text": [
      "[Parallel(n_jobs=4)]: Using backend LokyBackend with 4 concurrent workers.\n",
      "[Parallel(n_jobs=4)]: Done   5 tasks      | elapsed:    1.9s\n",
      "[Parallel(n_jobs=4)]: Done  10 tasks      | elapsed:    3.1s\n",
      "[Parallel(n_jobs=4)]: Done  17 tasks      | elapsed:    5.7s\n",
      "[Parallel(n_jobs=4)]: Done  24 tasks      | elapsed:    7.8s\n",
      "[Parallel(n_jobs=4)]: Done  33 tasks      | elapsed:    9.8s\n",
      "[Parallel(n_jobs=4)]: Done  43 out of  45 | elapsed:   12.3s remaining:    0.6s\n",
      "[Parallel(n_jobs=4)]: Done  45 out of  45 | elapsed:   13.0s finished\n"
     ]
    },
    {
     "name": "stdout",
     "output_type": "stream",
     "text": [
      "957\n"
     ]
    },
    {
     "name": "stderr",
     "output_type": "stream",
     "text": [
      "[Parallel(n_jobs=4)]: Using backend LokyBackend with 4 concurrent workers.\n",
      "[Parallel(n_jobs=4)]: Done   5 tasks      | elapsed:    2.2s\n",
      "[Parallel(n_jobs=4)]: Done  10 tasks      | elapsed:    3.2s\n",
      "[Parallel(n_jobs=4)]: Done  17 tasks      | elapsed:    5.1s\n",
      "[Parallel(n_jobs=4)]: Done  24 tasks      | elapsed:    7.0s\n",
      "[Parallel(n_jobs=4)]: Done  33 tasks      | elapsed:    9.3s\n",
      "[Parallel(n_jobs=4)]: Done  42 tasks      | elapsed:   11.3s\n",
      "[Parallel(n_jobs=4)]: Done  50 out of  50 | elapsed:   13.1s finished\n"
     ]
    },
    {
     "name": "stdout",
     "output_type": "stream",
     "text": [
      "958\n"
     ]
    },
    {
     "name": "stderr",
     "output_type": "stream",
     "text": [
      "[Parallel(n_jobs=4)]: Using backend LokyBackend with 4 concurrent workers.\n",
      "[Parallel(n_jobs=4)]: Done   5 tasks      | elapsed:    1.9s\n",
      "[Parallel(n_jobs=4)]: Done  10 tasks      | elapsed:    2.9s\n",
      "[Parallel(n_jobs=4)]: Done  17 tasks      | elapsed:    4.6s\n",
      "[Parallel(n_jobs=4)]: Done  24 tasks      | elapsed:    6.1s\n",
      "[Parallel(n_jobs=4)]: Done  33 tasks      | elapsed:    8.7s\n",
      "[Parallel(n_jobs=4)]: Done  46 out of  48 | elapsed:   11.2s remaining:    0.5s\n",
      "[Parallel(n_jobs=4)]: Done  48 out of  48 | elapsed:   12.2s finished\n"
     ]
    },
    {
     "name": "stdout",
     "output_type": "stream",
     "text": [
      "959\n"
     ]
    },
    {
     "name": "stderr",
     "output_type": "stream",
     "text": [
      "[Parallel(n_jobs=4)]: Using backend LokyBackend with 4 concurrent workers.\n",
      "[Parallel(n_jobs=4)]: Done   5 tasks      | elapsed:    2.2s\n",
      "[Parallel(n_jobs=4)]: Done  10 tasks      | elapsed:    3.4s\n",
      "[Parallel(n_jobs=4)]: Done  17 tasks      | elapsed:    6.1s\n",
      "[Parallel(n_jobs=4)]: Done  24 tasks      | elapsed:    8.4s\n",
      "[Parallel(n_jobs=4)]: Done  33 tasks      | elapsed:   11.2s\n",
      "[Parallel(n_jobs=4)]: Done  42 out of  44 | elapsed:   13.8s remaining:    0.7s\n",
      "[Parallel(n_jobs=4)]: Done  44 out of  44 | elapsed:   14.2s finished\n"
     ]
    },
    {
     "name": "stdout",
     "output_type": "stream",
     "text": [
      "960\n"
     ]
    },
    {
     "name": "stderr",
     "output_type": "stream",
     "text": [
      "[Parallel(n_jobs=4)]: Using backend LokyBackend with 4 concurrent workers.\n",
      "[Parallel(n_jobs=4)]: Done   5 tasks      | elapsed:    2.2s\n",
      "[Parallel(n_jobs=4)]: Done  10 tasks      | elapsed:    3.2s\n",
      "[Parallel(n_jobs=4)]: Done  17 tasks      | elapsed:    4.9s\n",
      "[Parallel(n_jobs=4)]: Done  24 tasks      | elapsed:    6.7s\n",
      "[Parallel(n_jobs=4)]: Done  33 tasks      | elapsed:    8.8s\n",
      "[Parallel(n_jobs=4)]: Done  43 out of  45 | elapsed:   11.2s remaining:    0.5s\n",
      "[Parallel(n_jobs=4)]: Done  45 out of  45 | elapsed:   11.6s finished\n"
     ]
    },
    {
     "name": "stdout",
     "output_type": "stream",
     "text": [
      "961\n"
     ]
    },
    {
     "name": "stderr",
     "output_type": "stream",
     "text": [
      "[Parallel(n_jobs=4)]: Using backend LokyBackend with 4 concurrent workers.\n",
      "[Parallel(n_jobs=4)]: Done   5 tasks      | elapsed:    2.2s\n",
      "[Parallel(n_jobs=4)]: Done  10 tasks      | elapsed:    3.9s\n",
      "[Parallel(n_jobs=4)]: Done  17 tasks      | elapsed:    6.7s\n",
      "[Parallel(n_jobs=4)]: Done  24 tasks      | elapsed:    8.7s\n",
      "[Parallel(n_jobs=4)]: Done  33 tasks      | elapsed:   11.1s\n",
      "[Parallel(n_jobs=4)]: Done  42 tasks      | elapsed:   12.8s\n",
      "[Parallel(n_jobs=4)]: Done  47 out of  49 | elapsed:   14.2s remaining:    0.6s\n",
      "[Parallel(n_jobs=4)]: Done  49 out of  49 | elapsed:   14.5s finished\n"
     ]
    },
    {
     "name": "stdout",
     "output_type": "stream",
     "text": [
      "962\n"
     ]
    },
    {
     "name": "stderr",
     "output_type": "stream",
     "text": [
      "[Parallel(n_jobs=4)]: Using backend LokyBackend with 4 concurrent workers.\n",
      "[Parallel(n_jobs=4)]: Done   5 tasks      | elapsed:    1.8s\n",
      "[Parallel(n_jobs=4)]: Done  10 tasks      | elapsed:    3.1s\n",
      "[Parallel(n_jobs=4)]: Done  17 tasks      | elapsed:    5.1s\n",
      "[Parallel(n_jobs=4)]: Done  24 tasks      | elapsed:    6.8s\n",
      "[Parallel(n_jobs=4)]: Done  33 tasks      | elapsed:    9.5s\n",
      "[Parallel(n_jobs=4)]: Done  41 out of  43 | elapsed:   11.7s remaining:    0.6s\n",
      "[Parallel(n_jobs=4)]: Done  43 out of  43 | elapsed:   11.7s finished\n"
     ]
    },
    {
     "name": "stdout",
     "output_type": "stream",
     "text": [
      "963\n"
     ]
    },
    {
     "name": "stderr",
     "output_type": "stream",
     "text": [
      "[Parallel(n_jobs=4)]: Using backend LokyBackend with 4 concurrent workers.\n",
      "[Parallel(n_jobs=4)]: Done   5 tasks      | elapsed:    2.0s\n",
      "[Parallel(n_jobs=4)]: Done  10 tasks      | elapsed:    3.7s\n",
      "[Parallel(n_jobs=4)]: Done  17 tasks      | elapsed:    5.4s\n",
      "[Parallel(n_jobs=4)]: Done  24 tasks      | elapsed:    7.3s\n",
      "[Parallel(n_jobs=4)]: Done  33 tasks      | elapsed:    9.0s\n",
      "[Parallel(n_jobs=4)]: Done  42 tasks      | elapsed:   11.1s\n",
      "[Parallel(n_jobs=4)]: Done  47 out of  49 | elapsed:   12.0s remaining:    0.5s\n",
      "[Parallel(n_jobs=4)]: Done  49 out of  49 | elapsed:   12.5s finished\n"
     ]
    },
    {
     "name": "stdout",
     "output_type": "stream",
     "text": [
      "964\n"
     ]
    },
    {
     "name": "stderr",
     "output_type": "stream",
     "text": [
      "[Parallel(n_jobs=4)]: Using backend LokyBackend with 4 concurrent workers.\n",
      "[Parallel(n_jobs=4)]: Done   5 tasks      | elapsed:    1.7s\n",
      "[Parallel(n_jobs=4)]: Done  10 tasks      | elapsed:    2.8s\n",
      "[Parallel(n_jobs=4)]: Done  17 tasks      | elapsed:    4.5s\n",
      "[Parallel(n_jobs=4)]: Done  24 tasks      | elapsed:    6.0s\n",
      "[Parallel(n_jobs=4)]: Done  33 tasks      | elapsed:    7.9s\n",
      "[Parallel(n_jobs=4)]: Done  44 out of  46 | elapsed:   10.3s remaining:    0.5s\n",
      "[Parallel(n_jobs=4)]: Done  46 out of  46 | elapsed:   11.0s finished\n"
     ]
    },
    {
     "name": "stdout",
     "output_type": "stream",
     "text": [
      "965\n"
     ]
    },
    {
     "name": "stderr",
     "output_type": "stream",
     "text": [
      "[Parallel(n_jobs=4)]: Using backend LokyBackend with 4 concurrent workers.\n",
      "[Parallel(n_jobs=4)]: Done   5 tasks      | elapsed:    2.4s\n",
      "[Parallel(n_jobs=4)]: Done  10 tasks      | elapsed:    3.6s\n",
      "[Parallel(n_jobs=4)]: Done  17 tasks      | elapsed:    5.8s\n",
      "[Parallel(n_jobs=4)]: Done  24 tasks      | elapsed:    7.1s\n",
      "[Parallel(n_jobs=4)]: Done  34 out of  37 | elapsed:    9.8s remaining:    0.9s\n",
      "[Parallel(n_jobs=4)]: Done  37 out of  37 | elapsed:   10.4s finished\n"
     ]
    },
    {
     "name": "stdout",
     "output_type": "stream",
     "text": [
      "966\n"
     ]
    },
    {
     "name": "stderr",
     "output_type": "stream",
     "text": [
      "[Parallel(n_jobs=4)]: Using backend LokyBackend with 4 concurrent workers.\n",
      "[Parallel(n_jobs=4)]: Done   5 tasks      | elapsed:    1.9s\n",
      "[Parallel(n_jobs=4)]: Done  10 tasks      | elapsed:    2.8s\n",
      "[Parallel(n_jobs=4)]: Done  17 tasks      | elapsed:    4.7s\n",
      "[Parallel(n_jobs=4)]: Done  24 tasks      | elapsed:    6.6s\n",
      "[Parallel(n_jobs=4)]: Done  33 tasks      | elapsed:    8.5s\n",
      "[Parallel(n_jobs=4)]: Done  42 tasks      | elapsed:   11.1s\n",
      "[Parallel(n_jobs=4)]: Done  47 out of  49 | elapsed:   12.1s remaining:    0.5s\n",
      "[Parallel(n_jobs=4)]: Done  49 out of  49 | elapsed:   12.2s finished\n"
     ]
    },
    {
     "name": "stdout",
     "output_type": "stream",
     "text": [
      "967\n"
     ]
    },
    {
     "name": "stderr",
     "output_type": "stream",
     "text": [
      "[Parallel(n_jobs=4)]: Using backend LokyBackend with 4 concurrent workers.\n",
      "[Parallel(n_jobs=4)]: Done   5 tasks      | elapsed:    2.0s\n",
      "[Parallel(n_jobs=4)]: Done  10 tasks      | elapsed:    3.1s\n",
      "[Parallel(n_jobs=4)]: Done  17 tasks      | elapsed:    4.8s\n",
      "[Parallel(n_jobs=4)]: Done  24 tasks      | elapsed:    6.5s\n",
      "[Parallel(n_jobs=4)]: Done  33 tasks      | elapsed:    8.9s\n",
      "[Parallel(n_jobs=4)]: Done  42 tasks      | elapsed:   10.7s\n",
      "[Parallel(n_jobs=4)]: Done  50 out of  50 | elapsed:   12.6s finished\n"
     ]
    },
    {
     "name": "stdout",
     "output_type": "stream",
     "text": [
      "968\n"
     ]
    },
    {
     "name": "stderr",
     "output_type": "stream",
     "text": [
      "[Parallel(n_jobs=4)]: Using backend LokyBackend with 4 concurrent workers.\n",
      "[Parallel(n_jobs=4)]: Done   5 tasks      | elapsed:    2.0s\n",
      "[Parallel(n_jobs=4)]: Done  10 tasks      | elapsed:    3.0s\n",
      "[Parallel(n_jobs=4)]: Done  17 tasks      | elapsed:    4.9s\n",
      "[Parallel(n_jobs=4)]: Done  24 tasks      | elapsed:    6.7s\n",
      "[Parallel(n_jobs=4)]: Done  33 tasks      | elapsed:    8.6s\n",
      "[Parallel(n_jobs=4)]: Done  42 tasks      | elapsed:   10.9s\n",
      "[Parallel(n_jobs=4)]: Done  50 out of  50 | elapsed:   12.5s finished\n"
     ]
    },
    {
     "name": "stdout",
     "output_type": "stream",
     "text": [
      "969\n"
     ]
    },
    {
     "name": "stderr",
     "output_type": "stream",
     "text": [
      "[Parallel(n_jobs=4)]: Using backend LokyBackend with 4 concurrent workers.\n",
      "[Parallel(n_jobs=4)]: Done   5 tasks      | elapsed:    2.5s\n",
      "[Parallel(n_jobs=4)]: Done  10 tasks      | elapsed:    3.9s\n",
      "[Parallel(n_jobs=4)]: Done  17 tasks      | elapsed:    6.0s\n",
      "[Parallel(n_jobs=4)]: Done  24 tasks      | elapsed:    7.7s\n",
      "[Parallel(n_jobs=4)]: Done  33 tasks      | elapsed:   10.4s\n",
      "[Parallel(n_jobs=4)]: Done  42 tasks      | elapsed:   12.3s\n",
      "[Parallel(n_jobs=4)]: Done  47 out of  49 | elapsed:   13.9s remaining:    0.6s\n",
      "[Parallel(n_jobs=4)]: Done  49 out of  49 | elapsed:   14.6s finished\n"
     ]
    },
    {
     "name": "stdout",
     "output_type": "stream",
     "text": [
      "970\n"
     ]
    },
    {
     "name": "stderr",
     "output_type": "stream",
     "text": [
      "[Parallel(n_jobs=4)]: Using backend LokyBackend with 4 concurrent workers.\n",
      "[Parallel(n_jobs=4)]: Done   5 tasks      | elapsed:    2.4s\n",
      "[Parallel(n_jobs=4)]: Done  10 tasks      | elapsed:    3.8s\n",
      "[Parallel(n_jobs=4)]: Done  17 tasks      | elapsed:    5.3s\n",
      "[Parallel(n_jobs=4)]: Done  24 tasks      | elapsed:    7.1s\n",
      "[Parallel(n_jobs=4)]: Done  33 tasks      | elapsed:    9.4s\n",
      "[Parallel(n_jobs=4)]: Done  45 out of  47 | elapsed:   12.8s remaining:    0.6s\n",
      "[Parallel(n_jobs=4)]: Done  47 out of  47 | elapsed:   13.4s finished\n"
     ]
    },
    {
     "name": "stdout",
     "output_type": "stream",
     "text": [
      "971\n"
     ]
    },
    {
     "name": "stderr",
     "output_type": "stream",
     "text": [
      "[Parallel(n_jobs=4)]: Using backend LokyBackend with 4 concurrent workers.\n",
      "[Parallel(n_jobs=4)]: Done   5 tasks      | elapsed:    2.3s\n",
      "[Parallel(n_jobs=4)]: Done  10 tasks      | elapsed:    3.5s\n",
      "[Parallel(n_jobs=4)]: Done  17 tasks      | elapsed:    5.4s\n",
      "[Parallel(n_jobs=4)]: Done  24 tasks      | elapsed:    7.4s\n",
      "[Parallel(n_jobs=4)]: Done  33 tasks      | elapsed:    9.7s\n",
      "[Parallel(n_jobs=4)]: Done  42 tasks      | elapsed:   11.7s\n",
      "[Parallel(n_jobs=4)]: Done  50 out of  50 | elapsed:   13.4s finished\n"
     ]
    },
    {
     "name": "stdout",
     "output_type": "stream",
     "text": [
      "972\n"
     ]
    },
    {
     "name": "stderr",
     "output_type": "stream",
     "text": [
      "[Parallel(n_jobs=4)]: Using backend LokyBackend with 4 concurrent workers.\n",
      "[Parallel(n_jobs=4)]: Done   5 tasks      | elapsed:    1.8s\n",
      "[Parallel(n_jobs=4)]: Done  10 tasks      | elapsed:    3.6s\n",
      "[Parallel(n_jobs=4)]: Done  17 tasks      | elapsed:    5.0s\n",
      "[Parallel(n_jobs=4)]: Done  24 tasks      | elapsed:    7.0s\n",
      "[Parallel(n_jobs=4)]: Done  33 tasks      | elapsed:    9.1s\n",
      "[Parallel(n_jobs=4)]: Done  46 out of  48 | elapsed:   12.1s remaining:    0.5s\n",
      "[Parallel(n_jobs=4)]: Done  48 out of  48 | elapsed:   12.7s finished\n"
     ]
    },
    {
     "name": "stdout",
     "output_type": "stream",
     "text": [
      "973\n"
     ]
    },
    {
     "name": "stderr",
     "output_type": "stream",
     "text": [
      "[Parallel(n_jobs=4)]: Using backend LokyBackend with 4 concurrent workers.\n",
      "[Parallel(n_jobs=4)]: Done   5 tasks      | elapsed:    2.5s\n",
      "[Parallel(n_jobs=4)]: Done  10 tasks      | elapsed:    3.5s\n",
      "[Parallel(n_jobs=4)]: Done  17 tasks      | elapsed:    5.9s\n",
      "[Parallel(n_jobs=4)]: Done  24 tasks      | elapsed:    7.3s\n",
      "[Parallel(n_jobs=4)]: Done  33 tasks      | elapsed:    9.6s\n",
      "[Parallel(n_jobs=4)]: Done  42 tasks      | elapsed:   11.6s\n",
      "[Parallel(n_jobs=4)]: Done  50 out of  50 | elapsed:   13.4s finished\n"
     ]
    },
    {
     "name": "stdout",
     "output_type": "stream",
     "text": [
      "974\n"
     ]
    },
    {
     "name": "stderr",
     "output_type": "stream",
     "text": [
      "[Parallel(n_jobs=4)]: Using backend LokyBackend with 4 concurrent workers.\n",
      "[Parallel(n_jobs=4)]: Done   5 tasks      | elapsed:    2.1s\n",
      "[Parallel(n_jobs=4)]: Done  10 tasks      | elapsed:    3.4s\n",
      "[Parallel(n_jobs=4)]: Done  17 tasks      | elapsed:    5.2s\n",
      "[Parallel(n_jobs=4)]: Done  24 tasks      | elapsed:    6.9s\n",
      "[Parallel(n_jobs=4)]: Done  33 tasks      | elapsed:    9.7s\n",
      "[Parallel(n_jobs=4)]: Done  42 tasks      | elapsed:   11.9s\n",
      "[Parallel(n_jobs=4)]: Done  47 out of  49 | elapsed:   12.8s remaining:    0.5s\n",
      "[Parallel(n_jobs=4)]: Done  49 out of  49 | elapsed:   13.6s finished\n"
     ]
    },
    {
     "name": "stdout",
     "output_type": "stream",
     "text": [
      "975\n"
     ]
    },
    {
     "name": "stderr",
     "output_type": "stream",
     "text": [
      "[Parallel(n_jobs=4)]: Using backend LokyBackend with 4 concurrent workers.\n",
      "[Parallel(n_jobs=4)]: Done   5 tasks      | elapsed:    2.2s\n",
      "[Parallel(n_jobs=4)]: Done  10 tasks      | elapsed:    3.2s\n",
      "[Parallel(n_jobs=4)]: Done  17 tasks      | elapsed:    5.4s\n",
      "[Parallel(n_jobs=4)]: Done  24 tasks      | elapsed:    7.2s\n",
      "[Parallel(n_jobs=4)]: Done  33 tasks      | elapsed:    9.7s\n",
      "[Parallel(n_jobs=4)]: Done  42 tasks      | elapsed:   11.5s\n",
      "[Parallel(n_jobs=4)]: Done  47 out of  49 | elapsed:   12.7s remaining:    0.5s\n",
      "[Parallel(n_jobs=4)]: Done  49 out of  49 | elapsed:   13.1s finished\n"
     ]
    },
    {
     "name": "stdout",
     "output_type": "stream",
     "text": [
      "976\n"
     ]
    },
    {
     "name": "stderr",
     "output_type": "stream",
     "text": [
      "[Parallel(n_jobs=4)]: Using backend LokyBackend with 4 concurrent workers.\n",
      "[Parallel(n_jobs=4)]: Done   5 tasks      | elapsed:    2.2s\n",
      "[Parallel(n_jobs=4)]: Done  10 tasks      | elapsed:    3.6s\n",
      "[Parallel(n_jobs=4)]: Done  17 tasks      | elapsed:    5.4s\n",
      "[Parallel(n_jobs=4)]: Done  24 tasks      | elapsed:    7.4s\n",
      "[Parallel(n_jobs=4)]: Done  33 tasks      | elapsed:    9.2s\n",
      "[Parallel(n_jobs=4)]: Done  42 tasks      | elapsed:   11.5s\n",
      "[Parallel(n_jobs=4)]: Done  50 out of  50 | elapsed:   13.5s finished\n"
     ]
    },
    {
     "name": "stdout",
     "output_type": "stream",
     "text": [
      "977\n"
     ]
    },
    {
     "name": "stderr",
     "output_type": "stream",
     "text": [
      "[Parallel(n_jobs=4)]: Using backend LokyBackend with 4 concurrent workers.\n",
      "[Parallel(n_jobs=4)]: Done   5 tasks      | elapsed:    2.1s\n",
      "[Parallel(n_jobs=4)]: Done  10 tasks      | elapsed:    3.2s\n",
      "[Parallel(n_jobs=4)]: Done  17 tasks      | elapsed:    5.0s\n",
      "[Parallel(n_jobs=4)]: Done  24 tasks      | elapsed:    6.9s\n",
      "[Parallel(n_jobs=4)]: Done  33 tasks      | elapsed:    8.8s\n",
      "[Parallel(n_jobs=4)]: Done  42 tasks      | elapsed:   10.4s\n",
      "[Parallel(n_jobs=4)]: Done  47 out of  49 | elapsed:   11.3s remaining:    0.5s\n",
      "[Parallel(n_jobs=4)]: Done  49 out of  49 | elapsed:   11.9s finished\n"
     ]
    },
    {
     "name": "stdout",
     "output_type": "stream",
     "text": [
      "978\n"
     ]
    },
    {
     "name": "stderr",
     "output_type": "stream",
     "text": [
      "[Parallel(n_jobs=4)]: Using backend LokyBackend with 4 concurrent workers.\n",
      "[Parallel(n_jobs=4)]: Done   5 tasks      | elapsed:    2.4s\n",
      "[Parallel(n_jobs=4)]: Done  10 tasks      | elapsed:    3.8s\n",
      "[Parallel(n_jobs=4)]: Done  17 tasks      | elapsed:    6.0s\n",
      "[Parallel(n_jobs=4)]: Done  24 tasks      | elapsed:    7.8s\n",
      "[Parallel(n_jobs=4)]: Done  33 tasks      | elapsed:   10.1s\n",
      "[Parallel(n_jobs=4)]: Done  45 out of  47 | elapsed:   13.4s remaining:    0.6s\n",
      "[Parallel(n_jobs=4)]: Done  47 out of  47 | elapsed:   14.5s finished\n"
     ]
    },
    {
     "name": "stdout",
     "output_type": "stream",
     "text": [
      "979\n"
     ]
    },
    {
     "name": "stderr",
     "output_type": "stream",
     "text": [
      "[Parallel(n_jobs=4)]: Using backend LokyBackend with 4 concurrent workers.\n",
      "[Parallel(n_jobs=4)]: Done   5 tasks      | elapsed:    2.3s\n",
      "[Parallel(n_jobs=4)]: Done  10 tasks      | elapsed:    3.2s\n",
      "[Parallel(n_jobs=4)]: Done  17 tasks      | elapsed:    4.7s\n",
      "[Parallel(n_jobs=4)]: Done  24 tasks      | elapsed:    6.6s\n",
      "[Parallel(n_jobs=4)]: Done  33 tasks      | elapsed:    8.8s\n",
      "[Parallel(n_jobs=4)]: Done  42 tasks      | elapsed:   11.3s\n",
      "[Parallel(n_jobs=4)]: Done  47 out of  49 | elapsed:   12.4s remaining:    0.5s\n",
      "[Parallel(n_jobs=4)]: Done  49 out of  49 | elapsed:   12.9s finished\n"
     ]
    },
    {
     "name": "stdout",
     "output_type": "stream",
     "text": [
      "980\n"
     ]
    },
    {
     "name": "stderr",
     "output_type": "stream",
     "text": [
      "[Parallel(n_jobs=4)]: Using backend LokyBackend with 4 concurrent workers.\n",
      "[Parallel(n_jobs=4)]: Done   5 tasks      | elapsed:    2.6s\n",
      "[Parallel(n_jobs=4)]: Done  10 tasks      | elapsed:    3.9s\n",
      "[Parallel(n_jobs=4)]: Done  17 tasks      | elapsed:    5.7s\n",
      "[Parallel(n_jobs=4)]: Done  24 tasks      | elapsed:    7.6s\n",
      "[Parallel(n_jobs=4)]: Done  33 tasks      | elapsed:    9.5s\n",
      "[Parallel(n_jobs=4)]: Done  42 tasks      | elapsed:   11.8s\n",
      "[Parallel(n_jobs=4)]: Done  50 out of  50 | elapsed:   13.4s finished\n"
     ]
    },
    {
     "name": "stdout",
     "output_type": "stream",
     "text": [
      "981\n"
     ]
    },
    {
     "name": "stderr",
     "output_type": "stream",
     "text": [
      "[Parallel(n_jobs=4)]: Using backend LokyBackend with 4 concurrent workers.\n",
      "[Parallel(n_jobs=4)]: Done   5 tasks      | elapsed:    2.4s\n",
      "[Parallel(n_jobs=4)]: Done  10 tasks      | elapsed:    3.9s\n",
      "[Parallel(n_jobs=4)]: Done  17 tasks      | elapsed:    5.6s\n",
      "[Parallel(n_jobs=4)]: Done  24 tasks      | elapsed:    7.5s\n",
      "[Parallel(n_jobs=4)]: Done  33 tasks      | elapsed:    9.8s\n",
      "[Parallel(n_jobs=4)]: Done  42 tasks      | elapsed:   12.4s\n",
      "[Parallel(n_jobs=4)]: Done  47 out of  49 | elapsed:   13.4s remaining:    0.6s\n",
      "[Parallel(n_jobs=4)]: Done  49 out of  49 | elapsed:   13.6s finished\n"
     ]
    },
    {
     "name": "stdout",
     "output_type": "stream",
     "text": [
      "982\n"
     ]
    },
    {
     "name": "stderr",
     "output_type": "stream",
     "text": [
      "[Parallel(n_jobs=4)]: Using backend LokyBackend with 4 concurrent workers.\n",
      "[Parallel(n_jobs=4)]: Done   5 tasks      | elapsed:    2.2s\n",
      "[Parallel(n_jobs=4)]: Done  10 tasks      | elapsed:    3.8s\n",
      "[Parallel(n_jobs=4)]: Done  17 tasks      | elapsed:    5.8s\n",
      "[Parallel(n_jobs=4)]: Done  24 tasks      | elapsed:    7.7s\n",
      "[Parallel(n_jobs=4)]: Done  33 tasks      | elapsed:   10.3s\n",
      "[Parallel(n_jobs=4)]: Done  41 out of  43 | elapsed:   12.1s remaining:    0.6s\n",
      "[Parallel(n_jobs=4)]: Done  43 out of  43 | elapsed:   12.7s finished\n"
     ]
    },
    {
     "name": "stdout",
     "output_type": "stream",
     "text": [
      "983\n"
     ]
    },
    {
     "name": "stderr",
     "output_type": "stream",
     "text": [
      "[Parallel(n_jobs=4)]: Using backend LokyBackend with 4 concurrent workers.\n",
      "[Parallel(n_jobs=4)]: Done   5 tasks      | elapsed:    2.1s\n",
      "[Parallel(n_jobs=4)]: Done  10 tasks      | elapsed:    3.2s\n",
      "[Parallel(n_jobs=4)]: Done  17 tasks      | elapsed:    4.9s\n",
      "[Parallel(n_jobs=4)]: Done  24 tasks      | elapsed:    6.8s\n",
      "[Parallel(n_jobs=4)]: Done  33 tasks      | elapsed:    9.0s\n",
      "[Parallel(n_jobs=4)]: Done  42 tasks      | elapsed:   11.3s\n",
      "[Parallel(n_jobs=4)]: Done  47 out of  49 | elapsed:   12.3s remaining:    0.5s\n",
      "[Parallel(n_jobs=4)]: Done  49 out of  49 | elapsed:   13.2s finished\n"
     ]
    },
    {
     "name": "stdout",
     "output_type": "stream",
     "text": [
      "984\n"
     ]
    },
    {
     "name": "stderr",
     "output_type": "stream",
     "text": [
      "[Parallel(n_jobs=4)]: Using backend LokyBackend with 4 concurrent workers.\n",
      "[Parallel(n_jobs=4)]: Done   5 tasks      | elapsed:    2.0s\n",
      "[Parallel(n_jobs=4)]: Done  10 tasks      | elapsed:    3.1s\n",
      "[Parallel(n_jobs=4)]: Done  17 tasks      | elapsed:    5.1s\n",
      "[Parallel(n_jobs=4)]: Done  24 tasks      | elapsed:    6.8s\n",
      "[Parallel(n_jobs=4)]: Done  33 tasks      | elapsed:    9.1s\n",
      "[Parallel(n_jobs=4)]: Done  42 tasks      | elapsed:   11.6s\n",
      "[Parallel(n_jobs=4)]: Done  50 out of  50 | elapsed:   13.1s finished\n"
     ]
    },
    {
     "name": "stdout",
     "output_type": "stream",
     "text": [
      "985\n"
     ]
    },
    {
     "name": "stderr",
     "output_type": "stream",
     "text": [
      "[Parallel(n_jobs=4)]: Using backend LokyBackend with 4 concurrent workers.\n",
      "[Parallel(n_jobs=4)]: Done   5 tasks      | elapsed:    2.1s\n",
      "[Parallel(n_jobs=4)]: Done  10 tasks      | elapsed:    3.1s\n",
      "[Parallel(n_jobs=4)]: Done  17 tasks      | elapsed:    4.8s\n",
      "[Parallel(n_jobs=4)]: Done  24 tasks      | elapsed:    7.0s\n",
      "[Parallel(n_jobs=4)]: Done  33 tasks      | elapsed:    9.1s\n",
      "[Parallel(n_jobs=4)]: Done  42 tasks      | elapsed:   11.0s\n",
      "[Parallel(n_jobs=4)]: Done  47 out of  49 | elapsed:   12.0s remaining:    0.5s\n",
      "[Parallel(n_jobs=4)]: Done  49 out of  49 | elapsed:   12.8s finished\n"
     ]
    },
    {
     "name": "stdout",
     "output_type": "stream",
     "text": [
      "986\n"
     ]
    },
    {
     "name": "stderr",
     "output_type": "stream",
     "text": [
      "[Parallel(n_jobs=4)]: Using backend LokyBackend with 4 concurrent workers.\n",
      "[Parallel(n_jobs=4)]: Done   5 tasks      | elapsed:    2.3s\n",
      "[Parallel(n_jobs=4)]: Done  10 tasks      | elapsed:    3.2s\n",
      "[Parallel(n_jobs=4)]: Done  17 tasks      | elapsed:    5.1s\n",
      "[Parallel(n_jobs=4)]: Done  24 tasks      | elapsed:    6.8s\n",
      "[Parallel(n_jobs=4)]: Done  33 tasks      | elapsed:    9.2s\n",
      "[Parallel(n_jobs=4)]: Done  43 out of  45 | elapsed:   10.9s remaining:    0.5s\n",
      "[Parallel(n_jobs=4)]: Done  45 out of  45 | elapsed:   11.6s finished\n"
     ]
    },
    {
     "name": "stdout",
     "output_type": "stream",
     "text": [
      "987\n"
     ]
    },
    {
     "name": "stderr",
     "output_type": "stream",
     "text": [
      "[Parallel(n_jobs=4)]: Using backend LokyBackend with 4 concurrent workers.\n",
      "[Parallel(n_jobs=4)]: Done   5 tasks      | elapsed:    1.9s\n",
      "[Parallel(n_jobs=4)]: Done  10 tasks      | elapsed:    3.2s\n",
      "[Parallel(n_jobs=4)]: Done  17 tasks      | elapsed:    4.9s\n",
      "[Parallel(n_jobs=4)]: Done  24 tasks      | elapsed:    7.2s\n",
      "[Parallel(n_jobs=4)]: Done  33 tasks      | elapsed:    9.0s\n",
      "[Parallel(n_jobs=4)]: Done  46 out of  48 | elapsed:   11.6s remaining:    0.5s\n",
      "[Parallel(n_jobs=4)]: Done  48 out of  48 | elapsed:   12.4s finished\n"
     ]
    },
    {
     "name": "stdout",
     "output_type": "stream",
     "text": [
      "988\n"
     ]
    },
    {
     "name": "stderr",
     "output_type": "stream",
     "text": [
      "[Parallel(n_jobs=4)]: Using backend LokyBackend with 4 concurrent workers.\n",
      "[Parallel(n_jobs=4)]: Done   5 tasks      | elapsed:    2.2s\n",
      "[Parallel(n_jobs=4)]: Done  10 tasks      | elapsed:    3.6s\n",
      "[Parallel(n_jobs=4)]: Done  17 tasks      | elapsed:    5.2s\n",
      "[Parallel(n_jobs=4)]: Done  24 tasks      | elapsed:    7.0s\n",
      "[Parallel(n_jobs=4)]: Done  33 tasks      | elapsed:    9.1s\n",
      "[Parallel(n_jobs=4)]: Done  46 out of  48 | elapsed:   11.9s remaining:    0.5s\n",
      "[Parallel(n_jobs=4)]: Done  48 out of  48 | elapsed:   12.4s finished\n"
     ]
    },
    {
     "name": "stdout",
     "output_type": "stream",
     "text": [
      "989\n"
     ]
    },
    {
     "name": "stderr",
     "output_type": "stream",
     "text": [
      "[Parallel(n_jobs=4)]: Using backend LokyBackend with 4 concurrent workers.\n",
      "[Parallel(n_jobs=4)]: Done   5 tasks      | elapsed:    2.0s\n",
      "[Parallel(n_jobs=4)]: Done  10 tasks      | elapsed:    2.9s\n",
      "[Parallel(n_jobs=4)]: Done  17 tasks      | elapsed:    5.0s\n",
      "[Parallel(n_jobs=4)]: Done  24 tasks      | elapsed:    6.0s\n",
      "[Parallel(n_jobs=4)]: Done  33 tasks      | elapsed:    8.5s\n",
      "[Parallel(n_jobs=4)]: Done  42 tasks      | elapsed:   10.5s\n",
      "[Parallel(n_jobs=4)]: Done  47 out of  49 | elapsed:   11.4s remaining:    0.5s\n",
      "[Parallel(n_jobs=4)]: Done  49 out of  49 | elapsed:   12.0s finished\n"
     ]
    },
    {
     "name": "stdout",
     "output_type": "stream",
     "text": [
      "990\n"
     ]
    },
    {
     "name": "stderr",
     "output_type": "stream",
     "text": [
      "[Parallel(n_jobs=4)]: Using backend LokyBackend with 4 concurrent workers.\n",
      "[Parallel(n_jobs=4)]: Done   5 tasks      | elapsed:    2.1s\n",
      "[Parallel(n_jobs=4)]: Done  10 tasks      | elapsed:    3.1s\n",
      "[Parallel(n_jobs=4)]: Done  17 tasks      | elapsed:    4.7s\n",
      "[Parallel(n_jobs=4)]: Done  24 tasks      | elapsed:    6.5s\n",
      "[Parallel(n_jobs=4)]: Done  33 tasks      | elapsed:    8.4s\n",
      "[Parallel(n_jobs=4)]: Done  46 out of  48 | elapsed:   11.6s remaining:    0.5s\n",
      "[Parallel(n_jobs=4)]: Done  48 out of  48 | elapsed:   12.3s finished\n"
     ]
    },
    {
     "name": "stdout",
     "output_type": "stream",
     "text": [
      "991\n"
     ]
    },
    {
     "name": "stderr",
     "output_type": "stream",
     "text": [
      "[Parallel(n_jobs=4)]: Using backend LokyBackend with 4 concurrent workers.\n",
      "[Parallel(n_jobs=4)]: Done   5 tasks      | elapsed:    2.1s\n",
      "[Parallel(n_jobs=4)]: Done  10 tasks      | elapsed:    3.1s\n",
      "[Parallel(n_jobs=4)]: Done  17 tasks      | elapsed:    5.1s\n",
      "[Parallel(n_jobs=4)]: Done  24 tasks      | elapsed:    7.0s\n",
      "[Parallel(n_jobs=4)]: Done  33 tasks      | elapsed:    9.2s\n",
      "[Parallel(n_jobs=4)]: Done  46 out of  48 | elapsed:   12.4s remaining:    0.5s\n",
      "[Parallel(n_jobs=4)]: Done  48 out of  48 | elapsed:   13.3s finished\n"
     ]
    },
    {
     "name": "stdout",
     "output_type": "stream",
     "text": [
      "992\n"
     ]
    },
    {
     "name": "stderr",
     "output_type": "stream",
     "text": [
      "[Parallel(n_jobs=4)]: Using backend LokyBackend with 4 concurrent workers.\n",
      "[Parallel(n_jobs=4)]: Done   5 tasks      | elapsed:    1.8s\n",
      "[Parallel(n_jobs=4)]: Done  10 tasks      | elapsed:    3.1s\n",
      "[Parallel(n_jobs=4)]: Done  17 tasks      | elapsed:    5.2s\n",
      "[Parallel(n_jobs=4)]: Done  24 tasks      | elapsed:    7.2s\n",
      "[Parallel(n_jobs=4)]: Done  33 tasks      | elapsed:    9.5s\n",
      "[Parallel(n_jobs=4)]: Done  46 out of  48 | elapsed:   12.9s remaining:    0.6s\n",
      "[Parallel(n_jobs=4)]: Done  48 out of  48 | elapsed:   13.0s finished\n"
     ]
    },
    {
     "name": "stdout",
     "output_type": "stream",
     "text": [
      "993\n"
     ]
    },
    {
     "name": "stderr",
     "output_type": "stream",
     "text": [
      "[Parallel(n_jobs=4)]: Using backend LokyBackend with 4 concurrent workers.\n",
      "[Parallel(n_jobs=4)]: Done   5 tasks      | elapsed:    1.8s\n",
      "[Parallel(n_jobs=4)]: Done  10 tasks      | elapsed:    3.1s\n",
      "[Parallel(n_jobs=4)]: Done  17 tasks      | elapsed:    4.8s\n",
      "[Parallel(n_jobs=4)]: Done  24 tasks      | elapsed:    6.5s\n",
      "[Parallel(n_jobs=4)]: Done  33 tasks      | elapsed:    9.0s\n",
      "[Parallel(n_jobs=4)]: Done  46 out of  48 | elapsed:   11.6s remaining:    0.5s\n",
      "[Parallel(n_jobs=4)]: Done  48 out of  48 | elapsed:   11.8s finished\n"
     ]
    },
    {
     "name": "stdout",
     "output_type": "stream",
     "text": [
      "994\n"
     ]
    },
    {
     "name": "stderr",
     "output_type": "stream",
     "text": [
      "[Parallel(n_jobs=4)]: Using backend LokyBackend with 4 concurrent workers.\n",
      "[Parallel(n_jobs=4)]: Done   5 tasks      | elapsed:    2.0s\n",
      "[Parallel(n_jobs=4)]: Done  10 tasks      | elapsed:    3.1s\n",
      "[Parallel(n_jobs=4)]: Done  17 tasks      | elapsed:    5.2s\n",
      "[Parallel(n_jobs=4)]: Done  24 tasks      | elapsed:    7.1s\n",
      "[Parallel(n_jobs=4)]: Done  33 tasks      | elapsed:    9.1s\n",
      "[Parallel(n_jobs=4)]: Done  45 out of  47 | elapsed:   12.3s remaining:    0.5s\n",
      "[Parallel(n_jobs=4)]: Done  47 out of  47 | elapsed:   12.5s finished\n"
     ]
    },
    {
     "name": "stdout",
     "output_type": "stream",
     "text": [
      "995\n"
     ]
    },
    {
     "name": "stderr",
     "output_type": "stream",
     "text": [
      "[Parallel(n_jobs=4)]: Using backend LokyBackend with 4 concurrent workers.\n",
      "[Parallel(n_jobs=4)]: Done   5 tasks      | elapsed:    1.9s\n",
      "[Parallel(n_jobs=4)]: Done  10 tasks      | elapsed:    3.2s\n",
      "[Parallel(n_jobs=4)]: Done  17 tasks      | elapsed:    5.3s\n",
      "[Parallel(n_jobs=4)]: Done  24 tasks      | elapsed:    6.8s\n",
      "[Parallel(n_jobs=4)]: Done  33 tasks      | elapsed:    8.9s\n",
      "[Parallel(n_jobs=4)]: Done  42 tasks      | elapsed:   11.0s\n",
      "[Parallel(n_jobs=4)]: Done  50 out of  50 | elapsed:   12.6s finished\n"
     ]
    },
    {
     "name": "stdout",
     "output_type": "stream",
     "text": [
      "996\n"
     ]
    },
    {
     "name": "stderr",
     "output_type": "stream",
     "text": [
      "[Parallel(n_jobs=4)]: Using backend LokyBackend with 4 concurrent workers.\n",
      "[Parallel(n_jobs=4)]: Done   5 tasks      | elapsed:    2.0s\n",
      "[Parallel(n_jobs=4)]: Done  10 tasks      | elapsed:    3.3s\n",
      "[Parallel(n_jobs=4)]: Done  17 tasks      | elapsed:    5.1s\n",
      "[Parallel(n_jobs=4)]: Done  24 tasks      | elapsed:    6.5s\n",
      "[Parallel(n_jobs=4)]: Done  33 tasks      | elapsed:    8.8s\n",
      "[Parallel(n_jobs=4)]: Done  46 out of  48 | elapsed:   11.8s remaining:    0.5s\n",
      "[Parallel(n_jobs=4)]: Done  48 out of  48 | elapsed:   12.0s finished\n"
     ]
    },
    {
     "name": "stdout",
     "output_type": "stream",
     "text": [
      "997\n"
     ]
    },
    {
     "name": "stderr",
     "output_type": "stream",
     "text": [
      "[Parallel(n_jobs=4)]: Using backend LokyBackend with 4 concurrent workers.\n",
      "[Parallel(n_jobs=4)]: Done   5 tasks      | elapsed:    2.2s\n",
      "[Parallel(n_jobs=4)]: Done  10 tasks      | elapsed:    3.4s\n",
      "[Parallel(n_jobs=4)]: Done  17 tasks      | elapsed:    5.6s\n",
      "[Parallel(n_jobs=4)]: Done  24 tasks      | elapsed:    7.0s\n",
      "[Parallel(n_jobs=4)]: Done  33 tasks      | elapsed:    9.7s\n",
      "[Parallel(n_jobs=4)]: Done  45 out of  47 | elapsed:   12.3s remaining:    0.5s\n",
      "[Parallel(n_jobs=4)]: Done  47 out of  47 | elapsed:   12.8s finished\n"
     ]
    },
    {
     "name": "stdout",
     "output_type": "stream",
     "text": [
      "998\n"
     ]
    },
    {
     "name": "stderr",
     "output_type": "stream",
     "text": [
      "[Parallel(n_jobs=4)]: Using backend LokyBackend with 4 concurrent workers.\n",
      "[Parallel(n_jobs=4)]: Done   5 tasks      | elapsed:    2.2s\n",
      "[Parallel(n_jobs=4)]: Done  10 tasks      | elapsed:    3.3s\n",
      "[Parallel(n_jobs=4)]: Done  17 tasks      | elapsed:    5.4s\n",
      "[Parallel(n_jobs=4)]: Done  24 tasks      | elapsed:    7.5s\n",
      "[Parallel(n_jobs=4)]: Done  33 tasks      | elapsed:    9.4s\n",
      "[Parallel(n_jobs=4)]: Done  42 tasks      | elapsed:   11.2s\n",
      "[Parallel(n_jobs=4)]: Done  50 out of  50 | elapsed:   12.9s finished\n"
     ]
    },
    {
     "name": "stdout",
     "output_type": "stream",
     "text": [
      "999\n"
     ]
    },
    {
     "name": "stderr",
     "output_type": "stream",
     "text": [
      "[Parallel(n_jobs=4)]: Using backend LokyBackend with 4 concurrent workers.\n",
      "[Parallel(n_jobs=4)]: Done   5 tasks      | elapsed:    2.0s\n",
      "[Parallel(n_jobs=4)]: Done  10 tasks      | elapsed:    2.9s\n",
      "[Parallel(n_jobs=4)]: Done  17 tasks      | elapsed:    4.5s\n",
      "[Parallel(n_jobs=4)]: Done  24 tasks      | elapsed:    6.2s\n",
      "[Parallel(n_jobs=4)]: Done  33 tasks      | elapsed:    8.3s\n",
      "[Parallel(n_jobs=4)]: Done  45 out of  47 | elapsed:   11.0s remaining:    0.5s\n",
      "[Parallel(n_jobs=4)]: Done  47 out of  47 | elapsed:   11.7s finished\n"
     ]
    }
   ],
   "source": [
    "tail = 'dtlrvwlst/?smp=0&lc=2&PG='\n",
    "rev_results = []\n",
    "\n",
    "# func = lambda review: [i.text for i in BeautifulSoup(requests.get('https://tabelog.com' + review).text, 'html.parser').find_all('div',class_='rvw-item__rvw-comment')]\n",
    "def get_review(review):\n",
    "    try:\n",
    "        res = requests.get('https://tabelog.com' + review, timeout=5)\n",
    "        return [i.text for i in BeautifulSoup(res.text, 'html.parser').find_all('div',class_='rvw-item__rvw-comment')]\n",
    "    except Exception as e:\n",
    "        print(e)\n",
    "\n",
    "\n",
    "for link in links:\n",
    "    if n_links % 50 == 0:\n",
    "        np.savetxt(\"./texts/addition_700.csv\", rev_results, fmt=\"%s\", delimiter=\",\")\n",
    "    iteration = 1\n",
    "    while(True):\n",
    "        url = link + tail + str(iteration)\n",
    "        try:\n",
    "            r = requests.get(url,timeout=5)\n",
    "            if r.status_code != 200:\n",
    "                break\n",
    "            iteration += 1\n",
    "            review_soup = BeautifulSoup(r.text, 'html.parser')\n",
    "            review_urls =  [item.get('href') for item in review_soup.find_all('a', class_='rvw-simple-item__title-target')]\n",
    "            rev_results.append(\n",
    "                Parallel(n_jobs=4,verbose=10)([\n",
    "                    delayed(get_review)(i) for i in review_urls\n",
    "                ])\n",
    "            )\n",
    "        except Exception as e:\n",
    "            print(e)\n",
    "    "
   ]
  },
  {
   "cell_type": "code",
   "execution_count": 9,
   "metadata": {
    "ExecuteTime": {
     "end_time": "2019-03-28T12:01:38.763937Z",
     "start_time": "2019-03-28T12:01:38.761045Z"
    }
   },
   "outputs": [],
   "source": [
    "# レストラン名と評価のDict作成\n",
    "# restaurant_names = [item.string for item in html_soup.find_all('a', class_='list-rst__rst-name-target cpy-rst-name')]\n",
    "# ratings = [item.string for item in html_soup.find_all('span', class_='c-rating__val c-rating__val--strong list-rst__rating-val')]\n",
    "# for k,v in zip(restaurant_names, ratings):\n",
    "#     print(k,v)"
   ]
  },
  {
   "cell_type": "code",
   "execution_count": 2,
   "metadata": {
    "ExecuteTime": {
     "end_time": "2019-04-01T01:06:49.361423Z",
     "start_time": "2019-04-01T01:06:48.466197Z"
    }
   },
   "outputs": [],
   "source": [
    "# f = open('./texts/', 'wb')\n",
    "# pickle.dump(rev_results, f)\n",
    "# f.close()\n",
    "\n",
    "# ロード時コマンド\n",
    "# results = pickle.load(open('./texts/sample_steak_corpus.csv', 'rb'))\n",
    "\n",
    "csv_file = open(\"./texts/restaurant_reviews.csv\", \"r\", errors=\"\", newline=\"\" )\n",
    "\n",
    "#リスト形式\n",
    "f = csv.reader(csv_file, delimiter=\",\", doublequote=True, lineterminator=\"\\r\\n\", quotechar='\"', skipinitialspace=True)\n",
    "\n",
    "results= [row for row in f]"
   ]
  },
  {
   "cell_type": "code",
   "execution_count": 3,
   "metadata": {
    "ExecuteTime": {
     "end_time": "2019-04-01T01:06:49.528551Z",
     "start_time": "2019-04-01T01:06:49.363876Z"
    }
   },
   "outputs": [],
   "source": [
    "csv_file = open(\"./texts/addition_700.csv\", \"r\", errors=\"\", newline=\"\" )\n",
    "#リスト形式\n",
    "f = csv.reader(csv_file, delimiter=\",\", doublequote=True, lineterminator=\"\\r\\n\", quotechar='\"', skipinitialspace=True)\n",
    "\n",
    "results2= [row for row in f]"
   ]
  },
  {
   "cell_type": "code",
   "execution_count": 4,
   "metadata": {
    "ExecuteTime": {
     "end_time": "2019-04-01T01:06:51.195282Z",
     "start_time": "2019-04-01T01:06:51.191709Z"
    }
   },
   "outputs": [],
   "source": [
    "rev_results = results + results2[1:]"
   ]
  },
  {
   "cell_type": "code",
   "execution_count": 5,
   "metadata": {
    "ExecuteTime": {
     "end_time": "2019-04-01T01:06:52.210058Z",
     "start_time": "2019-04-01T01:06:52.199427Z"
    }
   },
   "outputs": [
    {
     "data": {
      "text/plain": [
       "1336"
      ]
     },
     "execution_count": 5,
     "metadata": {},
     "output_type": "execute_result"
    }
   ],
   "source": [
    "len(rev_results)"
   ]
  },
  {
   "cell_type": "code",
   "execution_count": 7,
   "metadata": {
    "ExecuteTime": {
     "end_time": "2019-04-01T01:07:43.911498Z",
     "start_time": "2019-04-01T01:07:43.905867Z"
    }
   },
   "outputs": [],
   "source": [
    "# def mecab_analysis(texts):\n",
    "#     t = mc.Tagger(\"-Ochasen\")\n",
    "#     # 辞書ロードうまくいかない\n",
    "#     #t = mc.Tagger( '-Owakati -d /Users/tominagaryota/mecab-ipadic-neologd')\n",
    "#     t.parse('')\n",
    "#     output = []\n",
    "#     for text in texts:\n",
    "#             node =  t.parseToNode(text)  \n",
    "#             while node:\n",
    "#                 if node.surface != \"\":  # ヘッダとフッタを除外\n",
    "#                     word_type = node.feature.split(\",\")[0]\n",
    "#                     if word_type in ['名詞', '形容詞']:\n",
    "#                         output.append(node.surface)\n",
    "#                     #output.append(node.surface)\n",
    "#                 node = node.next\n",
    "#                 if node is None:\n",
    "#                     break\n",
    "#     return output\n",
    "\n",
    "def mecab_analysis(texts):\n",
    "    t = mc.Tagger(\"-Ochasen\")\n",
    "    # 辞書ロードうまくいかない\n",
    "    #t = mc.Tagger( '-Owakati -d /Users/tominagaryota/mecab-ipadic-neologd')\n",
    "    t.parse('')\n",
    "    output = []\n",
    "    node =  t.parseToNode(texts)  \n",
    "    while node:\n",
    "        if node.surface != \"\":  # ヘッダとフッタを除外\n",
    "            word_type = node.feature.split(\",\")[0]\n",
    "            if word_type in ['名詞', '形容詞']:\n",
    "                output.append(node.surface)\n",
    "            #output.append(node.surface)\n",
    "        node = node.next\n",
    "        if node is None:\n",
    "            break\n",
    "    return output"
   ]
  },
  {
   "cell_type": "code",
   "execution_count": null,
   "metadata": {
    "ExecuteTime": {
     "end_time": "2019-03-26T08:16:07.660618Z",
     "start_time": "2019-03-26T08:08:03.217Z"
    },
    "scrolled": true
   },
   "outputs": [],
   "source": [
    "# sklearnでのLDA。使わないかも\n",
    "\n",
    "# import mglearn\n",
    "# from sklearn.decomposition import LatentDirichletAllocation\n",
    "\n",
    "# vect = CountVectorizer(max_features=10000, max_df=.15)\n",
    "# # mecab_analysisを使用\n",
    "# X = vect.fit_transform(mecab_analysis([r[0] for r in rev_results[0]]))\n",
    "# lda = LatentDirichletAllocation(n_topics=5, learning_method=\"batch\", max_iter=25, random_state=0)\n",
    "# document_topics = lda.fit_transform(X)\n",
    "\n",
    "# sorting = np.argsort(lda.components_, axis=1)[:, ::-1]\n",
    "# feature_names = np.array(vect.get_feature_names())\n",
    "# mglearn.tools.print_topics(topics=range(5), feature_names=feature_names, \n",
    "#                            sorting=sorting, topics_per_chunk=1, n_words=5)"
   ]
  },
  {
   "cell_type": "code",
   "execution_count": null,
   "metadata": {
    "ExecuteTime": {
     "end_time": "2019-03-26T08:16:07.662270Z",
     "start_time": "2019-03-26T08:08:21.737Z"
    },
    "scrolled": true
   },
   "outputs": [],
   "source": [
    "# vect = CountVectorizer(max_features=10000, max_df=.15)\n",
    "# N_TOPICS = 6\n",
    "# # mecab_analysisを使用\n",
    "# X = vect.fit_transform(mecab_analysis([r[0] for r in rev_results[1]]))\n",
    "# lda = LatentDirichletAllocation(n_topics=N_TOPICS, learning_method=\"batch\", max_iter=25, random_state=0)\n",
    "# document_topics = lda.fit_transform(X)\n",
    "\n",
    "# sorting = np.argsort(lda.components_, axis=1)[:, ::-1]\n",
    "# feature_names = np.array(vect.get_feature_names())\n",
    "# mglearn.tools.print_topics(topics=range(N_TOPICS), feature_names=feature_names, \n",
    "#                            sorting=sorting, topics_per_chunk=1, n_words=10)"
   ]
  },
  {
   "cell_type": "code",
   "execution_count": 8,
   "metadata": {
    "ExecuteTime": {
     "end_time": "2019-04-01T01:08:01.614487Z",
     "start_time": "2019-04-01T01:08:01.586564Z"
    }
   },
   "outputs": [],
   "source": [
    "all_reviews = []\n",
    "for rvws in rev_results:\n",
    "    for r in rvws:\n",
    "        all_reviews.append(r)"
   ]
  },
  {
   "cell_type": "code",
   "execution_count": 9,
   "metadata": {
    "ExecuteTime": {
     "end_time": "2019-04-01T01:08:04.502706Z",
     "start_time": "2019-04-01T01:08:04.498225Z"
    }
   },
   "outputs": [
    {
     "data": {
      "text/plain": [
       "117619"
      ]
     },
     "execution_count": 9,
     "metadata": {},
     "output_type": "execute_result"
    }
   ],
   "source": [
    "len(all_reviews)"
   ]
  },
  {
   "cell_type": "code",
   "execution_count": 84,
   "metadata": {
    "ExecuteTime": {
     "end_time": "2019-04-01T01:49:37.715926Z",
     "start_time": "2019-04-01T01:49:35.611524Z"
    }
   },
   "outputs": [],
   "source": [
    "csv_file = open(\"./texts/wakati.csv\", \"r\", errors=\"\", newline=\"\" )\n",
    "\n",
    "#リスト形式\n",
    "f = csv.reader(csv_file, delimiter=\",\", doublequote=True, lineterminator=\"\\r\\n\", quotechar='\"', skipinitialspace=True)\n",
    "\n",
    "wakati_text = [row for row in f]"
   ]
  },
  {
   "cell_type": "code",
   "execution_count": 85,
   "metadata": {
    "ExecuteTime": {
     "end_time": "2019-04-01T01:49:43.440838Z",
     "start_time": "2019-04-01T01:49:37.717944Z"
    }
   },
   "outputs": [],
   "source": [
    "new_wakati = []\n",
    "for text in wakati_text:\n",
    "    striped =  [t.strip(\"['n'\").strip(\"'n']\").strip(\"'\") for t in text]\n",
    "    new_wakati.append(striped)\n",
    "wakati_text = new_wakati"
   ]
  },
  {
   "cell_type": "code",
   "execution_count": 87,
   "metadata": {
    "ExecuteTime": {
     "end_time": "2019-04-01T01:50:26.040143Z",
     "start_time": "2019-04-01T01:50:16.237703Z"
    },
    "scrolled": true
   },
   "outputs": [
    {
     "ename": "KeyboardInterrupt",
     "evalue": "",
     "output_type": "error",
     "traceback": [
      "\u001b[0;31m---------------------------------------------------------------------------\u001b[0m",
      "\u001b[0;31mKeyboardInterrupt\u001b[0m                         Traceback (most recent call last)",
      "\u001b[0;32m<ipython-input-87-6e89fee637b4>\u001b[0m in \u001b[0;36m<module>\u001b[0;34m\u001b[0m\n\u001b[0;32m----> 1\u001b[0;31m \u001b[0mmodel\u001b[0m \u001b[0;34m=\u001b[0m \u001b[0mword2vec\u001b[0m\u001b[0;34m.\u001b[0m\u001b[0mWord2Vec\u001b[0m\u001b[0;34m(\u001b[0m\u001b[0mnew_wakati\u001b[0m\u001b[0;34m,\u001b[0m \u001b[0msize\u001b[0m\u001b[0;34m=\u001b[0m\u001b[0;36m1000\u001b[0m\u001b[0;34m,\u001b[0m\u001b[0mmin_count\u001b[0m\u001b[0;34m=\u001b[0m\u001b[0;36m5\u001b[0m\u001b[0;34m,\u001b[0m\u001b[0mwindow\u001b[0m\u001b[0;34m=\u001b[0m\u001b[0;36m5\u001b[0m\u001b[0;34m,\u001b[0m\u001b[0miter\u001b[0m\u001b[0;34m=\u001b[0m\u001b[0;36m100\u001b[0m\u001b[0;34m,\u001b[0m\u001b[0mworkers\u001b[0m\u001b[0;34m=\u001b[0m\u001b[0;36m4\u001b[0m\u001b[0;34m,\u001b[0m\u001b[0msg\u001b[0m\u001b[0;34m=\u001b[0m\u001b[0;36m1\u001b[0m\u001b[0;34m)\u001b[0m\u001b[0;34m\u001b[0m\u001b[0m\n\u001b[0m",
      "\u001b[0;32m~/.anyenv/envs/pyenv/versions/3.6.2/lib/python3.6/site-packages/gensim/models/word2vec.py\u001b[0m in \u001b[0;36m__init__\u001b[0;34m(self, sentences, corpus_file, size, alpha, window, min_count, max_vocab_size, sample, seed, workers, min_alpha, sg, hs, negative, ns_exponent, cbow_mean, hashfxn, iter, null_word, trim_rule, sorted_vocab, batch_words, compute_loss, callbacks, max_final_vocab)\u001b[0m\n\u001b[1;32m    781\u001b[0m             \u001b[0mcallbacks\u001b[0m\u001b[0;34m=\u001b[0m\u001b[0mcallbacks\u001b[0m\u001b[0;34m,\u001b[0m \u001b[0mbatch_words\u001b[0m\u001b[0;34m=\u001b[0m\u001b[0mbatch_words\u001b[0m\u001b[0;34m,\u001b[0m \u001b[0mtrim_rule\u001b[0m\u001b[0;34m=\u001b[0m\u001b[0mtrim_rule\u001b[0m\u001b[0;34m,\u001b[0m \u001b[0msg\u001b[0m\u001b[0;34m=\u001b[0m\u001b[0msg\u001b[0m\u001b[0;34m,\u001b[0m \u001b[0malpha\u001b[0m\u001b[0;34m=\u001b[0m\u001b[0malpha\u001b[0m\u001b[0;34m,\u001b[0m \u001b[0mwindow\u001b[0m\u001b[0;34m=\u001b[0m\u001b[0mwindow\u001b[0m\u001b[0;34m,\u001b[0m\u001b[0;34m\u001b[0m\u001b[0m\n\u001b[1;32m    782\u001b[0m             \u001b[0mseed\u001b[0m\u001b[0;34m=\u001b[0m\u001b[0mseed\u001b[0m\u001b[0;34m,\u001b[0m \u001b[0mhs\u001b[0m\u001b[0;34m=\u001b[0m\u001b[0mhs\u001b[0m\u001b[0;34m,\u001b[0m \u001b[0mnegative\u001b[0m\u001b[0;34m=\u001b[0m\u001b[0mnegative\u001b[0m\u001b[0;34m,\u001b[0m \u001b[0mcbow_mean\u001b[0m\u001b[0;34m=\u001b[0m\u001b[0mcbow_mean\u001b[0m\u001b[0;34m,\u001b[0m \u001b[0mmin_alpha\u001b[0m\u001b[0;34m=\u001b[0m\u001b[0mmin_alpha\u001b[0m\u001b[0;34m,\u001b[0m \u001b[0mcompute_loss\u001b[0m\u001b[0;34m=\u001b[0m\u001b[0mcompute_loss\u001b[0m\u001b[0;34m,\u001b[0m\u001b[0;34m\u001b[0m\u001b[0m\n\u001b[0;32m--> 783\u001b[0;31m             fast_version=FAST_VERSION)\n\u001b[0m\u001b[1;32m    784\u001b[0m \u001b[0;34m\u001b[0m\u001b[0m\n\u001b[1;32m    785\u001b[0m     def _do_train_epoch(self, corpus_file, thread_id, offset, cython_vocab, thread_private_mem, cur_epoch,\n",
      "\u001b[0;32m~/.anyenv/envs/pyenv/versions/3.6.2/lib/python3.6/site-packages/gensim/models/base_any2vec.py\u001b[0m in \u001b[0;36m__init__\u001b[0;34m(self, sentences, corpus_file, workers, vector_size, epochs, callbacks, batch_words, trim_rule, sg, alpha, window, seed, hs, negative, ns_exponent, cbow_mean, min_alpha, compute_loss, fast_version, **kwargs)\u001b[0m\n\u001b[1;32m    761\u001b[0m                 \u001b[0msentences\u001b[0m\u001b[0;34m=\u001b[0m\u001b[0msentences\u001b[0m\u001b[0;34m,\u001b[0m \u001b[0mcorpus_file\u001b[0m\u001b[0;34m=\u001b[0m\u001b[0mcorpus_file\u001b[0m\u001b[0;34m,\u001b[0m \u001b[0mtotal_examples\u001b[0m\u001b[0;34m=\u001b[0m\u001b[0mself\u001b[0m\u001b[0;34m.\u001b[0m\u001b[0mcorpus_count\u001b[0m\u001b[0;34m,\u001b[0m\u001b[0;34m\u001b[0m\u001b[0m\n\u001b[1;32m    762\u001b[0m                 \u001b[0mtotal_words\u001b[0m\u001b[0;34m=\u001b[0m\u001b[0mself\u001b[0m\u001b[0;34m.\u001b[0m\u001b[0mcorpus_total_words\u001b[0m\u001b[0;34m,\u001b[0m \u001b[0mepochs\u001b[0m\u001b[0;34m=\u001b[0m\u001b[0mself\u001b[0m\u001b[0;34m.\u001b[0m\u001b[0mepochs\u001b[0m\u001b[0;34m,\u001b[0m \u001b[0mstart_alpha\u001b[0m\u001b[0;34m=\u001b[0m\u001b[0mself\u001b[0m\u001b[0;34m.\u001b[0m\u001b[0malpha\u001b[0m\u001b[0;34m,\u001b[0m\u001b[0;34m\u001b[0m\u001b[0m\n\u001b[0;32m--> 763\u001b[0;31m                 end_alpha=self.min_alpha, compute_loss=compute_loss)\n\u001b[0m\u001b[1;32m    764\u001b[0m         \u001b[0;32melse\u001b[0m\u001b[0;34m:\u001b[0m\u001b[0;34m\u001b[0m\u001b[0m\n\u001b[1;32m    765\u001b[0m             \u001b[0;32mif\u001b[0m \u001b[0mtrim_rule\u001b[0m \u001b[0;32mis\u001b[0m \u001b[0;32mnot\u001b[0m \u001b[0;32mNone\u001b[0m\u001b[0;34m:\u001b[0m\u001b[0;34m\u001b[0m\u001b[0m\n",
      "\u001b[0;32m~/.anyenv/envs/pyenv/versions/3.6.2/lib/python3.6/site-packages/gensim/models/word2vec.py\u001b[0m in \u001b[0;36mtrain\u001b[0;34m(self, sentences, corpus_file, total_examples, total_words, epochs, start_alpha, end_alpha, word_count, queue_factor, report_delay, compute_loss, callbacks)\u001b[0m\n\u001b[1;32m    908\u001b[0m             \u001b[0msentences\u001b[0m\u001b[0;34m=\u001b[0m\u001b[0msentences\u001b[0m\u001b[0;34m,\u001b[0m \u001b[0mcorpus_file\u001b[0m\u001b[0;34m=\u001b[0m\u001b[0mcorpus_file\u001b[0m\u001b[0;34m,\u001b[0m \u001b[0mtotal_examples\u001b[0m\u001b[0;34m=\u001b[0m\u001b[0mtotal_examples\u001b[0m\u001b[0;34m,\u001b[0m \u001b[0mtotal_words\u001b[0m\u001b[0;34m=\u001b[0m\u001b[0mtotal_words\u001b[0m\u001b[0;34m,\u001b[0m\u001b[0;34m\u001b[0m\u001b[0m\n\u001b[1;32m    909\u001b[0m             \u001b[0mepochs\u001b[0m\u001b[0;34m=\u001b[0m\u001b[0mepochs\u001b[0m\u001b[0;34m,\u001b[0m \u001b[0mstart_alpha\u001b[0m\u001b[0;34m=\u001b[0m\u001b[0mstart_alpha\u001b[0m\u001b[0;34m,\u001b[0m \u001b[0mend_alpha\u001b[0m\u001b[0;34m=\u001b[0m\u001b[0mend_alpha\u001b[0m\u001b[0;34m,\u001b[0m \u001b[0mword_count\u001b[0m\u001b[0;34m=\u001b[0m\u001b[0mword_count\u001b[0m\u001b[0;34m,\u001b[0m\u001b[0;34m\u001b[0m\u001b[0m\n\u001b[0;32m--> 910\u001b[0;31m             queue_factor=queue_factor, report_delay=report_delay, compute_loss=compute_loss, callbacks=callbacks)\n\u001b[0m\u001b[1;32m    911\u001b[0m \u001b[0;34m\u001b[0m\u001b[0m\n\u001b[1;32m    912\u001b[0m     \u001b[0;32mdef\u001b[0m \u001b[0mscore\u001b[0m\u001b[0;34m(\u001b[0m\u001b[0mself\u001b[0m\u001b[0;34m,\u001b[0m \u001b[0msentences\u001b[0m\u001b[0;34m,\u001b[0m \u001b[0mtotal_sentences\u001b[0m\u001b[0;34m=\u001b[0m\u001b[0mint\u001b[0m\u001b[0;34m(\u001b[0m\u001b[0;36m1e6\u001b[0m\u001b[0;34m)\u001b[0m\u001b[0;34m,\u001b[0m \u001b[0mchunksize\u001b[0m\u001b[0;34m=\u001b[0m\u001b[0;36m100\u001b[0m\u001b[0;34m,\u001b[0m \u001b[0mqueue_factor\u001b[0m\u001b[0;34m=\u001b[0m\u001b[0;36m2\u001b[0m\u001b[0;34m,\u001b[0m \u001b[0mreport_delay\u001b[0m\u001b[0;34m=\u001b[0m\u001b[0;36m1\u001b[0m\u001b[0;34m)\u001b[0m\u001b[0;34m:\u001b[0m\u001b[0;34m\u001b[0m\u001b[0m\n",
      "\u001b[0;32m~/.anyenv/envs/pyenv/versions/3.6.2/lib/python3.6/site-packages/gensim/models/base_any2vec.py\u001b[0m in \u001b[0;36mtrain\u001b[0;34m(self, sentences, corpus_file, total_examples, total_words, epochs, start_alpha, end_alpha, word_count, queue_factor, report_delay, compute_loss, callbacks, **kwargs)\u001b[0m\n\u001b[1;32m   1079\u001b[0m             \u001b[0mtotal_words\u001b[0m\u001b[0;34m=\u001b[0m\u001b[0mtotal_words\u001b[0m\u001b[0;34m,\u001b[0m \u001b[0mepochs\u001b[0m\u001b[0;34m=\u001b[0m\u001b[0mepochs\u001b[0m\u001b[0;34m,\u001b[0m \u001b[0mstart_alpha\u001b[0m\u001b[0;34m=\u001b[0m\u001b[0mstart_alpha\u001b[0m\u001b[0;34m,\u001b[0m \u001b[0mend_alpha\u001b[0m\u001b[0;34m=\u001b[0m\u001b[0mend_alpha\u001b[0m\u001b[0;34m,\u001b[0m \u001b[0mword_count\u001b[0m\u001b[0;34m=\u001b[0m\u001b[0mword_count\u001b[0m\u001b[0;34m,\u001b[0m\u001b[0;34m\u001b[0m\u001b[0m\n\u001b[1;32m   1080\u001b[0m             \u001b[0mqueue_factor\u001b[0m\u001b[0;34m=\u001b[0m\u001b[0mqueue_factor\u001b[0m\u001b[0;34m,\u001b[0m \u001b[0mreport_delay\u001b[0m\u001b[0;34m=\u001b[0m\u001b[0mreport_delay\u001b[0m\u001b[0;34m,\u001b[0m \u001b[0mcompute_loss\u001b[0m\u001b[0;34m=\u001b[0m\u001b[0mcompute_loss\u001b[0m\u001b[0;34m,\u001b[0m \u001b[0mcallbacks\u001b[0m\u001b[0;34m=\u001b[0m\u001b[0mcallbacks\u001b[0m\u001b[0;34m,\u001b[0m\u001b[0;34m\u001b[0m\u001b[0m\n\u001b[0;32m-> 1081\u001b[0;31m             **kwargs)\n\u001b[0m\u001b[1;32m   1082\u001b[0m \u001b[0;34m\u001b[0m\u001b[0m\n\u001b[1;32m   1083\u001b[0m     \u001b[0;32mdef\u001b[0m \u001b[0m_get_job_params\u001b[0m\u001b[0;34m(\u001b[0m\u001b[0mself\u001b[0m\u001b[0;34m,\u001b[0m \u001b[0mcur_epoch\u001b[0m\u001b[0;34m)\u001b[0m\u001b[0;34m:\u001b[0m\u001b[0;34m\u001b[0m\u001b[0m\n",
      "\u001b[0;32m~/.anyenv/envs/pyenv/versions/3.6.2/lib/python3.6/site-packages/gensim/models/base_any2vec.py\u001b[0m in \u001b[0;36mtrain\u001b[0;34m(self, data_iterable, corpus_file, epochs, total_examples, total_words, queue_factor, report_delay, callbacks, **kwargs)\u001b[0m\n\u001b[1;32m    551\u001b[0m                 trained_word_count_epoch, raw_word_count_epoch, job_tally_epoch = self._train_epoch(\n\u001b[1;32m    552\u001b[0m                     \u001b[0mdata_iterable\u001b[0m\u001b[0;34m,\u001b[0m \u001b[0mcur_epoch\u001b[0m\u001b[0;34m=\u001b[0m\u001b[0mcur_epoch\u001b[0m\u001b[0;34m,\u001b[0m \u001b[0mtotal_examples\u001b[0m\u001b[0;34m=\u001b[0m\u001b[0mtotal_examples\u001b[0m\u001b[0;34m,\u001b[0m\u001b[0;34m\u001b[0m\u001b[0m\n\u001b[0;32m--> 553\u001b[0;31m                     total_words=total_words, queue_factor=queue_factor, report_delay=report_delay)\n\u001b[0m\u001b[1;32m    554\u001b[0m             \u001b[0;32melse\u001b[0m\u001b[0;34m:\u001b[0m\u001b[0;34m\u001b[0m\u001b[0m\n\u001b[1;32m    555\u001b[0m                 trained_word_count_epoch, raw_word_count_epoch, job_tally_epoch = self._train_epoch_corpusfile(\n",
      "\u001b[0;32m~/.anyenv/envs/pyenv/versions/3.6.2/lib/python3.6/site-packages/gensim/models/base_any2vec.py\u001b[0m in \u001b[0;36m_train_epoch\u001b[0;34m(self, data_iterable, cur_epoch, total_examples, total_words, queue_factor, report_delay)\u001b[0m\n\u001b[1;32m    487\u001b[0m         trained_word_count, raw_word_count, job_tally = self._log_epoch_progress(\n\u001b[1;32m    488\u001b[0m             \u001b[0mprogress_queue\u001b[0m\u001b[0;34m,\u001b[0m \u001b[0mjob_queue\u001b[0m\u001b[0;34m,\u001b[0m \u001b[0mcur_epoch\u001b[0m\u001b[0;34m=\u001b[0m\u001b[0mcur_epoch\u001b[0m\u001b[0;34m,\u001b[0m \u001b[0mtotal_examples\u001b[0m\u001b[0;34m=\u001b[0m\u001b[0mtotal_examples\u001b[0m\u001b[0;34m,\u001b[0m \u001b[0mtotal_words\u001b[0m\u001b[0;34m=\u001b[0m\u001b[0mtotal_words\u001b[0m\u001b[0;34m,\u001b[0m\u001b[0;34m\u001b[0m\u001b[0m\n\u001b[0;32m--> 489\u001b[0;31m             report_delay=report_delay, is_corpus_file_mode=False)\n\u001b[0m\u001b[1;32m    490\u001b[0m \u001b[0;34m\u001b[0m\u001b[0m\n\u001b[1;32m    491\u001b[0m         \u001b[0;32mreturn\u001b[0m \u001b[0mtrained_word_count\u001b[0m\u001b[0;34m,\u001b[0m \u001b[0mraw_word_count\u001b[0m\u001b[0;34m,\u001b[0m \u001b[0mjob_tally\u001b[0m\u001b[0;34m\u001b[0m\u001b[0m\n",
      "\u001b[0;32m~/.anyenv/envs/pyenv/versions/3.6.2/lib/python3.6/site-packages/gensim/models/base_any2vec.py\u001b[0m in \u001b[0;36m_log_epoch_progress\u001b[0;34m(self, progress_queue, job_queue, cur_epoch, total_examples, total_words, report_delay, is_corpus_file_mode)\u001b[0m\n\u001b[1;32m    344\u001b[0m \u001b[0;34m\u001b[0m\u001b[0m\n\u001b[1;32m    345\u001b[0m         \u001b[0;32mwhile\u001b[0m \u001b[0munfinished_worker_count\u001b[0m \u001b[0;34m>\u001b[0m \u001b[0;36m0\u001b[0m\u001b[0;34m:\u001b[0m\u001b[0;34m\u001b[0m\u001b[0m\n\u001b[0;32m--> 346\u001b[0;31m             \u001b[0mreport\u001b[0m \u001b[0;34m=\u001b[0m \u001b[0mprogress_queue\u001b[0m\u001b[0;34m.\u001b[0m\u001b[0mget\u001b[0m\u001b[0;34m(\u001b[0m\u001b[0;34m)\u001b[0m  \u001b[0;31m# blocks if workers too slow\u001b[0m\u001b[0;34m\u001b[0m\u001b[0m\n\u001b[0m\u001b[1;32m    347\u001b[0m             \u001b[0;32mif\u001b[0m \u001b[0mreport\u001b[0m \u001b[0;32mis\u001b[0m \u001b[0;32mNone\u001b[0m\u001b[0;34m:\u001b[0m  \u001b[0;31m# a thread reporting that it finished\u001b[0m\u001b[0;34m\u001b[0m\u001b[0m\n\u001b[1;32m    348\u001b[0m                 \u001b[0munfinished_worker_count\u001b[0m \u001b[0;34m-=\u001b[0m \u001b[0;36m1\u001b[0m\u001b[0;34m\u001b[0m\u001b[0m\n",
      "\u001b[0;32m~/.anyenv/envs/pyenv/versions/3.6.2/lib/python3.6/queue.py\u001b[0m in \u001b[0;36mget\u001b[0;34m(self, block, timeout)\u001b[0m\n\u001b[1;32m    162\u001b[0m             \u001b[0;32melif\u001b[0m \u001b[0mtimeout\u001b[0m \u001b[0;32mis\u001b[0m \u001b[0;32mNone\u001b[0m\u001b[0;34m:\u001b[0m\u001b[0;34m\u001b[0m\u001b[0m\n\u001b[1;32m    163\u001b[0m                 \u001b[0;32mwhile\u001b[0m \u001b[0;32mnot\u001b[0m \u001b[0mself\u001b[0m\u001b[0;34m.\u001b[0m\u001b[0m_qsize\u001b[0m\u001b[0;34m(\u001b[0m\u001b[0;34m)\u001b[0m\u001b[0;34m:\u001b[0m\u001b[0;34m\u001b[0m\u001b[0m\n\u001b[0;32m--> 164\u001b[0;31m                     \u001b[0mself\u001b[0m\u001b[0;34m.\u001b[0m\u001b[0mnot_empty\u001b[0m\u001b[0;34m.\u001b[0m\u001b[0mwait\u001b[0m\u001b[0;34m(\u001b[0m\u001b[0;34m)\u001b[0m\u001b[0;34m\u001b[0m\u001b[0m\n\u001b[0m\u001b[1;32m    165\u001b[0m             \u001b[0;32melif\u001b[0m \u001b[0mtimeout\u001b[0m \u001b[0;34m<\u001b[0m \u001b[0;36m0\u001b[0m\u001b[0;34m:\u001b[0m\u001b[0;34m\u001b[0m\u001b[0m\n\u001b[1;32m    166\u001b[0m                 \u001b[0;32mraise\u001b[0m \u001b[0mValueError\u001b[0m\u001b[0;34m(\u001b[0m\u001b[0;34m\"'timeout' must be a non-negative number\"\u001b[0m\u001b[0;34m)\u001b[0m\u001b[0;34m\u001b[0m\u001b[0m\n",
      "\u001b[0;32m~/.anyenv/envs/pyenv/versions/3.6.2/lib/python3.6/threading.py\u001b[0m in \u001b[0;36mwait\u001b[0;34m(self, timeout)\u001b[0m\n\u001b[1;32m    293\u001b[0m         \u001b[0;32mtry\u001b[0m\u001b[0;34m:\u001b[0m    \u001b[0;31m# restore state no matter what (e.g., KeyboardInterrupt)\u001b[0m\u001b[0;34m\u001b[0m\u001b[0m\n\u001b[1;32m    294\u001b[0m             \u001b[0;32mif\u001b[0m \u001b[0mtimeout\u001b[0m \u001b[0;32mis\u001b[0m \u001b[0;32mNone\u001b[0m\u001b[0;34m:\u001b[0m\u001b[0;34m\u001b[0m\u001b[0m\n\u001b[0;32m--> 295\u001b[0;31m                 \u001b[0mwaiter\u001b[0m\u001b[0;34m.\u001b[0m\u001b[0macquire\u001b[0m\u001b[0;34m(\u001b[0m\u001b[0;34m)\u001b[0m\u001b[0;34m\u001b[0m\u001b[0m\n\u001b[0m\u001b[1;32m    296\u001b[0m                 \u001b[0mgotit\u001b[0m \u001b[0;34m=\u001b[0m \u001b[0;32mTrue\u001b[0m\u001b[0;34m\u001b[0m\u001b[0m\n\u001b[1;32m    297\u001b[0m             \u001b[0;32melse\u001b[0m\u001b[0;34m:\u001b[0m\u001b[0;34m\u001b[0m\u001b[0m\n",
      "\u001b[0;31mKeyboardInterrupt\u001b[0m: "
     ]
    }
   ],
   "source": [
    "model = word2vec.Word2Vec(new_wakati, size=1000,min_count=5,window=5,iter=100,workers=4,sg=1)"
   ]
  },
  {
   "cell_type": "code",
   "execution_count": null,
   "metadata": {},
   "outputs": [],
   "source": []
  },
  {
   "cell_type": "code",
   "execution_count": null,
   "metadata": {
    "ExecuteTime": {
     "start_time": "2019-03-29T04:55:19.194Z"
    }
   },
   "outputs": [],
   "source": [
    "model.most_similar('ステーキ')"
   ]
  },
  {
   "cell_type": "code",
   "execution_count": 255,
   "metadata": {
    "ExecuteTime": {
     "end_time": "2019-03-26T02:07:25.199336Z",
     "start_time": "2019-03-26T02:07:25.116357Z"
    }
   },
   "outputs": [],
   "source": [
    "# モデルのセーブ\n",
    "model.save(\"./model/sample_steak_model.model\")"
   ]
  },
  {
   "cell_type": "code",
   "execution_count": 249,
   "metadata": {
    "ExecuteTime": {
     "end_time": "2019-03-26T02:03:25.892367Z",
     "start_time": "2019-03-26T02:03:25.807674Z"
    }
   },
   "outputs": [],
   "source": [
    "#np.savetxt(\"./texts/sample_steak_corpus.csv\", wakati_text, fmt=\"%s\", delimiter=\",\")"
   ]
  },
  {
   "cell_type": "code",
   "execution_count": 259,
   "metadata": {
    "ExecuteTime": {
     "end_time": "2019-03-26T02:08:14.266491Z",
     "start_time": "2019-03-26T02:08:14.260059Z"
    }
   },
   "outputs": [
    {
     "name": "stderr",
     "output_type": "stream",
     "text": [
      "/Users/tominagaryota/.anyenv/envs/pyenv/versions/3.6.2/lib/python3.6/site-packages/ipykernel_launcher.py:1: DeprecationWarning: Call to deprecated `most_similar` (Method will be removed in 4.0.0, use self.wv.most_similar() instead).\n",
      "  \"\"\"Entry point for launching an IPython kernel.\n"
     ]
    },
    {
     "data": {
      "text/plain": [
       "[('エビフライ', 0.6223527789115906),\n",
       " ('肉汁', 0.5919903516769409),\n",
       " ('デミグラスソース', 0.5824424624443054),\n",
       " ('肉感', 0.5666879415512085),\n",
       " ('フライ', 0.5600730180740356),\n",
       " ('俵', 0.5347720384597778),\n",
       " ('パクリ', 0.5159295797348022),\n",
       " ('デミ', 0.5084888339042664),\n",
       " ('ジュワー', 0.5022367238998413),\n",
       " ('箸', 0.49991917610168457)]"
      ]
     },
     "execution_count": 259,
     "metadata": {},
     "output_type": "execute_result"
    }
   ],
   "source": [
    "model.most_similar(positive=[u\"挽肉\",u\"ハンバーグ\"])"
   ]
  },
  {
   "cell_type": "code",
   "execution_count": 88,
   "metadata": {
    "ExecuteTime": {
     "end_time": "2019-04-01T01:50:58.567365Z",
     "start_time": "2019-04-01T01:50:47.580850Z"
    }
   },
   "outputs": [],
   "source": [
    "dictionary = corpora.Dictionary(wakati_text)\n",
    "dictionary.save_as_text('./texts/text.dict')"
   ]
  },
  {
   "cell_type": "code",
   "execution_count": 89,
   "metadata": {
    "ExecuteTime": {
     "end_time": "2019-04-01T01:51:19.677419Z",
     "start_time": "2019-04-01T01:51:00.012067Z"
    }
   },
   "outputs": [],
   "source": [
    "corpus = [dictionary.doc2bow(doc) for doc in wakati_text]\n",
    "corpora.MmCorpus.serialize('./texts/text.mm', corpus)"
   ]
  },
  {
   "cell_type": "code",
   "execution_count": 90,
   "metadata": {
    "ExecuteTime": {
     "end_time": "2019-04-01T01:51:33.322099Z",
     "start_time": "2019-04-01T01:51:30.874838Z"
    }
   },
   "outputs": [],
   "source": [
    "tfidf = gensim.models.TfidfModel(corpus)\n",
    "corpus_tfidf = tfidf[corpus]"
   ]
  },
  {
   "cell_type": "code",
   "execution_count": 91,
   "metadata": {
    "ExecuteTime": {
     "end_time": "2019-04-01T01:51:44.288505Z",
     "start_time": "2019-04-01T01:51:40.739285Z"
    }
   },
   "outputs": [],
   "source": [
    "with open('./model/corpus_tfidf.dump', mode='wb') as f:\n",
    "    pickle.dump(corpus_tfidf, f)"
   ]
  },
  {
   "cell_type": "code",
   "execution_count": 93,
   "metadata": {
    "ExecuteTime": {
     "end_time": "2019-04-01T02:20:50.776387Z",
     "start_time": "2019-04-01T01:52:48.672935Z"
    },
    "scrolled": true
   },
   "outputs": [],
   "source": [
    "tfidf_lda = gensim.models.LdaMulticore(corpus=corpus_tfidf, id2word=dictionary,\n",
    "                             num_topics=10, minimum_probability=0.001,\n",
    "                             passes=20, eval_every=0, chunksize=1000,workers=4)"
   ]
  },
  {
   "cell_type": "code",
   "execution_count": 94,
   "metadata": {
    "ExecuteTime": {
     "end_time": "2019-04-01T02:22:19.858707Z",
     "start_time": "2019-04-01T02:22:19.727658Z"
    }
   },
   "outputs": [],
   "source": [
    "tfidf_lda.save('./model/tfidf_lda.model')"
   ]
  },
  {
   "cell_type": "code",
   "execution_count": 24,
   "metadata": {
    "ExecuteTime": {
     "end_time": "2019-04-01T01:26:54.575570Z",
     "start_time": "2019-04-01T01:26:54.512683Z"
    }
   },
   "outputs": [],
   "source": [
    "# with open('model/tfidf_lda.model', mode='rb') as f:\n",
    "#     tfidf_lda = pickle.load(f)\n",
    "tfidf_lda = gensim.models.LdaModel.load('./model/tfidf_lda.model')"
   ]
  },
  {
   "cell_type": "code",
   "execution_count": 95,
   "metadata": {
    "ExecuteTime": {
     "end_time": "2019-04-01T02:22:25.281922Z",
     "start_time": "2019-04-01T02:22:25.237603Z"
    },
    "scrolled": true
   },
   "outputs": [
    {
     "name": "stdout",
     "output_type": "stream",
     "text": [
      "tpc_0: 0.006*\"希少\" + 0.004*\"おにぎり\" + 0.004*\"松阪\" + 0.003*\"テキ\" + 0.003*\"浜松\" + 0.003*\"表参道\" +...\n",
      "tpc_1: 0.009*\"u3\" + 0.008*\"000\" + 0.003*\"お肉\" + 0.003*\"の\" + 0.003*\"０\" + 0.003*\"店\" + 0.00...\n",
      "tpc_2: 0.011*\"000\" + 0.011*\"1\" + 0.007*\"500円\" + 0.007*\"u3\" + 0.007*\"円\" + 0.006*\"2\" + 0....\n",
      "tpc_3: 0.016*\"\" + 0.006*\"うし\" + 0.004*\"バンビーナ\" + 0.003*\"フライデーズ\" + 0.003*\"極み\" + 0.003*\"割烹\"...\n",
      "tpc_4: 0.010*\"ハンバーグ\" + 0.006*\"ステーキ\" + 0.004*\"０\" + 0.004*\"肉\" + 0.004*\"ソース\" + 0.004*\"ライス\"...\n",
      "tpc_5: 0.012*\"xa\" + 0.010*\"トンテキ\" + 0.009*\"0\" + 0.007*\"050\" + 0.006*\"スペアリブ\" + 0.003*\"108...\n",
      "tpc_6: 0.012*\"牛タン\" + 0.004*\"焼肉店\" + 0.003*\"西麻布\" + 0.003*\"卵黄\" + 0.002*\"網焼き\" + 0.002*\"センス\"...\n",
      "tpc_7: 0.005*\"280円\" + 0.005*\"ミスジ\" + 0.003*\"トニーローマ\" + 0.003*\"ビアホール\" + 0.003*\"白子\" + 0.003...\n",
      "tpc_8: 0.006*\"げんこつハンバーグ\" + 0.005*\"ラム\" + 0.004*\"海鮮\" + 0.003*\"新橋\" + 0.003*\"開放\" + 0.003*\"ハ...\n",
      "tpc_9: 0.003*\"レバ刺し\" + 0.003*\"ヘレ\" + 0.002*\"フランス料理\" + 0.002*\"ローストチキン\" + 0.002*\"伊勢\" + 0.00...\n"
     ]
    }
   ],
   "source": [
    "for i in range(10):\n",
    "    print('tpc_{0}: {1}'.format(i, tfidf_lda.print_topic(i)[0:80]+'...'))"
   ]
  },
  {
   "cell_type": "code",
   "execution_count": 352,
   "metadata": {
    "ExecuteTime": {
     "end_time": "2019-03-26T04:49:05.202277Z",
     "start_time": "2019-03-26T04:49:05.199743Z"
    }
   },
   "outputs": [],
   "source": [
    "# TF-IDF処理をしないLDA\n",
    "# raw_lda = gensim.models.LdaMulticore(corpus=corpus, id2word=dictionary,\n",
    "#                              num_topics=10, minimum_probability=0.001,\n",
    "#                              passes=20, eval_every=0, chunksize=10000,workers=4)"
   ]
  },
  {
   "cell_type": "code",
   "execution_count": 44,
   "metadata": {
    "ExecuteTime": {
     "end_time": "2019-04-01T01:32:25.902375Z",
     "start_time": "2019-04-01T01:32:25.899081Z"
    }
   },
   "outputs": [],
   "source": [
    "temp ='天下茶屋でランチの機会があればその都度狙っていたこちらの超人気洋食店。売りは一頭買いするらしい黒毛を使ったお肉料理という触れ込みですわ。中でも黒バーグいうハンバーグがメインらしい情報は温めてました＾＾場所は天下茶屋駅から数分です。立ち飲み店がしのぎを削るサイドではない場所でテニススクールのあるあたり。健全でよろしおす(笑)。いうても、平日のランチなんで・・・とはいっても、一番安いハンバーグのランチでも1500円となかなかの高額です。それ相応のレベルは求められるはず。この日は1時前でしたが満席でした。かなり評判がいいみたいです。□黒バーグとカキフライ（1800円）○　エビフライなどの海鮮のフライも人気とのことで、カキフライを＾＾ｖ　まず、肝心の黒バーグですが、うん、僕は美味しいと思いました。　特徴的はなのは、スパイス含め、お肉に味がしっかりついてることと、　牛肉の香りも歯ごたえもあるけど、全然しつこくなくて、なおかつ、　デミグラスソースもあっさりしていて食べやすいです。脂こってりの　濃厚ソースみたいなハンバーグが好きな人には向かないけど、ただ、　　そうだとして、焼きも含めてくいしんぼー山中さんクラスのハンバーグが　といえばあまりに普通かなあ。デミグラスソースも2000円出すにしては。　カキフライは、大きさ重視です。タルタルはおいしいけど、揚げる牡蠣と　してはどうなんだろういう印象。このあたりが、叩き上げのシェフの洋食店　とは一線を画するといったところなのかな。　コンソメ・ご飯は普通にいけました＾＾確かに、この地域で見れば突出してるかもしれないですけど、作法・値段は大阪市内水準です。美味しいのは美味しいんですけどね＾＾ｖ昼に天下茶屋に行かれた際には是非。ご参考まで♪'"
   ]
  },
  {
   "cell_type": "code",
   "execution_count": 98,
   "metadata": {
    "ExecuteTime": {
     "end_time": "2019-04-01T02:22:56.466074Z",
     "start_time": "2019-04-01T02:22:56.238959Z"
    },
    "scrolled": true
   },
   "outputs": [
    {
     "data": {
      "text/plain": [
       "[(0, 0.016632209),\n",
       " (1, 0.46797404),\n",
       " (4, 0.48619828),\n",
       " (6, 0.0087923305),\n",
       " (8, 0.016394185)]"
      ]
     },
     "execution_count": 98,
     "metadata": {},
     "output_type": "execute_result"
    }
   ],
   "source": [
    "vec = dictionary.doc2bow(mecab_analysis(temp))\n",
    "tfidf_lda[vec]"
   ]
  },
  {
   "cell_type": "code",
   "execution_count": 31,
   "metadata": {
    "ExecuteTime": {
     "end_time": "2019-04-01T01:27:45.291603Z",
     "start_time": "2019-04-01T01:27:45.286644Z"
    }
   },
   "outputs": [],
   "source": [
    "# LDA分類したベクトルをnumpyベクトル化\n",
    "def convert_to_np_vec(vec):\n",
    "    n_v = np.zeros(50)\n",
    "    for v in vec:\n",
    "        n_v[v[0]] = v[1]\n",
    "    return n_v"
   ]
  },
  {
   "cell_type": "code",
   "execution_count": 32,
   "metadata": {
    "ExecuteTime": {
     "end_time": "2019-04-01T01:27:45.962507Z",
     "start_time": "2019-04-01T01:27:45.958389Z"
    }
   },
   "outputs": [],
   "source": [
    "# コサイン類似度を計算\n",
    "def cos_sim(v1,v2):\n",
    "    return np.dot(v1, v2) / (np.linalg.norm(v1) * np.linalg.norm(v2))"
   ]
  },
  {
   "cell_type": "code",
   "execution_count": 99,
   "metadata": {
    "ExecuteTime": {
     "end_time": "2019-04-01T02:23:05.098778Z",
     "start_time": "2019-04-01T02:23:04.966986Z"
    }
   },
   "outputs": [],
   "source": [
    "vec = dictionary.doc2bow(mecab_analysis(rvws[10]))\n",
    "vec2 = dictionary.doc2bow(mecab_analysis(rvws[14]))\n",
    "vec1 = convert_to_np_vec(tfidf_lda[vec])\n",
    "vec2 = convert_to_np_vec(tfidf_lda[vec2])"
   ]
  },
  {
   "cell_type": "code",
   "execution_count": 101,
   "metadata": {
    "ExecuteTime": {
     "end_time": "2019-04-02T08:35:50.344560Z",
     "start_time": "2019-04-02T08:35:50.305871Z"
    }
   },
   "outputs": [
    {
     "data": {
      "text/plain": [
       "0.7385122087001152"
      ]
     },
     "execution_count": 101,
     "metadata": {},
     "output_type": "execute_result"
    }
   ],
   "source": [
    "cos_sim(vec1,vec2)"
   ]
  },
  {
   "cell_type": "code",
   "execution_count": 102,
   "metadata": {
    "ExecuteTime": {
     "end_time": "2019-04-02T10:16:12.356499Z",
     "start_time": "2019-04-02T08:36:47.760610Z"
    },
    "scrolled": true
   },
   "outputs": [
    {
     "ename": "FileNotFoundError",
     "evalue": "[Errno 2] No such file or directory: ',/model/wiki.model.wv.vectors.npy'",
     "output_type": "error",
     "traceback": [
      "\u001b[0;31m---------------------------------------------------------------------------\u001b[0m",
      "\u001b[0;31mTypeError\u001b[0m                                 Traceback (most recent call last)",
      "\u001b[0;32m~/.anyenv/envs/pyenv/versions/3.6.2/lib/python3.6/site-packages/gensim/utils.py\u001b[0m in \u001b[0;36msave\u001b[0;34m(self, fname_or_handle, separately, sep_limit, ignore, pickle_protocol)\u001b[0m\n\u001b[1;32m    691\u001b[0m         \u001b[0;32mtry\u001b[0m\u001b[0;34m:\u001b[0m\u001b[0;34m\u001b[0m\u001b[0m\n\u001b[0;32m--> 692\u001b[0;31m             \u001b[0m_pickle\u001b[0m\u001b[0;34m.\u001b[0m\u001b[0mdump\u001b[0m\u001b[0;34m(\u001b[0m\u001b[0mself\u001b[0m\u001b[0;34m,\u001b[0m \u001b[0mfname_or_handle\u001b[0m\u001b[0;34m,\u001b[0m \u001b[0mprotocol\u001b[0m\u001b[0;34m=\u001b[0m\u001b[0mpickle_protocol\u001b[0m\u001b[0;34m)\u001b[0m\u001b[0;34m\u001b[0m\u001b[0m\n\u001b[0m\u001b[1;32m    693\u001b[0m             \u001b[0mlogger\u001b[0m\u001b[0;34m.\u001b[0m\u001b[0minfo\u001b[0m\u001b[0;34m(\u001b[0m\u001b[0;34m\"saved %s object\"\u001b[0m\u001b[0;34m,\u001b[0m \u001b[0mself\u001b[0m\u001b[0;34m.\u001b[0m\u001b[0m__class__\u001b[0m\u001b[0;34m.\u001b[0m\u001b[0m__name__\u001b[0m\u001b[0;34m)\u001b[0m\u001b[0;34m\u001b[0m\u001b[0m\n",
      "\u001b[0;31mTypeError\u001b[0m: file must have a 'write' attribute",
      "\nDuring handling of the above exception, another exception occurred:\n",
      "\u001b[0;31mFileNotFoundError\u001b[0m                         Traceback (most recent call last)",
      "\u001b[0;32m<ipython-input-102-2070a18c8066>\u001b[0m in \u001b[0;36m<module>\u001b[0;34m\u001b[0m\n\u001b[1;32m      1\u001b[0m \u001b[0mdata\u001b[0m \u001b[0;34m=\u001b[0m \u001b[0mword2vec\u001b[0m\u001b[0;34m.\u001b[0m\u001b[0mText8Corpus\u001b[0m\u001b[0;34m(\u001b[0m\u001b[0;34m\"./wiki/wiki_wakati.txt\"\u001b[0m\u001b[0;34m)\u001b[0m\u001b[0;34m\u001b[0m\u001b[0m\n\u001b[1;32m      2\u001b[0m \u001b[0mmodel\u001b[0m \u001b[0;34m=\u001b[0m  \u001b[0mword2vec\u001b[0m\u001b[0;34m.\u001b[0m\u001b[0mWord2Vec\u001b[0m\u001b[0;34m(\u001b[0m\u001b[0mdata\u001b[0m\u001b[0;34m,\u001b[0m \u001b[0msize\u001b[0m\u001b[0;34m=\u001b[0m\u001b[0;36m100\u001b[0m\u001b[0;34m)\u001b[0m\u001b[0;34m\u001b[0m\u001b[0m\n\u001b[0;32m----> 3\u001b[0;31m \u001b[0mmodel\u001b[0m\u001b[0;34m.\u001b[0m\u001b[0msave\u001b[0m\u001b[0;34m(\u001b[0m\u001b[0;34m\",/model/wiki.model\"\u001b[0m\u001b[0;34m)\u001b[0m\u001b[0;34m\u001b[0m\u001b[0m\n\u001b[0m",
      "\u001b[0;32m~/.anyenv/envs/pyenv/versions/3.6.2/lib/python3.6/site-packages/gensim/models/word2vec.py\u001b[0m in \u001b[0;36msave\u001b[0;34m(self, *args, **kwargs)\u001b[0m\n\u001b[1;32m   1266\u001b[0m         \u001b[0;31m# don't bother storing the cached normalized vectors, recalculable table\u001b[0m\u001b[0;34m\u001b[0m\u001b[0;34m\u001b[0m\u001b[0m\n\u001b[1;32m   1267\u001b[0m         \u001b[0mkwargs\u001b[0m\u001b[0;34m[\u001b[0m\u001b[0;34m'ignore'\u001b[0m\u001b[0;34m]\u001b[0m \u001b[0;34m=\u001b[0m \u001b[0mkwargs\u001b[0m\u001b[0;34m.\u001b[0m\u001b[0mget\u001b[0m\u001b[0;34m(\u001b[0m\u001b[0;34m'ignore'\u001b[0m\u001b[0;34m,\u001b[0m \u001b[0;34m[\u001b[0m\u001b[0;34m'vectors_norm'\u001b[0m\u001b[0;34m,\u001b[0m \u001b[0;34m'cum_table'\u001b[0m\u001b[0;34m]\u001b[0m\u001b[0;34m)\u001b[0m\u001b[0;34m\u001b[0m\u001b[0m\n\u001b[0;32m-> 1268\u001b[0;31m         \u001b[0msuper\u001b[0m\u001b[0;34m(\u001b[0m\u001b[0mWord2Vec\u001b[0m\u001b[0;34m,\u001b[0m \u001b[0mself\u001b[0m\u001b[0;34m)\u001b[0m\u001b[0;34m.\u001b[0m\u001b[0msave\u001b[0m\u001b[0;34m(\u001b[0m\u001b[0;34m*\u001b[0m\u001b[0margs\u001b[0m\u001b[0;34m,\u001b[0m \u001b[0;34m**\u001b[0m\u001b[0mkwargs\u001b[0m\u001b[0;34m)\u001b[0m\u001b[0;34m\u001b[0m\u001b[0m\n\u001b[0m\u001b[1;32m   1269\u001b[0m \u001b[0;34m\u001b[0m\u001b[0m\n\u001b[1;32m   1270\u001b[0m     \u001b[0;32mdef\u001b[0m \u001b[0mget_latest_training_loss\u001b[0m\u001b[0;34m(\u001b[0m\u001b[0mself\u001b[0m\u001b[0;34m)\u001b[0m\u001b[0;34m:\u001b[0m\u001b[0;34m\u001b[0m\u001b[0m\n",
      "\u001b[0;32m~/.anyenv/envs/pyenv/versions/3.6.2/lib/python3.6/site-packages/gensim/models/base_any2vec.py\u001b[0m in \u001b[0;36msave\u001b[0;34m(self, fname_or_handle, **kwargs)\u001b[0m\n\u001b[1;32m    619\u001b[0m \u001b[0;34m\u001b[0m\u001b[0m\n\u001b[1;32m    620\u001b[0m         \"\"\"\n\u001b[0;32m--> 621\u001b[0;31m         \u001b[0msuper\u001b[0m\u001b[0;34m(\u001b[0m\u001b[0mBaseAny2VecModel\u001b[0m\u001b[0;34m,\u001b[0m \u001b[0mself\u001b[0m\u001b[0;34m)\u001b[0m\u001b[0;34m.\u001b[0m\u001b[0msave\u001b[0m\u001b[0;34m(\u001b[0m\u001b[0mfname_or_handle\u001b[0m\u001b[0;34m,\u001b[0m \u001b[0;34m**\u001b[0m\u001b[0mkwargs\u001b[0m\u001b[0;34m)\u001b[0m\u001b[0;34m\u001b[0m\u001b[0m\n\u001b[0m\u001b[1;32m    622\u001b[0m \u001b[0;34m\u001b[0m\u001b[0m\n\u001b[1;32m    623\u001b[0m \u001b[0;34m\u001b[0m\u001b[0m\n",
      "\u001b[0;32m~/.anyenv/envs/pyenv/versions/3.6.2/lib/python3.6/site-packages/gensim/utils.py\u001b[0m in \u001b[0;36msave\u001b[0;34m(self, fname_or_handle, separately, sep_limit, ignore, pickle_protocol)\u001b[0m\n\u001b[1;32m    693\u001b[0m             \u001b[0mlogger\u001b[0m\u001b[0;34m.\u001b[0m\u001b[0minfo\u001b[0m\u001b[0;34m(\u001b[0m\u001b[0;34m\"saved %s object\"\u001b[0m\u001b[0;34m,\u001b[0m \u001b[0mself\u001b[0m\u001b[0;34m.\u001b[0m\u001b[0m__class__\u001b[0m\u001b[0;34m.\u001b[0m\u001b[0m__name__\u001b[0m\u001b[0;34m)\u001b[0m\u001b[0;34m\u001b[0m\u001b[0m\n\u001b[1;32m    694\u001b[0m         \u001b[0;32mexcept\u001b[0m \u001b[0mTypeError\u001b[0m\u001b[0;34m:\u001b[0m  \u001b[0;31m# `fname_or_handle` does not have write attribute\u001b[0m\u001b[0;34m\u001b[0m\u001b[0m\n\u001b[0;32m--> 695\u001b[0;31m             \u001b[0mself\u001b[0m\u001b[0;34m.\u001b[0m\u001b[0m_smart_save\u001b[0m\u001b[0;34m(\u001b[0m\u001b[0mfname_or_handle\u001b[0m\u001b[0;34m,\u001b[0m \u001b[0mseparately\u001b[0m\u001b[0;34m,\u001b[0m \u001b[0msep_limit\u001b[0m\u001b[0;34m,\u001b[0m \u001b[0mignore\u001b[0m\u001b[0;34m,\u001b[0m \u001b[0mpickle_protocol\u001b[0m\u001b[0;34m=\u001b[0m\u001b[0mpickle_protocol\u001b[0m\u001b[0;34m)\u001b[0m\u001b[0;34m\u001b[0m\u001b[0m\n\u001b[0m\u001b[1;32m    696\u001b[0m \u001b[0;34m\u001b[0m\u001b[0m\n\u001b[1;32m    697\u001b[0m \u001b[0;34m\u001b[0m\u001b[0m\n",
      "\u001b[0;32m~/.anyenv/envs/pyenv/versions/3.6.2/lib/python3.6/site-packages/gensim/utils.py\u001b[0m in \u001b[0;36m_smart_save\u001b[0;34m(self, fname, separately, sep_limit, ignore, pickle_protocol)\u001b[0m\n\u001b[1;32m    545\u001b[0m \u001b[0;34m\u001b[0m\u001b[0m\n\u001b[1;32m    546\u001b[0m         restores = self._save_specials(fname, separately, sep_limit, ignore, pickle_protocol,\n\u001b[0;32m--> 547\u001b[0;31m                                        compress, subname)\n\u001b[0m\u001b[1;32m    548\u001b[0m         \u001b[0;32mtry\u001b[0m\u001b[0;34m:\u001b[0m\u001b[0;34m\u001b[0m\u001b[0m\n\u001b[1;32m    549\u001b[0m             \u001b[0mpickle\u001b[0m\u001b[0;34m(\u001b[0m\u001b[0mself\u001b[0m\u001b[0;34m,\u001b[0m \u001b[0mfname\u001b[0m\u001b[0;34m,\u001b[0m \u001b[0mprotocol\u001b[0m\u001b[0;34m=\u001b[0m\u001b[0mpickle_protocol\u001b[0m\u001b[0;34m)\u001b[0m\u001b[0;34m\u001b[0m\u001b[0m\n",
      "\u001b[0;32m~/.anyenv/envs/pyenv/versions/3.6.2/lib/python3.6/site-packages/gensim/utils.py\u001b[0m in \u001b[0;36m_save_specials\u001b[0;34m(self, fname, separately, sep_limit, ignore, pickle_protocol, compress, subname)\u001b[0m\n\u001b[1;32m    607\u001b[0m                 \u001b[0mrecursive_saveloads\u001b[0m\u001b[0;34m.\u001b[0m\u001b[0mappend\u001b[0m\u001b[0;34m(\u001b[0m\u001b[0mattrib\u001b[0m\u001b[0;34m)\u001b[0m\u001b[0;34m\u001b[0m\u001b[0m\n\u001b[1;32m    608\u001b[0m                 \u001b[0mcfname\u001b[0m \u001b[0;34m=\u001b[0m \u001b[0;34m'.'\u001b[0m\u001b[0;34m.\u001b[0m\u001b[0mjoin\u001b[0m\u001b[0;34m(\u001b[0m\u001b[0;34m(\u001b[0m\u001b[0mfname\u001b[0m\u001b[0;34m,\u001b[0m \u001b[0mattrib\u001b[0m\u001b[0;34m)\u001b[0m\u001b[0;34m)\u001b[0m\u001b[0;34m\u001b[0m\u001b[0m\n\u001b[0;32m--> 609\u001b[0;31m                 \u001b[0mrestores\u001b[0m\u001b[0;34m.\u001b[0m\u001b[0mextend\u001b[0m\u001b[0;34m(\u001b[0m\u001b[0mval\u001b[0m\u001b[0;34m.\u001b[0m\u001b[0m_save_specials\u001b[0m\u001b[0;34m(\u001b[0m\u001b[0mcfname\u001b[0m\u001b[0;34m,\u001b[0m \u001b[0;32mNone\u001b[0m\u001b[0;34m,\u001b[0m \u001b[0msep_limit\u001b[0m\u001b[0;34m,\u001b[0m \u001b[0mignore\u001b[0m\u001b[0;34m,\u001b[0m \u001b[0mpickle_protocol\u001b[0m\u001b[0;34m,\u001b[0m \u001b[0mcompress\u001b[0m\u001b[0;34m,\u001b[0m \u001b[0msubname\u001b[0m\u001b[0;34m)\u001b[0m\u001b[0;34m)\u001b[0m\u001b[0;34m\u001b[0m\u001b[0m\n\u001b[0m\u001b[1;32m    610\u001b[0m \u001b[0;34m\u001b[0m\u001b[0m\n\u001b[1;32m    611\u001b[0m         \u001b[0;32mtry\u001b[0m\u001b[0;34m:\u001b[0m\u001b[0;34m\u001b[0m\u001b[0m\n",
      "\u001b[0;32m~/.anyenv/envs/pyenv/versions/3.6.2/lib/python3.6/site-packages/gensim/utils.py\u001b[0m in \u001b[0;36m_save_specials\u001b[0;34m(self, fname, separately, sep_limit, ignore, pickle_protocol, compress, subname)\u001b[0m\n\u001b[1;32m    619\u001b[0m                         \u001b[0mnp\u001b[0m\u001b[0;34m.\u001b[0m\u001b[0msavez_compressed\u001b[0m\u001b[0;34m(\u001b[0m\u001b[0msubname\u001b[0m\u001b[0;34m(\u001b[0m\u001b[0mfname\u001b[0m\u001b[0;34m,\u001b[0m \u001b[0mattrib\u001b[0m\u001b[0;34m)\u001b[0m\u001b[0;34m,\u001b[0m \u001b[0mval\u001b[0m\u001b[0;34m=\u001b[0m\u001b[0mnp\u001b[0m\u001b[0;34m.\u001b[0m\u001b[0mascontiguousarray\u001b[0m\u001b[0;34m(\u001b[0m\u001b[0mval\u001b[0m\u001b[0;34m)\u001b[0m\u001b[0;34m)\u001b[0m\u001b[0;34m\u001b[0m\u001b[0m\n\u001b[1;32m    620\u001b[0m                     \u001b[0;32melse\u001b[0m\u001b[0;34m:\u001b[0m\u001b[0;34m\u001b[0m\u001b[0m\n\u001b[0;32m--> 621\u001b[0;31m                         \u001b[0mnp\u001b[0m\u001b[0;34m.\u001b[0m\u001b[0msave\u001b[0m\u001b[0;34m(\u001b[0m\u001b[0msubname\u001b[0m\u001b[0;34m(\u001b[0m\u001b[0mfname\u001b[0m\u001b[0;34m,\u001b[0m \u001b[0mattrib\u001b[0m\u001b[0;34m)\u001b[0m\u001b[0;34m,\u001b[0m \u001b[0mnp\u001b[0m\u001b[0;34m.\u001b[0m\u001b[0mascontiguousarray\u001b[0m\u001b[0;34m(\u001b[0m\u001b[0mval\u001b[0m\u001b[0;34m)\u001b[0m\u001b[0;34m)\u001b[0m\u001b[0;34m\u001b[0m\u001b[0m\n\u001b[0m\u001b[1;32m    622\u001b[0m \u001b[0;34m\u001b[0m\u001b[0m\n\u001b[1;32m    623\u001b[0m                 \u001b[0;32melif\u001b[0m \u001b[0misinstance\u001b[0m\u001b[0;34m(\u001b[0m\u001b[0mval\u001b[0m\u001b[0;34m,\u001b[0m \u001b[0;34m(\u001b[0m\u001b[0mscipy\u001b[0m\u001b[0;34m.\u001b[0m\u001b[0msparse\u001b[0m\u001b[0;34m.\u001b[0m\u001b[0mcsr_matrix\u001b[0m\u001b[0;34m,\u001b[0m \u001b[0mscipy\u001b[0m\u001b[0;34m.\u001b[0m\u001b[0msparse\u001b[0m\u001b[0;34m.\u001b[0m\u001b[0mcsc_matrix\u001b[0m\u001b[0;34m)\u001b[0m\u001b[0;34m)\u001b[0m \u001b[0;32mand\u001b[0m \u001b[0mattrib\u001b[0m \u001b[0;32mnot\u001b[0m \u001b[0;32min\u001b[0m \u001b[0mignore\u001b[0m\u001b[0;34m:\u001b[0m\u001b[0;34m\u001b[0m\u001b[0m\n",
      "\u001b[0;32m~/.anyenv/envs/pyenv/versions/3.6.2/lib/python3.6/site-packages/numpy/lib/npyio.py\u001b[0m in \u001b[0;36msave\u001b[0;34m(file, arr, allow_pickle, fix_imports)\u001b[0m\n\u001b[1;32m    500\u001b[0m         \u001b[0;32mif\u001b[0m \u001b[0;32mnot\u001b[0m \u001b[0mfile\u001b[0m\u001b[0;34m.\u001b[0m\u001b[0mendswith\u001b[0m\u001b[0;34m(\u001b[0m\u001b[0;34m'.npy'\u001b[0m\u001b[0;34m)\u001b[0m\u001b[0;34m:\u001b[0m\u001b[0;34m\u001b[0m\u001b[0m\n\u001b[1;32m    501\u001b[0m             \u001b[0mfile\u001b[0m \u001b[0;34m=\u001b[0m \u001b[0mfile\u001b[0m \u001b[0;34m+\u001b[0m \u001b[0;34m'.npy'\u001b[0m\u001b[0;34m\u001b[0m\u001b[0m\n\u001b[0;32m--> 502\u001b[0;31m         \u001b[0mfid\u001b[0m \u001b[0;34m=\u001b[0m \u001b[0mopen\u001b[0m\u001b[0;34m(\u001b[0m\u001b[0mfile\u001b[0m\u001b[0;34m,\u001b[0m \u001b[0;34m\"wb\"\u001b[0m\u001b[0;34m)\u001b[0m\u001b[0;34m\u001b[0m\u001b[0m\n\u001b[0m\u001b[1;32m    503\u001b[0m         \u001b[0mown_fid\u001b[0m \u001b[0;34m=\u001b[0m \u001b[0;32mTrue\u001b[0m\u001b[0;34m\u001b[0m\u001b[0m\n\u001b[1;32m    504\u001b[0m     \u001b[0;32melif\u001b[0m \u001b[0mis_pathlib_path\u001b[0m\u001b[0;34m(\u001b[0m\u001b[0mfile\u001b[0m\u001b[0;34m)\u001b[0m\u001b[0;34m:\u001b[0m\u001b[0;34m\u001b[0m\u001b[0m\n",
      "\u001b[0;31mFileNotFoundError\u001b[0m: [Errno 2] No such file or directory: ',/model/wiki.model.wv.vectors.npy'"
     ]
    }
   ],
   "source": [
    "data = word2vec.Text8Corpus(\"./wiki/wiki_wakati.txt\")\n",
    "model =  word2vec.Word2Vec(data, size=100)"
   ]
  },
  {
   "cell_type": "code",
   "execution_count": 104,
   "metadata": {
    "ExecuteTime": {
     "end_time": "2019-04-03T02:16:28.663459Z",
     "start_time": "2019-04-03T02:16:27.013825Z"
    }
   },
   "outputs": [
    {
     "name": "stderr",
     "output_type": "stream",
     "text": [
      "/Users/tominagaryota/.anyenv/envs/pyenv/versions/3.6.2/lib/python3.6/site-packages/ipykernel_launcher.py:1: DeprecationWarning: Call to deprecated `most_similar` (Method will be removed in 4.0.0, use self.wv.most_similar() instead).\n",
      "  \"\"\"Entry point for launching an IPython kernel.\n"
     ]
    },
    {
     "data": {
      "text/plain": [
       "[('単純', 0.7389036417007446),\n",
       " ('低級', 0.7317520380020142),\n",
       " ('邪悪', 0.6965624690055847),\n",
       " ('不完全', 0.6847642660140991),\n",
       " ('無機質', 0.6803640127182007),\n",
       " ('鋭敏', 0.6790430545806885),\n",
       " ('複雑', 0.6772918701171875),\n",
       " ('微細', 0.676936686038971),\n",
       " ('獰猛', 0.6749590635299683),\n",
       " ('醜悪', 0.6736862063407898)]"
      ]
     },
     "execution_count": 104,
     "metadata": {},
     "output_type": "execute_result"
    }
   ],
   "source": [
    "model.most_similar(positive = ['純粋','悪'],negative = ['正義'])"
   ]
  },
  {
   "cell_type": "code",
   "execution_count": 109,
   "metadata": {
    "ExecuteTime": {
     "end_time": "2019-04-03T02:21:41.140416Z",
     "start_time": "2019-04-03T02:21:33.231450Z"
    }
   },
   "outputs": [],
   "source": [
    "model.save('./model/wiki.model')"
   ]
  },
  {
   "cell_type": "code",
   "execution_count": null,
   "metadata": {},
   "outputs": [],
   "source": []
  }
 ],
 "metadata": {
  "kernelspec": {
   "display_name": "Python 3",
   "language": "python",
   "name": "python3"
  },
  "language_info": {
   "codemirror_mode": {
    "name": "ipython",
    "version": 3
   },
   "file_extension": ".py",
   "mimetype": "text/x-python",
   "name": "python",
   "nbconvert_exporter": "python",
   "pygments_lexer": "ipython3",
   "version": "3.6.2"
  }
 },
 "nbformat": 4,
 "nbformat_minor": 2
}

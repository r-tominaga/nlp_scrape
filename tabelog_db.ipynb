{
 "cells": [
  {
   "cell_type": "code",
   "execution_count": 100,
   "metadata": {
    "ExecuteTime": {
     "end_time": "2019-04-04T02:22:12.297925Z",
     "start_time": "2019-04-04T02:22:12.293677Z"
    }
   },
   "outputs": [],
   "source": [
    "import sqlite3\n",
    "import hashlib\n",
    "import requests\n",
    "from bs4 import BeautifulSoup\n",
    "from joblib import Parallel, delayed\n",
    "import MeCab as mc\n",
    "import numpy as np\n",
    "from gensim.models import word2vec, LdaModel, TfidfModel, LdaMulticore\n",
    "from gensim import corpora\n",
    "import pickle"
   ]
  },
  {
   "cell_type": "code",
   "execution_count": 13,
   "metadata": {
    "ExecuteTime": {
     "end_time": "2019-04-02T06:32:37.429420Z",
     "start_time": "2019-04-02T06:32:37.421684Z"
    }
   },
   "outputs": [],
   "source": [
    "conn = sqlite3.connect('./tabelog_reviews.sqlite3')\n",
    "cur = conn.cursor()\n",
    "cur.execute('create table restaurants(id INTEGER PRIMARY KEY AUTOINCREMENT, name TEXT, rate INTEGER, url TEXT)')\n",
    "cur.execute('create table reviews(id integer, content text, restaurant_id integer, digest BLOB, FOREIGN KEY(restaurant_id) REFERENCES restaurants(id))')\n",
    "\n",
    "conn.commit()\n",
    "conn.close()"
   ]
  },
  {
   "cell_type": "code",
   "execution_count": 29,
   "metadata": {
    "ExecuteTime": {
     "end_time": "2019-04-02T06:50:00.034031Z",
     "start_time": "2019-04-02T06:48:29.799722Z"
    }
   },
   "outputs": [],
   "source": [
    "restaurants, ratings, urls = [],[],[]\n",
    "for page in range(1,51):\n",
    "    url = f'https://tabelog.com/rstLst/steak/{page}/?Srt=D&SrtT=rt&sort_mode=1&sk=%E3%82%B9%E3%83%86%E3%83%BC%E3%82%AD&svt=1900&svps=2&select_sort_flg=1'\n",
    "    html_soup = BeautifulSoup(requests.get(url).text, 'html.parser')\n",
    "    for item in html_soup.find_all('a', class_='list-rst__rst-name-target cpy-rst-name js-ranking-num'):\n",
    "        restaurants.append(item.text)\n",
    "        urls.append(item.get('href'))\n",
    "    for item in html_soup.find_all('span', class_='c-rating__val c-rating__val--strong list-rst__rating-val'):\n",
    "        ratings.append(item.text)"
   ]
  },
  {
   "cell_type": "code",
   "execution_count": 31,
   "metadata": {
    "ExecuteTime": {
     "end_time": "2019-04-02T06:53:34.912313Z",
     "start_time": "2019-04-02T06:53:34.900523Z"
    },
    "scrolled": true
   },
   "outputs": [],
   "source": [
    "conn = sqlite3.connect('./tabelog_reviews.sqlite3')\n",
    "cur = conn.cursor()\n",
    "\n",
    "for idx, (name, rate, url) in enumerate(zip(restaurants, ratings, urls)):\n",
    "    cur.execute('insert into restaurants values (?,?,?,?)', (idx, name, rate, url))\n",
    "\n",
    "conn.commit()\n",
    "conn.close()"
   ]
  },
  {
   "cell_type": "code",
   "execution_count": 40,
   "metadata": {
    "ExecuteTime": {
     "end_time": "2019-04-02T07:01:10.339212Z",
     "start_time": "2019-04-02T07:01:10.332662Z"
    }
   },
   "outputs": [],
   "source": [
    "conn = sqlite3.connect('./tabelog_reviews.sqlite3')\n",
    "cur = conn.cursor()\n",
    "cur.execute('select id,url from restaurants')\n",
    "res = cur.fetchall()\n",
    "conn.close()"
   ]
  },
  {
   "cell_type": "code",
   "execution_count": 48,
   "metadata": {
    "ExecuteTime": {
     "end_time": "2019-04-02T07:17:58.758294Z",
     "start_time": "2019-04-02T07:17:58.753912Z"
    }
   },
   "outputs": [],
   "source": [
    "tail = 'dtlrvwlst/?smp=0&lc=2&PG='\n",
    "rev_results = []\n",
    "\n",
    "def get_review(review):\n",
    "    try:\n",
    "        res = requests.get('https://tabelog.com' + review, timeout=5)\n",
    "        return BeautifulSoup(res.text, 'html.parser').find('div',class_='rvw-item__rvw-comment').text\n",
    "    except Exception as e:\n",
    "        print(e)"
   ]
  },
  {
   "cell_type": "code",
   "execution_count": 1,
   "metadata": {
    "ExecuteTime": {
     "end_time": "2019-04-11T06:18:50.578010Z",
     "start_time": "2019-04-11T06:18:50.574617Z"
    },
    "scrolled": true
   },
   "outputs": [],
   "source": [
    "conn = sqlite3.connect('./tabelog_reviews.sqlite3')\n",
    "cur = conn.cursor()\n",
    "\n",
    "for index, url in res:\n",
    "    print(index)\n",
    "    iteration = 1\n",
    "    while(True):\n",
    "        url = url + tail + str(iteration)\n",
    "        try:\n",
    "            r = requests.get(url,timeout=5)\n",
    "            if r.status_code != 200:\n",
    "                break\n",
    "            iteration += 1\n",
    "            review_soup = BeautifulSoup(r.text, 'html.parser')\n",
    "            review_urls =  [item.get('href') for item in review_soup.find_all('a', class_='rvw-simple-item__title-target')]\n",
    "            \n",
    "            results = Parallel(n_jobs=4,verbose=10)([\n",
    "                    delayed(get_review)(i) for i in review_urls\n",
    "                ])\n",
    "            for result in results:\n",
    "                cur.execute('insert into reviews values (null,?,?,?)', (result, index, hashlib.md5(result.encode()).hexdigest()))\n",
    "                conn.commit()\n",
    "        except Exception as e:\n",
    "            print(e)\n",
    "            conn.commit()\n",
    "#             conn.close()\n",
    "#             break\n",
    "conn.close()"
   ]
  },
  {
   "cell_type": "code",
   "execution_count": 59,
   "metadata": {
    "ExecuteTime": {
     "end_time": "2019-04-02T14:17:12.605304Z",
     "start_time": "2019-04-02T14:17:12.596593Z"
    }
   },
   "outputs": [],
   "source": [
    "def mecab_analysis(texts):\n",
    "    t = mc.Tagger(\"-Ochasen\")\n",
    "    # 辞書ロードうまくいかない\n",
    "    #t = mc.Tagger( '-Owakati -d /Users/tominagaryota/mecab-ipadic-neologd')\n",
    "    t.parse('')\n",
    "    output = []\n",
    "    node =  t.parseToNode(texts)  \n",
    "    while node:\n",
    "        if node.surface != \"\":  # ヘッダとフッタを除外\n",
    "            word_type = node.feature.split(\",\")[0]\n",
    "            if word_type in ['名詞', '形容詞']:\n",
    "                output.append(node.surface)\n",
    "            #output.append(node.surface)\n",
    "        node = node.next\n",
    "        if node is None:\n",
    "            break\n",
    "    return output"
   ]
  },
  {
   "cell_type": "code",
   "execution_count": 61,
   "metadata": {
    "ExecuteTime": {
     "end_time": "2019-04-03T02:22:51.008273Z",
     "start_time": "2019-04-03T02:22:40.785685Z"
    }
   },
   "outputs": [],
   "source": [
    "model = word2vec.Word2Vec.load('./model/wiki.model')"
   ]
  },
  {
   "cell_type": "code",
   "execution_count": 62,
   "metadata": {
    "ExecuteTime": {
     "end_time": "2019-04-03T02:23:02.973170Z",
     "start_time": "2019-04-03T02:23:01.250395Z"
    }
   },
   "outputs": [
    {
     "name": "stderr",
     "output_type": "stream",
     "text": [
      "/Users/tominagaryota/.anyenv/envs/pyenv/versions/3.6.2/lib/python3.6/site-packages/ipykernel_launcher.py:1: DeprecationWarning: Call to deprecated `most_similar` (Method will be removed in 4.0.0, use self.wv.most_similar() instead).\n",
      "  \"\"\"Entry point for launching an IPython kernel.\n"
     ]
    },
    {
     "data": {
      "text/plain": [
       "[('猫', 0.8706178665161133),\n",
       " ('ウサギ', 0.8539745807647705),\n",
       " ('ネコ', 0.818726122379303),\n",
       " ('キツネ', 0.817758321762085),\n",
       " ('ネズミ', 0.8163456320762634),\n",
       " ('子犬', 0.814063549041748),\n",
       " ('クマ', 0.8122203350067139),\n",
       " ('オオカミ', 0.8110953569412231),\n",
       " ('ヤギ', 0.8104976415634155),\n",
       " ('柴犬', 0.790104329586029)]"
      ]
     },
     "execution_count": 62,
     "metadata": {},
     "output_type": "execute_result"
    }
   ],
   "source": [
    "model.most_similar(positive = ['犬'])"
   ]
  },
  {
   "cell_type": "code",
   "execution_count": 64,
   "metadata": {
    "ExecuteTime": {
     "end_time": "2019-04-03T02:34:11.802305Z",
     "start_time": "2019-04-03T02:34:11.798086Z"
    }
   },
   "outputs": [],
   "source": [
    "def query(sql):\n",
    "    conn = sqlite3.connect('./tabelog_reviews.sqlite3')\n",
    "    cur = conn.cursor()\n",
    "    try:\n",
    "        cur.execute(sql)\n",
    "        res = cur.fetchall()\n",
    "    except Exception as e:\n",
    "        print(e)\n",
    "        res = None\n",
    "    finally:\n",
    "        conn.close()\n",
    "        return res"
   ]
  },
  {
   "cell_type": "code",
   "execution_count": 65,
   "metadata": {
    "ExecuteTime": {
     "end_time": "2019-04-03T02:35:08.435000Z",
     "start_time": "2019-04-03T02:35:06.742932Z"
    }
   },
   "outputs": [],
   "source": [
    "sql = \"select content from reviews\"\n",
    "reviews = query(sql)"
   ]
  },
  {
   "cell_type": "code",
   "execution_count": 66,
   "metadata": {
    "ExecuteTime": {
     "end_time": "2019-04-03T02:35:16.538598Z",
     "start_time": "2019-04-03T02:35:16.533918Z"
    }
   },
   "outputs": [
    {
     "data": {
      "text/plain": [
       "74189"
      ]
     },
     "execution_count": 66,
     "metadata": {},
     "output_type": "execute_result"
    }
   ],
   "source": [
    "len(reviews)"
   ]
  },
  {
   "cell_type": "code",
   "execution_count": 74,
   "metadata": {
    "ExecuteTime": {
     "end_time": "2019-04-03T02:39:56.276557Z",
     "start_time": "2019-04-03T02:39:56.078908Z"
    }
   },
   "outputs": [],
   "source": [
    "reviews = [review[0].strip('\\n').strip(' ').strip(\"\\n\") for review in reviews]"
   ]
  },
  {
   "cell_type": "code",
   "execution_count": 77,
   "metadata": {
    "ExecuteTime": {
     "end_time": "2019-04-03T02:49:07.346462Z",
     "start_time": "2019-04-03T02:41:55.704087Z"
    }
   },
   "outputs": [],
   "source": [
    "wakati_reviews = [mecab_analysis(review) for review in reviews]"
   ]
  },
  {
   "cell_type": "markdown",
   "metadata": {},
   "source": [
    "sizeはベクトルの次元数\n",
    "min_countは最低出現回数\n",
    "sgは学習アルゴリズム指定(1: skig-pram 2: CBOW)"
   ]
  },
  {
   "cell_type": "code",
   "execution_count": 79,
   "metadata": {
    "ExecuteTime": {
     "end_time": "2019-04-03T18:30:09.610091Z",
     "start_time": "2019-04-03T02:56:45.216114Z"
    }
   },
   "outputs": [],
   "source": [
    "tabelog_model = word2vec.Word2Vec(wakati_reviews, size=1000,min_count=5,window=5,iter=1000,workers=4, sg=1)"
   ]
  },
  {
   "cell_type": "code",
   "execution_count": 82,
   "metadata": {
    "ExecuteTime": {
     "end_time": "2019-04-04T00:55:52.981075Z",
     "start_time": "2019-04-04T00:55:51.837331Z"
    }
   },
   "outputs": [],
   "source": [
    "tabelog_model.save('./model/tabelog_model.model')"
   ]
  },
  {
   "cell_type": "code",
   "execution_count": 87,
   "metadata": {
    "ExecuteTime": {
     "end_time": "2019-04-04T00:57:36.091557Z",
     "start_time": "2019-04-04T00:57:36.077985Z"
    }
   },
   "outputs": [
    {
     "name": "stderr",
     "output_type": "stream",
     "text": [
      "/Users/tominagaryota/.anyenv/envs/pyenv/versions/3.6.2/lib/python3.6/site-packages/ipykernel_launcher.py:1: DeprecationWarning: Call to deprecated `most_similar` (Method will be removed in 4.0.0, use self.wv.most_similar() instead).\n",
      "  \"\"\"Entry point for launching an IPython kernel.\n"
     ]
    },
    {
     "data": {
      "text/plain": [
       "[('うし', 0.5896492004394531),\n",
       " ('ごろ', 0.5586953163146973),\n",
       " ('カルボーネ', 0.38192981481552124),\n",
       " ('トマトナムル', 0.26702529191970825),\n",
       " ('渋谷店', 0.24012988805770874),\n",
       " ('五反田', 0.23327815532684326),\n",
       " ('ヒルトップ', 0.22916187345981598),\n",
       " ('USHIGOROBambina', 0.2236787974834442),\n",
       " ('中目黒', 0.21719831228256226),\n",
       " ('恵比寿', 0.21376973390579224)]"
      ]
     },
     "execution_count": 87,
     "metadata": {},
     "output_type": "execute_result"
    }
   ],
   "source": [
    "tabelog_model.most_similar(positive = ['バンビーナ'])"
   ]
  },
  {
   "cell_type": "code",
   "execution_count": 91,
   "metadata": {
    "ExecuteTime": {
     "end_time": "2019-04-04T02:18:25.425094Z",
     "start_time": "2019-04-04T02:18:16.284989Z"
    }
   },
   "outputs": [],
   "source": [
    "dictionary = corpora.Dictionary(wakati_reviews)\n",
    "dictionary.save_as_text('./texts/tabelog_text.dict')"
   ]
  },
  {
   "cell_type": "code",
   "execution_count": 92,
   "metadata": {
    "ExecuteTime": {
     "end_time": "2019-04-04T02:19:11.404733Z",
     "start_time": "2019-04-04T02:18:55.540225Z"
    }
   },
   "outputs": [],
   "source": [
    "corpus = [dictionary.doc2bow(doc) for doc in wakati_reviews]\n",
    "corpora.MmCorpus.serialize('./texts/tabelog_text.mm', corpus)"
   ]
  },
  {
   "cell_type": "code",
   "execution_count": 96,
   "metadata": {
    "ExecuteTime": {
     "end_time": "2019-04-04T02:20:12.187597Z",
     "start_time": "2019-04-04T02:20:10.556798Z"
    }
   },
   "outputs": [],
   "source": [
    "tfidf = TfidfModel(corpus)\n",
    "corpus_tfidf = tfidf[corpus]"
   ]
  },
  {
   "cell_type": "code",
   "execution_count": 99,
   "metadata": {
    "ExecuteTime": {
     "end_time": "2019-04-04T02:21:00.509751Z",
     "start_time": "2019-04-04T02:20:57.519210Z"
    }
   },
   "outputs": [],
   "source": [
    "with open('./model/tabelog_corpus_tfidf.dump', mode='wb') as f:\n",
    "    pickle.dump(corpus_tfidf, f)"
   ]
  },
  {
   "cell_type": "code",
   "execution_count": 124,
   "metadata": {
    "ExecuteTime": {
     "end_time": "2019-04-04T10:32:34.421384Z",
     "start_time": "2019-04-04T10:30:15.864039Z"
    }
   },
   "outputs": [],
   "source": [
    "N_TOPICS = 50\n",
    "lda3 = LdaMulticore(corpus=corpus_tfidf, id2word=dictionary, iterations=10000,\n",
    "                             num_topics=N_TOPICS, minimum_probability=0.001, eval_every=0, chunksize=1000,workers=4)"
   ]
  },
  {
   "cell_type": "code",
   "execution_count": 125,
   "metadata": {
    "ExecuteTime": {
     "end_time": "2019-04-04T10:32:35.123432Z",
     "start_time": "2019-04-04T10:32:34.429195Z"
    },
    "scrolled": true
   },
   "outputs": [
    {
     "name": "stdout",
     "output_type": "stream",
     "text": [
      "tpc_0: 0.006*\"豚カツ\" + 0.003*\"花火\" + 0.002*\"笑笑\" + 0.002*\"初デート\" + 0.002*\"花火大会\" + 0.001*\"庶民的...\n",
      "tpc_1: 0.007*\"カツカレー\" + 0.002*\"デザートブッフェ\" + 0.002*\"ワッフル\" + 0.002*\"せんべい\" + 0.002*\"me.\" + 0...\n",
      "tpc_2: 0.009*\"ウルフ\" + 0.009*\"ギャング\" + 0.004*\"45分\" + 0.004*\"栄\" + 0.003*\"どんぶり\" + 0.003*\"賑わい...\n",
      "tpc_3: 0.004*\"番号\" + 0.003*\"きしめん\" + 0.002*\"手狭\" + 0.002*\"おかわ\" + 0.001*\"ソバ\" + 0.001*\"なぁ～っ\"...\n",
      "tpc_4: 0.002*\"テンダー\" + 0.002*\"ワカ\" + 0.002*\"ヌイ\" + 0.001*\"しめの\" + 0.001*\"キーライムパイ\" + 0.001*\"...\n",
      "tpc_5: 0.006*\"ボーン\" + 0.005*\"デザートビュッフェ\" + 0.002*\"柳川\" + 0.001*\"ラン\" + 0.001*\"⭕\" + 0.001*\"苦...\n",
      "tpc_6: 0.008*\"ハンバーグ\" + 0.004*\"ステーキ\" + 0.004*\"ランチ\" + 0.003*\"カレー\" + 0.003*\"肉\" + 0.003*\"ソー...\n",
      "tpc_7: 0.005*\"白金\" + 0.002*\"⚪\" + 0.001*\"色紙\" + 0.001*\"てわけ\" + 0.001*\"あちき\" + 0.001*\"代々木駅\" +...\n",
      "tpc_8: 0.006*\"常陸牛\" + 0.005*\"牛たん\" + 0.004*\"シナモン\" + 0.004*\"六本木ヒルズ\" + 0.003*\"昼前\" + 0.002*\"...\n",
      "tpc_9: 0.014*\"ピラフ\" + 0.003*\"天使\" + 0.003*\"1380円\" + 0.002*\"ゴーヤ\" + 0.002*\"2件\" + 0.002*\"シェイ...\n",
      "tpc_10: 0.013*\"ビュッフェ\" + 0.005*\"ステーキソース\" + 0.004*\"ハラミステーキ\" + 0.003*\"990円\" + 0.003*\"分煙\" + ...\n",
      "tpc_11: 0.017*\"ロールキャベツ\" + 0.005*\"長蛇\" + 0.005*\"ざくろ\" + 0.003*\"ケチャップ\" + 0.003*\"ヘレカツ\" + 0.00...\n",
      "tpc_12: 0.012*\"ラム肉\" + 0.006*\"二次会\" + 0.004*\"blogs\" + 0.004*\"yahoo\" + 0.002*\"兵衛\" + 0.001*\"...\n",
      "tpc_13: 0.008*\"新宿\" + 0.007*\"バイキング\" + 0.005*\"T\" + 0.005*\"沖縄\" + 0.004*\"ボーンステーキ\" + 0.003*\"上...\n",
      "tpc_14: 0.026*\"カキフライ\" + 0.009*\"◼\" + 0.004*\"餃子\" + 0.003*\"阿蘇\" + 0.003*\"アイスティー\" + 0.003*\"相棒...\n",
      "tpc_15: 0.020*\"エビフライ\" + 0.005*\"特大\" + 0.005*\"タルタルソース\" + 0.004*\"ソフトクリーム\" + 0.004*\"食パン\" + 0...\n",
      "tpc_16: 0.004*\"天麩羅\" + 0.004*\"ベビーカー\" + 0.004*\"ハヤシ\" + 0.002*\"税抜き\" + 0.002*\"ディズニーランド\" + 0.0...\n",
      "tpc_17: 0.007*\"%\" + 0.004*\"E3\" + 0.003*\"1050円\" + 0.002*\"わたくし\" + 0.002*\"E\" + 0.002*\"LO\" +...\n",
      "tpc_18: 0.004*\"昼ご飯\" + 0.002*\"整理券\" + 0.002*\"夜中\" + 0.002*\"カレーのルー\" + 0.002*\"今週\" + 0.002*\"石窯...\n",
      "tpc_19: 0.007*\"ステ\" + 0.006*\"ロッシーニ\" + 0.003*\"ログハウス\" + 0.002*\"キ\" + 0.001*\"チヂミ\" + 0.001*\"時価...\n",
      "tpc_20: 0.006*\"⚫\" + 0.004*\"ピザ\" + 0.004*\"高田馬場\" + 0.003*\"サイドディッシュ\" + 0.002*\"サッポロ\" + 0.002*...\n",
      "tpc_21: 0.021*\"バーグ\" + 0.005*\"ハンバーグカレー\" + 0.004*\"蕎麦\" + 0.004*\"繁盛\" + 0.004*\"オージービーフ\" + 0.0...\n",
      "tpc_22: 0.006*\"レバ刺し\" + 0.003*\"高島屋\" + 0.003*\"うまし\" + 0.002*\"昼過ぎ\" + 0.002*\"ただお\" + 0.002*\"ビー...\n",
      "tpc_23: 0.006*\"０\" + 0.004*\"ハンバーグ\" + 0.004*\"肉\" + 0.003*\"お肉\" + 0.003*\"ステーキ\" + 0.003*\"１\" + ...\n",
      "tpc_24: 0.005*\"ジンジャー\" + 0.002*\"すき鍋\" + 0.002*\"メキシコ\" + 0.001*\"うわさ\" + 0.001*\"ＢＡＲ\" + 0.001*\"...\n",
      "tpc_25: 0.017*\"メンチ\" + 0.005*\"サングリア\" + 0.004*\"牛カツ\" + 0.003*\"バーニャカウダ\" + 0.003*\"大食い\" + 0.00...\n",
      "tpc_26: 0.010*\"ラザニア\" + 0.004*\"ｳﾏｰ\" + 0.003*\"パパ\" + 0.003*\"ボン\" + 0.002*\"いきなりステーキ\" + 0.002*...\n",
      "tpc_27: 0.009*\"カツサンド\" + 0.006*\"国際通り\" + 0.006*\"お子様ランチ\" + 0.006*\"ジョッキ\" + 0.003*\"卵とじ\" + 0.0...\n",
      "tpc_28: 0.008*\"スタミナ\" + 0.006*\"飛騨牛\" + 0.006*\"フレンチトースト\" + 0.005*\"バーガー\" + 0.004*\"天ぷら\" + 0.0...\n",
      "tpc_29: 0.005*\"田\" + 0.003*\"アジ\" + 0.003*\"デミグラスハンバーグ\" + 0.002*\"開放的\" + 0.002*\"カク\" + 0.002*\"...\n",
      "tpc_30: 0.016*\"更新\" + 0.015*\"アヒージョ\" + 0.009*\"2018\" + 0.004*\"2019\" + 0.003*\"2017\" + 0.003*...\n",
      "tpc_31: 0.016*\"オンス\" + 0.006*\"エイジングビーフ\" + 0.003*\"NY\" + 0.003*\"生レバー\" + 0.002*\"おにく\" + 0.002...\n",
      "tpc_32: 0.005*\"大盛\" + 0.003*\"博多\" + 0.003*\"480円\" + 0.003*\"950円\" + 0.003*\"焼肉定食\" + 0.003*\"惣菜...\n",
      "tpc_33: 0.012*\"パスタ\" + 0.004*\"イタリアン\" + 0.004*\"アップルパイ\" + 0.004*\"ピッツァ\" + 0.004*\"薪\" + 0.004*...\n",
      "tpc_34: 0.008*\"850円\" + 0.003*\"オージー\" + 0.003*\"シラス\" + 0.003*\"フリッター\" + 0.003*\"浜松\" + 0.002*\"...\n",
      "tpc_35: 0.008*\"゙\" + 0.005*\"なだ万\" + 0.004*\"親戚\" + 0.003*\"キャトルラパン\" + 0.002*\"10時\" + 0.001*\"フ\"...\n",
      "tpc_36: 0.005*\"yen\" + 0.003*\"レバーペースト\" + 0.002*\"レモンサワー\" + 0.002*\"肉団子\" + 0.002*\"カツサンド\" + 0...\n",
      "tpc_37: 0.005*\"札幌\" + 0.003*\"玄米\" + 0.003*\"合格点\" + 0.002*\"近場\" + 0.002*\"バターライス\" + 0.002*\"駅ビル...\n",
      "tpc_38: 0.028*\"チキン\" + 0.009*\"しょうが焼き\" + 0.005*\"瀬里奈\" + 0.005*\"☺\" + 0.004*\"パーティ\" + 0.003*\"1...\n",
      "tpc_39: 0.003*\"矢澤\" + 0.003*\"薄焼き\" + 0.002*\"ミート\" + 0.002*\"まずく\" + 0.002*\"名駅\" + 0.002*\"おやじ\" ...\n",
      "tpc_40: 0.003*\"22時\" + 0.003*\"うまー\" + 0.002*\"8階\" + 0.002*\"腹ペコ\" + 0.002*\"心斎橋\" + 0.002*\"ひどい\"...\n",
      "tpc_41: 0.011*\"担々麺\" + 0.008*\"バンビーナ\" + 0.003*\"眺望\" + 0.002*\"うし\" + 0.002*\"ごろ\" + 0.002*\"オフィス...\n",
      "tpc_42: 0.006*\"ナポリタン\" + 0.005*\"秋葉原\" + 0.004*\"ブランチ\" + 0.003*\"食券\" + 0.003*\"ライオン\" + 0.003*\"...\n",
      "tpc_43: 0.007*\"180g\" + 0.003*\"米沢牛\" + 0.002*\"チビ\" + 0.002*\"肉の日\" + 0.002*\"旨し\" + 0.002*\"中落ち\"...\n",
      "tpc_44: 0.032*\"飲み放題\" + 0.026*\"生姜焼き\" + 0.003*\"adsbygoogle\" + 0.003*\"御店\" + 0.002*\"野球\" + 0....\n",
      "tpc_45: 0.004*\"ハンバーガー\" + 0.004*\"沖縄\" + 0.002*\"朝食\" + 0.002*\"ファミレス\" + 0.002*\"肉\" + 0.002*\"ﾟ\"...\n",
      "tpc_46: 0.039*\"ピザ\" + 0.004*\"石垣\" + 0.003*\"無性\" + 0.002*\"ダンナ\" + 0.002*\"いっしょ\" + 0.002*\"¥1000...\n",
      "tpc_47: 0.010*\"石垣牛\" + 0.004*\"吉祥寺\" + 0.004*\"代官山\" + 0.003*\"窓側\" + 0.003*\"眺め\" + 0.003*\"夜景\" +...\n",
      "tpc_48: 0.007*\"焼肉丼\" + 0.006*\"軽井沢\" + 0.003*\"ハウスワイン\" + 0.002*\"エアーズロック\" + 0.002*\"72\" + 0.00...\n",
      "tpc_49: 0.018*\"ブッフェ\" + 0.008*\"レッド\" + 0.002*\"A1\" + 0.002*\"tokyo\" + 0.001*\"バイク\" + 0.001*\"充...\n"
     ]
    }
   ],
   "source": [
    "for i in range(N_TOPICS):\n",
    "    print('tpc_{0}: {1}'.format(i, lda3.print_topic(i)[0:80]+'...'))"
   ]
  },
  {
   "cell_type": "code",
   "execution_count": null,
   "metadata": {},
   "outputs": [],
   "source": []
  }
 ],
 "metadata": {
  "kernelspec": {
   "display_name": "Python 3",
   "language": "python",
   "name": "python3"
  },
  "language_info": {
   "codemirror_mode": {
    "name": "ipython",
    "version": 3
   },
   "file_extension": ".py",
   "mimetype": "text/x-python",
   "name": "python",
   "nbconvert_exporter": "python",
   "pygments_lexer": "ipython3",
   "version": "3.6.2"
  }
 },
 "nbformat": 4,
 "nbformat_minor": 2
}
